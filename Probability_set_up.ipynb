{
  "nbformat": 4,
  "nbformat_minor": 0,
  "metadata": {
    "colab": {
      "name": "Final_Impulse_Advance.ipynb",
      "provenance": [],
      "collapsed_sections": []
    },
    "kernelspec": {
      "name": "python3",
      "display_name": "Python 3"
    },
    "language_info": {
      "name": "python"
    },
    "widgets": {
      "application/vnd.jupyter.widget-state+json": {
        "6e63b3098b094a61bbca1e3c616baa40": {
          "model_module": "@jupyter-widgets/controls",
          "model_name": "HBoxModel",
          "model_module_version": "1.5.0",
          "state": {
            "_view_name": "HBoxView",
            "_dom_classes": [],
            "_model_name": "HBoxModel",
            "_view_module": "@jupyter-widgets/controls",
            "_model_module_version": "1.5.0",
            "_view_count": null,
            "_view_module_version": "1.5.0",
            "box_style": "",
            "layout": "IPY_MODEL_04616d568c6d4aa5a46e1cbffb5345af",
            "_model_module": "@jupyter-widgets/controls",
            "children": [
              "IPY_MODEL_e209839164f042c59b8df5b0ff86eaec",
              "IPY_MODEL_6980edf61f624250b3bb16e11e193d1c",
              "IPY_MODEL_473227fa7184491180e413bad8a8dd2b"
            ]
          }
        },
        "04616d568c6d4aa5a46e1cbffb5345af": {
          "model_module": "@jupyter-widgets/base",
          "model_name": "LayoutModel",
          "model_module_version": "1.2.0",
          "state": {
            "_view_name": "LayoutView",
            "grid_template_rows": null,
            "right": null,
            "justify_content": null,
            "_view_module": "@jupyter-widgets/base",
            "overflow": null,
            "_model_module_version": "1.2.0",
            "_view_count": null,
            "flex_flow": null,
            "width": null,
            "min_width": null,
            "border": null,
            "align_items": null,
            "bottom": null,
            "_model_module": "@jupyter-widgets/base",
            "top": null,
            "grid_column": null,
            "overflow_y": null,
            "overflow_x": null,
            "grid_auto_flow": null,
            "grid_area": null,
            "grid_template_columns": null,
            "flex": null,
            "_model_name": "LayoutModel",
            "justify_items": null,
            "grid_row": null,
            "max_height": null,
            "align_content": null,
            "visibility": null,
            "align_self": null,
            "height": null,
            "min_height": null,
            "padding": null,
            "grid_auto_rows": null,
            "grid_gap": null,
            "max_width": null,
            "order": null,
            "_view_module_version": "1.2.0",
            "grid_template_areas": null,
            "object_position": null,
            "object_fit": null,
            "grid_auto_columns": null,
            "margin": null,
            "display": null,
            "left": null
          }
        },
        "e209839164f042c59b8df5b0ff86eaec": {
          "model_module": "@jupyter-widgets/controls",
          "model_name": "HTMLModel",
          "model_module_version": "1.5.0",
          "state": {
            "_view_name": "HTMLView",
            "style": "IPY_MODEL_4b489269f3054ed0b6548e6e45ce77eb",
            "_dom_classes": [],
            "description": "",
            "_model_name": "HTMLModel",
            "placeholder": "​",
            "_view_module": "@jupyter-widgets/controls",
            "_model_module_version": "1.5.0",
            "value": "100%",
            "_view_count": null,
            "_view_module_version": "1.5.0",
            "description_tooltip": null,
            "_model_module": "@jupyter-widgets/controls",
            "layout": "IPY_MODEL_fd86fdb7e4f24d58949a9c1961b08d20"
          }
        },
        "6980edf61f624250b3bb16e11e193d1c": {
          "model_module": "@jupyter-widgets/controls",
          "model_name": "FloatProgressModel",
          "model_module_version": "1.5.0",
          "state": {
            "_view_name": "ProgressView",
            "style": "IPY_MODEL_b37cd6447f75451aacb4db73f3f49cdc",
            "_dom_classes": [],
            "description": "",
            "_model_name": "FloatProgressModel",
            "bar_style": "success",
            "max": 184,
            "_view_module": "@jupyter-widgets/controls",
            "_model_module_version": "1.5.0",
            "value": 184,
            "_view_count": null,
            "_view_module_version": "1.5.0",
            "orientation": "horizontal",
            "min": 0,
            "description_tooltip": null,
            "_model_module": "@jupyter-widgets/controls",
            "layout": "IPY_MODEL_50f4c55eb42f4a3fa15eb3cc917f64a7"
          }
        },
        "473227fa7184491180e413bad8a8dd2b": {
          "model_module": "@jupyter-widgets/controls",
          "model_name": "HTMLModel",
          "model_module_version": "1.5.0",
          "state": {
            "_view_name": "HTMLView",
            "style": "IPY_MODEL_3a9031725f344f158c993d4ccd1399b5",
            "_dom_classes": [],
            "description": "",
            "_model_name": "HTMLModel",
            "placeholder": "​",
            "_view_module": "@jupyter-widgets/controls",
            "_model_module_version": "1.5.0",
            "value": " 184/184 [00:01&lt;00:00, 164.86it/s]",
            "_view_count": null,
            "_view_module_version": "1.5.0",
            "description_tooltip": null,
            "_model_module": "@jupyter-widgets/controls",
            "layout": "IPY_MODEL_c467d14e9c8b40a8ae33cd22f47f56af"
          }
        },
        "4b489269f3054ed0b6548e6e45ce77eb": {
          "model_module": "@jupyter-widgets/controls",
          "model_name": "DescriptionStyleModel",
          "model_module_version": "1.5.0",
          "state": {
            "_view_name": "StyleView",
            "_model_name": "DescriptionStyleModel",
            "description_width": "",
            "_view_module": "@jupyter-widgets/base",
            "_model_module_version": "1.5.0",
            "_view_count": null,
            "_view_module_version": "1.2.0",
            "_model_module": "@jupyter-widgets/controls"
          }
        },
        "fd86fdb7e4f24d58949a9c1961b08d20": {
          "model_module": "@jupyter-widgets/base",
          "model_name": "LayoutModel",
          "model_module_version": "1.2.0",
          "state": {
            "_view_name": "LayoutView",
            "grid_template_rows": null,
            "right": null,
            "justify_content": null,
            "_view_module": "@jupyter-widgets/base",
            "overflow": null,
            "_model_module_version": "1.2.0",
            "_view_count": null,
            "flex_flow": null,
            "width": null,
            "min_width": null,
            "border": null,
            "align_items": null,
            "bottom": null,
            "_model_module": "@jupyter-widgets/base",
            "top": null,
            "grid_column": null,
            "overflow_y": null,
            "overflow_x": null,
            "grid_auto_flow": null,
            "grid_area": null,
            "grid_template_columns": null,
            "flex": null,
            "_model_name": "LayoutModel",
            "justify_items": null,
            "grid_row": null,
            "max_height": null,
            "align_content": null,
            "visibility": null,
            "align_self": null,
            "height": null,
            "min_height": null,
            "padding": null,
            "grid_auto_rows": null,
            "grid_gap": null,
            "max_width": null,
            "order": null,
            "_view_module_version": "1.2.0",
            "grid_template_areas": null,
            "object_position": null,
            "object_fit": null,
            "grid_auto_columns": null,
            "margin": null,
            "display": null,
            "left": null
          }
        },
        "b37cd6447f75451aacb4db73f3f49cdc": {
          "model_module": "@jupyter-widgets/controls",
          "model_name": "ProgressStyleModel",
          "model_module_version": "1.5.0",
          "state": {
            "_view_name": "StyleView",
            "_model_name": "ProgressStyleModel",
            "description_width": "",
            "_view_module": "@jupyter-widgets/base",
            "_model_module_version": "1.5.0",
            "_view_count": null,
            "_view_module_version": "1.2.0",
            "bar_color": null,
            "_model_module": "@jupyter-widgets/controls"
          }
        },
        "50f4c55eb42f4a3fa15eb3cc917f64a7": {
          "model_module": "@jupyter-widgets/base",
          "model_name": "LayoutModel",
          "model_module_version": "1.2.0",
          "state": {
            "_view_name": "LayoutView",
            "grid_template_rows": null,
            "right": null,
            "justify_content": null,
            "_view_module": "@jupyter-widgets/base",
            "overflow": null,
            "_model_module_version": "1.2.0",
            "_view_count": null,
            "flex_flow": null,
            "width": null,
            "min_width": null,
            "border": null,
            "align_items": null,
            "bottom": null,
            "_model_module": "@jupyter-widgets/base",
            "top": null,
            "grid_column": null,
            "overflow_y": null,
            "overflow_x": null,
            "grid_auto_flow": null,
            "grid_area": null,
            "grid_template_columns": null,
            "flex": null,
            "_model_name": "LayoutModel",
            "justify_items": null,
            "grid_row": null,
            "max_height": null,
            "align_content": null,
            "visibility": null,
            "align_self": null,
            "height": null,
            "min_height": null,
            "padding": null,
            "grid_auto_rows": null,
            "grid_gap": null,
            "max_width": null,
            "order": null,
            "_view_module_version": "1.2.0",
            "grid_template_areas": null,
            "object_position": null,
            "object_fit": null,
            "grid_auto_columns": null,
            "margin": null,
            "display": null,
            "left": null
          }
        },
        "3a9031725f344f158c993d4ccd1399b5": {
          "model_module": "@jupyter-widgets/controls",
          "model_name": "DescriptionStyleModel",
          "model_module_version": "1.5.0",
          "state": {
            "_view_name": "StyleView",
            "_model_name": "DescriptionStyleModel",
            "description_width": "",
            "_view_module": "@jupyter-widgets/base",
            "_model_module_version": "1.5.0",
            "_view_count": null,
            "_view_module_version": "1.2.0",
            "_model_module": "@jupyter-widgets/controls"
          }
        },
        "c467d14e9c8b40a8ae33cd22f47f56af": {
          "model_module": "@jupyter-widgets/base",
          "model_name": "LayoutModel",
          "model_module_version": "1.2.0",
          "state": {
            "_view_name": "LayoutView",
            "grid_template_rows": null,
            "right": null,
            "justify_content": null,
            "_view_module": "@jupyter-widgets/base",
            "overflow": null,
            "_model_module_version": "1.2.0",
            "_view_count": null,
            "flex_flow": null,
            "width": null,
            "min_width": null,
            "border": null,
            "align_items": null,
            "bottom": null,
            "_model_module": "@jupyter-widgets/base",
            "top": null,
            "grid_column": null,
            "overflow_y": null,
            "overflow_x": null,
            "grid_auto_flow": null,
            "grid_area": null,
            "grid_template_columns": null,
            "flex": null,
            "_model_name": "LayoutModel",
            "justify_items": null,
            "grid_row": null,
            "max_height": null,
            "align_content": null,
            "visibility": null,
            "align_self": null,
            "height": null,
            "min_height": null,
            "padding": null,
            "grid_auto_rows": null,
            "grid_gap": null,
            "max_width": null,
            "order": null,
            "_view_module_version": "1.2.0",
            "grid_template_areas": null,
            "object_position": null,
            "object_fit": null,
            "grid_auto_columns": null,
            "margin": null,
            "display": null,
            "left": null
          }
        },
        "8ef67f95e958446c96987e937aceb563": {
          "model_module": "@jupyter-widgets/controls",
          "model_name": "HBoxModel",
          "model_module_version": "1.5.0",
          "state": {
            "_view_name": "HBoxView",
            "_dom_classes": [],
            "_model_name": "HBoxModel",
            "_view_module": "@jupyter-widgets/controls",
            "_model_module_version": "1.5.0",
            "_view_count": null,
            "_view_module_version": "1.5.0",
            "box_style": "",
            "layout": "IPY_MODEL_681e4cc5059849e1bc4d95397bbc12b5",
            "_model_module": "@jupyter-widgets/controls",
            "children": [
              "IPY_MODEL_a63cb0c2686848eda3c4d280c0e120a3",
              "IPY_MODEL_257a3016179d437f8ee42b9d3045a4f9",
              "IPY_MODEL_b2cb093d5536438b977c5450def388a1"
            ]
          }
        },
        "681e4cc5059849e1bc4d95397bbc12b5": {
          "model_module": "@jupyter-widgets/base",
          "model_name": "LayoutModel",
          "model_module_version": "1.2.0",
          "state": {
            "_view_name": "LayoutView",
            "grid_template_rows": null,
            "right": null,
            "justify_content": null,
            "_view_module": "@jupyter-widgets/base",
            "overflow": null,
            "_model_module_version": "1.2.0",
            "_view_count": null,
            "flex_flow": null,
            "width": null,
            "min_width": null,
            "border": null,
            "align_items": null,
            "bottom": null,
            "_model_module": "@jupyter-widgets/base",
            "top": null,
            "grid_column": null,
            "overflow_y": null,
            "overflow_x": null,
            "grid_auto_flow": null,
            "grid_area": null,
            "grid_template_columns": null,
            "flex": null,
            "_model_name": "LayoutModel",
            "justify_items": null,
            "grid_row": null,
            "max_height": null,
            "align_content": null,
            "visibility": null,
            "align_self": null,
            "height": null,
            "min_height": null,
            "padding": null,
            "grid_auto_rows": null,
            "grid_gap": null,
            "max_width": null,
            "order": null,
            "_view_module_version": "1.2.0",
            "grid_template_areas": null,
            "object_position": null,
            "object_fit": null,
            "grid_auto_columns": null,
            "margin": null,
            "display": null,
            "left": null
          }
        },
        "a63cb0c2686848eda3c4d280c0e120a3": {
          "model_module": "@jupyter-widgets/controls",
          "model_name": "HTMLModel",
          "model_module_version": "1.5.0",
          "state": {
            "_view_name": "HTMLView",
            "style": "IPY_MODEL_968748cd31ad4dc6a89a567e5bfdc6e6",
            "_dom_classes": [],
            "description": "",
            "_model_name": "HTMLModel",
            "placeholder": "​",
            "_view_module": "@jupyter-widgets/controls",
            "_model_module_version": "1.5.0",
            "value": "100%",
            "_view_count": null,
            "_view_module_version": "1.5.0",
            "description_tooltip": null,
            "_model_module": "@jupyter-widgets/controls",
            "layout": "IPY_MODEL_045b49b17d5843d0852bc3f7403c6791"
          }
        },
        "257a3016179d437f8ee42b9d3045a4f9": {
          "model_module": "@jupyter-widgets/controls",
          "model_name": "FloatProgressModel",
          "model_module_version": "1.5.0",
          "state": {
            "_view_name": "ProgressView",
            "style": "IPY_MODEL_0673c2491a3d43239bb274352b3e920d",
            "_dom_classes": [],
            "description": "",
            "_model_name": "FloatProgressModel",
            "bar_style": "success",
            "max": 184,
            "_view_module": "@jupyter-widgets/controls",
            "_model_module_version": "1.5.0",
            "value": 184,
            "_view_count": null,
            "_view_module_version": "1.5.0",
            "orientation": "horizontal",
            "min": 0,
            "description_tooltip": null,
            "_model_module": "@jupyter-widgets/controls",
            "layout": "IPY_MODEL_493fe94a67c14747b12f7df684829f56"
          }
        },
        "b2cb093d5536438b977c5450def388a1": {
          "model_module": "@jupyter-widgets/controls",
          "model_name": "HTMLModel",
          "model_module_version": "1.5.0",
          "state": {
            "_view_name": "HTMLView",
            "style": "IPY_MODEL_594c0d9a9ab34f1f97c540722aee14b6",
            "_dom_classes": [],
            "description": "",
            "_model_name": "HTMLModel",
            "placeholder": "​",
            "_view_module": "@jupyter-widgets/controls",
            "_model_module_version": "1.5.0",
            "value": " 184/184 [00:01&lt;00:00, 122.94it/s]",
            "_view_count": null,
            "_view_module_version": "1.5.0",
            "description_tooltip": null,
            "_model_module": "@jupyter-widgets/controls",
            "layout": "IPY_MODEL_b24e22f22ee940a3b62ca7b8ddafc03b"
          }
        },
        "968748cd31ad4dc6a89a567e5bfdc6e6": {
          "model_module": "@jupyter-widgets/controls",
          "model_name": "DescriptionStyleModel",
          "model_module_version": "1.5.0",
          "state": {
            "_view_name": "StyleView",
            "_model_name": "DescriptionStyleModel",
            "description_width": "",
            "_view_module": "@jupyter-widgets/base",
            "_model_module_version": "1.5.0",
            "_view_count": null,
            "_view_module_version": "1.2.0",
            "_model_module": "@jupyter-widgets/controls"
          }
        },
        "045b49b17d5843d0852bc3f7403c6791": {
          "model_module": "@jupyter-widgets/base",
          "model_name": "LayoutModel",
          "model_module_version": "1.2.0",
          "state": {
            "_view_name": "LayoutView",
            "grid_template_rows": null,
            "right": null,
            "justify_content": null,
            "_view_module": "@jupyter-widgets/base",
            "overflow": null,
            "_model_module_version": "1.2.0",
            "_view_count": null,
            "flex_flow": null,
            "width": null,
            "min_width": null,
            "border": null,
            "align_items": null,
            "bottom": null,
            "_model_module": "@jupyter-widgets/base",
            "top": null,
            "grid_column": null,
            "overflow_y": null,
            "overflow_x": null,
            "grid_auto_flow": null,
            "grid_area": null,
            "grid_template_columns": null,
            "flex": null,
            "_model_name": "LayoutModel",
            "justify_items": null,
            "grid_row": null,
            "max_height": null,
            "align_content": null,
            "visibility": null,
            "align_self": null,
            "height": null,
            "min_height": null,
            "padding": null,
            "grid_auto_rows": null,
            "grid_gap": null,
            "max_width": null,
            "order": null,
            "_view_module_version": "1.2.0",
            "grid_template_areas": null,
            "object_position": null,
            "object_fit": null,
            "grid_auto_columns": null,
            "margin": null,
            "display": null,
            "left": null
          }
        },
        "0673c2491a3d43239bb274352b3e920d": {
          "model_module": "@jupyter-widgets/controls",
          "model_name": "ProgressStyleModel",
          "model_module_version": "1.5.0",
          "state": {
            "_view_name": "StyleView",
            "_model_name": "ProgressStyleModel",
            "description_width": "",
            "_view_module": "@jupyter-widgets/base",
            "_model_module_version": "1.5.0",
            "_view_count": null,
            "_view_module_version": "1.2.0",
            "bar_color": null,
            "_model_module": "@jupyter-widgets/controls"
          }
        },
        "493fe94a67c14747b12f7df684829f56": {
          "model_module": "@jupyter-widgets/base",
          "model_name": "LayoutModel",
          "model_module_version": "1.2.0",
          "state": {
            "_view_name": "LayoutView",
            "grid_template_rows": null,
            "right": null,
            "justify_content": null,
            "_view_module": "@jupyter-widgets/base",
            "overflow": null,
            "_model_module_version": "1.2.0",
            "_view_count": null,
            "flex_flow": null,
            "width": null,
            "min_width": null,
            "border": null,
            "align_items": null,
            "bottom": null,
            "_model_module": "@jupyter-widgets/base",
            "top": null,
            "grid_column": null,
            "overflow_y": null,
            "overflow_x": null,
            "grid_auto_flow": null,
            "grid_area": null,
            "grid_template_columns": null,
            "flex": null,
            "_model_name": "LayoutModel",
            "justify_items": null,
            "grid_row": null,
            "max_height": null,
            "align_content": null,
            "visibility": null,
            "align_self": null,
            "height": null,
            "min_height": null,
            "padding": null,
            "grid_auto_rows": null,
            "grid_gap": null,
            "max_width": null,
            "order": null,
            "_view_module_version": "1.2.0",
            "grid_template_areas": null,
            "object_position": null,
            "object_fit": null,
            "grid_auto_columns": null,
            "margin": null,
            "display": null,
            "left": null
          }
        },
        "594c0d9a9ab34f1f97c540722aee14b6": {
          "model_module": "@jupyter-widgets/controls",
          "model_name": "DescriptionStyleModel",
          "model_module_version": "1.5.0",
          "state": {
            "_view_name": "StyleView",
            "_model_name": "DescriptionStyleModel",
            "description_width": "",
            "_view_module": "@jupyter-widgets/base",
            "_model_module_version": "1.5.0",
            "_view_count": null,
            "_view_module_version": "1.2.0",
            "_model_module": "@jupyter-widgets/controls"
          }
        },
        "b24e22f22ee940a3b62ca7b8ddafc03b": {
          "model_module": "@jupyter-widgets/base",
          "model_name": "LayoutModel",
          "model_module_version": "1.2.0",
          "state": {
            "_view_name": "LayoutView",
            "grid_template_rows": null,
            "right": null,
            "justify_content": null,
            "_view_module": "@jupyter-widgets/base",
            "overflow": null,
            "_model_module_version": "1.2.0",
            "_view_count": null,
            "flex_flow": null,
            "width": null,
            "min_width": null,
            "border": null,
            "align_items": null,
            "bottom": null,
            "_model_module": "@jupyter-widgets/base",
            "top": null,
            "grid_column": null,
            "overflow_y": null,
            "overflow_x": null,
            "grid_auto_flow": null,
            "grid_area": null,
            "grid_template_columns": null,
            "flex": null,
            "_model_name": "LayoutModel",
            "justify_items": null,
            "grid_row": null,
            "max_height": null,
            "align_content": null,
            "visibility": null,
            "align_self": null,
            "height": null,
            "min_height": null,
            "padding": null,
            "grid_auto_rows": null,
            "grid_gap": null,
            "max_width": null,
            "order": null,
            "_view_module_version": "1.2.0",
            "grid_template_areas": null,
            "object_position": null,
            "object_fit": null,
            "grid_auto_columns": null,
            "margin": null,
            "display": null,
            "left": null
          }
        },
        "d8276d5c5bb34b62bef89660ea47a00b": {
          "model_module": "@jupyter-widgets/controls",
          "model_name": "HBoxModel",
          "model_module_version": "1.5.0",
          "state": {
            "_view_name": "HBoxView",
            "_dom_classes": [],
            "_model_name": "HBoxModel",
            "_view_module": "@jupyter-widgets/controls",
            "_model_module_version": "1.5.0",
            "_view_count": null,
            "_view_module_version": "1.5.0",
            "box_style": "",
            "layout": "IPY_MODEL_781bdbf180e34e5d92180549df025a30",
            "_model_module": "@jupyter-widgets/controls",
            "children": [
              "IPY_MODEL_5f7386a364c542a6a09d3036be7608cb",
              "IPY_MODEL_bddaa2031c4e44628a5a9c410e0526c4",
              "IPY_MODEL_719914a18b0a4a058bfb2d450d02ee04"
            ]
          }
        },
        "781bdbf180e34e5d92180549df025a30": {
          "model_module": "@jupyter-widgets/base",
          "model_name": "LayoutModel",
          "model_module_version": "1.2.0",
          "state": {
            "_view_name": "LayoutView",
            "grid_template_rows": null,
            "right": null,
            "justify_content": null,
            "_view_module": "@jupyter-widgets/base",
            "overflow": null,
            "_model_module_version": "1.2.0",
            "_view_count": null,
            "flex_flow": null,
            "width": null,
            "min_width": null,
            "border": null,
            "align_items": null,
            "bottom": null,
            "_model_module": "@jupyter-widgets/base",
            "top": null,
            "grid_column": null,
            "overflow_y": null,
            "overflow_x": null,
            "grid_auto_flow": null,
            "grid_area": null,
            "grid_template_columns": null,
            "flex": null,
            "_model_name": "LayoutModel",
            "justify_items": null,
            "grid_row": null,
            "max_height": null,
            "align_content": null,
            "visibility": null,
            "align_self": null,
            "height": null,
            "min_height": null,
            "padding": null,
            "grid_auto_rows": null,
            "grid_gap": null,
            "max_width": null,
            "order": null,
            "_view_module_version": "1.2.0",
            "grid_template_areas": null,
            "object_position": null,
            "object_fit": null,
            "grid_auto_columns": null,
            "margin": null,
            "display": null,
            "left": null
          }
        },
        "5f7386a364c542a6a09d3036be7608cb": {
          "model_module": "@jupyter-widgets/controls",
          "model_name": "HTMLModel",
          "model_module_version": "1.5.0",
          "state": {
            "_view_name": "HTMLView",
            "style": "IPY_MODEL_8fb23691c6e44f4e8e49173828769aa5",
            "_dom_classes": [],
            "description": "",
            "_model_name": "HTMLModel",
            "placeholder": "​",
            "_view_module": "@jupyter-widgets/controls",
            "_model_module_version": "1.5.0",
            "value": "100%",
            "_view_count": null,
            "_view_module_version": "1.5.0",
            "description_tooltip": null,
            "_model_module": "@jupyter-widgets/controls",
            "layout": "IPY_MODEL_aa0c2a8acd04415682fc4095322298fb"
          }
        },
        "bddaa2031c4e44628a5a9c410e0526c4": {
          "model_module": "@jupyter-widgets/controls",
          "model_name": "FloatProgressModel",
          "model_module_version": "1.5.0",
          "state": {
            "_view_name": "ProgressView",
            "style": "IPY_MODEL_0b4415e28fb9455ebf3341cf70afe398",
            "_dom_classes": [],
            "description": "",
            "_model_name": "FloatProgressModel",
            "bar_style": "success",
            "max": 454,
            "_view_module": "@jupyter-widgets/controls",
            "_model_module_version": "1.5.0",
            "value": 454,
            "_view_count": null,
            "_view_module_version": "1.5.0",
            "orientation": "horizontal",
            "min": 0,
            "description_tooltip": null,
            "_model_module": "@jupyter-widgets/controls",
            "layout": "IPY_MODEL_29f298f40af0490e81fe3c56157128ad"
          }
        },
        "719914a18b0a4a058bfb2d450d02ee04": {
          "model_module": "@jupyter-widgets/controls",
          "model_name": "HTMLModel",
          "model_module_version": "1.5.0",
          "state": {
            "_view_name": "HTMLView",
            "style": "IPY_MODEL_f54d56fbe91243b19eeb7be06bf89f27",
            "_dom_classes": [],
            "description": "",
            "_model_name": "HTMLModel",
            "placeholder": "​",
            "_view_module": "@jupyter-widgets/controls",
            "_model_module_version": "1.5.0",
            "value": " 454/454 [00:04&lt;00:00, 101.62it/s]",
            "_view_count": null,
            "_view_module_version": "1.5.0",
            "description_tooltip": null,
            "_model_module": "@jupyter-widgets/controls",
            "layout": "IPY_MODEL_afad8b9ea06049c28b322f09e109b3aa"
          }
        },
        "8fb23691c6e44f4e8e49173828769aa5": {
          "model_module": "@jupyter-widgets/controls",
          "model_name": "DescriptionStyleModel",
          "model_module_version": "1.5.0",
          "state": {
            "_view_name": "StyleView",
            "_model_name": "DescriptionStyleModel",
            "description_width": "",
            "_view_module": "@jupyter-widgets/base",
            "_model_module_version": "1.5.0",
            "_view_count": null,
            "_view_module_version": "1.2.0",
            "_model_module": "@jupyter-widgets/controls"
          }
        },
        "aa0c2a8acd04415682fc4095322298fb": {
          "model_module": "@jupyter-widgets/base",
          "model_name": "LayoutModel",
          "model_module_version": "1.2.0",
          "state": {
            "_view_name": "LayoutView",
            "grid_template_rows": null,
            "right": null,
            "justify_content": null,
            "_view_module": "@jupyter-widgets/base",
            "overflow": null,
            "_model_module_version": "1.2.0",
            "_view_count": null,
            "flex_flow": null,
            "width": null,
            "min_width": null,
            "border": null,
            "align_items": null,
            "bottom": null,
            "_model_module": "@jupyter-widgets/base",
            "top": null,
            "grid_column": null,
            "overflow_y": null,
            "overflow_x": null,
            "grid_auto_flow": null,
            "grid_area": null,
            "grid_template_columns": null,
            "flex": null,
            "_model_name": "LayoutModel",
            "justify_items": null,
            "grid_row": null,
            "max_height": null,
            "align_content": null,
            "visibility": null,
            "align_self": null,
            "height": null,
            "min_height": null,
            "padding": null,
            "grid_auto_rows": null,
            "grid_gap": null,
            "max_width": null,
            "order": null,
            "_view_module_version": "1.2.0",
            "grid_template_areas": null,
            "object_position": null,
            "object_fit": null,
            "grid_auto_columns": null,
            "margin": null,
            "display": null,
            "left": null
          }
        },
        "0b4415e28fb9455ebf3341cf70afe398": {
          "model_module": "@jupyter-widgets/controls",
          "model_name": "ProgressStyleModel",
          "model_module_version": "1.5.0",
          "state": {
            "_view_name": "StyleView",
            "_model_name": "ProgressStyleModel",
            "description_width": "",
            "_view_module": "@jupyter-widgets/base",
            "_model_module_version": "1.5.0",
            "_view_count": null,
            "_view_module_version": "1.2.0",
            "bar_color": null,
            "_model_module": "@jupyter-widgets/controls"
          }
        },
        "29f298f40af0490e81fe3c56157128ad": {
          "model_module": "@jupyter-widgets/base",
          "model_name": "LayoutModel",
          "model_module_version": "1.2.0",
          "state": {
            "_view_name": "LayoutView",
            "grid_template_rows": null,
            "right": null,
            "justify_content": null,
            "_view_module": "@jupyter-widgets/base",
            "overflow": null,
            "_model_module_version": "1.2.0",
            "_view_count": null,
            "flex_flow": null,
            "width": null,
            "min_width": null,
            "border": null,
            "align_items": null,
            "bottom": null,
            "_model_module": "@jupyter-widgets/base",
            "top": null,
            "grid_column": null,
            "overflow_y": null,
            "overflow_x": null,
            "grid_auto_flow": null,
            "grid_area": null,
            "grid_template_columns": null,
            "flex": null,
            "_model_name": "LayoutModel",
            "justify_items": null,
            "grid_row": null,
            "max_height": null,
            "align_content": null,
            "visibility": null,
            "align_self": null,
            "height": null,
            "min_height": null,
            "padding": null,
            "grid_auto_rows": null,
            "grid_gap": null,
            "max_width": null,
            "order": null,
            "_view_module_version": "1.2.0",
            "grid_template_areas": null,
            "object_position": null,
            "object_fit": null,
            "grid_auto_columns": null,
            "margin": null,
            "display": null,
            "left": null
          }
        },
        "f54d56fbe91243b19eeb7be06bf89f27": {
          "model_module": "@jupyter-widgets/controls",
          "model_name": "DescriptionStyleModel",
          "model_module_version": "1.5.0",
          "state": {
            "_view_name": "StyleView",
            "_model_name": "DescriptionStyleModel",
            "description_width": "",
            "_view_module": "@jupyter-widgets/base",
            "_model_module_version": "1.5.0",
            "_view_count": null,
            "_view_module_version": "1.2.0",
            "_model_module": "@jupyter-widgets/controls"
          }
        },
        "afad8b9ea06049c28b322f09e109b3aa": {
          "model_module": "@jupyter-widgets/base",
          "model_name": "LayoutModel",
          "model_module_version": "1.2.0",
          "state": {
            "_view_name": "LayoutView",
            "grid_template_rows": null,
            "right": null,
            "justify_content": null,
            "_view_module": "@jupyter-widgets/base",
            "overflow": null,
            "_model_module_version": "1.2.0",
            "_view_count": null,
            "flex_flow": null,
            "width": null,
            "min_width": null,
            "border": null,
            "align_items": null,
            "bottom": null,
            "_model_module": "@jupyter-widgets/base",
            "top": null,
            "grid_column": null,
            "overflow_y": null,
            "overflow_x": null,
            "grid_auto_flow": null,
            "grid_area": null,
            "grid_template_columns": null,
            "flex": null,
            "_model_name": "LayoutModel",
            "justify_items": null,
            "grid_row": null,
            "max_height": null,
            "align_content": null,
            "visibility": null,
            "align_self": null,
            "height": null,
            "min_height": null,
            "padding": null,
            "grid_auto_rows": null,
            "grid_gap": null,
            "max_width": null,
            "order": null,
            "_view_module_version": "1.2.0",
            "grid_template_areas": null,
            "object_position": null,
            "object_fit": null,
            "grid_auto_columns": null,
            "margin": null,
            "display": null,
            "left": null
          }
        }
      }
    }
  },
  "cells": [
    {
      "cell_type": "code",
      "execution_count": null,
      "metadata": {
        "id": "MvtkzijhokuB"
      },
      "outputs": [],
      "source": [
        "%%capture\n",
        "!pip install yfinance\n",
        "import pandas as pd\n",
        "import yfinance as yf # import libraries\n",
        "import numpy as np\n",
        "import matplotlib.pyplot as plt\n",
        "plt.style.use('seaborn')\n",
        "import warnings\n",
        "warnings.filterwarnings('ignore') \n",
        "from google.colab import files\n",
        "import tqdm.notebook as tq\n",
        "from pandas_datareader import data as pdr\n",
        "\n",
        "!pip install monthly-returns-heatmap\n",
        "import monthly_returns_heatmap as mrh"
      ]
    },
    {
      "cell_type": "code",
      "source": [
        "from google.colab import drive\n",
        "drive.mount(\"/content/gdrive\") #connect to google drive"
      ],
      "metadata": {
        "colab": {
          "base_uri": "https://localhost:8080/"
        },
        "id": "oVKlktp0pARq",
        "outputId": "b0dc9586-8911-4dc3-e3ed-5b8dfbe39c01"
      },
      "execution_count": null,
      "outputs": [
        {
          "output_type": "stream",
          "name": "stdout",
          "text": [
            "Mounted at /content/gdrive\n"
          ]
        }
      ]
    },
    {
      "cell_type": "code",
      "source": [
        "# taking all trading dates from yahoo finance daily data, 03-11 month 2021\n",
        "all_dates = yf.download('^NSEI', \n",
        "                        start='2021-03-01', \n",
        "                        end='2021-11-30')\n",
        "all_dates=all_dates.reset_index()\n",
        "all_dates['Date']=all_dates['Date'].astype(str)\n",
        "all_dates_list=list(all_dates['Date'])"
      ],
      "metadata": {
        "colab": {
          "base_uri": "https://localhost:8080/"
        },
        "id": "XOQ4WNCNpGi7",
        "outputId": "ccba6a04-64b5-4638-cd20-5933c1985d86"
      },
      "execution_count": null,
      "outputs": [
        {
          "output_type": "stream",
          "name": "stdout",
          "text": [
            "\r[*********************100%***********************]  1 of 1 completed\n"
          ]
        }
      ]
    },
    {
      "cell_type": "code",
      "source": [
        "# making sure we do not take any pre market or after market timings\n",
        "# data taken is from trading view\n",
        "data=pd.read_csv('/content/gdrive/MyDrive/NIFTYDATA/nifty_trading_view.csv')\n",
        "data['datetime']=data['datetime'].astype(str)\n",
        "data['Date']=data['datetime'].str.split(' ',expand=True)[0] #seperate date\n",
        "data['Time']=data['datetime'].str.split(' ',expand=True)[1] # seperate time\n",
        "data=data[data['Time'].str.contains('09:15:00|09:30:00|09:45:00|10:00:00|10:15:00|10:30:00|10:45:00|11:00:00|11:15:00|11:30:00|11:45:00|12:00:00|12:15:00|12:30:00|12:45:00|13:00:00|13:15:00|13:30:00|13:45:00|14:00:00|14:15:00|14:30:00|14:45:00|15:00:00|15:15:00')]\n",
        "data=data.reset_index().drop('index',axis=1)"
      ],
      "metadata": {
        "id": "2cyaGg2Mpb8c"
      },
      "execution_count": null,
      "outputs": []
    },
    {
      "cell_type": "code",
      "source": [
        "data=data[['open','high','low','close','Date','Time']] # discard rest "
      ],
      "metadata": {
        "id": "0188aj2Cphzc"
      },
      "execution_count": null,
      "outputs": []
    },
    {
      "cell_type": "code",
      "source": [
        "print(data.head(1))\n",
        "print(data.tail(1))"
      ],
      "metadata": {
        "colab": {
          "base_uri": "https://localhost:8080/"
        },
        "id": "TegPcr-iqfzu",
        "outputId": "1e57a064-f7cf-48a5-a4b6-1dd5c9c87f8e"
      },
      "execution_count": null,
      "outputs": [
        {
          "output_type": "stream",
          "name": "stdout",
          "text": [
            "      open      high       low    close        Date      Time\n",
            "0  14708.1  14732.15  14638.85  14680.8  2021-03-01  09:15:00\n",
            "          open      high      low     close        Date      Time\n",
            "4624  17166.95  17188.15  17162.7  17185.95  2021-12-01  15:15:00\n"
          ]
        }
      ]
    },
    {
      "cell_type": "markdown",
      "source": [
        "**CHECKING FOR CASE 01-11-2021**"
      ],
      "metadata": {
        "id": "qlTGqtQZunOs"
      }
    },
    {
      "cell_type": "markdown",
      "source": [
        "![image.png](data:image/png;base64,iVBORw0KGgoAAAANSUhEUgAAAgoAAAGUCAYAAABURQr7AAAgAElEQVR4nO2de7AcxX3vf3PO6jx3j44kEFgGw5WNJAxSjF5YPIR5GDs4FldGiW+c+JFEcWwJCpcFSlUM0pEEqYpAqeSaR0KcxLFzHexLimscvyjbGCHACCEoJBshbCIsm6dAh/N+au4fe3rO7Oz0PLp7p7tnvp8q1Ve//c385je/6dnT290768w5Zb5LPk455RR67bXXqAiYfK7ITQzkZiZFPncAbMd575JVbvxmAAAAACgipfGx8VDHez75Hfrl1z8aG6BcLtPAwIDqvJTyhS9cR3/3d1/WnQYIwYb2YwOooxpQRzXYUMe955xGK3/+G2PjieJs+azwvu72e7z/+/sApf6Bfu5OUT6R7XRiQ45FBddGDaijGlBHNdhQR9U5mnDOXRL7BvNndpNETAAAAADkHHQUAAAAGE3Xzk26Uyg0oR0F141e3wg//PDDDz/88DfWH9ZBittflrD4oR0Fx3Ho6bs/wA3kOE7kgUzz77jlr7UeH3744Ycffviz8MvC4vv7AJh6AAAAAAAXdBQAAAAAwKWJqH5OgtlBhR9++OGHH/48+ONs3fmJ+mUJi99EVD/nweygwg8//PDDD38e/HG27vxE/bKExS8pPQIAAAAAtNG3eRfX17VzU6SfB7ejcN7nfxr5zQebuPmmv6r75gMAACSlecEZVDrznTT64GO6UwE5I+4ZEVF+kT/6SfH3AWrWKORVGbrzgEKhdmrr6uVEba3a80iirWsupdY1l2rPw3Rl6I4nSxb1KRHx5zyS6lW/+2Fau/Z/eoF/9ctf0d/cdnvo9q1rLiUiotEHHvLs1ouW1p386AMPUWn5udQ87+TapAeGaPDO/6ATb/aS4zjUsnIxta27kkbue5DG9h4gIqLOP19HpQVnevv8kztGTXO66cSbvbHn07rmUnJfPUZjew9QaeGZ1PGpq8lpmTGd1579NPrAQ9z9//RPPkMnn3RSzfmfv3IFXXPNx+iOu+6mo78+KlSPkfsepPGDL1DHZ//Aq8nE4SM09JX/rInXNKeb2j+5hoa//kDd+ZYWnkltV6yioa/+P3KHRrh1aLv6Mi8Hf71V1SNJu2DXNcjonv1ERNwaOaeeVONzx8Zp6GvfpsnDL9W1C/+58fJi2rJyMTmnnlRtlwJ1ICJ61xnvoi9+4Xrq7OwkIqLXXnuddu36W+p9++3I69R80izq3PiH5JQ7as538uU3aOieb1HLuWeRs+5Kmhk4X//xO9ZfQxPPHqaxvQe81/31YG2Jl3/zgjNqzpndb01zuutyC2uXouq/H/3tMnht01y/sHpGnX9p4ZnUPG8uje7eF3scp6ONOn33aFS7CLYjtm0wb977G7v+NDRSU6eJQy9S+9oraPzRp733SdnrkEdl6I4nSxb1kV6jcPlll9IHr7ycvvKVf6a9T1ZvpL+88QbasX1b7ZtgR5v3R4692RNV/zCwG4mIqGP9NeSUO2ls/y9qtmNvSGPPHPLe2FtWLqbWD19EA3/zz95rDP+Nf/1Nf0U7Av4wWlYuptaLltLIfQ9Ovzg2ToO+NyNVpK3H+MEXqOWKVURE1N9zJzntbdS58Q+pZeVi7w2Evam4A0N1x2MdkMmX34jMq3nBGdTyvkU0+JX7aPLwS9Sx/hpqW3u5V0vl9Whvpc71a+vqMLb3gHdeLP+W9y3y3vy4NTr1JO8N1B0aqTucv10kpXnBGdS65tKafNLW4fR3nU5f/ML1dODAQfqXf/0qERH96Z98hlatej99/wc/rDnP4HU68WYv9W+/uyafjk9dTeOPPU1Oexu1fvgicr+zm/ofeZJa11xKbVddQkO/qZ6//w/5xLOHa47jlDupv+dOIiLq+OwfUOuaS2vqymia000d/+sqGn3gIa9z0LH+Gprs7SP3zer97f9Dpoqw+zHq2vIIvX6UPOfSovk0+fLria51+yc+Qu7AIPVt/ppXe/YHPCzu2N4DNPrAQ6Hbhr2/NS84g9yRMerbvItar7yAmk47ZepkRr39Jg+/VO3Yv/t0GkvwvgdAHFLPUeieOZNWrFxB//Vf3/M6CURE3/jmN6lc7qRVq97vvdb2sQ/S2E9+FvmHqmlONzXPm0vjjz1d90ZQevfpREQ0/ujTRDT1B+3SlTWfCGVomtNNrR++SDpOUmTrEaR5wRnUvODM2k7OFC0rFxMR1fwhNoaPXBxbB6ejjUrzT6/pJDLS1EgEp6ON2q66pGb0QIRPfPzj9Oorr3qdBCKif/nXr9Z0EpJep9Ki+XTiWC+NH3whcjuno43a1l5Ow//xvZrOI6snq5k7NEITLx6l0vzTyeloq48zZyYREU329hFRteNy4s1eau6W+Z26aptt/+Pwn7JXdT/KXj9Wq8nX36rzta651LtmRNWcm+Z0eyMPJ97spcmXX6fSkgWhsf0fCtzhETrRN+j50ry/lc58J40F2szk629xjwtAWkpE1TkIx3Fq9Om7PxD6ul/PWnAWdXZ20rE33yR/nF+/9Gt69ZVX6dR3vMN7ffjfv0PU3kotl013HoLxZlx4Hp3oG6SxA4dr/NTeSjMuOM/7Q8HmDJvmdFP5L/+MiKqfFAf/6b5qPCKaseBMbxHIzj2Phx7PH7/9k2to8thxcvoGa+doWmZQ5/p11f37B2nwrnur23HqQkTkBs/PO+Hp10XqMbZnP7W8bxGVN32GJv77t3Sib5DGD75AruvS5OGXaOj5I9R6/hIi31yT4zg0+sSzNcP7bsDv18nDL9HEy69T5/p1NP7kAWqeN5eG7v2e2nr4/ff9iMYnxyLrUDrnPdTU1em9Gfr9rEasDkREzfNOpkrPxth2wYZ6o9p5xyc+QkREk0d+SzWkqMPMri4qVyr06KOPRrbDJNep+aRZ1PI7C2n0h4/SicFhcoZGaOyZQ9T60dXUfsapVJp/Go18/5FqB8B1q1MAs2fWxKO2VnJaZ3h/+F3XJffVY0TzTw/N78Sx6h+q0qL51SmN2TOped7c6h/PXx0lcl1qW3dldTTLNx0Q9/7Bu95R96P/2o4fPkLDX/nP1NePxQvmPPH8kbp8mtrbqKnSQe6rx2LzZx0qVi/XdWny9beoae7syOvuui41n3YKNXV1VkdpIt7fJg+/RLR6OXXt3ESTL79B7sgonTje511vFs999Rg5Ux2/E4PDkdehERp3vrrjRbW/rOPJ0qg67r/rEs+WW6MwlainPL/Dn/tg2jSnm1ret4hGf7CHaHi0xt+yeAE1dXV6owlNne3klDu9YWQ2bNd29WXVHvrImDd03rJyMbWuuZQmDr3Incvs+KPfIyKikW/+gNo/uaYmz4lD/03D//4db6rAPwzPq8t73vNuuucfp4eKiYgGBwe9gsjWw6l00owlC2ji8JHQtQbEyct/HDcif7b1jBWLyR0Y8oaXRevBbR8J6uB0tFHLhUtp7JlD5L5VO5fffNIsr0b+OrAhZTZE33r+kuqwbMp20Xb1ZdQ8by4N3vkf1Lb28poc09Shq3smlcudie+rqOs048Lz6ET/EI0ffKFu+xlLFpA7Nk4n3u4XqndTVyc57W3kTI3MsNfdt96moXu/V61lyNqQyVfeoOFdXyV3aKQ6VTU19UGBOExbz19Ss/5k5m031EwpRN2PwWvrn3pLev0cx6HJl1+n4W98N5Dza6Fx3LFxmuzt8+zgWpe2dVfS6J79NHHoxdDr1lTurI7UcOrR1NlObVdd4k1vxL2/DX/lP2mYqiMYLZedTyP/94d1cSd7+6ildUbo9YTy3290xJMli3rVjCgwUtuBxP2fAMK2DxL2ydBLsqOtZjSBiIjaWqmpq5NGH6t2HCaPHaexZw5R81TPfejrD3j7jx98gWZccB41d3fRZEg+LSsXU/M7TqbBu+4ld3ikJv/Jwy/R8NQnIxoaofHHnqYZF5xH1N7q/fEOO79f/vJXtPO22z17xYrltO6aj0nXo23t5TT2zCEa+fZPqKmz3ZtXHvn2T2rjxdQ/6vq0rFzszV27U4uk2j+5hobu+ZZwPcLaR9J8Zpx7FjVVOrxOot8fHHEhopoRgsnDL9Hkkd+Sc+pJRETVUZyp/f3tYiIkn9LCM6nlfYto6N7v0eSx4zX5TTx/xOtcuEMjNPbofmq5cCk5HW01n+x4BYi7n4IwP+s8shEDouoQ9Yyz55N7x73U/+vfUsvKxdTx8d+lwbvu9e6XsPqG2Sf6Bskdrs/fdasjTf03/W8iIpqx4lxqu/oymjj0Ip14s9cbsSEiGt29j9rXXkFOe5uXYzDe6BPPen/sW1Yuqblfo+5Hb5h+Kh92bcPyjbp+k8eO16xT8edMo5Ox14OdL1tAyEaCmhecEVrfEwODNdNiwfgtV6yipq5OGvz6A9UXYt7f2P4tl51PE88cosrNnyOn0ul1ouLef7OwVR9fNN5z559NUUT5z37iOWX5p7nf05LF9awZUWAktQ8ffoEGBwdp8bnn0pO+NQrvOuNddOo7TqVnDxwI3T9IU2c7leafThMvHq35ZEhE1DQ1JMd660RENDJaM58Xl28Q5mfzoE65wxviIyJq//0PkeM4dZ9U/Pu7AbvGHzwe5/g8wurB5uInnj1cPf7UvHLz3Nn18RJcP17+pSULyPW9sU0cepFmnD2/5o1fuh4p2ltpyQKafOWNmnlax3G8ueOJF4/WdFLC4gWJOz77hOeUO7zpBSLyPkUGF/zFxTt69Ci9+sqrtGTxYvr+D34o3F7ZOp3JF38zndOi+eSOjpMzVYOJXx2llrHx6jB44NscHiOj5I6Oe51nx3Gqf3CnrntUfs0LzqC2qy+jySO/rRuJics/zpa5H/2kvX5x+SY9Hzby1nRSN01OjX41z51dt74hWM+WlYtp9IGHptt4gve3lpWL6cRLL1Pz/3gnDX3z+3TiN69R2+9dQs7BF7yRi7h8i2J333c/paV33drM8pMli3py1ygk0eO9vfTk3ifpg1deTgcPHqQn9j5Js7q76c/Xr6eBgUF67LH6tQF+vE9Kp51CTuuM0Dno0qL5NDE1JMdePzE4XP0juWQB0d4D5MyeSS3vW0RjzxwiIqL2P/4oje19liaeP0ItU59IJ351lFzXpbarL6OWlYu9Ocn+7XdP96DaW6nzLz5OY4/up/EnD9Z84mnqbKcZF5xHEy8ejZzzI0q2RiFtPdhip9KSBTT6xLO1nYlgPM5clP84TIP1mHz9LWr5nYXUNKebJo8d9/4QucMj6uoRMmcWVgdn9kxqmtNNw/f/qG7/5qkajT/6dM3rbVdfRideecO7fv6vtUW1C/ZVtbG9B2jk2z+hwb/7Wk3czj9fR5Ovv1X9ep1AHR766U/p05/+JP3pn3yG/vlf/pUcx6EPf+hKmjdvnmdHXSfHcah5yQIae+ZQzVoI99Vj1LRyMdG8k8l9/Q0qvft0clpmkPvm29w6nxgcJndgkGZccF51QWRbqzdSQUTkzJ5J5Ws/QRMvv16zBoAN99PoGI3c/+PqdThpFrWuvZxGvvFdOjE4TK2rl9Pk1GLHuPcPNjLjjQAdOx55P/o/wfu/spj2+jmzZ1L7x66gof/zX0TDo9Syenl14eGx40SVrpr93OERr1M1EcifjeR570tDw+SOjlPL6uU0fPiluvbHFj96X+lsb6W2qy6hiSO/9UYCkry/ObNnUtMZ82j4Wz+gtg9d6L9xvOvc3N3lLeAUfX+XUZHjyj54iJeH/49+GtLmL7ufKI2+LnUjCiL64588RKNjo7R+/Z/R+vXVTwHsOQqM4H7B10uL5lffWAJz0OyP4fjUEJw/zugDD1HH+mu8xjNx+Ij3SWHy8JHphWZTC5X83yfm5RXUE795jZqumkUzb7uh5hixdQnG9w4oXg93aISGv/4AdW78Qy+fyZffoLEfPV4fj5OX/zgu5/XRBx6i5rmzvU90rH7u0IhwPYJrNnjPDwjWYcZ73kXu6DidCJk7ZjUKfk984tCL1PGpq6n99z9ERNU5bfbJV7ZdMETqsPfJffTKa6/RF79wPf3TPf9ARETj42P0ox/X7+fPg12npjnd1Dynm8Z276vZfmzvgeqzI/7oKpr5R1d55xz3/fnhb3yXOj77B97CwNE91T/GNdsF6tG6ejmdONbrrSVwHKd6HCIvzuTLb9DwPd+KrKOosmvL1jewa5v2+rH7qmvbtV7OQ/d8K3Q/d2iE3IFBck49KTY/Gh717lH2vuRvf0FaP3gBNc87mZrpZJoxtT17tgfv/c3paKP2j11BI/f/mBzHofGnfuF9/XXkvgdrRoRO9A+RO8x/XoppKktYXDZ9EMZz558d6Q+Lp2IqI4vzVq3OqactdMN6REs3POw9vjFqDqNSrlBffx/Xb4IdfISz7nxg29V+bLC7Kl3UP9BvTD622mHtsXXNpdQ8d7a3rsGkfHm2fwTFlvYYN6IQhf9RxkmPxzoKac7vufPPFp7K4K15kD3vNPl37dxEb994e6Lt2SOcXTfm1yPzYgfRnQ9s2LDtsScOvUjN8+Z6ixV15xNnN580i5rmdNd8C8Ok/NK+X6fFtvxUx2uEjd96gEKh0AideP5I9cFJi+YbkU+czrjwPHJHx2ny6KtG5JNUZRE9XlZ5mnLeIvVR8lsPpitDdx5QKNRO9X+d0oR8onT0gYfI/z0g3fkkVVlEj5dVnqact0h9MKIAhUKhUO0qi+jxssrTlPMWqQ93ROHpuz+gvYepStlCRt15QKFQKDRcZRE9Xtr9RL9uacJ5923elXh79mUGx5F8joK/ByK6P7TYivaDOpqkqKO+Osoierw0+/m/JRHU4LcoTD1vES3EGgUoFAqFmq2yiB5Pdf5p9/N/tTNI185NkX6V+UdpIdYoQKFQKNRslUX0eKrz113HRmjNcxSgUCgUCpXVveeclno/WUSPp+q8VcczSUuVcqWmR+Q4Tiq7XC5L7Q+72Dbajxq7s7OTXNc1Jh9bbbRHdXa5s5x6f1HKnWWhfGX//jU6nv/cVMQTtUvsMZtB2OMb43AchwYGB2K300nwEc7AHGxoPzaAOqoBdVRH2jp2ZXgsBu/vnyiq43WR+LnJ4u8DFGKNAkN3HlAoFAoNV1lEj6c6f911bMT5FGKNAkN3HlAoFGqasl9B1Z2HLKLHU52/7jo24nxKwd6D4zjcnkXQz7bx20F/3P5Z+dlrpuZXVL8t7cd0P6ujqfnZ4ieK/oSrOz+b3h+T/P1QhUj+i372i9T56Wg/Ot8f2f9LYb25uJ6e/3XHcbg9qqhksvYHc876+PCH+21pP6b7/XU0MT/4zfY34v0xyd8PVeT5/V3n+yP7P3eNAvsdap7fJt2+41Yj8oBCoVDTlGFKHqKYkr/uPFTp/rsu8exCrFGAQqFQaLgyTMlDFFPy151HI7RujUJaXNet61EBkBS0HzWgjmooah0bcc5Z1tGUa2Z7HXmErlFIg+PUzzEDkBS0HzWgjmooah0bcc5Z1tGUa2Z7HXl4vx7JcJz0T46S2R92sW0itB8VNvtnSj622kTFa4/+c1YZX6Q9itKI/EVsfy4mxhO1a3490u+EDRu2PTb7Z0o+sO2xg6+pii/aHkVoRP6wp23uGoWlGx72Vj1GwT7JmMyWm7/kffMBmIUN7ccGUEc1FLWOjTjnLOtoyjWzvY5+/H2AyDUKSXp6/k8yJmNDjkXElvZjOqijGopax0acc5Z1NOWa2V5H3rEj1ygkmWOK2t8U25+jCfnAtqv92GCzf6bkY6tNVLz26D9nlfFF2qMopry/+3MxMZ7o8SPXKAQ16LfFDr6mOx/YsFXb7J8p+cC2xw6+piq+aHsUAe/vjbUjn6OQpKfHPsmYjg05FhFb2o/poI5qKGodG3HOWdbRlGtmex15x+auUXj67g8k6un5P8mYyo5b/tr4HIuKDe3HBlBHNRS1jo045yzraMo1s72Ofvx9ADyZEWgF7UcNqKMa8lpH9lPSPLp2buL63r7xdqFjYkTB3JhpwZMZgVbQftSAOqoBdayHV4/nzj87cr9D738v13f2E89J5RTElGuWpxEFPxhRAFpB+1ED6qgG1LGeqHp033d/6ni969Yqr7Ep1wwjChzQAwcyoP2oAXVUA+pYjw2fkk25ZjbUSgSMKACtoP2oAXVUA+pYjw2fkk25ZjbUSgTuiMJ5n/8pPX33B2ID2NADv/mmv6Idt/y17jRACDa0HxtAHdWAOtZjw6dkU66ZDbVKir8PgOcoAK3Y0n5MB3VUA+pYjw2fkk25ZjbUSuTYJcdxvEdtBp3stTB/1NO3orbXYZueX5FtG9qPLXaS+xV2MdujLHHvrybHy7r95OnvFzsfb0QhrDH5Xwv6g/vx/LBhR9loP+rsJPcr7Gg7r+1RFtXxs45na/thz7DQfT749UigFVvaj+mgjmpAHetpRD1UxzTlmpmShyrY+XDXKLDfoY4j+EnGRLbvuFV3CoCDDe3HBlBHNaCO9TSiHo0e8dCFKXmowN8HaPLPRfh702EKP/zwww+/fX5ZePFl4oWp6vyyrH+c6s5Pxs9do5B0zgV++OE3w+/fxsT8bPDHqe78RP2y8OLLxlOVp+76uq5Li372C63Hb6S/1FXpIhnK5bKyXisoHmg/akAd1YA61iP7NyKLmI3IEUxT6uvvkwrgui71D/QrSgcUDbQfNaCOashrHWdK7Cv7NyJpTNNyBNM0Rc1ZQKFQKNR+lUV13KziQdVoE2+u4rzP/zT0dRt1y81fMiIPKBQK1aGyqI6bVTyouC7d8LBn48mMsLXaNrQfW+wk9yts+9tj185N1Ld5V6r9ZYl7fzU5Hmw8mRG25Tbajzo7yf0KO9rOa3uURXX8rOPBlrsfuGsUGDw/FAqFQu1QWVTHzSoeVI3WjSgk7WlDoVAo1A6VhRe3d91apfFU5wdVo9w1Ck/f/QHvtTB/VI8wansd9vYdtxqVD2y72o8tdpL7FbYd7XHmbTdQFFH+t2+8vS6eLGH5nv3EczW233/o/e+N9EfZqvKDLWezPoDrRqxRSGrL7g+72Dbajzrb/5oJ+dhom9IeZWl0vCT5p22P7JcSw5h52w2Rftl8YUfbNSMKokpEUvtDi61oP6ijSWpCHWUJxuvbvIt7PPYtCpX14OUhWw/d16Woyn2OAhQKhUL1qCym5G9qPGg6xZMZoVAo1DCVxZT8TY0HTacYUYBCoVDDVBZT8jc1HjSdckcUlm54OPR1G3XLzV8yIg8oFApNorKYkr+p8aDxunTDw56N5yhAoVCoYSpLmuP5v02gOn9T40HTKZ7MCIVCoYapLKbkb2o8aDrlrlFg6O7JQKFQaNFUFlPyVxWPjXroPq+iqjeiwIANGzZs2GbYsujOH3Y+bOeUdy6Q6sJWyhXqH+iXCQEKDNqPGlBHNZhSx7hHOEeR5gmGjeLQ+99Li372C91pAEXgOQpQKBRqmMpiSv6684CqUTxHAQqFQg1TWUzJX3ceUDWKNQqwYcOGbagti+78YefD9kYUGLBhw4YN2wxbFt35w86HjTUKUCgUapjKYkr+uvOAqlHuGoXzPv/T0Ndt1C03f8mIPKBQKDSJymJK/rrzgIrr0g0Pe3YTAQAAAABwQEcBAACAUlYcPKo7BaAQfOsBNmzYsA21ZdGdP+x82PjWA2zYsGEbasuiO3/Y+bC5Uw/777qE57KO7Ttu1Z0CAAAAYA3+PgDWKAAAAACAS6mr0lUz3OA4Tiq7UqnUBEy7P+xi22g/auxyuWxUPrbaprVHESrl6XNAe4Stwi719feRLCb82hqwF7QfNaCOajChjjMl9jUhfyJz8gDyYOoBAAAAAFzQUQAAAAAAF25HYemGh7PMo6FsuflLulMAAAAArMHfB8CIAgAAAAC4oKMAAAAAAC7oKAAAAACACzoKAAAAAODSRBT+fGf/4xt5z3+2xd62/Raj8oENGzbspHZadOcLOx826wO4rlvtKKj6hSnYsGHDhq33FyR15ws7fzamHgAAAADABR0FAAAAAHDhrlGADRs2bNj67bTozhd2/mysUYANGzZsg+206M4Xdv5sPMIZAAAAADXgEc4AAAAASETNGoW8KkN3HlAoFJpURdGdNzQfynDdwBqFvCpDdx5QKBSaVEXRnTc0H8pwHDxHAQAAAAARcDsK/kc42872HbfqTgEAAACwBn8foBBrFKBQKNQ2FUV33tD8aSHWKEChUKhtKoruvKH509CpB5eie7Twww8//PDr8cehOz/48+cP7Sg4FN2jhR9++OGHX48/Dt35wZ8/P9YoQKFQqIEqiu68oflT7hqFpRseNmJuRIVu3XKTEXlAoVBoUhVFd97QfOiyjbs9O/LXI3k9XNv8QUzLD3744Yc/6BfFlPzht9vvtyN/PZLXw7XNH8S0/OCHH374g35RTMkffrv9frsQaxQYuvOAQqHQpCqK7ryh+VCG6xbkOQoM3XlAoVBoUhVFd97QfCjDcRxy3rNwmeu6LjmOQyJaqVSov79feH9osRXtB3U0SU2pY3PP50iUyZ5/0J6/KXWEqtFS/0C/cINkvY2BwQGpGKC4oP2oAXVUgyl1nCmxrwn5m1JHoAbuGgX2D3744Ycf/mz9MpiQP/z58peIks1RwA8//PDDn70/LSbkz/7pOj78av2F+NYDFAqF2qai6M4bmj8txLceoFAo1DYVRXfe0Pwpd0Rh6YaHI3sY7J8N/i03f8no/OCHH374gyqKCfnDb79/6YaHPTtyjULSHq/pft52puQHP/zwwx/3/pUUE/Jn/3QdH361/kKsUWDozgMKhUKTqii684bmQxmuW5A1CgzdeUChUGhSFUV33tB8KMNxHCpF9V6T9Gxd1020nW5syLGI2NJ+TAd1VEMe6mhC/nmoI5huSyVe73X/XZck6tk6jpNoO51s33Gr8TkWFRvajw2gjmrIQx1NyD8PdSw6/j5AIdYoQKFQqG0qiu68ofnTQqxRgEKhUNtUFN15Q/OnkWsUkuC6mIsC4qD9qAF1VEMe6ie2h/4AACAASURBVGhC/nmoI5iGu0YhKY6DuSggDtqPGlBHNeShjibkn4c6gmmwRgEKhUINVFF05w3Nn3LXKCzd8LARcyMqdOuWm4zIAwqFQpOqKLrzhuZDl23c7dl4jgLQii3tx3RQRzXkoY4m5J+HOoLpthS5RiFJz9Zx7JiLsiHHImJL+zEd1FENeaijCfnnoY5gui2ViGp7oI7j1MxN+O2gnxHlN8H252hCPrDtaj822OyfKfnYahOZ1R5FMCF/tMd82ETV9lTz65H+jcM06LfFDr6mOx/YsFXb7J8p+cBWZ6dFd75oj/mzuWsUnrpzdejrQVjP0WS2bb9FdwqAgw3txwZQRzXkoY4m5J+HOhYdfx8Az1EAWkH7UQPqqIY81NGE/PNQRzBN3YiC40TPkQX9wZ5j2v3hL7Yf7UeNnzcnbEp+tviJoj+Rm5BfHCbkzxtR0F0/+MX8oSMKcT1Bvz+s55hmf/iL7Uf7UeP319HE/OBX549Dd36sLfK2MyE/+NP58VsPQCtoP2pAHdWQhzqakH8e6gimCR1RYEOYPPz+sJ5jmv3hL7Yf7UeN319HE/OzxZ9kVCaL/GTRnX/UiILJ1x/+cD93RGHphocjv/nA9uP1HGXmAVX7t265qe6bDyblV2S/De3HBn+wjqblZ4vf3y51HF8VuvOPG1EwIT/4o/3LNu72+gB4MiPQii3tx3RQRzXkoY4m5J+HOoLptoTfegBasaX9mA7qqIY81NGE/PNQRzDdlkpdlS6uM8zH/KynUS6XrZhj9p+LifkV1W9L+zHd76+jifnZ4i+Xy0Skf45fhkq5oj3/SoWfg8nXH/5aP/u7Werr7+PuEOXzB+0f6I/dTjdJzgVkjy3tx3RQRzWYUsduiX1NyJ/InDyAOOzvJneNwv67LsnNGoXtO241PseiYkP7sQHUUQ15qKMJ+eehjkXH3wfAcxSAVtB+1IA6qiEPdTQh/zzUEUzTFPzeMBQKhUL1qiy684fmS5s7K7N7SIKWlhYaGxuTCQEKDNqPGlBHNZhSx7YrLxTed+TBxxRmIoYpdQRqwK9HAq2g/agBdVRDHupoQv55qCOYBmsUgFbQftSAOqohD3U0If881BFMw12jsGzj7tDXbdStW24yIg8oFApNorLozh9qvy7buNuzm1ivL6gMnh8KhUKhjVFZdOcPzZdK/9bDvsXvokU/+0XsdrpR1VMHanEczGWqAHVUQx7qaEL+eagjmG5L0r/1kGY7ndiQYxFxXcxlqgB1VEMe6mhC/nmoI5huS9w1Coykc2kmzKlAoVBoHlQW3flDc6Zz550l1e17ftU5tPDxn8uEAAWmUq7gmfAKQB3VYEodu2+/UXjf3htuU5iJGKbUEaih5DgOuW7tr0mltYlIan/YxbXDPkmZlJ9NNnvNlHxstE1pj7Lozh/tMV+2t0Yh2Dhhw87CRvtTZ/tfMyEfG21T2qMsuvNHe8yXLf1bDwzZOFAoFAqtqiy684fmS7nPUUiqDNk4UCgUCq2qLLrzh+ZLsUYBtlY77JOUSfnZZLPXTMnHRtuU9iiL7vzRHvNl14wosH9EREs3PFxjB/3+/0f5TbC3brnJqHxgw4YNO8qWRXf+sO23WR+ACM9RgEKhUONUFt35Q/Ol0r/1kHQ7KBQKhSZTWXTnD82XYkQBCoVCDVNZdOcPzZdiRAEKhUINU1l05w/Nl3JHFPbfdUno67yer+4eT5Ru236LEXlAoVBoEpVFd/5Q+/WpO1d7Np6jAIVCoYapLLrzh+ZL8WRGKBQKNUxl0Z0/NF+KEQUoFAo1TGXRnT80X9pEAeJ6tPDDDz/88Ovxy6I7f/jt9Nd1FOJ6tPDDDz/88Cfzd99+o9L4sphWH/jt8HPXKCzbuDv09aAydM+hROnWLTcpj/v8qnO0nxcUCjVbGaL7iaL7vKH267KNuz27xJuTYMTNXSTdLm9a1POGQqG1Ghw1CBLl773httC4sphQF2h+tFQpV8iP4zieM+gL+hn+7cL8cftn4Wc5qoyftD7w8/3lctno/Gzxszqamp8t/kql/p5Os39aot5/VcVME1+VP3hfZ318+NX4WVsq9Q/0c3eK8olsp5NG5GjDedsA6qgG1FENaevY3YhjTY002Azao/2wa4jfehDUop43FAqtV1F05w2FJtK5886SGud6ftU5tPDxn8uEsJKinrdqKuUKPnkoAHVUg0gd49YoRNGbg5GDMNAe80Xd1yMBAAAAABjoKAAAAACAi7dGgZHWDiIbDzZs2LBttdOiO1/YsJPYTcGvSqS1g8jGgw0bNmxb7bTozhc27CQ2ph4AAAAAwIXbUWCPcM4DW7fcpDsFAAAAwBr8fQCsUYANGzbsKZp7Pie1f1p0ny9s2ElsrFGADRs2bA5YowAbNtYoAAAAACACdBQAAAAAwCU3j3BuxGNUn191jnBME2piA3jUqxpQx+Sofq/AI5zrQXvMFyXdCZhO9333p96nd93aBmQCADCRqD/23bffmNvOACgOmHoAAAAAABd0FAAAAADABR0FAAAAAHBpIjLnu5qq7LSojpc2PmzYsLOzZdGdP2zYWdtNROFPY/I/vtGUp0MltYNc39ca6Vf9tLW08WHDhp2dLYvu/GHDzsJmfQDHcTD1AAAAAAA+6CgAAKxE5vkFAIDkYI1CA+KljQ8bNuzsbFnSHK/3htu0ny9s2LI2d42CzXZaMKcJG3ZxbFl05w8bdtY2d+rhqTtX81zW8fddo7pTAAAAAKzB3wfAGgUAAAAAcKlZo2C7iqI6XlxcKBSq7n7P6n1C9HhQqO1as0bBdhVFdby4uFAoVN39ntX7hOjxoFDbNXTqIa7nbbpfFt3x4Ycf/sb5ZdGdP/zwZ+0P7SjE9bxN98uiOz788MPfOL8suvOHH/6s/aVKuUIuueSQU6MLP/09ev7frqp7PahEROVyOXa7RmsU1/e1Rn7zgZe/DLy6Qmu1XC4bkYftWsQ6it5nuK/RHqHxuuDT36XD//YRcsmlUv9AP/emGBgYSHTzJN2ukXRL7NuI/KPqCqZxyDGi/dhOEevYTWL3mcx7Be7rZBSxPeYR1t7xZMYGxEsbHzZs2NnZsujOHzbsrG08mbEB8dLGhw27CPbzq84xIh9ZdOcPG3bWNp6j0IB4cXGhUNO1+/YbG3Z/6o4niwnXBwpttDJcN+I5Ck/duTr0dZOVR9wjnNPGS4ruekChJilDdzxZdNcRCs1C2SOcHQcjCg2JFxcXCi2iMnTHk0V3HaHQrBVPZmxAvLi4UGgRlaE7niy66wiFZq0YUWhAvLi4UGgRlaE7niy66wiFZq0lIjN6LCpUFHzygBZRZ+3aTFFE+XtvuC00LvtmA48o/8LHf54qf0ZW7xOix4NCbdcSUbXH4DiOkMrur0pl4MWVxYS6mK6ok746NqJ9ExF133d/6li969YK52/CeUNxX+dZuWsUlm3cHfq6ycrj+r7WSH/aeEnRXQ8oNEplUR1XNH9TzhsKzZMuv/YRz/ZGFBiOE94jDPMzovxZ2yKojuePqbsepttEZrUfW22X3ET3a6Pbt2zMLNqPijzTHK+Itmh7hG2WTRSyRsG/cZgG/abaaVEdLxhDdz1g5992yBG+X0WIat+yMf3xum+/MXKfKH/vDbfVxVOBCdfbdFumPcI2z+auUeC9Lrpdo1UGXlxZTKiL6Yo66atjI9q36fEcx6Hjm3Zy6zJr1+ZIPxT3dVHUfx/hOQoNiBcXFwo1QWUx/T7UXV8o1GZlOE7EGoV9d1xcYwf9fqL8WdthxD3COW28JLAYuuthuk1kVvux1c7rGgXV8dAezW6PsM2x991xsWdHrlHQZc/atdmbXxTZPy2q4wVj6K4n7PzbeV2j0Ih4sM1uj7DNs418MiNDdL+0qI4XFxcKNUFlMf0+1F1fKDQvmujJjIcvOJeiiPIvfPznsfHjep5p90uL6nhxcaFQE1QW0+9D3fWFQvOipaS9dpmnrYmg6lOPrmNlmb/NsLlMIEfWdbThnrHhvSev4L7OFyVVny54iMZvdF6NPlaW+duMfy4TiJN1HW24Z2x478kruK/zBXeNwrKNuxs+lxk3Jym6X5C4RzinjZcUE+aWoMXQ5p7PKbtfkqI6blbxoFBovC7buNuzEz1HQZa0cyKy+6nKTxYT5pag0Kzbt+nxoFBo8vcHx3GotHXLTTUv9mzb4f3f36O/6x+/RkE2/MWn6l6r2faDa2nrB9fWxa053tab6177exoN/TQRti0vbnAU4fq+Vu7zFII1iIqbtA6u66bKt6jbBucyTc/X2G37iMjXjhPF7asK774IG4lj2wbvTxb3G0REU/dI7PuDj0+ExIzLIXbbLTeJtUnOuYVtmyZukbb94hev154DtpXd9kH6val7yJk776zQ8b1lG3fTU3euJqLqb8iLLmZkvzGfhu7bb6x5jkLSfXhEdRKIiHusrM+7iFTKFeof6NedhvWovmfiMOGeETlnHTGLCO5r+/H3ARL91oMsvPhEVPc6Ox7bJswftn+j8pOJ6c8vzfkXyc9qZWp+tviDdUxTfxF47Zuo+kdfNKbu9uM/N5H94a9q8MmMpuUHfzI/UfV+4D5H4ak7V3u2LGHxo/y8/8ftzyPuEc5x8UUQyR9++HX4ReC176hRgedXnRPpN7U+8Kf3hz2Z0aT84I/3s9EEx0nxHAVRROM3Oq9GHyvL/G0G37dWhw33jOocce+aCe7rfIHnKDToWFnmbzP4vrU6bLhnVOeIe9dMcF/ni7oRBcdRM4fJSBufNS7eNqrzCx5LVXzR/IvmD37yMC0/m/y8OcY08ZMic38qbT8C7y9R/smefzD2+trk540omJIf/On8pa5KF3cnFYjGb3RejT5WlvnbTLlcJofwyUMFNtwzlXLFiDx4lMtlpfGKCu7rfFHq6+9r6AFE4s8S2G9W6qNM04gaNLquecEll/r78TUqWWy5Z1TeFyLnHAfaoxpQx3zBXaPg/w6lDCbMZcY9RyGv85xxq8xNAHOZ6sAaBQXx0B6VgDraT81zFKLmKxo5l9mo/Uw5likrfk3JgwdWR6vDhnvG9G89oD2qAXXMB+waRn7rQUWP0JRPHlkfK23MRj0RzvRePT55JCfuSYqzdm3m+lS3LZFrtvDxn2NEoSCgjvmAXUOMKDToWCIxTckjS/DJIxvCanx8007u9rN2bY70mwJGFMwEdcwHNSMK7GtVQaeqEYWw+FF28NhJ9leRZ1Q+KuPF1TttvaJskfpnabOV0abkY4MtgintUbWtun2jPSqyfSMKRuQDW8hm95c3ohD8Y7vvjotJBbz4qu0o4h7hLBtfJF5YfP9rquqTVf2F8yOz8zPVTosp7VG1rbp9oz0qsgMjCtrzgZ3a9vcB8GTGBh1LJKYpeWQJ5jKzwZT2qBrVOaI9qgF1zBf4rYcGHUskpil5ZAnmMrPBlPaoGtU5oj2qAXXMF9w1Cqp6gyJziGy/pNuraJB5nRNWPYerPD/MCQvdH2kxpT2qtlW3b7RHRTbWKOTK5q5RUNUbTBpf1pZFdXyR/P2vqapPVvUXzg9zwkJ2Wkxpj6pt1e0b7VGRjTUKubKxRqFBxxKJaUoeWWLDXGajnnGRJaa0R9WoztGG9mgDqGO+4K5RWH7tI0q++SD6SUjliEHcI5xVj06IxjQljyyxZS5TZY46nlFgSntUjfKRRUvao+mgjvbj7wM0+ef6/MpQNTfaaJVFdVzR/LOqlzFKhuRhiYqC9oj2iDpCRbUp7VxfWnjxVassquOK5p9VvYxRMiQPS1QUtEe0R9QRKqr4rYcGHUskpil5ZIktc5lpc2zE7zJErZOIW0dhSntUjeocbWmPpoM65gN2DfFbDw06lkhMkX0OX3BupP/5VedwfQseO5j6eKqxZS7ThvaoOsciXhdb2qPpoI75oGZEwXWr35v0K/sdatleIS9+lIrsF0WSRzjz8lB53rKfMnnn3X3f/anz6123lptnpkpi1ztLFclPFtHjqTpv1fFMuS55aI9WKOpove6742LPrnuOAk9FSRpfVmXJ6rxNiRcXNzM1ZC4zrhMX5T++aaf26yK6X1bxrFFD2qP1ijrmSkPXKLjudI9dFtH4UX6V+YUdS0V8lfkF46k6f16MuPgq/WFzmVkeXwVh+cusJwiLGYwf5mevqahP7w23GdE+4vwi7y9R/rAnM6qMXxh/xBoFI/KDP5Wfu0aB93paROPL+tMQFks2vsr8wuKpiB8Vo9HXx//JQ6T+trefRvj9r+muX2btR/H7C+/JjKriF8Yfs0ZBe37wp/Jzn6MQ1WNPQ9L4sipLVudtSry4uJmpId+3lsWU/HXnYb0a0h6tV9QxV6ptjYItc8J5jRcXNzM1ZC5TFlPy152H9WpIe7ReUcdcKffXI9njG/2vi8CLL4s/ruvWzgn7X3cch7ZuuYm2bb+F62fxgn6V+amIF8xPdR3D4jfcH/FrfZkcX2Edkx6fba86f7aNjvrp8AfrqCJ+1Gp9087faH9IHY3KD/5Y/7KNu+mpO1eT60b8eqR/Jxni4quKG4yvyt+o/ETj8WzZuI2qX6w/5tf6sspPFhPyD/u/9uvbQL//9zJUxY/7JJzl+Vnt59TRmPzgT+XX9lsPsvDiqlbV+ZkSLy5uZmrIXKYspuSvOw/r1ZD2aL2ijrlSbb/1IAv3E4FiVZ2fKfHi4mamhsxlymJK/rrzsF4NaY/WK+qYK8WIQoyqzs+UeHFxi/bJQxZT8tedh/VqSHu0XlHHXCn3Ww/sd6iZLQovvixpekR/3zUq3JNSnZ8p8eLiFu2Thyym5K87D+vVkPZovaKO1ivrAxBF/NYDg/UoRImLL0vS/KP8Ufuz30RQkZ+qOFnXr6F+zirzrPNTXceo40ftJ5u/rvrlxk+NuT7ww2+znzuiwJB9E42LL0vS/EX8Ub+uePiCcxP9+qI/rn+VdpBZuzZH+oPxVNHI+iXyG7I6WhZT8td1/Nz4yfD84Idfg7/UVekil6o9aZ7KwIsvQ6VSicw3LP8k55lGRfJoRLws69gIrZQrRETa88iyjkTmt8eiqint0XZFHfOlpb7+Pqk3yTh48WdJxOzv70+1/ayIPGRIm0cUsxTHS0LWx+NhQh62t0cd7SevoI5qQB3zg/etB0acnRbV8dLGz7sti+78Sz2fNyofWXTnD1vSJsPygQ3bALuJNyex/NpHamxRGjUnnDS+67p0fV9rqu1tsmUxLX/T8kmL7vxhS9pkWD6wYWuyl1/7iGfjOQqCqjoP0Xiy5K2Ohy84VyoPUfJWx8IqGZKH7Yo65krxZEZBVZ2HaDxZUMd81HGi524j8rBeyZA8bFfUMVfaRAAAAAAAHNBRAAAAAAAX7hqFp+5cXWOLwosvS5o5lp5tO5TP2Yjk0Yh4suie+1Kdh2g8WXTXEXPCqKNRijpar/vuuNizuWsUgiqK6nhxcbNS1XmIxpMFdcxHHTEnjDoapahjrhRTD4IkeXwzAAAAYDvoKIDEsK8eAgAAKA7cNQpBFUV1vLi4tqroecli63nbXMfjm3aqryfmhFFHkxR1zJVijYIhKnpesth63qhjQDEnjDqapKhjrpQ79cAe4ZwHerberDsFAAAAwBr8fYCSxjwAECJurUSUH4tQAQAgHSXHcbzhBaLqnETQliEuvixp80+yvU22LFnk2337jZE5zNq1mevrveG20OvZfd/9kTFDY61bm4t6wm6gHfLrkUblBxu2Bpv765E8Oy2q46WNn3dbFtPzNT1e2viwDbfx65GwYdfZ+HokAAAAALhwOwr77rg4yzwaSs+2HbpTAAAAAKzB3weo6yjIrkmIQ3f8vPtlsT2/Ru8vGx9+w/1keH7ww6/BX9dRUD1na1r8vPtlsT2/Ru8vGx9+w/1keH7ww6/Bn/jrkb3r1ibdNBHHN+3k+mbt2hzpB0A1aI8AABBOoo5C1HfPD19wLr6bDjJHdccVAABAOHjgErAOdFwBACA78AhnAAAAANTg7wPgOQoAAAAA4IKphxyA+frGgoWMAIAig46C5WC+HgAAQCMpEVW/O+l/0ML0dyldInJC/VXbJd7+0/64/ev904jtH/TXRZXMrxH+xuQXZ9fvr+KXGePqnxYTro/p/vB6mZMf/MXyT/3P2PzgT/f3o0RU/zQmx3GmHt/oEM8/9b+G+H1bKokffIRzo/M3xx9nh+8v+suMvPiymFtf+OGHH/58+tkjnB3HoVKlUiFZVMTIIqbpmFJH0TUPvGNN9NzN3afU8/lIv0j+RWw75XJZdwq5AHVUA+qYL0r9/f3SQVTE8DOrATFNp1HnnDZm1mseGnHeRWs7jKKet2pQRzWgjvmhiaj++c7MDmpWft52puRniz/O1p0f/PDDDz/85vubiPhzFEHNys/bzpT8bPHH2brzgx9++OGH33w/HrgEAAAAAC54hHOOwTMUAAAAiFD3CGfenIUuZZgar6iKOkKhUGgxlOG6gTUKpih7ZK6qeAzd52W7oo5QKBRaDGU4jhP9rYe82EF05wMbNmzYsGHbYkd+6yEvdhDd+cCGDRs2bNi22Nw1CvvuuDj0dRt1a892I/KwXRm684BCoVBoY/XJL1/k2UauUYCaqQzdeUChUCg0Oy3EGgXYsGHDhg0btphdiDUKsGHDhg0bNmwx28jnKEDNVIbuPKBQKBSanWKNAjSxMnTnAYVCodDslDuisPzaR4zoyahQ9ghn3XnYrgzdeUChUCi0scoe4ey6BRlRYOjOw3ZFHaFQKLQYynCcgqxRYOjOw3ZFHaFQKLQYynBdjChAUUcoFAqFBpThOBhRgKKOUCgUCg0ow3UjRhT23XGx9h6NKu3ZtsOIPGxXhu48oFAoFNpY3XfHxZ5dIqrtQTiOk8qW3R+2U9OTMymfMJvlWZR4ttjsnyn52GoTFbP9qLbRHvNll5jhB3b29vFNO73XTcgHtl02+2dKPrCLbaM95ssuxBoFqBplqIw70XO39vOCQqFQKF8L8a0HqBpl6M4DCoVCodkp1ijA1nq9TY9ni83+mZKPrTZRMduPahvtMV+2N6LA/jF7xXV7auyg3yZ7W88Wo/Kx1fY3HhPygQ0bNmzYjbFXXLfHswuxRoGhOw/bFXWEQqHQYijDdQuyRoGhOw/b1YY6LnjsoBF5QKFQqM3KcByHSsHeg58on8h2OrEhRxtQXUfXdXFtFIA6qgF1VAPqmA/YNSwFew9+onwi2+nEhhxtQHUdHcfBtVEA6qgG1FENqGM+8EYZ5i84z/X3/Bwn3arI/UvOpKXPHhHeH7Y99v4lZ9KyAy8pjV+pVKi/v9+I87PZLpfLNDAwYEw+ttpoj2iPsOvtkv+mEGVgYEA6BrADFe3Fj+M4aD8KQB3VgDqqAXXMF5FrFJKiIgawA9XX2nUxl6kC1FENqKMaUMd8EblGISkqYgA7UH2tHQdzmSpAHdWAOqoBdcwXeDIjbK3XW3W8otrsnyn52GoToT2iPcIO2vj1SNiwc2Czf6bkA7vYNtpjvmzuGoUV1+2hJ798UagvCC+GKWzr2UJbe7brTiMXqL7W7JMHkAN1VAPqqAbU0X78fQA8RwGkQnUd/Z88gDiooxpQRzWgjvmAXUM8mRGkAiMKZoI6qgF1VAPqmA/YNcSIAkgFRhTMBHVUA+qoBtQxH2BEAQiBEQUzQR3VgDqqAXXMB7EjCvvuuDg3Iwo923YYn6MtYETBTFBHNaCOakAd7cffB8CTGUEqMKJgJqijGlBHNaCO+QJPZgSpwIiCmaCOakAd1YA65guMKIBUYETBTFBHNaCOakAd80XJcRzvUZuMtDYRSe0P2x5bRXsJxvOr7vOz2WavmZKPjTbaI9oj7HrbG1Fg6nfChh20VbcXtD91tv81E/Kx0UZ7VGejPebHLs3+27/0jOObdnr/X37tI7TvjospCf7eh4n0bL2Zerbt0J1GLlB9rf2fPIA4qKMaUEc1oI724+8DlPyOuF4Fj6Tb6cSGHG1AdR2DnzyAGKijGlBHNaCO+YBdw5qOgn9OKWhHzWH4t02yfda26fnZZDsO1iiYamNOWN5Ge0R7hF3/fp94RCHKB7s4dlBNi1dkG/ervI32qM5Ge7TfZho6osCzeSTdTic25GgDquvo/+QBxEEd1YA6qgF1zAfsGnJHFNjvUCch2Bsxja0923WnkBtUX+vgJw8gBuqoBtRRDaij/fj7AE1BJ2+uLmoOT2Q/KBQKhUKh5mtdR4E3V5d0Dg8KhUKhUGh+lPutB/b/JLZ/X5H9YdtjOw6+9WCqLXr/wkZ7RHuEHWVz1yj4/w8bNrODalq8Itu4f+VttEd1NtpjfmysUYBCoVAoFMpV7hqF5dc+UmMn7XGbqNt6thiRh+161qMHjMgDCoVCoY3VFdft8Ww8mRG2VjuouvOx2U56v8JGe0R7hJ3Edhw8mRG2AXZQdedjs437Vd5Ge1Rnoz3abzOt6ShUKhWvBxG0eZp0O51KRNTV1aU9D2i9VioVIiLtediuqCPqaJKijvar/+9mTUehv7+fomweSbfTSV9fn+4UAAcb2o8NoI5qQB3VgDraD/u7yf3WA/sdambzNLifibq1Z7sReUChUCgUaoM++eWLPBtPZoRCoVAoFMpVPEcBCoVCoVAoV5vnXPPRHppi+IePUlq+2jtMY2NjqfcDgIiopaUF7UcBqKMaUEc1oI75QnpEAQqFQqFQaH5VekQBPUcgA9qPGlBHNaCOakAd8wV3RGHFdXtq7KDfJntbzxaj8oENGzZs2LBNtldct8ezud96gA0bNmzYsGHD5o4oBG0oFAqFQqHF08QjClAoFAqFQouniUcUYMOGDRs2bNjFs50F37jHZS++9cW/obRUKhU80xsIg/ajBtRRDaijGlDHfIHnKEChUCgUCuUqnqMAtIL2owbUUQ2ooxpQx3xRN6IAAAAAAMBARwEAAAAAXISfowA//PDDDz/88Offz32O4LKG3gAAAGhJREFUAnuEM+97lcHtTfZv69lidH7www8//PDDb5J/xXV7PBtTDwAAAADggo4CAAAAALhgjQL88MMPP/zww8/1C//WA/zwww8//PDDn38/d+rhyS9fxHNZx9ae7bpTAAAAAKzB3wf4/9zTNk/8tPmyAAAAAElFTkSuQmCC)"
      ],
      "metadata": {
        "id": "wHoCeqbyujoA"
      }
    },
    {
      "cell_type": "code",
      "source": [
        "data1=data[data['Date'] == '2021-11-01'].reset_index().drop('index',axis=1) # checking for 1 case \n",
        "refernce_candle = 2\n",
        "buy = data1['high'][refernce_candle] + 5 # add buffer\n",
        "print('Buy_level:',buy)\n",
        "sell = data1['low'][refernce_candle] - 5 # subtract buffer\n",
        "print('Sell_level:',sell)\n",
        "max_loss=abs(buy-sell)\n",
        "print('Max Loss:',max_loss)\n",
        "# setting parameters\n",
        "lots=1 # keeping 1 lot for now\n",
        "lot_size=50\n",
        "limit=3000 # 1 day loss limit\n",
        "taxes=300 # per lot approx transaction charges\n",
        "print('Loss expected:',lot_size*max_loss)"
      ],
      "metadata": {
        "colab": {
          "base_uri": "https://localhost:8080/"
        },
        "id": "pHf7hmt3qo3V",
        "outputId": "c052d006-a05e-4719-b410-70bd476f34ce"
      },
      "execution_count": null,
      "outputs": [
        {
          "output_type": "stream",
          "name": "stdout",
          "text": [
            "Buy_level: 17816.85\n",
            "Sell_level: 17750.45\n",
            "Max Loss: 66.39999999999782\n",
            "Loss expected: 3319.999999999891\n"
          ]
        }
      ]
    },
    {
      "cell_type": "code",
      "source": [
        "value=[]\n",
        "cond=0\n",
        "# if high of next candle will be greater than our buy level, we will buy. Target 2.45 candle close.\n",
        "# if low of next candle will be lesser than our sell level, we will sell. Target 2.45 candle close.\n",
        "for i in range(refernce_candle+1,len(data1)-1): # loop starts from next candle (indexing)\n",
        "  if data1['high'][i] > buy and cond != 1: \n",
        "    value.append(['buy',buy,sell])\n",
        "    cond = 1 # will make it 1 if already in buy positon, so that no next buying happens.\n",
        "  elif data1['low'][i] < sell and cond != 2:\n",
        "    value.append(['sell',sell,buy])\n",
        "    cond = 2 # will make it 2 if already in sell positon, so that no next selling happens.\n",
        "  if i==22:\n",
        "    value.append(['target',data1['close'][i],i])"
      ],
      "metadata": {
        "id": "o2XLsrIauEXr"
      },
      "execution_count": null,
      "outputs": []
    },
    {
      "cell_type": "markdown",
      "source": [
        "\n",
        "\n",
        "> Indented block![image.png](data:image/png;base64,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)\n",
        "\n",
        "\n",
        "\n",
        "\n"
      ],
      "metadata": {
        "id": "M3fsrBrfwIBN"
      }
    },
    {
      "cell_type": "code",
      "source": [
        "value # b1 tells we bought 1st. Then S1 tell we sold 2nd. B2 tell we bought again. "
      ],
      "metadata": {
        "colab": {
          "base_uri": "https://localhost:8080/"
        },
        "id": "HjnWicq-u2Qo",
        "outputId": "b4c083b7-e6ed-4e93-fcd9-e1e8eb60a134"
      },
      "execution_count": null,
      "outputs": [
        {
          "output_type": "execute_result",
          "data": {
            "text/plain": [
              "[['buy', 17816.85, 17750.45],\n",
              " ['sell', 17750.45, 17816.85],\n",
              " ['buy', 17816.85, 17750.45],\n",
              " ['target', 17923.05, 22]]"
            ]
          },
          "metadata": {},
          "execution_count": 9
        }
      ]
    },
    {
      "cell_type": "code",
      "source": [
        "# we need to trade only once. And the opposite level becomes SL."
      ],
      "metadata": {
        "id": "_veLqgP5wdaE"
      },
      "execution_count": null,
      "outputs": []
    },
    {
      "cell_type": "code",
      "source": [
        "if value[0][0] == 'sell':\n",
        "  points = value[0][1] - value[1][1]\n",
        "  total=(points*lots*lot_size) - (taxes*lots)\n",
        "elif value[0][0] == 'buy':\n",
        "  points = value[1][1] - value[0][1]\n",
        "  total=(points*lots*lot_size) - (taxes*lots)"
      ],
      "metadata": {
        "id": "d7vzVOlQwdhT"
      },
      "execution_count": null,
      "outputs": []
    },
    {
      "cell_type": "code",
      "source": [
        "print('PNL:',total) # we made a loss of:"
      ],
      "metadata": {
        "colab": {
          "base_uri": "https://localhost:8080/"
        },
        "id": "Rvp89ZYFxTN4",
        "outputId": "4323cdc2-0d84-49fa-cfea-cc7cbb3040c8"
      },
      "execution_count": null,
      "outputs": [
        {
          "output_type": "stream",
          "name": "stdout",
          "text": [
            "PNL: -3619.999999999891\n"
          ]
        }
      ]
    },
    {
      "cell_type": "code",
      "source": [
        "(17750.45-17816.85)*50 - 300 # 300 is transaction charges\n",
        "# results matched"
      ],
      "metadata": {
        "colab": {
          "base_uri": "https://localhost:8080/"
        },
        "id": "drQCua4fx5uN",
        "outputId": "c42dafd2-5253-4cbe-f39d-33bc3bd421c0"
      },
      "execution_count": null,
      "outputs": [
        {
          "output_type": "execute_result",
          "data": {
            "text/plain": [
              "-3619.999999999891"
            ]
          },
          "metadata": {},
          "execution_count": 13
        }
      ]
    },
    {
      "cell_type": "markdown",
      "source": [
        "SIMILARLY CHECKING FOR CASE 02-11-2021"
      ],
      "metadata": {
        "id": "VxvpNIDcyHSy"
      }
    },
    {
      "cell_type": "markdown",
      "source": [
        "![image.png](data:image/png;base64,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)"
      ],
      "metadata": {
        "id": "_TJPCSOszp39"
      }
    },
    {
      "cell_type": "code",
      "source": [
        "data1=data[data['Date'] == '2021-11-02'].reset_index().drop('index',axis=1) # checking for 1 case \n",
        "refernce_candle = 2\n",
        "buy = data1['high'][refernce_candle] + 5 # add buffer\n",
        "print('Buy_level:',buy)\n",
        "sell = data1['low'][refernce_candle] - 5 # subtract buffer\n",
        "print('Sell_level:',sell)\n",
        "max_loss=abs(buy-sell)\n",
        "print('Max Loss:',max_loss)\n",
        "# setting parameters\n",
        "lots=1 # keeping 1 lot for now\n",
        "lot_size=50\n",
        "limit=3000 # 1 day loss limit\n",
        "taxes=300 # per lot approx transaction charges\n",
        "print('Loss expected:',lot_size*max_loss)\n",
        "\n",
        "value=[]\n",
        "cond=0\n",
        "# if high of next candle will be greater than our buy level, we will buy. Target 2.45 candle close.\n",
        "# if low of next candle will be lesser than our sell level, we will sell. Target 2.45 candle close.\n",
        "for i in range(refernce_candle+1,len(data1)-1): # loop starts from next candle (indexing)\n",
        "  if data1['high'][i] > buy and cond != 1: \n",
        "    value.append(['buy',buy,sell])\n",
        "    cond = 1 # will make it 1 if already in buy positon, so that no next buying happens.\n",
        "  elif data1['low'][i] < sell and cond != 2:\n",
        "    value.append(['sell',sell,buy])\n",
        "    cond = 2 # will make it 2 if already in sell positon, so that no next selling happens.\n",
        "  if i==22:\n",
        "    value.append(['target',data1['close'][i],i])\n",
        "\n",
        "if value[0][0] == 'sell':\n",
        "  points = value[0][1] - value[1][1]\n",
        "  total=(points*lots*lot_size) - (taxes*lots)\n",
        "elif value[0][0] == 'buy':\n",
        "  points = value[1][1] - value[0][1]\n",
        "  total=(points*lots*lot_size) - (taxes*lots)\n",
        "\n",
        "print('PNL:',total) # we made a loss of:"
      ],
      "metadata": {
        "colab": {
          "base_uri": "https://localhost:8080/"
        },
        "id": "XnGCzPdUztd1",
        "outputId": "eba997e0-f215-425e-d940-10571ff3bbe5"
      },
      "execution_count": null,
      "outputs": [
        {
          "output_type": "stream",
          "name": "stdout",
          "text": [
            "Buy_level: 17973.9\n",
            "Sell_level: 17928.45\n",
            "Max Loss: 45.45000000000073\n",
            "Loss expected: 2272.5000000000364\n",
            "PNL: 1257.5000000000728\n"
          ]
        }
      ]
    },
    {
      "cell_type": "code",
      "source": [
        "# 2.45 close was 17897.30\n",
        "(17928.45 - 17897.30)* 50 - 300"
      ],
      "metadata": {
        "colab": {
          "base_uri": "https://localhost:8080/"
        },
        "id": "S6BtVysB0MqE",
        "outputId": "b035b163-a092-4141-856c-202e1ff3bdcb"
      },
      "execution_count": null,
      "outputs": [
        {
          "output_type": "execute_result",
          "data": {
            "text/plain": [
              "1257.5000000000728"
            ]
          },
          "metadata": {},
          "execution_count": 15
        }
      ]
    },
    {
      "cell_type": "code",
      "source": [
        "# Results matched"
      ],
      "metadata": {
        "id": "BHrpYZ1B0n5i"
      },
      "execution_count": null,
      "outputs": []
    },
    {
      "cell_type": "markdown",
      "source": [
        "**lets check for 9 months**"
      ],
      "metadata": {
        "id": "D1d8eBXi6tAW"
      }
    },
    {
      "cell_type": "code",
      "source": [
        "# setting parameters\n",
        "lots=1 # keeping 1 lot for now\n",
        "lot_size=50\n",
        "limit=3000 # 1 day loss limit\n",
        "taxes=300 # per lot approx transaction charges\n",
        "\n",
        "dict1 = {'Date':[],'Points':[]}\n",
        "df1 = pd.DataFrame(dict1)\n",
        "for day in tq.tqdm(all_dates_list):\n",
        "  if day==\"2021-11-04\": # removing diwali day\n",
        "    continue\n",
        "  data1=data[data['Date'] == day ].reset_index().drop('index',axis=1) # checking for 1 case \n",
        "  refernce_candle = 2\n",
        "  \n",
        "  buy = data1['high'][refernce_candle] + 5 # add buffer\n",
        "  sell = data1['low'][refernce_candle] - 5 # subtract buffer\n",
        "  max_loss=abs(buy-sell)\n",
        "  value=[]\n",
        "  cond=0\n",
        "  if (max_loss*lot_size) > limit: # do not trade condition\n",
        "    continue\n",
        "  # if high of next candle will be greater than our buy level, we will buy. Target 2.45 candle close.\n",
        "  # if low of next candle will be lesser than our sell level, we will sell. Target 2.45 candle close.\n",
        "  for i in range(refernce_candle+1,len(data1)-1): # loop starts from next candle (indexing)\n",
        "    if data1['high'][i] > buy and cond != 1: \n",
        "      value.append(['buy',buy,sell])\n",
        "      cond = 1 # will make it 1 if already in buy positon, so that no next buying happens.\n",
        "    elif data1['low'][i] < sell and cond != 2:\n",
        "      value.append(['sell',sell,buy])\n",
        "      cond = 2 # will make it 2 if already in sell positon, so that no next selling happens.\n",
        "    if i==22:\n",
        "      value.append(['target',data1['close'][i],i])\n",
        "  if value[0][0] == 'sell':\n",
        "    points = value[0][1] - value[1][1]\n",
        "    total=(points*lots*lot_size) - (taxes*lots)\n",
        "  elif value[0][0] == 'buy':\n",
        "    points = value[1][1] - value[0][1]\n",
        "    total=(points*lots*lot_size) - (taxes*lots)\n",
        "  df1=df1.append({'Date': day, 'Points': total},ignore_index=True)"
      ],
      "metadata": {
        "colab": {
          "base_uri": "https://localhost:8080/",
          "height": 49,
          "referenced_widgets": [
            "6e63b3098b094a61bbca1e3c616baa40",
            "04616d568c6d4aa5a46e1cbffb5345af",
            "e209839164f042c59b8df5b0ff86eaec",
            "6980edf61f624250b3bb16e11e193d1c",
            "473227fa7184491180e413bad8a8dd2b",
            "4b489269f3054ed0b6548e6e45ce77eb",
            "fd86fdb7e4f24d58949a9c1961b08d20",
            "b37cd6447f75451aacb4db73f3f49cdc",
            "50f4c55eb42f4a3fa15eb3cc917f64a7",
            "3a9031725f344f158c993d4ccd1399b5",
            "c467d14e9c8b40a8ae33cd22f47f56af"
          ]
        },
        "id": "OOlqaXJy0vS4",
        "outputId": "5d363c92-4804-466a-bf6d-88aa5e161a3f"
      },
      "execution_count": null,
      "outputs": [
        {
          "output_type": "display_data",
          "data": {
            "application/vnd.jupyter.widget-view+json": {
              "model_id": "6e63b3098b094a61bbca1e3c616baa40",
              "version_minor": 0,
              "version_major": 2
            },
            "text/plain": [
              "  0%|          | 0/184 [00:00<?, ?it/s]"
            ]
          },
          "metadata": {}
        }
      ]
    },
    {
      "cell_type": "code",
      "source": [
        "df1[df1['Date'].str.contains(\"2021-11\")].head(2) # over 2 previous cross check cases are still matching."
      ],
      "metadata": {
        "colab": {
          "base_uri": "https://localhost:8080/",
          "height": 112
        },
        "id": "vDDSTlEG1lyA",
        "outputId": "d8855199-712a-400a-85e9-328e475c18fc"
      },
      "execution_count": null,
      "outputs": [
        {
          "output_type": "execute_result",
          "data": {
            "text/html": [
              "\n",
              "  <div id=\"df-12da9825-fb68-4b0a-b698-d35eeb3ae59e\">\n",
              "    <div class=\"colab-df-container\">\n",
              "      <div>\n",
              "<style scoped>\n",
              "    .dataframe tbody tr th:only-of-type {\n",
              "        vertical-align: middle;\n",
              "    }\n",
              "\n",
              "    .dataframe tbody tr th {\n",
              "        vertical-align: top;\n",
              "    }\n",
              "\n",
              "    .dataframe thead th {\n",
              "        text-align: right;\n",
              "    }\n",
              "</style>\n",
              "<table border=\"1\" class=\"dataframe\">\n",
              "  <thead>\n",
              "    <tr style=\"text-align: right;\">\n",
              "      <th></th>\n",
              "      <th>Date</th>\n",
              "      <th>Points</th>\n",
              "    </tr>\n",
              "  </thead>\n",
              "  <tbody>\n",
              "    <tr>\n",
              "      <th>136</th>\n",
              "      <td>2021-11-02</td>\n",
              "      <td>1257.5</td>\n",
              "    </tr>\n",
              "    <tr>\n",
              "      <th>137</th>\n",
              "      <td>2021-11-03</td>\n",
              "      <td>7292.5</td>\n",
              "    </tr>\n",
              "  </tbody>\n",
              "</table>\n",
              "</div>\n",
              "      <button class=\"colab-df-convert\" onclick=\"convertToInteractive('df-12da9825-fb68-4b0a-b698-d35eeb3ae59e')\"\n",
              "              title=\"Convert this dataframe to an interactive table.\"\n",
              "              style=\"display:none;\">\n",
              "        \n",
              "  <svg xmlns=\"http://www.w3.org/2000/svg\" height=\"24px\"viewBox=\"0 0 24 24\"\n",
              "       width=\"24px\">\n",
              "    <path d=\"M0 0h24v24H0V0z\" fill=\"none\"/>\n",
              "    <path d=\"M18.56 5.44l.94 2.06.94-2.06 2.06-.94-2.06-.94-.94-2.06-.94 2.06-2.06.94zm-11 1L8.5 8.5l.94-2.06 2.06-.94-2.06-.94L8.5 2.5l-.94 2.06-2.06.94zm10 10l.94 2.06.94-2.06 2.06-.94-2.06-.94-.94-2.06-.94 2.06-2.06.94z\"/><path d=\"M17.41 7.96l-1.37-1.37c-.4-.4-.92-.59-1.43-.59-.52 0-1.04.2-1.43.59L10.3 9.45l-7.72 7.72c-.78.78-.78 2.05 0 2.83L4 21.41c.39.39.9.59 1.41.59.51 0 1.02-.2 1.41-.59l7.78-7.78 2.81-2.81c.8-.78.8-2.07 0-2.86zM5.41 20L4 18.59l7.72-7.72 1.47 1.35L5.41 20z\"/>\n",
              "  </svg>\n",
              "      </button>\n",
              "      \n",
              "  <style>\n",
              "    .colab-df-container {\n",
              "      display:flex;\n",
              "      flex-wrap:wrap;\n",
              "      gap: 12px;\n",
              "    }\n",
              "\n",
              "    .colab-df-convert {\n",
              "      background-color: #E8F0FE;\n",
              "      border: none;\n",
              "      border-radius: 50%;\n",
              "      cursor: pointer;\n",
              "      display: none;\n",
              "      fill: #1967D2;\n",
              "      height: 32px;\n",
              "      padding: 0 0 0 0;\n",
              "      width: 32px;\n",
              "    }\n",
              "\n",
              "    .colab-df-convert:hover {\n",
              "      background-color: #E2EBFA;\n",
              "      box-shadow: 0px 1px 2px rgba(60, 64, 67, 0.3), 0px 1px 3px 1px rgba(60, 64, 67, 0.15);\n",
              "      fill: #174EA6;\n",
              "    }\n",
              "\n",
              "    [theme=dark] .colab-df-convert {\n",
              "      background-color: #3B4455;\n",
              "      fill: #D2E3FC;\n",
              "    }\n",
              "\n",
              "    [theme=dark] .colab-df-convert:hover {\n",
              "      background-color: #434B5C;\n",
              "      box-shadow: 0px 1px 3px 1px rgba(0, 0, 0, 0.15);\n",
              "      filter: drop-shadow(0px 1px 2px rgba(0, 0, 0, 0.3));\n",
              "      fill: #FFFFFF;\n",
              "    }\n",
              "  </style>\n",
              "\n",
              "      <script>\n",
              "        const buttonEl =\n",
              "          document.querySelector('#df-12da9825-fb68-4b0a-b698-d35eeb3ae59e button.colab-df-convert');\n",
              "        buttonEl.style.display =\n",
              "          google.colab.kernel.accessAllowed ? 'block' : 'none';\n",
              "\n",
              "        async function convertToInteractive(key) {\n",
              "          const element = document.querySelector('#df-12da9825-fb68-4b0a-b698-d35eeb3ae59e');\n",
              "          const dataTable =\n",
              "            await google.colab.kernel.invokeFunction('convertToInteractive',\n",
              "                                                     [key], {});\n",
              "          if (!dataTable) return;\n",
              "\n",
              "          const docLinkHtml = 'Like what you see? Visit the ' +\n",
              "            '<a target=\"_blank\" href=https://colab.research.google.com/notebooks/data_table.ipynb>data table notebook</a>'\n",
              "            + ' to learn more about interactive tables.';\n",
              "          element.innerHTML = '';\n",
              "          dataTable['output_type'] = 'display_data';\n",
              "          await google.colab.output.renderOutput(dataTable, element);\n",
              "          const docLink = document.createElement('div');\n",
              "          docLink.innerHTML = docLinkHtml;\n",
              "          element.appendChild(docLink);\n",
              "        }\n",
              "      </script>\n",
              "    </div>\n",
              "  </div>\n",
              "  "
            ],
            "text/plain": [
              "           Date  Points\n",
              "136  2021-11-02  1257.5\n",
              "137  2021-11-03  7292.5"
            ]
          },
          "metadata": {},
          "execution_count": 18
        }
      ]
    },
    {
      "cell_type": "code",
      "source": [
        "# Metrics Calculations\n",
        "win = 0\n",
        "loss = 0\n",
        "for i in df1['Points']:\n",
        "  if i>0:\n",
        "    win = win + 1\n",
        "  elif i<0:\n",
        "    loss = loss + 1\n",
        "\n",
        "dfwins=df1.copy()\n",
        "dfwins['wins']=[1 if dfwins['Points'][i] > 0 else 0 for i in range(0,len(dfwins))]\n",
        "grouper_wins = (dfwins.wins != dfwins.wins.shift()).cumsum()\n",
        "dfwins=dfwins.groupby(grouper_wins).cumsum()\n",
        "\n",
        "\n",
        "dflosses=df1.copy()\n",
        "dflosses['Losses']=[1 if dflosses['Points'][i] < 0 else 0 for i in range(0,len(dflosses))]\n",
        "grouper_losses = (dflosses.Losses != dflosses.Losses.shift()).cumsum()\n",
        "dflosses=dflosses.groupby(grouper_losses).cumsum()"
      ],
      "metadata": {
        "id": "qWlf3sEt1_0O"
      },
      "execution_count": null,
      "outputs": []
    },
    {
      "cell_type": "code",
      "source": [
        "print(\"Total Trading Days: \",len(df1))\n",
        "print(\"Total Winning Days: \",win)\n",
        "print(\"Total Lossing Days: \",loss)\n",
        "print(\"Max Loss for the day: \",round(min(df1['Points'])))\n",
        "print(\"Max profit for the day till now: \",round(max(df1['Points'])))\n",
        "print(\"Winning Days Streak: \",max(dfwins['wins']))\n",
        "print(\"Lossing Days Streak: \",max(dflosses['Losses']))\n",
        "print('Earned till now: ',round(sum(df1['Points'])))"
      ],
      "metadata": {
        "colab": {
          "base_uri": "https://localhost:8080/"
        },
        "id": "Er_v04Hp2kww",
        "outputId": "80ff8da6-e31f-41af-afe1-3d86dcf2fe2c"
      },
      "execution_count": null,
      "outputs": [
        {
          "output_type": "stream",
          "name": "stdout",
          "text": [
            "Total Trading Days:  147\n",
            "Total Winning Days:  57\n",
            "Total Lossing Days:  90\n",
            "Max Loss for the day:  -3255\n",
            "Max profit for the day till now:  13970\n",
            "Winning Days Streak:  5\n",
            "Lossing Days Streak:  7\n",
            "Earned till now:  17672\n"
          ]
        }
      ]
    },
    {
      "cell_type": "code",
      "source": [
        "final=df1.copy()\n",
        "final['Date']= pd.to_datetime(final['Date'],format='%Y-%m-%d')\n",
        "final = final.groupby(['Date']).sum() # combine same days trade\n",
        "monthly=final.resample('1M').sum()\n",
        "monthly['Percentage']=round(monthly['Points']/130000,3)\n",
        "mrh.plot( monthly['Percentage'],figsize = (20, 3))\n",
        "print('ROI Per Month')\n",
        "plt.show()"
      ],
      "metadata": {
        "colab": {
          "base_uri": "https://localhost:8080/",
          "height": 264
        },
        "id": "nuZo6H1W2-a4",
        "outputId": "b6f62334-93ce-4fe7-b90e-d18dd51d4f9c"
      },
      "execution_count": null,
      "outputs": [
        {
          "output_type": "stream",
          "name": "stdout",
          "text": [
            "ROI Per Month\n"
          ]
        },
        {
          "output_type": "display_data",
          "data": {
            "image/png": "[encoded data removed]",
            "text/plain": [
              "<Figure size 1440x216 with 2 Axes>"
            ]
          },
          "metadata": {
            "needs_background": "light"
          }
        }
      ]
    },
    {
      "cell_type": "code",
      "source": [
        "round((sum(df1[df1['Date'].str.contains(\"2021-05\")]['Points'])/130000)*100,1) # cross checker (may month)"
      ],
      "metadata": {
        "colab": {
          "base_uri": "https://localhost:8080/"
        },
        "id": "JijBUDO_3crk",
        "outputId": "2b8dcbde-681e-4d3f-92f1-dff257e360c6"
      },
      "execution_count": null,
      "outputs": [
        {
          "output_type": "execute_result",
          "data": {
            "text/plain": [
              "-5.5"
            ]
          },
          "metadata": {},
          "execution_count": 22
        }
      ]
    },
    {
      "cell_type": "code",
      "source": [
        "round((sum(df1[df1['Date'].str.contains(\"2021-11\")]['Points'])/130000)*100,1) # cross checker (nov month)"
      ],
      "metadata": {
        "colab": {
          "base_uri": "https://localhost:8080/"
        },
        "id": "iigrYbsZ33yE",
        "outputId": "20074393-588e-4642-a707-9ec7959fb245"
      },
      "execution_count": null,
      "outputs": [
        {
          "output_type": "execute_result",
          "data": {
            "text/plain": [
              "4.0"
            ]
          },
          "metadata": {},
          "execution_count": 23
        }
      ]
    },
    {
      "cell_type": "code",
      "source": [
        "print('Average ROI Per month: ',round(sum(round(((monthly['Points']))/130000,2))/len(monthly),2)*100,' %')\n"
      ],
      "metadata": {
        "colab": {
          "base_uri": "https://localhost:8080/"
        },
        "id": "1qJF-Fv44P0R",
        "outputId": "18ba690c-36a8-4323-e186-b6ab5f80529b"
      },
      "execution_count": null,
      "outputs": [
        {
          "output_type": "stream",
          "name": "stdout",
          "text": [
            "Average ROI Per month:  1.0  %\n"
          ]
        }
      ]
    },
    {
      "cell_type": "code",
      "source": [
        "round((sum(df1['Points'])/130000/9),2)*100 # cross check again, total sum divided by capital divide by no of months X 100"
      ],
      "metadata": {
        "colab": {
          "base_uri": "https://localhost:8080/"
        },
        "id": "V5Fda_LY4blC",
        "outputId": "01635bdf-82c4-4324-c47a-cd7518af9015"
      },
      "execution_count": null,
      "outputs": [
        {
          "output_type": "execute_result",
          "data": {
            "text/plain": [
              "2.0"
            ]
          },
          "metadata": {},
          "execution_count": 25
        }
      ]
    },
    {
      "cell_type": "code",
      "source": [
        "# LETS INCREASE NO. OF LOTS NOW"
      ],
      "metadata": {
        "id": "Athm9wQa5AXF"
      },
      "execution_count": null,
      "outputs": []
    },
    {
      "cell_type": "code",
      "source": [
        "# setting parameters\n",
        "lot_size=50\n",
        "limit=7500 # 1 day loss limit\n",
        "taxes=300 # per lot approx transaction charges\n",
        "\n",
        "dict1 = {'Date':[],'Points':[],'Lots':[]}\n",
        "df1 = pd.DataFrame(dict1)\n",
        "for day in tq.tqdm(all_dates_list):\n",
        "  if day==\"2021-11-04\": # removing diwali day\n",
        "    continue\n",
        "  data1=data[data['Date'] == day ].reset_index().drop('index',axis=1) # checking for 1 case \n",
        "  refernce_candle = 2\n",
        "  buy = data1['high'][refernce_candle] + 5 # add buffer\n",
        "  sell = data1['low'][refernce_candle] - 5 # subtract buffer\n",
        "  max_loss=abs(buy-sell)\n",
        "  if (max_loss*lot_size) > limit: # do not trade condition\n",
        "    continue\n",
        "  lots=round(limit/(max_loss*lot_size)) # taking \n",
        "  if lots > 3:\n",
        "    lots = 3\n",
        "  value=[]\n",
        "  cond=0\n",
        "  # if high of next candle will be greater than our buy level, we will buy. Target 2.45 candle close.\n",
        "  # if low of next candle will be lesser than our sell level, we will sell. Target 2.45 candle close.\n",
        "  for i in range(refernce_candle+1,len(data1)-1): # loop starts from next candle (indexing)\n",
        "    if data1['high'][i] > buy and cond != 1: \n",
        "      value.append(['buy',buy,sell]) \n",
        "      cond = 1 # will make it 1 if already in buy positon, so that no next buying happens.\n",
        "    elif data1['low'][i] < sell and cond != 2:\n",
        "      value.append(['sell',sell,buy])\n",
        "      cond = 2 # will make it 2 if already in sell positon, so that no next selling happens.\n",
        "    if i==22:\n",
        "      value.append(['target',data1['close'][i],i])\n",
        "  if value[0][0] == 'sell':\n",
        "    points = value[0][1] - value[1][1]\n",
        "    total=(points*lots*lot_size) - (taxes*lots)\n",
        "  elif value[0][0] == 'buy':\n",
        "    points = value[1][1] - value[0][1]\n",
        "    total=(points*lots*lot_size) - (taxes*lots)\n",
        "  df1=df1.append({'Date': day, 'Points': total,'Lots': lots},ignore_index=True)"
      ],
      "metadata": {
        "colab": {
          "base_uri": "https://localhost:8080/",
          "height": 49,
          "referenced_widgets": [
            "8ef67f95e958446c96987e937aceb563",
            "681e4cc5059849e1bc4d95397bbc12b5",
            "a63cb0c2686848eda3c4d280c0e120a3",
            "257a3016179d437f8ee42b9d3045a4f9",
            "b2cb093d5536438b977c5450def388a1",
            "968748cd31ad4dc6a89a567e5bfdc6e6",
            "045b49b17d5843d0852bc3f7403c6791",
            "0673c2491a3d43239bb274352b3e920d",
            "493fe94a67c14747b12f7df684829f56",
            "594c0d9a9ab34f1f97c540722aee14b6",
            "b24e22f22ee940a3b62ca7b8ddafc03b"
          ]
        },
        "id": "x9pL7rWA7Dxm",
        "outputId": "086937b2-c7d8-4e8f-fd3f-d5286038c57a"
      },
      "execution_count": null,
      "outputs": [
        {
          "output_type": "display_data",
          "data": {
            "application/vnd.jupyter.widget-view+json": {
              "model_id": "8ef67f95e958446c96987e937aceb563",
              "version_minor": 0,
              "version_major": 2
            },
            "text/plain": [
              "  0%|          | 0/184 [00:00<?, ?it/s]"
            ]
          },
          "metadata": {}
        }
      ]
    },
    {
      "cell_type": "code",
      "source": [
        "set(df1['Lots']) # considering max to be 3"
      ],
      "metadata": {
        "colab": {
          "base_uri": "https://localhost:8080/"
        },
        "id": "Fd_Bgj3t8Juy",
        "outputId": "67cfc70b-4790-4dee-f5eb-8044d5babfc4"
      },
      "execution_count": null,
      "outputs": [
        {
          "output_type": "execute_result",
          "data": {
            "text/plain": [
              "{1.0, 2.0, 3.0}"
            ]
          },
          "metadata": {},
          "execution_count": 28
        }
      ]
    },
    {
      "cell_type": "code",
      "source": [
        "final=df1.copy()\n",
        "final['Date']= pd.to_datetime(final['Date'],format='%Y-%m-%d')\n",
        "final = final.groupby(['Date']).sum() # combine same days trade\n",
        "monthly=final.resample('1M').sum()\n",
        "monthly['Percentage']=round(monthly['Points']/390000,3)\n",
        "mrh.plot( monthly['Percentage'],figsize = (20, 3))\n",
        "print('ROI Per Month')\n",
        "plt.show()"
      ],
      "metadata": {
        "colab": {
          "base_uri": "https://localhost:8080/",
          "height": 264
        },
        "id": "I95Ik_aE8Tc4",
        "outputId": "e7c0c43e-ed07-41b0-9046-9185ab826c63"
      },
      "execution_count": null,
      "outputs": [
        {
          "output_type": "stream",
          "name": "stdout",
          "text": [
            "ROI Per Month\n"
          ]
        },
        {
          "output_type": "display_data",
          "data": {
            "image/png": "[encoded data removed]",
            "text/plain": [
              "<Figure size 1440x216 with 2 Axes>"
            ]
          },
          "metadata": {
            "needs_background": "light"
          }
        }
      ]
    },
    {
      "cell_type": "code",
      "source": [
        "print('Average ROI Per month: ',round(sum(round(((monthly['Points']))/390000,2))/len(monthly),2)*100,' %')\n"
      ],
      "metadata": {
        "colab": {
          "base_uri": "https://localhost:8080/"
        },
        "id": "b8M873Ik9FBv",
        "outputId": "8ede5776-37d3-4f41-bfcf-ab23c54861c1"
      },
      "execution_count": null,
      "outputs": [
        {
          "output_type": "stream",
          "name": "stdout",
          "text": [
            "Average ROI Per month:  1.0  %\n"
          ]
        }
      ]
    },
    {
      "cell_type": "markdown",
      "source": [
        "# LONG TERM STORY TIME"
      ],
      "metadata": {
        "id": "13ChGBAz9Nb4"
      }
    },
    {
      "cell_type": "code",
      "source": [
        "# taking all trading dates from yahoo finance daily data, 03-11 month 2021\n",
        "all_dates = yf.download('^NSEI', \n",
        "                        start='2020-01-01', \n",
        "                        end='2021-11-01')\n",
        "all_dates=all_dates.reset_index()\n",
        "all_dates['Date']=all_dates['Date'].astype(str)\n",
        "all_dates_list=list(all_dates['Date'])"
      ],
      "metadata": {
        "colab": {
          "base_uri": "https://localhost:8080/"
        },
        "id": "1yEc5pO495MQ",
        "outputId": "d0eccfb9-efa4-4b82-c754-8df28c4a85ff"
      },
      "execution_count": null,
      "outputs": [
        {
          "output_type": "stream",
          "name": "stdout",
          "text": [
            "\r[*********************100%***********************]  1 of 1 completed\n"
          ]
        }
      ]
    },
    {
      "cell_type": "code",
      "source": [
        "# %cd '/content/gdrive/MyDrive/NIFTYDATA/'\n",
        "# data=pd.read_csv('/content/gdrive/MyDrive/NIFTYDATA/complete_banknifty.csv')\n",
        "# data=data.rename(columns={'Open':'open','High':'high','Low':'low','Close':'close'})"
      ],
      "metadata": {
        "id": "rOdxBrr5-Cnn"
      },
      "execution_count": null,
      "outputs": []
    },
    {
      "cell_type": "code",
      "source": [
        "# making sure we do not take any pre market or after market timings\n",
        "# data taken is from trading view\n",
        "data=pd.read_csv('/content/gdrive/MyDrive/NIFTYDATA/NSE_NIFTYBANK-INDEX.csv')\n",
        "data['date_time']=data['date_time'].astype(str)\n",
        "data['Date']=data['date_time'].str.split(' ',expand=True)[0] #seperate date\n",
        "data['Time']=data['date_time'].str.split(' ',expand=True)[1] # seperate time\n",
        "data=data[data['Time'].str.contains('09:15:00|09:30:00|09:45:00|10:00:00|10:15:00|10:30:00|10:45:00|11:00:00|11:15:00|11:30:00|11:45:00|12:00:00|12:15:00|12:30:00|12:45:00|13:00:00|13:15:00|13:30:00|13:45:00|14:00:00|14:15:00|14:30:00|14:45:00|15:00:00|15:15:00')]\n",
        "data=data.reset_index().drop('index',axis=1)"
      ],
      "metadata": {
        "id": "zxfSsj8AefxC"
      },
      "execution_count": null,
      "outputs": []
    },
    {
      "cell_type": "code",
      "source": [
        "# setting parameters\n",
        "lot_size=25\n",
        "limit=7500 # 1 day loss limit\n",
        "taxes=350 # per lot approx transaction charges\n",
        "\n",
        "dict1 = {'Date':[],'Points':[],'Lots':[]}\n",
        "df1 = pd.DataFrame(dict1)\n",
        "for day in tq.tqdm(all_dates_list):\n",
        "  try:\n",
        "    data1=data[data['Date'] == day ].reset_index().drop('index',axis=1) # checking for 1 case \n",
        "    refernce_candle = 3\n",
        "    buy = data1['high'][refernce_candle] + 5 # add buffer\n",
        "    sell = data1['low'][refernce_candle] - 5 # subtract buffer\n",
        "    max_loss=abs(buy-sell)\n",
        "    lots=round(limit/(max_loss*lot_size)) # taking \n",
        "    if lots > 3:\n",
        "      lots = 3\n",
        "    value=[]\n",
        "    cond=0\n",
        "    if max_loss*lot_size > limit: # avoid trading day\n",
        "      continue\n",
        "    # if high of next candle will be greater than our buy level, we will buy. Target 2.45 candle close.\n",
        "    # if low of next candle will be lesser than our sell level, we will sell. Target 2.45 candle close.\n",
        "    for i in range(refernce_candle+1,len(data1)-1): # loop starts from next candle (indexing)\n",
        "      if data1['high'][i] > buy and cond != 1: \n",
        "        value.append(['buy',buy,sell]) \n",
        "        cond = 1 # will make it 1 if already in buy positon, so that no next buying happens.\n",
        "      elif data1['low'][i] < sell and cond != 2:\n",
        "        value.append(['sell',sell,buy])\n",
        "        cond = 2 # will make it 2 if already in sell positon, so that no next selling happens.\n",
        "      if i==22:\n",
        "        value.append(['target',data1['close'][i],i])\n",
        "    if value[0][0] == 'sell':\n",
        "      points = value[0][1] - value[1][1]\n",
        "      total=(points*lots*lot_size) - (taxes*lots)\n",
        "    elif value[0][0] == 'buy':\n",
        "      points = value[1][1] - value[0][1]\n",
        "      total=(points*lots*lot_size) - (taxes*lots)\n",
        "    df1=df1.append({'Date': day, 'Points': total,'Lots': lots},ignore_index=True)\n",
        "  except:\n",
        "    continue"
      ],
      "metadata": {
        "colab": {
          "base_uri": "https://localhost:8080/",
          "height": 49,
          "referenced_widgets": [
            "d8276d5c5bb34b62bef89660ea47a00b",
            "781bdbf180e34e5d92180549df025a30",
            "5f7386a364c542a6a09d3036be7608cb",
            "bddaa2031c4e44628a5a9c410e0526c4",
            "719914a18b0a4a058bfb2d450d02ee04",
            "8fb23691c6e44f4e8e49173828769aa5",
            "aa0c2a8acd04415682fc4095322298fb",
            "0b4415e28fb9455ebf3341cf70afe398",
            "29f298f40af0490e81fe3c56157128ad",
            "f54d56fbe91243b19eeb7be06bf89f27",
            "afad8b9ea06049c28b322f09e109b3aa"
          ]
        },
        "id": "7BNrjHed-Gdb",
        "outputId": "7203920e-9e4d-47c8-ee59-2cbfabf8ab6b"
      },
      "execution_count": null,
      "outputs": [
        {
          "output_type": "display_data",
          "data": {
            "application/vnd.jupyter.widget-view+json": {
              "model_id": "d8276d5c5bb34b62bef89660ea47a00b",
              "version_minor": 0,
              "version_major": 2
            },
            "text/plain": [
              "  0%|          | 0/454 [00:00<?, ?it/s]"
            ]
          },
          "metadata": {}
        }
      ]
    },
    {
      "cell_type": "code",
      "source": [
        "print(\"Total Trading Days: \",len(df1))\n",
        "print(\"Days Traded\",win+loss)\n",
        "print(\"Total Winning Days: \",win)\n",
        "print(\"Total Lossing Days: \",loss)\n",
        "print(\"Max Loss for the day: \",round(min(df1['Points'])))\n",
        "print(\"Max profit for the day till now: \",round(max(df1['Points'])))\n",
        "print(\"Winning Days Streak: \",max(dfwins['wins']))\n",
        "print(\"Lossing Days Streak: \",max(dflosses['Losses']))\n",
        "print('Earned till now: ',round(sum(df1['Points'])))"
      ],
      "metadata": {
        "colab": {
          "base_uri": "https://localhost:8080/"
        },
        "id": "d9rx6piRCGTl",
        "outputId": "96a54086-1ec2-4fa2-f5e3-d95bf4e67ed6"
      },
      "execution_count": null,
      "outputs": [
        {
          "output_type": "stream",
          "name": "stdout",
          "text": [
            "Total Trading Days:  433\n",
            "Days Traded 147\n",
            "Total Winning Days:  57\n",
            "Total Lossing Days:  90\n",
            "Max Loss for the day:  -10530\n",
            "Max profit for the day till now:  92198\n",
            "Winning Days Streak:  5\n",
            "Lossing Days Streak:  7\n",
            "Earned till now:  679289\n"
          ]
        }
      ]
    },
    {
      "cell_type": "code",
      "source": [
        "final=df1.copy()\n",
        "final['Date']= pd.to_datetime(final['Date'],format='%Y-%m-%d')\n",
        "final = final.groupby(['Date']).sum() # combine same days trade\n",
        "monthly=final.resample('1M').sum()\n",
        "monthly['Percentage']=round(monthly['Points']/600000,3)\n",
        "mrh.plot( monthly['Percentage'],figsize = (20, 3))\n",
        "print('ROI Per Month')\n",
        "plt.show()\n",
        "print('Average ROI Per month: ',round(sum(round(((monthly['Points']))/600000,2))/len(monthly),2)*100,' %')\n",
        "\n",
        "\n",
        "# feb data missing 2022"
      ],
      "metadata": {
        "colab": {
          "base_uri": "https://localhost:8080/",
          "height": 281
        },
        "id": "WotQLNmw1dFB",
        "outputId": "7abc1953-ab68-428e-c1b8-8c1e974dda1f"
      },
      "execution_count": null,
      "outputs": [
        {
          "output_type": "stream",
          "name": "stdout",
          "text": [
            "ROI Per Month\n"
          ]
        },
        {
          "output_type": "display_data",
          "data": {
            "image/png": "[encoded data removed]",
            "text/plain": [
              "<Figure size 1440x216 with 2 Axes>"
            ]
          },
          "metadata": {
            "needs_background": "light"
          }
        },
        {
          "output_type": "stream",
          "name": "stdout",
          "text": [
            "Average ROI Per month:  5.0  %\n"
          ]
        }
      ]
    },
    {
      "cell_type": "code",
      "source": [
        "initial=600000\n",
        "Money=[]\n",
        "for i in range(0,len(df1)):\n",
        "  current=df1['Points'][i] + initial\n",
        "  initial=current\n",
        "  Money.append(initial)"
      ],
      "metadata": {
        "id": "p_1flbFuldk5"
      },
      "execution_count": null,
      "outputs": []
    },
    {
      "cell_type": "code",
      "source": [
        "df1['Money']=Money"
      ],
      "metadata": {
        "id": "4qU3ZRGQfhF0"
      },
      "execution_count": null,
      "outputs": []
    },
    {
      "cell_type": "code",
      "source": [
        "import plotly.express as px\n",
        "fig = px.line(df1, x=\"Date\", y=\"Money\",template='plotly_dark')\n",
        "fig.show()"
      ],
      "metadata": {
        "colab": {
          "base_uri": "https://localhost:8080/",
          "height": 542
        },
        "id": "BVrCrLFx1UrH",
        "outputId": "0e782001-6eda-4e72-85ae-72f886d423ef"
      },
      "execution_count": null,
      "outputs": [
        {
          "output_type": "display_data",
          "data": {
            "text/html": [
              "<html>\n",
              "<head><meta charset=\"utf-8\" /></head>\n",
              "<body>\n",
              "    <div>\n",
              "            <script src=\"https://cdnjs.cloudflare.com/ajax/libs/mathjax/2.7.5/MathJax.js?config=TeX-AMS-MML_SVG\"></script><script type=\"text/javascript\">if (window.MathJax) {MathJax.Hub.Config({SVG: {font: \"STIX-Web\"}});}</script>\n",
              "                <script type=\"text/javascript\">window.PlotlyConfig = {MathJaxConfig: 'local'};</script>\n",
              "        <script src=\"https://cdn.plot.ly/plotly-latest.min.js\"></script>    \n",
              "            <div id=\"f7375d76-85a9-4fe4-929e-3e77e7018574\" class=\"plotly-graph-div\" style=\"height:525px; width:100%;\"></div>\n",
              "            <script type=\"text/javascript\">\n",
              "                \n",
              "                    window.PLOTLYENV=window.PLOTLYENV || {};\n",
              "                    \n",
              "                if (document.getElementById(\"f7375d76-85a9-4fe4-929e-3e77e7018574\")) {\n",
              "                    Plotly.newPlot(\n",
              "                        'f7375d76-85a9-4fe4-929e-3e77e7018574',\n",
              "                        [{\"hoverlabel\": {\"namelength\": 0}, \"hovertemplate\": \"Date=%{x}<br>Money=%{y}\", \"legendgroup\": \"\", \"line\": {\"color\": \"#636efa\", \"dash\": \"solid\"}, \"mode\": \"lines\", \"name\": \"\", \"showlegend\": false, \"type\": \"scatter\", \"x\": [\"2020-01-01\", \"2020-01-02\", \"2020-01-03\", \"2020-01-06\", \"2020-01-07\", \"2020-01-08\", \"2020-01-09\", \"2020-01-10\", \"2020-01-13\", \"2020-01-14\", \"2020-01-15\", \"2020-01-16\", \"2020-01-17\", \"2020-01-20\", \"2020-01-21\", \"2020-01-22\", \"2020-01-23\", \"2020-01-24\", \"2020-01-27\", \"2020-01-28\", \"2020-01-29\", \"2020-01-30\", \"2020-01-31\", \"2020-02-03\", \"2020-02-04\", \"2020-02-05\", \"2020-02-06\", \"2020-02-07\", \"2020-02-10\", \"2020-02-11\", \"2020-02-12\", \"2020-02-13\", \"2020-02-14\", \"2020-02-17\", \"2020-02-18\", \"2020-02-19\", \"2020-02-20\", \"2020-02-24\", \"2020-02-25\", \"2020-02-26\", \"2020-02-27\", \"2020-02-28\", \"2020-03-02\", \"2020-03-03\", \"2020-03-04\", \"2020-03-05\", \"2020-03-06\", \"2020-03-09\", \"2020-03-11\", \"2020-03-12\", \"2020-03-16\", \"2020-03-18\", \"2020-03-30\", \"2020-03-31\", \"2020-04-01\", \"2020-04-03\", \"2020-04-07\", \"2020-04-09\", \"2020-04-13\", \"2020-04-15\", \"2020-04-16\", \"2020-04-17\", \"2020-04-20\", \"2020-04-21\", \"2020-04-22\", \"2020-04-23\", \"2020-04-24\", \"2020-04-27\", \"2020-04-28\", \"2020-04-29\", \"2020-04-30\", \"2020-05-04\", \"2020-05-05\", \"2020-05-06\", \"2020-05-07\", \"2020-05-08\", \"2020-05-11\", \"2020-05-12\", \"2020-05-13\", \"2020-05-14\", \"2020-05-15\", \"2020-05-18\", \"2020-05-19\", \"2020-05-20\", \"2020-05-21\", \"2020-05-26\", \"2020-05-27\", \"2020-05-28\", \"2020-05-29\", \"2020-06-01\", \"2020-06-02\", \"2020-06-03\", \"2020-06-04\", \"2020-06-05\", \"2020-06-08\", \"2020-06-10\", \"2020-06-11\", \"2020-06-12\", \"2020-06-15\", \"2020-06-16\", \"2020-06-17\", \"2020-06-18\", \"2020-06-19\", \"2020-06-22\", \"2020-06-23\", \"2020-06-24\", \"2020-06-25\", \"2020-06-26\", \"2020-06-29\", \"2020-06-30\", \"2020-07-01\", \"2020-07-02\", \"2020-07-03\", \"2020-07-06\", \"2020-07-07\", \"2020-07-08\", \"2020-07-09\", \"2020-07-10\", \"2020-07-13\", \"2020-07-14\", \"2020-07-15\", \"2020-07-16\", \"2020-07-17\", \"2020-07-20\", \"2020-07-21\", \"2020-07-22\", \"2020-07-23\", \"2020-07-24\", \"2020-07-27\", \"2020-07-28\", \"2020-07-29\", \"2020-07-30\", \"2020-07-31\", \"2020-08-03\", \"2020-08-04\", \"2020-08-05\", \"2020-08-06\", \"2020-08-07\", \"2020-08-10\", \"2020-08-11\", \"2020-08-12\", \"2020-08-13\", \"2020-08-14\", \"2020-08-17\", \"2020-08-18\", \"2020-08-19\", \"2020-08-20\", \"2020-08-21\", \"2020-08-24\", \"2020-08-25\", \"2020-08-26\", \"2020-08-27\", \"2020-08-28\", \"2020-08-31\", \"2020-09-01\", \"2020-09-02\", \"2020-09-03\", \"2020-09-04\", \"2020-09-07\", \"2020-09-08\", \"2020-09-09\", \"2020-09-10\", \"2020-09-11\", \"2020-09-14\", \"2020-09-15\", \"2020-09-16\", \"2020-09-17\", \"2020-09-18\", \"2020-09-21\", \"2020-09-22\", \"2020-09-23\", \"2020-09-24\", \"2020-09-25\", \"2020-09-28\", \"2020-09-29\", \"2020-09-30\", \"2020-10-01\", \"2020-10-05\", \"2020-10-06\", \"2020-10-07\", \"2020-10-08\", \"2020-10-09\", \"2020-10-12\", \"2020-10-13\", \"2020-10-14\", \"2020-10-15\", \"2020-10-16\", \"2020-10-19\", \"2020-10-20\", \"2020-10-21\", \"2020-10-22\", \"2020-10-23\", \"2020-10-26\", \"2020-10-27\", \"2020-10-28\", \"2020-10-29\", \"2020-10-30\", \"2020-11-02\", \"2020-11-03\", \"2020-11-04\", \"2020-11-05\", \"2020-11-06\", \"2020-11-09\", \"2020-11-10\", \"2020-11-11\", \"2020-11-12\", \"2020-11-13\", \"2020-11-17\", \"2020-11-18\", \"2020-11-19\", \"2020-11-20\", \"2020-11-23\", \"2020-11-24\", \"2020-11-25\", \"2020-11-26\", \"2020-11-27\", \"2020-12-01\", \"2020-12-02\", \"2020-12-03\", \"2020-12-04\", \"2020-12-07\", \"2020-12-08\", \"2020-12-09\", \"2020-12-10\", \"2020-12-11\", \"2020-12-14\", \"2020-12-15\", \"2020-12-16\", \"2020-12-17\", \"2020-12-18\", \"2020-12-21\", \"2020-12-22\", \"2020-12-23\", \"2020-12-24\", \"2020-12-28\", \"2020-12-29\", \"2020-12-30\", \"2020-12-31\", \"2021-01-04\", \"2021-01-05\", \"2021-01-06\", \"2021-01-07\", \"2021-01-08\", \"2021-01-11\", \"2021-01-12\", \"2021-01-13\", \"2021-01-14\", \"2021-01-15\", \"2021-01-18\", \"2021-01-19\", \"2021-01-20\", \"2021-01-21\", \"2021-01-22\", \"2021-01-27\", \"2021-01-28\", \"2021-01-29\", \"2021-02-01\", \"2021-02-02\", \"2021-02-03\", \"2021-02-04\", \"2021-02-08\", \"2021-02-09\", \"2021-02-10\", \"2021-02-11\", \"2021-02-12\", \"2021-02-15\", \"2021-02-16\", \"2021-02-17\", \"2021-02-18\", \"2021-02-22\", \"2021-02-23\", \"2021-02-25\", \"2021-02-26\", \"2021-03-01\", \"2021-03-02\", \"2021-03-03\", \"2021-03-04\", \"2021-03-05\", \"2021-03-08\", \"2021-03-09\", \"2021-03-10\", \"2021-03-12\", \"2021-03-15\", \"2021-03-16\", \"2021-03-17\", \"2021-03-18\", \"2021-03-19\", \"2021-03-22\", \"2021-03-23\", \"2021-03-24\", \"2021-03-25\", \"2021-03-26\", \"2021-03-30\", \"2021-03-31\", \"2021-04-01\", \"2021-04-05\", \"2021-04-06\", \"2021-04-07\", \"2021-04-08\", \"2021-04-12\", \"2021-04-13\", \"2021-04-15\", \"2021-04-16\", \"2021-04-19\", \"2021-04-20\", \"2021-04-22\", \"2021-04-23\", \"2021-04-26\", \"2021-04-27\", \"2021-04-28\", \"2021-04-30\", \"2021-05-03\", \"2021-05-04\", \"2021-05-06\", \"2021-05-07\", \"2021-05-10\", \"2021-05-11\", \"2021-05-12\", \"2021-05-14\", \"2021-05-17\", \"2021-05-18\", \"2021-05-19\", \"2021-05-20\", \"2021-05-21\", \"2021-05-24\", \"2021-05-25\", \"2021-05-26\", \"2021-05-27\", \"2021-05-28\", \"2021-05-31\", \"2021-06-01\", \"2021-06-02\", \"2021-06-03\", \"2021-06-04\", \"2021-06-07\", \"2021-06-08\", \"2021-06-09\", \"2021-06-10\", \"2021-06-11\", \"2021-06-14\", \"2021-06-15\", \"2021-06-16\", \"2021-06-17\", \"2021-06-18\", \"2021-06-21\", \"2021-06-22\", \"2021-06-23\", \"2021-06-24\", \"2021-06-25\", \"2021-06-28\", \"2021-06-29\", \"2021-06-30\", \"2021-07-01\", \"2021-07-02\", \"2021-07-05\", \"2021-07-06\", \"2021-07-07\", \"2021-07-08\", \"2021-07-09\", \"2021-07-12\", \"2021-07-13\", \"2021-07-14\", \"2021-07-15\", \"2021-07-16\", \"2021-07-19\", \"2021-07-20\", \"2021-07-22\", \"2021-07-23\", \"2021-07-26\", \"2021-07-27\", \"2021-07-28\", \"2021-07-29\", \"2021-07-30\", \"2021-08-02\", \"2021-08-03\", \"2021-08-04\", \"2021-08-05\", \"2021-08-06\", \"2021-08-09\", \"2021-08-10\", \"2021-08-11\", \"2021-08-12\", \"2021-08-13\", \"2021-08-16\", \"2021-08-17\", \"2021-08-18\", \"2021-08-20\", \"2021-08-23\", \"2021-08-24\", \"2021-08-25\", \"2021-08-26\", \"2021-08-27\", \"2021-08-30\", \"2021-08-31\", \"2021-09-01\", \"2021-09-02\", \"2021-09-03\", \"2021-09-06\", \"2021-09-07\", \"2021-09-08\", \"2021-09-09\", \"2021-09-13\", \"2021-09-14\", \"2021-09-15\", \"2021-09-16\", \"2021-09-17\", \"2021-09-20\", \"2021-09-21\", \"2021-09-22\", \"2021-09-23\", \"2021-09-24\", \"2021-09-27\", \"2021-09-28\", \"2021-09-29\", \"2021-09-30\", \"2021-10-01\", \"2021-10-04\", \"2021-10-05\", \"2021-10-06\", \"2021-10-07\", \"2021-10-08\", \"2021-10-11\", \"2021-10-12\", \"2021-10-13\", \"2021-10-14\", \"2021-10-18\", \"2021-10-20\", \"2021-10-21\", \"2021-10-22\", \"2021-10-25\", \"2021-10-26\", \"2021-10-27\", \"2021-10-28\"], \"xaxis\": \"x\", \"y\": [603296.25, 618693.75, 612937.5, 635100.0, 657566.25, 649530.0000000001, 667338.7500000001, 660356.25, 654397.5, 650370.0000000002, 642348.7500000002, 644317.5000000002, 638778.7500000003, 660960.0000000003, 665100.0000000003, 678967.5000000005, 675168.7500000003, 678506.2500000003, 668673.7500000005, 659636.2500000005, 654465.0000000005, 655211.2500000002, 648982.5000000002, 639920.0000000002, 661313.7500000002, 656472.5, 649279.9999999999, 642961.2499999999, 637542.4999999999, 648192.4999999999, 643051.2499999999, 637212.4999999998, 668401.2499999997, 658632.4999999997, 659626.2499999997, 652613.7499999997, 654222.4999999997, 649928.7499999997, 642981.2499999997, 637817.4999999995, 644242.4999999995, 636932.4999999997, 627969.9999999997, 619322.4999999997, 636792.4999999995, 651492.4999999995, 644794.9999999995, 635479.9999999998, 629858.7499999998, 688478.7499999999, 682068.7499999999, 676393.7499999999, 669936.2499999999, 662858.7499999999, 672331.2499999999, 663746.2499999999, 654056.2499999999, 646713.75, 636731.2500000001, 628198.75, 646678.7500000001, 640177.5, 630431.2500000002, 649766.2500000002, 693525.0000000002, 719621.2500000002, 710786.2500000002, 708641.2500000001, 719963.75, 713030.0, 705780.0, 696210.0000000001, 687802.5000000002, 689376.2500000002, 691056.2500000001, 684056.2500000001, 705318.7500000001, 697316.2500000001, 687712.5000000001, 680298.75, 672551.2499999998, 682533.7499999997, 673523.7499999997, 664836.2499999997, 658633.7499999997, 651429.9999999997, 720872.4999999998, 714073.7499999997, 725676.2499999997, 717317.4999999997, 707982.4999999997, 704067.4999999997, 726882.4999999997, 721487.4999999997, 714384.9999999997, 713752.4999999995, 751256.2499999995, 785988.7499999994, 787001.2499999994, 779246.2499999993, 773378.7499999994, 826508.7499999995, 816918.7499999995, 809122.4999999995, 832987.4999999995, 823627.4999999995, 814904.9999999993, 818737.4999999992, 826248.7499999993, 819329.9999999993, 813059.9999999992, 828746.2499999991, 820034.9999999992, 811856.249999999, 805784.999999999, 799754.9999999988, 793871.2499999991, 819944.999999999, 839373.749999999, 858367.499999999, 852509.9999999991, 843817.499999999, 837027.499999999, 839993.749999999, 848187.499999999, 839037.499999999, 852364.9999999987, 843342.4999999987, 833626.2499999987, 824653.7499999987, 817903.7499999987, 811157.4999999987, 801239.9999999986, 792104.9999999986, 798469.9999999986, 791851.2499999986, 785449.9999999985, 780181.2499999985, 773071.2499999985, 768623.7499999985, 762068.7499999986, 757853.7499999986, 752686.2499999987, 743929.9999999987, 774507.4999999987, 766339.9999999986, 761108.7499999986, 756196.2499999986, 750053.7499999987, 743341.2499999987, 737464.9999999986, 732016.2499999985, 753908.7499999986, 806513.7499999985, 800747.4999999985, 792517.4999999984, 784897.4999999983, 774944.9999999985, 783244.9999999985, 775744.9999999985, 781291.2499999985, 774642.4999999986, 766437.4999999985, 760407.4999999984, 751684.9999999981, 743929.9999999983, 738364.9999999983, 766324.9999999983, 759721.2499999983, 764892.4999999983, 758022.4999999981, 774263.7499999981, 767176.2499999981, 759886.2499999984, 752986.2499999984, 767671.2499999986, 778648.7499999986, 773732.4999999984, 765909.9999999984, 757239.9999999985, 752132.4999999986, 774219.9999999986, 784609.9999999986, 779236.2499999987, 773082.4999999987, 822799.9999999986, 832829.9999999985, 824959.9999999984, 833584.9999999984, 826493.7499999981, 818956.2499999981, 819968.7499999981, 848854.999999998, 884731.2499999979, 876806.2499999979, 869938.7499999978, 863041.2499999978, 896728.7499999978, 908558.7499999979, 898508.7499999979, 891413.7499999978, 881873.7499999977, 873432.4999999977, 889022.4999999977, 879737.4999999977, 871639.9999999977, 915721.2499999977, 908123.7499999978, 899003.7499999979, 932847.4999999979, 925902.4999999978, 915884.9999999977, 907274.9999999974, 961852.4999999974, 952383.7499999974, 945548.7499999974, 961114.9999999974, 975826.2499999973, 968772.4999999971, 962004.9999999972, 953998.7499999972, 946843.7499999973, 961573.7499999972, 953818.7499999971, 947364.9999999971, 940018.7499999971, 930981.2499999971, 931251.2499999972, 925367.4999999972, 934924.9999999973, 926978.7499999973, 920747.4999999973, 926089.9999999974, 918612.4999999974, 911494.9999999976, 906087.4999999974, 900492.4999999973, 894049.9999999972, 911839.999999997, 905603.7499999969, 897803.7499999969, 889156.2499999966, 881903.7499999969, 883557.4999999969, 876188.7499999969, 877009.9999999969, 870154.999999997, 863157.4999999971, 882777.4999999972, 910264.9999999972, 905097.4999999973, 900447.4999999973, 893386.2499999972, 885973.7499999972, 878728.7499999973, 871481.2499999973, 963678.7499999973, 963333.7499999974, 982228.7499999976, 975233.7499999974, 969402.4999999974, 982839.9999999974, 973292.4999999972, 986541.2499999973, 994148.7499999974, 1023998.7499999974, 1013468.7499999972, 1013214.9999999972, 1004879.9999999973, 996667.4999999973, 988104.9999999973, 979087.4999999974, 1008472.4999999977, 999644.9999999976, 1015224.9999999974, 1048063.7499999973, 1057386.2499999972, 1063858.749999997, 1087618.7499999972, 1079343.7499999972, 1070752.499999997, 1141679.9999999972, 1135396.2499999972, 1127173.7499999974, 1120153.7499999977, 1158726.2499999974, 1152844.9999999974, 1168749.9999999974, 1161707.4999999974, 1176344.9999999974, 1167104.9999999977, 1159704.9999999977, 1152087.4999999977, 1157907.4999999977, 1150887.4999999972, 1143526.2499999972, 1133982.4999999972, 1126911.2499999972, 1157421.2499999974, 1183013.7499999974, 1173793.7499999974, 1167331.2499999974, 1158566.2499999974, 1149623.7499999974, 1139963.7499999974, 1175003.7499999974, 1169652.4999999974, 1178752.4999999974, 1171927.4999999974, 1165814.9999999974, 1159222.4999999974, 1151764.9999999974, 1142536.2499999972, 1135581.2499999972, 1147194.9999999972, 1142884.999999997, 1136119.9999999967, 1127074.9999999965, 1137374.9999999965, 1151062.4999999965, 1148412.4999999965, 1150362.4999999965, 1141088.7499999965, 1178239.9999999965, 1187191.2499999965, 1198309.9999999965, 1203083.7499999965, 1195223.7499999963, 1186699.9999999963, 1189714.999999996, 1191129.9999999958, 1203111.2499999958, 1195626.2499999956, 1214633.7499999956, 1208907.4999999956, 1199836.2499999958, 1240999.9999999958, 1248534.999999996, 1254497.499999996, 1245921.2499999956, 1238593.7499999958, 1246682.4999999963, 1240727.4999999963, 1230792.499999996, 1252179.999999996, 1243907.4999999958, 1234416.249999996, 1227264.999999996, 1218827.499999996, 1209257.499999996, 1201686.2499999963, 1196241.2499999963, 1189338.7499999965, 1181737.499999996, 1176487.499999996, 1169444.999999996, 1163118.749999996, 1199092.499999996, 1193561.249999996, 1186751.2499999963, 1203209.999999996, 1215941.249999996, 1220009.999999996, 1211442.499999996, 1228523.749999996, 1239773.749999996, 1234756.2499999965, 1226618.7499999965, 1225996.2499999967, 1219733.7499999967, 1222186.2499999965, 1214772.4999999965, 1205933.7499999965, 1199674.9999999963, 1223187.4999999963, 1252748.7499999963, 1245634.9999999963, 1254122.4999999963, 1262571.2499999958, 1275973.7499999956, 1266428.7499999956, 1261636.249999996, 1254541.2499999956, 1253633.7499999956, 1244941.2499999956, 1239147.4999999956, 1242814.999999995, 1235102.499999995, 1275636.2499999953, 1265826.249999995, 1256072.4999999953, 1266246.2499999953, 1294146.2499999953, 1286458.7499999953, 1306813.7499999953, 1301151.2499999953, 1326159.9999999956, 1319282.4999999958, 1309107.4999999958, 1300899.9999999958, 1293651.2499999958, 1293287.4999999958, 1287152.4999999956, 1305478.749999996, 1319236.249999996, 1309617.499999996, 1300907.4999999963, 1295036.2499999963, 1306541.2499999963, 1311033.7499999963, 1303596.2499999963, 1296286.249999996, 1319044.9999999958, 1310138.7499999958, 1302739.9999999958, 1308649.999999996, 1301614.9999999963, 1292929.9999999965, 1286146.2499999967, 1279459.9999999967, 1269322.4999999967, 1261068.749999997, 1251442.499999997, 1244606.249999997, 1236251.249999997, 1240454.9999999972, 1234492.4999999972, 1225061.2499999972, 1217138.749999997, 1242702.499999997, 1235161.2499999967, 1244168.7499999967, 1279288.7499999967], \"yaxis\": \"y\"}],\n",
              "                        {\"legend\": {\"tracegroupgap\": 0}, \"margin\": {\"t\": 60}, \"template\": {\"data\": {\"bar\": [{\"error_x\": {\"color\": \"#f2f5fa\"}, \"error_y\": {\"color\": \"#f2f5fa\"}, \"marker\": {\"line\": {\"color\": \"rgb(17,17,17)\", \"width\": 0.5}}, \"type\": \"bar\"}], \"barpolar\": [{\"marker\": {\"line\": {\"color\": \"rgb(17,17,17)\", \"width\": 0.5}}, \"type\": \"barpolar\"}], \"carpet\": [{\"aaxis\": {\"endlinecolor\": \"#A2B1C6\", \"gridcolor\": \"#506784\", \"linecolor\": \"#506784\", \"minorgridcolor\": \"#506784\", \"startlinecolor\": \"#A2B1C6\"}, \"baxis\": {\"endlinecolor\": \"#A2B1C6\", \"gridcolor\": \"#506784\", \"linecolor\": \"#506784\", \"minorgridcolor\": \"#506784\", \"startlinecolor\": \"#A2B1C6\"}, \"type\": \"carpet\"}], \"choropleth\": [{\"colorbar\": {\"outlinewidth\": 0, \"ticks\": \"\"}, \"type\": \"choropleth\"}], \"contour\": [{\"colorbar\": {\"outlinewidth\": 0, \"ticks\": \"\"}, \"colorscale\": [[0.0, \"#0d0887\"], [0.1111111111111111, \"#46039f\"], [0.2222222222222222, \"#7201a8\"], [0.3333333333333333, \"#9c179e\"], [0.4444444444444444, \"#bd3786\"], [0.5555555555555556, \"#d8576b\"], [0.6666666666666666, \"#ed7953\"], [0.7777777777777778, \"#fb9f3a\"], [0.8888888888888888, \"#fdca26\"], [1.0, \"#f0f921\"]], \"type\": \"contour\"}], \"contourcarpet\": [{\"colorbar\": {\"outlinewidth\": 0, \"ticks\": \"\"}, \"type\": \"contourcarpet\"}], \"heatmap\": [{\"colorbar\": {\"outlinewidth\": 0, \"ticks\": \"\"}, \"colorscale\": [[0.0, \"#0d0887\"], [0.1111111111111111, \"#46039f\"], [0.2222222222222222, \"#7201a8\"], [0.3333333333333333, \"#9c179e\"], [0.4444444444444444, \"#bd3786\"], [0.5555555555555556, \"#d8576b\"], [0.6666666666666666, \"#ed7953\"], [0.7777777777777778, \"#fb9f3a\"], [0.8888888888888888, \"#fdca26\"], [1.0, \"#f0f921\"]], \"type\": \"heatmap\"}], \"heatmapgl\": [{\"colorbar\": {\"outlinewidth\": 0, \"ticks\": \"\"}, \"colorscale\": [[0.0, \"#0d0887\"], [0.1111111111111111, \"#46039f\"], [0.2222222222222222, \"#7201a8\"], [0.3333333333333333, \"#9c179e\"], [0.4444444444444444, \"#bd3786\"], [0.5555555555555556, \"#d8576b\"], [0.6666666666666666, \"#ed7953\"], [0.7777777777777778, \"#fb9f3a\"], [0.8888888888888888, \"#fdca26\"], [1.0, \"#f0f921\"]], \"type\": \"heatmapgl\"}], \"histogram\": [{\"marker\": {\"colorbar\": {\"outlinewidth\": 0, \"ticks\": \"\"}}, \"type\": \"histogram\"}], \"histogram2d\": [{\"colorbar\": {\"outlinewidth\": 0, \"ticks\": \"\"}, \"colorscale\": [[0.0, \"#0d0887\"], [0.1111111111111111, \"#46039f\"], [0.2222222222222222, \"#7201a8\"], [0.3333333333333333, \"#9c179e\"], [0.4444444444444444, \"#bd3786\"], [0.5555555555555556, \"#d8576b\"], [0.6666666666666666, \"#ed7953\"], [0.7777777777777778, \"#fb9f3a\"], [0.8888888888888888, \"#fdca26\"], [1.0, \"#f0f921\"]], \"type\": \"histogram2d\"}], \"histogram2dcontour\": [{\"colorbar\": {\"outlinewidth\": 0, \"ticks\": \"\"}, \"colorscale\": [[0.0, \"#0d0887\"], [0.1111111111111111, \"#46039f\"], [0.2222222222222222, \"#7201a8\"], [0.3333333333333333, \"#9c179e\"], [0.4444444444444444, \"#bd3786\"], [0.5555555555555556, \"#d8576b\"], [0.6666666666666666, \"#ed7953\"], [0.7777777777777778, \"#fb9f3a\"], [0.8888888888888888, \"#fdca26\"], [1.0, \"#f0f921\"]], \"type\": \"histogram2dcontour\"}], \"mesh3d\": [{\"colorbar\": {\"outlinewidth\": 0, \"ticks\": \"\"}, \"type\": \"mesh3d\"}], \"parcoords\": [{\"line\": {\"colorbar\": {\"outlinewidth\": 0, \"ticks\": \"\"}}, \"type\": \"parcoords\"}], \"pie\": [{\"automargin\": true, \"type\": \"pie\"}], \"scatter\": [{\"marker\": {\"line\": {\"color\": \"#283442\"}}, \"type\": \"scatter\"}], \"scatter3d\": [{\"line\": {\"colorbar\": {\"outlinewidth\": 0, \"ticks\": \"\"}}, \"marker\": {\"colorbar\": {\"outlinewidth\": 0, \"ticks\": \"\"}}, \"type\": \"scatter3d\"}], \"scattercarpet\": [{\"marker\": {\"colorbar\": {\"outlinewidth\": 0, \"ticks\": \"\"}}, \"type\": \"scattercarpet\"}], \"scattergeo\": [{\"marker\": {\"colorbar\": {\"outlinewidth\": 0, \"ticks\": \"\"}}, \"type\": \"scattergeo\"}], \"scattergl\": [{\"marker\": {\"line\": {\"color\": \"#283442\"}}, \"type\": \"scattergl\"}], \"scattermapbox\": [{\"marker\": {\"colorbar\": {\"outlinewidth\": 0, \"ticks\": \"\"}}, \"type\": \"scattermapbox\"}], \"scatterpolar\": [{\"marker\": {\"colorbar\": {\"outlinewidth\": 0, \"ticks\": \"\"}}, \"type\": \"scatterpolar\"}], \"scatterpolargl\": [{\"marker\": {\"colorbar\": {\"outlinewidth\": 0, \"ticks\": \"\"}}, \"type\": \"scatterpolargl\"}], \"scatterternary\": [{\"marker\": {\"colorbar\": {\"outlinewidth\": 0, \"ticks\": \"\"}}, \"type\": \"scatterternary\"}], \"surface\": [{\"colorbar\": {\"outlinewidth\": 0, \"ticks\": \"\"}, \"colorscale\": [[0.0, \"#0d0887\"], [0.1111111111111111, \"#46039f\"], [0.2222222222222222, \"#7201a8\"], [0.3333333333333333, \"#9c179e\"], [0.4444444444444444, \"#bd3786\"], [0.5555555555555556, \"#d8576b\"], [0.6666666666666666, \"#ed7953\"], [0.7777777777777778, \"#fb9f3a\"], [0.8888888888888888, \"#fdca26\"], [1.0, \"#f0f921\"]], \"type\": \"surface\"}], \"table\": [{\"cells\": {\"fill\": {\"color\": \"#506784\"}, \"line\": {\"color\": \"rgb(17,17,17)\"}}, \"header\": {\"fill\": {\"color\": \"#2a3f5f\"}, \"line\": {\"color\": \"rgb(17,17,17)\"}}, \"type\": \"table\"}]}, \"layout\": {\"annotationdefaults\": {\"arrowcolor\": \"#f2f5fa\", \"arrowhead\": 0, \"arrowwidth\": 1}, \"coloraxis\": {\"colorbar\": {\"outlinewidth\": 0, \"ticks\": \"\"}}, \"colorscale\": {\"diverging\": [[0, \"#8e0152\"], [0.1, \"#c51b7d\"], [0.2, \"#de77ae\"], [0.3, \"#f1b6da\"], [0.4, \"#fde0ef\"], [0.5, \"#f7f7f7\"], [0.6, \"#e6f5d0\"], [0.7, \"#b8e186\"], [0.8, \"#7fbc41\"], [0.9, \"#4d9221\"], [1, \"#276419\"]], \"sequential\": [[0.0, \"#0d0887\"], [0.1111111111111111, \"#46039f\"], [0.2222222222222222, \"#7201a8\"], [0.3333333333333333, \"#9c179e\"], [0.4444444444444444, \"#bd3786\"], [0.5555555555555556, \"#d8576b\"], [0.6666666666666666, \"#ed7953\"], [0.7777777777777778, \"#fb9f3a\"], [0.8888888888888888, \"#fdca26\"], [1.0, \"#f0f921\"]], \"sequentialminus\": [[0.0, \"#0d0887\"], [0.1111111111111111, \"#46039f\"], [0.2222222222222222, \"#7201a8\"], [0.3333333333333333, \"#9c179e\"], [0.4444444444444444, \"#bd3786\"], [0.5555555555555556, \"#d8576b\"], [0.6666666666666666, \"#ed7953\"], [0.7777777777777778, \"#fb9f3a\"], [0.8888888888888888, \"#fdca26\"], [1.0, \"#f0f921\"]]}, \"colorway\": [\"#636efa\", \"#EF553B\", \"#00cc96\", \"#ab63fa\", \"#FFA15A\", \"#19d3f3\", \"#FF6692\", \"#B6E880\", \"#FF97FF\", \"#FECB52\"], \"font\": {\"color\": \"#f2f5fa\"}, \"geo\": {\"bgcolor\": \"rgb(17,17,17)\", \"lakecolor\": \"rgb(17,17,17)\", \"landcolor\": \"rgb(17,17,17)\", \"showlakes\": true, \"showland\": true, \"subunitcolor\": \"#506784\"}, \"hoverlabel\": {\"align\": \"left\"}, \"hovermode\": \"closest\", \"mapbox\": {\"style\": \"dark\"}, \"paper_bgcolor\": \"rgb(17,17,17)\", \"plot_bgcolor\": \"rgb(17,17,17)\", \"polar\": {\"angularaxis\": {\"gridcolor\": \"#506784\", \"linecolor\": \"#506784\", \"ticks\": \"\"}, \"bgcolor\": \"rgb(17,17,17)\", \"radialaxis\": {\"gridcolor\": \"#506784\", \"linecolor\": \"#506784\", \"ticks\": \"\"}}, \"scene\": {\"xaxis\": {\"backgroundcolor\": \"rgb(17,17,17)\", \"gridcolor\": \"#506784\", \"gridwidth\": 2, \"linecolor\": \"#506784\", \"showbackground\": true, \"ticks\": \"\", \"zerolinecolor\": \"#C8D4E3\"}, \"yaxis\": {\"backgroundcolor\": \"rgb(17,17,17)\", \"gridcolor\": \"#506784\", \"gridwidth\": 2, \"linecolor\": \"#506784\", \"showbackground\": true, \"ticks\": \"\", \"zerolinecolor\": \"#C8D4E3\"}, \"zaxis\": {\"backgroundcolor\": \"rgb(17,17,17)\", \"gridcolor\": \"#506784\", \"gridwidth\": 2, \"linecolor\": \"#506784\", \"showbackground\": true, \"ticks\": \"\", \"zerolinecolor\": \"#C8D4E3\"}}, \"shapedefaults\": {\"line\": {\"color\": \"#f2f5fa\"}}, \"sliderdefaults\": {\"bgcolor\": \"#C8D4E3\", \"bordercolor\": \"rgb(17,17,17)\", \"borderwidth\": 1, \"tickwidth\": 0}, \"ternary\": {\"aaxis\": {\"gridcolor\": \"#506784\", \"linecolor\": \"#506784\", \"ticks\": \"\"}, \"baxis\": {\"gridcolor\": \"#506784\", \"linecolor\": \"#506784\", \"ticks\": \"\"}, \"bgcolor\": \"rgb(17,17,17)\", \"caxis\": {\"gridcolor\": \"#506784\", \"linecolor\": \"#506784\", \"ticks\": \"\"}}, \"title\": {\"x\": 0.05}, \"updatemenudefaults\": {\"bgcolor\": \"#506784\", \"borderwidth\": 0}, \"xaxis\": {\"automargin\": true, \"gridcolor\": \"#283442\", \"linecolor\": \"#506784\", \"ticks\": \"\", \"title\": {\"standoff\": 15}, \"zerolinecolor\": \"#283442\", \"zerolinewidth\": 2}, \"yaxis\": {\"automargin\": true, \"gridcolor\": \"#283442\", \"linecolor\": \"#506784\", \"ticks\": \"\", \"title\": {\"standoff\": 15}, \"zerolinecolor\": \"#283442\", \"zerolinewidth\": 2}}}, \"xaxis\": {\"anchor\": \"y\", \"domain\": [0.0, 1.0], \"title\": {\"text\": \"Date\"}}, \"yaxis\": {\"anchor\": \"x\", \"domain\": [0.0, 1.0], \"title\": {\"text\": \"Money\"}}},\n",
              "                        {\"responsive\": true}\n",
              "                    ).then(function(){\n",
              "                            \n",
              "var gd = document.getElementById('f7375d76-85a9-4fe4-929e-3e77e7018574');\n",
              "var x = new MutationObserver(function (mutations, observer) {{\n",
              "        var display = window.getComputedStyle(gd).display;\n",
              "        if (!display || display === 'none') {{\n",
              "            console.log([gd, 'removed!']);\n",
              "            Plotly.purge(gd);\n",
              "            observer.disconnect();\n",
              "        }}\n",
              "}});\n",
              "\n",
              "// Listen for the removal of the full notebook cells\n",
              "var notebookContainer = gd.closest('#notebook-container');\n",
              "if (notebookContainer) {{\n",
              "    x.observe(notebookContainer, {childList: true});\n",
              "}}\n",
              "\n",
              "// Listen for the clearing of the current output cell\n",
              "var outputEl = gd.closest('.output');\n",
              "if (outputEl) {{\n",
              "    x.observe(outputEl, {childList: true});\n",
              "}}\n",
              "\n",
              "                        })\n",
              "                };\n",
              "                \n",
              "            </script>\n",
              "        </div>\n",
              "</body>\n",
              "</html>"
            ]
          },
          "metadata": {}
        }
      ]
    },
    {
      "cell_type": "code",
      "source": [
        ""
      ],
      "metadata": {
        "id": "R7ffeDZU2Cg_"
      },
      "execution_count": null,
      "outputs": []
    }
  ]
}