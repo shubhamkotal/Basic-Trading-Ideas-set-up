{
  "nbformat": 4,
  "nbformat_minor": 0,
  "metadata": {
    "colab": {
      "name": "BULLSASH.ipynb",
      "provenance": [],
      "collapsed_sections": []
    },
    "kernelspec": {
      "name": "python3",
      "display_name": "Python 3"
    },
    "language_info": {
      "name": "python"
    }
  },
  "cells": [
    {
      "cell_type": "code",
      "metadata": {
        "colab": {
          "base_uri": "https://localhost:8080/"
        },
        "id": "yRtXlaiOnp0W",
        "outputId": "2a543ce8-275a-48b8-da6b-cad647908f72"
      },
      "source": [
        "!pip install yfinance\n",
        "import pandas as pd \n",
        "import yfinance as yf # import libraries\n",
        "import numpy as np\n",
        "import matplotlib.pyplot as plt\n",
        "plt.style.use('seaborn')"
      ],
      "execution_count": null,
      "outputs": [
        {
          "output_type": "stream",
          "text": [
            "Collecting yfinance\n",
            "  Downloading https://files.pythonhosted.org/packages/a7/ee/315752b9ef281ba83c62aa7ec2e2074f85223da6e7e74efb4d3e11c0f510/yfinance-0.1.59.tar.gz\n",
            "Requirement already satisfied: pandas>=0.24 in /usr/local/lib/python3.7/dist-packages (from yfinance) (1.1.5)\n",
            "Requirement already satisfied: numpy>=1.15 in /usr/local/lib/python3.7/dist-packages (from yfinance) (1.19.5)\n",
            "Requirement already satisfied: requests>=2.20 in /usr/local/lib/python3.7/dist-packages (from yfinance) (2.23.0)\n",
            "Requirement already satisfied: multitasking>=0.0.7 in /usr/local/lib/python3.7/dist-packages (from yfinance) (0.0.9)\n",
            "Collecting lxml>=4.5.1\n",
            "\u001b[?25l  Downloading https://files.pythonhosted.org/packages/cf/4d/6537313bf58fe22b508f08cf3eb86b29b6f9edf68e00454224539421073b/lxml-4.6.3-cp37-cp37m-manylinux1_x86_64.whl (5.5MB)\n",
            "\u001b[K     |████████████████████████████████| 5.5MB 4.4MB/s \n",
            "\u001b[?25hRequirement already satisfied: python-dateutil>=2.7.3 in /usr/local/lib/python3.7/dist-packages (from pandas>=0.24->yfinance) (2.8.1)\n",
            "Requirement already satisfied: pytz>=2017.2 in /usr/local/lib/python3.7/dist-packages (from pandas>=0.24->yfinance) (2018.9)\n",
            "Requirement already satisfied: urllib3!=1.25.0,!=1.25.1,<1.26,>=1.21.1 in /usr/local/lib/python3.7/dist-packages (from requests>=2.20->yfinance) (1.24.3)\n",
            "Requirement already satisfied: idna<3,>=2.5 in /usr/local/lib/python3.7/dist-packages (from requests>=2.20->yfinance) (2.10)\n",
            "Requirement already satisfied: chardet<4,>=3.0.2 in /usr/local/lib/python3.7/dist-packages (from requests>=2.20->yfinance) (3.0.4)\n",
            "Requirement already satisfied: certifi>=2017.4.17 in /usr/local/lib/python3.7/dist-packages (from requests>=2.20->yfinance) (2020.12.5)\n",
            "Requirement already satisfied: six>=1.5 in /usr/local/lib/python3.7/dist-packages (from python-dateutil>=2.7.3->pandas>=0.24->yfinance) (1.15.0)\n",
            "Building wheels for collected packages: yfinance\n",
            "  Building wheel for yfinance (setup.py) ... \u001b[?25l\u001b[?25hdone\n",
            "  Created wheel for yfinance: filename=yfinance-0.1.59-py2.py3-none-any.whl size=23442 sha256=5c6145ce1675be16965a6775fa4febb1fac13a00b409600706ba5de523bf2dc8\n",
            "  Stored in directory: /root/.cache/pip/wheels/f8/2a/0f/4b5a86e1d52e451757eb6bc17fd899629f0925c777741b6d04\n",
            "Successfully built yfinance\n",
            "Installing collected packages: lxml, yfinance\n",
            "  Found existing installation: lxml 4.2.6\n",
            "    Uninstalling lxml-4.2.6:\n",
            "      Successfully uninstalled lxml-4.2.6\n",
            "Successfully installed lxml-4.6.3 yfinance-0.1.59\n"
          ],
          "name": "stdout"
        }
      ]
    },
    {
      "cell_type": "code",
      "metadata": {
        "id": "U0G5fcOTwxpE"
      },
      "source": [
        "from tqdm import tqdm"
      ],
      "execution_count": null,
      "outputs": []
    },
    {
      "cell_type": "code",
      "metadata": {
        "colab": {
          "base_uri": "https://localhost:8080/"
        },
        "id": "nMAf-WxitrT-",
        "outputId": "ef5e9cae-c6c5-4c6b-8190-6ef8ad9a0c3f"
      },
      "source": [
        "from google.colab import drive\n",
        "drive.mount(\"/content/gdrive\")"
      ],
      "execution_count": null,
      "outputs": [
        {
          "output_type": "stream",
          "text": [
            "Mounted at /content/gdrive\n"
          ],
          "name": "stdout"
        }
      ]
    },
    {
      "cell_type": "code",
      "metadata": {
        "colab": {
          "base_uri": "https://localhost:8080/"
        },
        "id": "mwo91eW3uJ2w",
        "outputId": "0c23b947-8674-404b-c706-e8f6a6e9fe11"
      },
      "source": [
        "%cd '/content/gdrive/MyDrive/SASH/'"
      ],
      "execution_count": null,
      "outputs": [
        {
          "output_type": "stream",
          "text": [
            "/content/gdrive/MyDrive/SASH\n"
          ],
          "name": "stdout"
        }
      ]
    },
    {
      "cell_type": "code",
      "metadata": {
        "id": "ei8ldAYat3xE"
      },
      "source": [
        "# nse=pd.read_excel('/content/gdrive/MyDrive/SASH/Trading_NSE.xlsx')"
      ],
      "execution_count": null,
      "outputs": []
    },
    {
      "cell_type": "code",
      "metadata": {
        "id": "eK7qexf0n5IJ"
      },
      "source": [
        "# def bull_sash(stock_name,start_date,end_date,Amount):\n",
        "#   data = yf.download(stock_name, \n",
        "#                       start=start_date, \n",
        "#                       end=end_date,\n",
        "#                       progress=False)\n",
        "#   data.dropna(inplace=True)\n",
        "#   value=[]\n",
        "#   for i in zip(data['Open'],data['Close']):\n",
        "#     if i[0]>i[1]:\n",
        "#       value.append('Red')\n",
        "#     else:\n",
        "#       value.append('Green')\n",
        "#   data['color']= value\n",
        "#   sash=[]\n",
        "#   for i in range(0,len(data)):\n",
        "#     try:\n",
        "#       if (data['Close'][i] < data['Open'][i+1]) and (data['Open'][i] > data['Open'][i+1]) and (data['Open'][i] < data['Close'][i+1]) and (data['color'][i] == 'Red') and (data['color'][i+1] == 'Green'):\n",
        "#         sash.append('Bull Sash')\n",
        "#       else:\n",
        "#         sash.append('flat')\n",
        "#     except:\n",
        "#       sash.append('flat')\n",
        "#   data['Sash']= sash\n",
        "#   data['Sash']=data['Sash'].shift(1)\n",
        "#   data2 = yf.download(stock_name, \n",
        "#                        start=start_date, \n",
        "#                        end=end_date,\n",
        "#                        progress=False, interval= \"15m\")\n",
        "#   data2.dropna(inplace=True)\n",
        "#   data2.reset_index(inplace=True)\n",
        "#   data2['Datetime']=data2['Datetime'].astype('str')\n",
        "#   df=data2['Datetime'].str.split(' ',expand=True)\n",
        "#   data2['Date']=df[0]\n",
        "#   data2['Time']=df[1]\n",
        "#   for i in data2['Time']:\n",
        "#     if i=='10:30:00+05:30' or i=='15:00:00+05:30':\n",
        "#       pass\n",
        "#     else:\n",
        "#       data2.drop(data2[data2['Time'] == i].index, inplace = True) \n",
        "#   for i in data2['Date']:\n",
        "#     if i=='2021-02-24':\n",
        "#       data2.drop(data2[data2['Date'] == i].index, inplace = True) \n",
        "#   data2.reset_index(inplace=True)\n",
        "#   data2.drop('index',axis=1,inplace=True)\n",
        "#   data=data.reset_index()\n",
        "#   data['Date']=data['Date'].astype('str')\n",
        "#   for i in data['Date']:\n",
        "#     if i=='2021-02-24':\n",
        "#       data.drop(data[data['Date'] == i].index, inplace = True) \n",
        "#   data=data.reset_index()\n",
        "#   data.drop('index',axis=1,inplace=True)\n",
        "#   data2=data2.drop(['High','Low','Close','Adj Close','Volume','Date','Time'],axis=1)\n",
        "#   data2=data2.rename(columns={'Open':'Buy Price','Datetime':'Buy Date'})\n",
        "#   data2['Sell Date']=data2['Buy Date'].shift(-1)\n",
        "#   data2['Sell Price']=data2['Buy Price'].shift(-1)\n",
        "#   data2=data2.dropna()\n",
        "#   data2 = data2[np.arange(len(data2)) % 2 == 0]\n",
        "#   data2.reset_index(inplace=True)\n",
        "#   data2=data2.drop('index',axis=1)\n",
        "#   data['Buy Price']=data2['Sell Price']\n",
        "#   data['Sell Price']=data2['Buy Price'].shift(-1)\n",
        "#   data=data.drop(['High','Low','Adj Close','Volume'],axis=1)\n",
        "#   data['Total Points'] = data['Sell Price'] - data['Buy Price']\n",
        "#   final=data.copy()\n",
        "#   final=final.dropna()\n",
        "#   for i in final['Sash']:\n",
        "#     if i!='Bull Sash':\n",
        "#       final.drop(final[final['Sash'] == i].index, inplace = True) \n",
        "#   final['P/L'] = round(Amount/final['Buy Price'])*final['Total Points']\n",
        "#   return sum(final['P/L'])\n"
      ],
      "execution_count": null,
      "outputs": []
    },
    {
      "cell_type": "code",
      "metadata": {
        "id": "ugLQa6lHppBV"
      },
      "source": [
        "# a=bull_sash('AARTIIND.NS','2021-02-15','2021-04-13',10000) example"
      ],
      "execution_count": null,
      "outputs": []
    },
    {
      "cell_type": "code",
      "metadata": {
        "id": "9wvHYteavHwI"
      },
      "source": [
        ""
      ],
      "execution_count": null,
      "outputs": []
    },
    {
      "cell_type": "code",
      "metadata": {
        "id": "9Pqj112frglc"
      },
      "source": [
        "# bull_sash_stocks={}\n",
        "# for i in tqdm(nse['Ticker']):\n",
        "#   try:\n",
        "#     bull_sash_stocks[i]=bull_sash(i,'2021-02-15','2021-04-13',10000)\n",
        "#   except:\n",
        "#     pass"
      ],
      "execution_count": null,
      "outputs": []
    },
    {
      "cell_type": "code",
      "metadata": {
        "id": "s8Z_b54EqcoK"
      },
      "source": [
        "# final_bull_sash=pd.DataFrame.from_dict(bull_sash_stocks,orient='index',columns=['P/L'],)\n",
        "# final_bull_sash.reset_index(inplace=True)\n",
        "# final_bull_sash=final_bull_sash.rename(columns={'index':'Ticker'})"
      ],
      "execution_count": null,
      "outputs": []
    },
    {
      "cell_type": "code",
      "metadata": {
        "id": "PC1Lp14Jsm2Z"
      },
      "source": [
        "# final_bull_sash.to_csv('bull_sash_results.csv')"
      ],
      "execution_count": null,
      "outputs": []
    },
    {
      "cell_type": "code",
      "metadata": {
        "id": "Ow3Lu_1L8N-H"
      },
      "source": [
        "def bullsash(stock_name,start_date,end_date,Amount):\n",
        "  # Read daily data\n",
        "  data = yf.download(stock_name, \n",
        "                      start=start_date, \n",
        "                      end=end_date,\n",
        "                      progress=False)\n",
        "  # data.dropna(inplace=True)\n",
        "  # decide candle color\n",
        "  value=[]\n",
        "  for i in zip(data['Open'],data['Close']):\n",
        "    if i[0]>i[1]:\n",
        "      value.append('Red')\n",
        "    else:\n",
        "      value.append('Green')\n",
        "  data['color']= value\n",
        "  # decide bull sash\n",
        "  sash=[]\n",
        "  for i in range(0,len(data)):\n",
        "    try:\n",
        "      if (data['Close'][i] < data['Open'][i+1]) and (data['Open'][i] > data['Open'][i+1]) and (data['Open'][i] < data['Close'][i+1]) and (data['color'][i] == 'Red') and (data['color'][i+1] == 'Green'):\n",
        "        sash.append('Bull Sash')\n",
        "      else:\n",
        "        sash.append('flat')\n",
        "    except:\n",
        "      sash.append('flat')\n",
        "  data['Sash']= sash\n",
        "  data['Sash']=data['Sash'].shift(1)\n",
        "  # 15min data of same stock\n",
        "  data2 = yf.download(stock_name, \n",
        "                       start=start_date, \n",
        "                       end=end_date,\n",
        "                       progress=False, interval= \"15m\")\n",
        "  #data2.dropna(inplace=True)\n",
        "  data2.reset_index(inplace=True)\n",
        "  # sep date time\n",
        "  data2['Datetime']=data2['Datetime'].astype('str')\n",
        "  df=data2['Datetime'].str.split(' ',expand=True)\n",
        "  data2['Date']=df[0]\n",
        "  data2['Time']=df[1]\n",
        "\n",
        "  # NSE WAS CLOSE DUE TO GLICTH\n",
        "\n",
        "  for i in data2['Date']:\n",
        "    if i=='2021-02-24':\n",
        "      data2.drop(data2[data2['Date'] == i].index, inplace = True) \n",
        "\n",
        "  data2.reset_index(inplace=True)\n",
        "  data2.drop('index',axis=1,inplace=True)\n",
        "\n",
        "  data=data.reset_index()\n",
        "\n",
        "  data['Date']=data['Date'].astype('str')\n",
        "\n",
        "  for i in data['Date']:\n",
        "    if i=='2021-02-24':\n",
        "      data.drop(data[data['Date'] == i].index, inplace = True) \n",
        "\n",
        "  data=data.reset_index()\n",
        "  data.drop('index',axis=1,inplace=True)\n",
        "\n",
        "  # continue\n",
        "  data3=data2.copy()\n",
        "  # remove all other time data\n",
        "  for i in data2['Time']:\n",
        "    if i=='10:30:00+05:30' or i=='10:45:00+05:30' or i=='15:00:00+05:30' or i=='15:15:00+05:30':\n",
        "      pass\n",
        "    else:\n",
        "      data2.drop(data2[data2['Time'] == i].index, inplace = True) \n",
        "  data2.reset_index(inplace=True)\n",
        "  data2.drop('index',axis=1,inplace=True)\n",
        "  #data2\n",
        "  avg_cost=[]\n",
        "  for i in range(0,len(data2)-1):\n",
        "    avg_cost.append(((data2['High'][i] + data2['Low'][i] + data2['High'][i+1] + data2['Low'][i+1])/4))\n",
        "  avg_cost.append(data2['Open'][i])\n",
        "  data2['avg buy']=avg_cost\n",
        "  # get lowest price from 9.15 to 10.30\n",
        "  for i in data3['Time']:\n",
        "    if i=='10:30:00+05:30'  or i=='09:15:00+05:30' or i=='09:30:00+05:30' or i=='09:45:00+05:30' or i=='10:00:00+05:30' or i=='10:15:00+05:30':\n",
        "      pass\n",
        "    else:\n",
        "      data3.drop(data3[data3['Time'] == i].index, inplace = True) \n",
        "  data3=data3.reset_index()\n",
        "  low=[]\n",
        "  for i in list(data['Date']):\n",
        "    temp=data3[data3['Date'] == i] \n",
        "    low.append(min(temp['Low']))\n",
        "  #add lowest price info to main data\n",
        "  data['lowest']=low\n",
        "  # continue # get bt st price\n",
        "  data2=data2.reset_index().drop('index',axis=1)\n",
        "  data2=data2.drop(['High','Low','Close','Adj Close','Volume','Date','Time'],axis=1)\n",
        "  data2=data2.rename(columns={'Open':'Buy Price','Datetime':'Buy Date'})\n",
        "  data2 = data2[np.arange(len(data2)) % 2 == 0]\n",
        "  data2=data2.reset_index().drop('index',axis=1)\n",
        "  data2['Sell Date']=data2['Buy Date'].shift(-1)\n",
        "  data2['Sell Price']=data2['Buy Price'].shift(-1)\n",
        "  data2['avg sell']=data2['avg buy'].shift(-1)\n",
        "  data2 = data2[np.arange(len(data2)) % 2 == 0]\n",
        "  data2=data2.reset_index().drop('index',axis=1)\n",
        "  # add bt st price to main data\n",
        "  data['BT Price']=data2['avg sell']\n",
        "  data['ST Price']=data2['avg buy'].shift(-1)\n",
        "  # shift lowest by 1 to get st lowest\n",
        "  data['lowest']=data['lowest'].shift(-1)\n",
        "  # create final data\n",
        "  final=data.copy()\n",
        "  final=final.drop(['High','Adj Close','Volume'],axis=1)\n",
        "  final=final.dropna()\n",
        "  for i in final['Sash']:\n",
        "    if i!='Bull Sash':\n",
        "      final.drop(final[final['Sash'] == i].index, inplace = True) \n",
        "  final=final.rename(columns={'Low':'Stop Loss','Date':'Candle Date'})\n",
        "  final=final.drop(['Open','color','Sash','Close'],axis=1)\n",
        "  final.reset_index(inplace=True)\n",
        "  final=final.drop('index',axis=1)\n",
        "  # create total points\n",
        "  tp=[]\n",
        "  for i in range(0,len(final)):\n",
        "    if (final['Stop Loss'][i] - ((final['Stop Loss'][i]*0.2)/100)) >= final['lowest'][i]:\n",
        "      total=(final['Stop Loss'][i] - ((final['Stop Loss'][i]*0.2)/100)) - final['BT Price'][i]\n",
        "    else:\n",
        "      total=final['ST Price'][i] - final['BT Price'][i]\n",
        "    tp.append(total)\n",
        "\n",
        "  final['Total Points'] = tp\n",
        "  final['P/L'] = round(Amount/final['BT Price'])*final['Total Points']\n",
        "  return sum(final['P/L']) , len(final) "
      ],
      "execution_count": null,
      "outputs": []
    },
    {
      "cell_type": "code",
      "metadata": {
        "colab": {
          "base_uri": "https://localhost:8080/"
        },
        "id": "_LHpgpzozjZE",
        "outputId": "4f438abf-a3b9-49ee-aec8-1d8c8a90fcf5"
      },
      "source": [
        "# bullsash('AMBUJACEM.NS','2021-04-06','2021-04-09',10000)"
      ],
      "execution_count": null,
      "outputs": [
        {
          "output_type": "execute_result",
          "data": {
            "text/plain": [
              "(76.400146484375, 1)"
            ]
          },
          "metadata": {
            "tags": []
          },
          "execution_count": 8
        }
      ]
    },
    {
      "cell_type": "code",
      "metadata": {
        "id": "evwUn-MUxRyf"
      },
      "source": [
        "# nse=pd.read_csv('bull_sash_results.csv')\n",
        "# nse=nse[nse['P/L'] != 0]\n",
        "# nse.reset_index(inplace=True)\n",
        "# nse=nse.drop(['index','Unnamed: 0'],axis=1)"
      ],
      "execution_count": null,
      "outputs": []
    },
    {
      "cell_type": "code",
      "metadata": {
        "id": "_ivtB8QpC_T6"
      },
      "source": [
        "nse=pd.read_csv('/content/gdrive/MyDrive/SASH/final_bull_sash.csv')"
      ],
      "execution_count": null,
      "outputs": []
    },
    {
      "cell_type": "code",
      "metadata": {
        "id": "XsDrZQHYwB8I"
      },
      "source": [
        "# bull_sash_stocks={}\n",
        "# for i in tqdm(nse['Ticker']):\n",
        "#   try:\n",
        "#     bull_sash_stocks[i]=bullsash(i,'2021-02-15','2021-04-13',10000)\n",
        "#   except:\n",
        "#     pass\n",
        "# final_bull_sash=pd.DataFrame.from_dict(bull_sash_stocks,orient='index',columns=['P/L','counts'],)\n",
        "# final_bull_sash.reset_index(inplace=True)\n",
        "# final_bull_sash=final_bull_sash.rename(columns={'index':'Ticker'})\n",
        "# final_bull_sash.to_csv('final_bull_sash.csv')"
      ],
      "execution_count": null,
      "outputs": []
    },
    {
      "cell_type": "code",
      "metadata": {
        "id": "27DI4Z75BObx"
      },
      "source": [
        "# check_dates=[['2021-04-06','2021-04-09'],['2021-04-07','2021-04-10'],\n",
        "#              ['2021-04-08','2021-04-13'],['2021-04-09','2021-04-14']]"
      ],
      "execution_count": null,
      "outputs": []
    },
    {
      "cell_type": "code",
      "metadata": {
        "id": "nEdDc5FXJCGp"
      },
      "source": [
        "check_dates=[['2021-04-08','2021-04-13'],['2021-04-09','2021-04-14']]"
      ],
      "execution_count": null,
      "outputs": []
    },
    {
      "cell_type": "code",
      "metadata": {
        "colab": {
          "base_uri": "https://localhost:8080/"
        },
        "id": "NU5UyHPE0paH",
        "outputId": "8b6a5fbf-793a-4aef-8319-12f9a700d95a"
      },
      "source": [
        "ls"
      ],
      "execution_count": null,
      "outputs": [
        {
          "output_type": "stream",
          "text": [
            "2021-04-09.csv  2021-04-13.csv  bull_sash_results.csv  Trading_NSE.xlsx\n",
            "2021-04-10.csv  2021-04-14.csv  final_bull_sash.csv\n"
          ],
          "name": "stdout"
        }
      ]
    },
    {
      "cell_type": "code",
      "metadata": {
        "colab": {
          "base_uri": "https://localhost:8080/"
        },
        "id": "o_pRbTy3Cb1N",
        "outputId": "1ba6dd85-a141-4876-f146-7c58ae388229"
      },
      "source": [
        "for j in check_dates:\n",
        "  bull_sash_stocks={}\n",
        "  for i in tqdm(nse['Ticker']):\n",
        "    try:\n",
        "      bull_sash_stocks[i]=bullsash(i,j[0],j[1],10000)\n",
        "    except:\n",
        "      pass\n",
        "  final_bull_sash=pd.DataFrame.from_dict(bull_sash_stocks,orient='index',columns=['P/L','counts'],)\n",
        "  final_bull_sash.reset_index(inplace=True)\n",
        "  final_bull_sash=final_bull_sash.rename(columns={'index':'Ticker'})\n",
        "  final_bull_sash.to_csv(j[1] + '.csv')"
      ],
      "execution_count": null,
      "outputs": [
        {
          "output_type": "stream",
          "text": [
            "100%|██████████| 756/756 [16:29<00:00,  1.31s/it]\n",
            "100%|██████████| 756/756 [19:04<00:00,  1.51s/it]\n",
            "100%|██████████| 756/756 [18:58<00:00,  1.51s/it]\n",
            " 56%|█████▌    | 423/756 [10:26<08:01,  1.45s/it]"
          ],
          "name": "stderr"
        }
      ]
    },
    {
      "cell_type": "code",
      "metadata": {
        "id": "dRmPmDgyXoS1"
      },
      "source": [
        ""
      ],
      "execution_count": null,
      "outputs": []
    }
  ]
}