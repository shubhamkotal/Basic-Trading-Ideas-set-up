{
  "nbformat": 4,
  "nbformat_minor": 0,
  "metadata": {
    "colab": {
      "name": "Stock Selection.ipynb",
      "provenance": []
    },
    "kernelspec": {
      "name": "python3",
      "display_name": "Python 3"
    }
  },
  "cells": [
    {
      "cell_type": "code",
      "metadata": {
        "id": "71FzQpJbrPhO",
        "colab": {
          "base_uri": "https://localhost:8080/"
        },
        "outputId": "8297e898-315e-40c1-e0e2-1a3fee57c48d"
      },
      "source": [
        "!pip install yfinance\n",
        "import pandas as pd \n",
        "import yfinance as yf # import libraries\n",
        "import numpy as np\n",
        "import matplotlib.pyplot as plt\n",
        "plt.style.use('seaborn')"
      ],
      "execution_count": null,
      "outputs": [
        {
          "output_type": "stream",
          "text": [
            "Collecting yfinance\n",
            "  Downloading https://files.pythonhosted.org/packages/7a/e8/b9d7104d3a4bf39924799067592d9e59119fcfc900a425a12e80a3123ec8/yfinance-0.1.55.tar.gz\n",
            "Requirement already satisfied: pandas>=0.24 in /usr/local/lib/python3.7/dist-packages (from yfinance) (1.1.5)\n",
            "Requirement already satisfied: numpy>=1.15 in /usr/local/lib/python3.7/dist-packages (from yfinance) (1.19.5)\n",
            "Requirement already satisfied: requests>=2.20 in /usr/local/lib/python3.7/dist-packages (from yfinance) (2.23.0)\n",
            "Requirement already satisfied: multitasking>=0.0.7 in /usr/local/lib/python3.7/dist-packages (from yfinance) (0.0.9)\n",
            "Collecting lxml>=4.5.1\n",
            "\u001b[?25l  Downloading https://files.pythonhosted.org/packages/d2/88/b25778f17e5320c1c58f8c5060fb5b037288e162bd7554c30799e9ea90db/lxml-4.6.2-cp37-cp37m-manylinux1_x86_64.whl (5.5MB)\n",
            "\u001b[K     |████████████████████████████████| 5.5MB 5.8MB/s \n",
            "\u001b[?25hRequirement already satisfied: pytz>=2017.2 in /usr/local/lib/python3.7/dist-packages (from pandas>=0.24->yfinance) (2018.9)\n",
            "Requirement already satisfied: python-dateutil>=2.7.3 in /usr/local/lib/python3.7/dist-packages (from pandas>=0.24->yfinance) (2.8.1)\n",
            "Requirement already satisfied: certifi>=2017.4.17 in /usr/local/lib/python3.7/dist-packages (from requests>=2.20->yfinance) (2020.12.5)\n",
            "Requirement already satisfied: idna<3,>=2.5 in /usr/local/lib/python3.7/dist-packages (from requests>=2.20->yfinance) (2.10)\n",
            "Requirement already satisfied: urllib3!=1.25.0,!=1.25.1,<1.26,>=1.21.1 in /usr/local/lib/python3.7/dist-packages (from requests>=2.20->yfinance) (1.24.3)\n",
            "Requirement already satisfied: chardet<4,>=3.0.2 in /usr/local/lib/python3.7/dist-packages (from requests>=2.20->yfinance) (3.0.4)\n",
            "Requirement already satisfied: six>=1.5 in /usr/local/lib/python3.7/dist-packages (from python-dateutil>=2.7.3->pandas>=0.24->yfinance) (1.15.0)\n",
            "Building wheels for collected packages: yfinance\n",
            "  Building wheel for yfinance (setup.py) ... \u001b[?25l\u001b[?25hdone\n",
            "  Created wheel for yfinance: filename=yfinance-0.1.55-py2.py3-none-any.whl size=22616 sha256=14db6b6dad37f024c0a956bd6df682c8124e8c4042e9feb2d12d215279806036\n",
            "  Stored in directory: /root/.cache/pip/wheels/04/98/cc/2702a4242d60bdc14f48b4557c427ded1fe92aedf257d4565c\n",
            "Successfully built yfinance\n",
            "Installing collected packages: lxml, yfinance\n",
            "  Found existing installation: lxml 4.2.6\n",
            "    Uninstalling lxml-4.2.6:\n",
            "      Successfully uninstalled lxml-4.2.6\n",
            "Successfully installed lxml-4.6.2 yfinance-0.1.55\n"
          ],
          "name": "stdout"
        }
      ]
    },
    {
      "cell_type": "code",
      "metadata": {
        "colab": {
          "base_uri": "https://localhost:8080/"
        },
        "id": "ONjDZPEwrgkd",
        "outputId": "731d9c6f-265d-41c9-8ba5-efb83f0b81e1"
      },
      "source": [
        "from google.colab import drive\n",
        "drive.mount(\"/content/gdrive\")"
      ],
      "execution_count": null,
      "outputs": [
        {
          "output_type": "stream",
          "text": [
            "Drive already mounted at /content/gdrive; to attempt to forcibly remount, call drive.mount(\"/content/gdrive\", force_remount=True).\n"
          ],
          "name": "stdout"
        }
      ]
    },
    {
      "cell_type": "code",
      "metadata": {
        "colab": {
          "base_uri": "https://localhost:8080/"
        },
        "id": "Po7u1udHrj_-",
        "outputId": "088a42ab-beb5-4ee8-b218-da369e3f3b73"
      },
      "source": [
        "%cd '/content/gdrive/MyDrive/NSE'"
      ],
      "execution_count": null,
      "outputs": [
        {
          "output_type": "stream",
          "text": [
            "/content/gdrive/MyDrive/NSE\n"
          ],
          "name": "stdout"
        }
      ]
    },
    {
      "cell_type": "code",
      "metadata": {
        "id": "IVXX1F2sr4El"
      },
      "source": [
        "NSE=pd.read_csv('NSE STOCKS.csv')"
      ],
      "execution_count": null,
      "outputs": []
    },
    {
      "cell_type": "code",
      "metadata": {
        "id": "YHyf-um7r9rE"
      },
      "source": [
        "NSE['NSE1']=NSE['NSE'].str.replace('.NS','')"
      ],
      "execution_count": null,
      "outputs": []
    },
    {
      "cell_type": "code",
      "metadata": {
        "id": "x_Dl9olo-se-"
      },
      "source": [
        "NSE['NSE1']='NSE/' + NSE['NSE1']"
      ],
      "execution_count": null,
      "outputs": []
    },
    {
      "cell_type": "code",
      "metadata": {
        "colab": {
          "base_uri": "https://localhost:8080/"
        },
        "id": "X_cxO3jbr-Ur",
        "outputId": "19dde09d-51a4-40d5-ce79-11122c64b5f1"
      },
      "source": [
        "KIRLOSENG = yf.download(, \n",
        "                       start='2015-01-01', \n",
        "                       end='2021-03-03',\n",
        "                       progress=False)\n",
        "KIRLOSENG.dropna(inplace=True)"
      ],
      "execution_count": null,
      "outputs": [
        {
          "output_type": "stream",
          "text": [
            "\n",
            "1 Failed download:\n",
            "- 21STCENMG.NS: No data found, symbol may be delisted\n"
          ],
          "name": "stdout"
        }
      ]
    },
    {
      "cell_type": "code",
      "metadata": {
        "colab": {
          "base_uri": "https://localhost:8080/"
        },
        "id": "Jmca1pHltDyn",
        "outputId": "2da71a6f-cf4e-4cc9-bbaa-4634b3c3ddf0"
      },
      "source": [
        "p75,p50,p25 = np.percentile(KIRLOSENG['Adj Close'], [75 ,50,25])\n",
        "iqr = p75-p25\n",
        "print('Q1',p25)\n",
        "print(\"IQR\",iqr)\n",
        "print('Q2',p50)\n",
        "print('Q3',p75)\n",
        "print('Max',KIRLOSENG['Adj Close'].max())\n",
        "print('Mean',KIRLOSENG['Adj Close'].mean())\n",
        "print('Today',KIRLOSENG['Adj Close'][-1])\n",
        "print('std',KIRLOSENG['Adj Close'].std())"
      ],
      "execution_count": null,
      "outputs": [
        {
          "output_type": "stream",
          "text": [
            "Q1 161.73153686523438\n",
            "IQR 135.3317413330078\n",
            "Q2 231.81085205078125\n",
            "Q3 297.0632781982422\n",
            "Max 381.65472412109375\n",
            "Mean 225.93597775509483\n",
            "Today 162.3000030517578\n",
            "std 79.43152006999296\n"
          ],
          "name": "stdout"
        }
      ]
    },
    {
      "cell_type": "code",
      "metadata": {
        "id": "QaxBr5k21I58"
      },
      "source": [
        "def stock_selector(x,start,end):\n",
        "  KIRLOSENG = yf.download(x, \n",
        "                        start=start, \n",
        "                        end=end,\n",
        "                        progress=False)\n",
        "  KIRLOSENG.dropna(inplace=True)\n",
        "  p75,p50,p25 = np.percentile(KIRLOSENG['Adj Close'], [75 ,50,25])\n",
        "  iqr = p75-p25\n",
        "  #print('25% times:',round(p25,2),', 50% times:',round(p50,2),', 75% times:',round(p75,2))\n",
        "  print('Min:',round(KIRLOSENG['Adj Close'].min(),2), ', Average:',round(KIRLOSENG['Adj Close'].mean(),2), ', Max:',round(KIRLOSENG['Adj Close'].max(),2))\n",
        "  print('Today:',round(KIRLOSENG['Adj Close'][-1],2))\n",
        "  print('Deviation:',round(KIRLOSENG['Adj Close'].std(),2))\n",
        "  plt.figure(figsize=(20,8))\n",
        "  plt.title(x)\n",
        "  plt.ylabel('Price')\n",
        "  plt.xlabel('Year')\n",
        "  plt.plot(KIRLOSENG['Adj Close'])\n",
        "  plt.show()"
      ],
      "execution_count": null,
      "outputs": []
    },
    {
      "cell_type": "code",
      "metadata": {
        "colab": {
          "base_uri": "https://localhost:8080/",
          "height": 562
        },
        "id": "uiwcvmRX19i6",
        "outputId": "62f623c9-86ef-478d-9701-94b85f546240"
      },
      "source": [
        "stock_selector('SUBEXLTD.NS','2009-01-01','2021-03-07')"
      ],
      "execution_count": null,
      "outputs": [
        {
          "output_type": "stream",
          "text": [
            "Min: 2.94 , Average: 21.78 , Max: 93.33\n",
            "Today: 32.55\n",
            "Deviation: 21.7\n"
          ],
          "name": "stdout"
        },
        {
          "output_type": "display_data",
          "data": {
            "image/png": "[encoded data removed]",
            "text/plain": [
              "<Figure size 1440x576 with 1 Axes>"
            ]
          },
          "metadata": {
            "tags": []
          }
        }
      ]
    },
    {
      "cell_type": "code",
      "metadata": {
        "id": "r1QveaYsp7HQ"
      },
      "source": [
        "IRCTC = yf.download('IRCTC.NS', \n",
        "                       start='2021-01-12', \n",
        "                       end='2021-03-11',\n",
        "                       progress=False, interval= \"15m\")\n",
        "IRCTC.dropna(inplace=True)"
      ],
      "execution_count": null,
      "outputs": []
    },
    {
      "cell_type": "code",
      "metadata": {
        "id": "U1wGp--d31rD"
      },
      "source": [
        "IRCTC.reset_index(inplace=True)"
      ],
      "execution_count": null,
      "outputs": []
    },
    {
      "cell_type": "code",
      "metadata": {
        "colab": {
          "base_uri": "https://localhost:8080/",
          "height": 78
        },
        "id": "ndUKCMz9BwdX",
        "outputId": "e53680c1-d54c-45d9-e7bc-2495f9f80820"
      },
      "source": [
        "IRCTC.head(1)"
      ],
      "execution_count": null,
      "outputs": [
        {
          "output_type": "execute_result",
          "data": {
            "text/html": [
              "<div>\n",
              "<style scoped>\n",
              "    .dataframe tbody tr th:only-of-type {\n",
              "        vertical-align: middle;\n",
              "    }\n",
              "\n",
              "    .dataframe tbody tr th {\n",
              "        vertical-align: top;\n",
              "    }\n",
              "\n",
              "    .dataframe thead th {\n",
              "        text-align: right;\n",
              "    }\n",
              "</style>\n",
              "<table border=\"1\" class=\"dataframe\">\n",
              "  <thead>\n",
              "    <tr style=\"text-align: right;\">\n",
              "      <th></th>\n",
              "      <th>Datetime</th>\n",
              "      <th>Open</th>\n",
              "      <th>High</th>\n",
              "      <th>Low</th>\n",
              "      <th>Close</th>\n",
              "      <th>Adj Close</th>\n",
              "      <th>Volume</th>\n",
              "    </tr>\n",
              "  </thead>\n",
              "  <tbody>\n",
              "    <tr>\n",
              "      <th>0</th>\n",
              "      <td>2021-01-12 09:15:00+05:30</td>\n",
              "      <td>1460.650024</td>\n",
              "      <td>1472.949951</td>\n",
              "      <td>1454.050049</td>\n",
              "      <td>1469.849976</td>\n",
              "      <td>1469.849976</td>\n",
              "      <td>64246</td>\n",
              "    </tr>\n",
              "  </tbody>\n",
              "</table>\n",
              "</div>"
            ],
            "text/plain": [
              "                   Datetime         Open  ...    Adj Close  Volume\n",
              "0 2021-01-12 09:15:00+05:30  1460.650024  ...  1469.849976   64246\n",
              "\n",
              "[1 rows x 7 columns]"
            ]
          },
          "metadata": {
            "tags": []
          },
          "execution_count": 254
        }
      ]
    },
    {
      "cell_type": "code",
      "metadata": {
        "id": "V0cEo2veB6y9"
      },
      "source": [
        "IRCTC['Datetime']=IRCTC['Datetime'].astype('str')\n",
        "df=IRCTC['Datetime'].str.split(' ',expand=True)\n",
        "IRCTC['Date']=df[0]\n",
        "IRCTC['Time']=df[1]"
      ],
      "execution_count": null,
      "outputs": []
    },
    {
      "cell_type": "code",
      "metadata": {
        "id": "BDqnb91xWtVD"
      },
      "source": [
        "for i in IRCTC['Date']:\n",
        "  if i=='2021-02-24':\n",
        "    IRCTC.drop(IRCTC[IRCTC['Date'] == i].index, inplace = True) "
      ],
      "execution_count": null,
      "outputs": []
    },
    {
      "cell_type": "code",
      "metadata": {
        "id": "8ba2-2_2Tj9k"
      },
      "source": [
        "IRCTC.to_csv('IRCTC.csv',index=False)"
      ],
      "execution_count": null,
      "outputs": []
    },
    {
      "cell_type": "code",
      "metadata": {
        "colab": {
          "base_uri": "https://localhost:8080/",
          "height": 17
        },
        "id": "bT0XmayjT15y",
        "outputId": "6a0a70e4-219f-4ffe-b042-4b40340e06fc"
      },
      "source": [
        "files.download('IRCTC.csv')"
      ],
      "execution_count": null,
      "outputs": [
        {
          "output_type": "display_data",
          "data": {
            "application/javascript": [
              "\n",
              "    async function download(id, filename, size) {\n",
              "      if (!google.colab.kernel.accessAllowed) {\n",
              "        return;\n",
              "      }\n",
              "      const div = document.createElement('div');\n",
              "      const label = document.createElement('label');\n",
              "      label.textContent = `Downloading \"${filename}\": `;\n",
              "      div.appendChild(label);\n",
              "      const progress = document.createElement('progress');\n",
              "      progress.max = size;\n",
              "      div.appendChild(progress);\n",
              "      document.body.appendChild(div);\n",
              "\n",
              "      const buffers = [];\n",
              "      let downloaded = 0;\n",
              "\n",
              "      const channel = await google.colab.kernel.comms.open(id);\n",
              "      // Send a message to notify the kernel that we're ready.\n",
              "      channel.send({})\n",
              "\n",
              "      for await (const message of channel.messages) {\n",
              "        // Send a message to notify the kernel that we're ready.\n",
              "        channel.send({})\n",
              "        if (message.buffers) {\n",
              "          for (const buffer of message.buffers) {\n",
              "            buffers.push(buffer);\n",
              "            downloaded += buffer.byteLength;\n",
              "            progress.value = downloaded;\n",
              "          }\n",
              "        }\n",
              "      }\n",
              "      const blob = new Blob(buffers, {type: 'application/binary'});\n",
              "      const a = document.createElement('a');\n",
              "      a.href = window.URL.createObjectURL(blob);\n",
              "      a.download = filename;\n",
              "      div.appendChild(a);\n",
              "      a.click();\n",
              "      div.remove();\n",
              "    }\n",
              "  "
            ],
            "text/plain": [
              "<IPython.core.display.Javascript object>"
            ]
          },
          "metadata": {
            "tags": []
          }
        },
        {
          "output_type": "display_data",
          "data": {
            "application/javascript": [
              "download(\"download_c471f0de-1ef4-4f0b-a61b-47c9715e68b1\", \"IRCTC.csv\", 127366)"
            ],
            "text/plain": [
              "<IPython.core.display.Javascript object>"
            ]
          },
          "metadata": {
            "tags": []
          }
        }
      ]
    },
    {
      "cell_type": "code",
      "metadata": {
        "id": "d-DpZ7fkCWaf"
      },
      "source": [
        "dupli=IRCTC.copy()"
      ],
      "execution_count": null,
      "outputs": []
    },
    {
      "cell_type": "code",
      "metadata": {
        "id": "drcqeKTQ_4zb"
      },
      "source": [
        "for i in dupli['Time']:\n",
        "  if i=='10:00:00+05:30' or i=='15:00:00+05:30':\n",
        "    pass\n",
        "  else:\n",
        "    dupli.drop(dupli[dupli['Time'] == i].index, inplace = True) "
      ],
      "execution_count": null,
      "outputs": []
    },
    {
      "cell_type": "code",
      "metadata": {
        "colab": {
          "base_uri": "https://localhost:8080/",
          "height": 108
        },
        "id": "EA2Xj9tyYqrn",
        "outputId": "ba407d05-2362-4653-d093-a0250979ac3d"
      },
      "source": [
        "dupli.head(2)"
      ],
      "execution_count": null,
      "outputs": [
        {
          "output_type": "execute_result",
          "data": {
            "text/html": [
              "<div>\n",
              "<style scoped>\n",
              "    .dataframe tbody tr th:only-of-type {\n",
              "        vertical-align: middle;\n",
              "    }\n",
              "\n",
              "    .dataframe tbody tr th {\n",
              "        vertical-align: top;\n",
              "    }\n",
              "\n",
              "    .dataframe thead th {\n",
              "        text-align: right;\n",
              "    }\n",
              "</style>\n",
              "<table border=\"1\" class=\"dataframe\">\n",
              "  <thead>\n",
              "    <tr style=\"text-align: right;\">\n",
              "      <th></th>\n",
              "      <th>Datetime</th>\n",
              "      <th>Open</th>\n",
              "      <th>High</th>\n",
              "      <th>Low</th>\n",
              "      <th>Close</th>\n",
              "      <th>Adj Close</th>\n",
              "      <th>Volume</th>\n",
              "      <th>Date</th>\n",
              "      <th>Time</th>\n",
              "    </tr>\n",
              "  </thead>\n",
              "  <tbody>\n",
              "    <tr>\n",
              "      <th>3</th>\n",
              "      <td>2021-01-12 10:00:00+05:30</td>\n",
              "      <td>1465.150024</td>\n",
              "      <td>1467.099976</td>\n",
              "      <td>1462.650024</td>\n",
              "      <td>1465.000000</td>\n",
              "      <td>1465.000000</td>\n",
              "      <td>19028</td>\n",
              "      <td>2021-01-12</td>\n",
              "      <td>10:00:00+05:30</td>\n",
              "    </tr>\n",
              "    <tr>\n",
              "      <th>23</th>\n",
              "      <td>2021-01-12 15:00:00+05:30</td>\n",
              "      <td>1481.150024</td>\n",
              "      <td>1482.099976</td>\n",
              "      <td>1474.500000</td>\n",
              "      <td>1476.349976</td>\n",
              "      <td>1476.349976</td>\n",
              "      <td>103323</td>\n",
              "      <td>2021-01-12</td>\n",
              "      <td>15:00:00+05:30</td>\n",
              "    </tr>\n",
              "  </tbody>\n",
              "</table>\n",
              "</div>"
            ],
            "text/plain": [
              "                     Datetime         Open  ...        Date            Time\n",
              "3   2021-01-12 10:00:00+05:30  1465.150024  ...  2021-01-12  10:00:00+05:30\n",
              "23  2021-01-12 15:00:00+05:30  1481.150024  ...  2021-01-12  15:00:00+05:30\n",
              "\n",
              "[2 rows x 9 columns]"
            ]
          },
          "metadata": {
            "tags": []
          },
          "execution_count": 283
        }
      ]
    },
    {
      "cell_type": "code",
      "metadata": {
        "id": "eAHjrPTKIdTO"
      },
      "source": [
        "#dupli=dupli.drop(3,axis=0)"
      ],
      "execution_count": null,
      "outputs": []
    },
    {
      "cell_type": "code",
      "metadata": {
        "id": "NLIpwTVZEa_1"
      },
      "source": [
        "dupli.reset_index(inplace=True)"
      ],
      "execution_count": null,
      "outputs": []
    },
    {
      "cell_type": "code",
      "metadata": {
        "id": "So-APSdnJn6n"
      },
      "source": [
        "dupli['Buy Date']= dupli['Date'] +' '+dupli['Time']"
      ],
      "execution_count": null,
      "outputs": []
    },
    {
      "cell_type": "code",
      "metadata": {
        "id": "ou5l22pAHWXW"
      },
      "source": [
        "dupli=dupli.drop(['index','Datetime','High','Low','Close','Adj Close','Volume','Date','Time'],axis=1)"
      ],
      "execution_count": null,
      "outputs": []
    },
    {
      "cell_type": "code",
      "metadata": {
        "id": "w6NYeUFXHzVt"
      },
      "source": [
        "dupli=dupli.rename(columns={'Open':'Buy Price'})"
      ],
      "execution_count": null,
      "outputs": []
    },
    {
      "cell_type": "code",
      "metadata": {
        "colab": {
          "base_uri": "https://localhost:8080/",
          "height": 410
        },
        "id": "POvZHfHoSA4u",
        "outputId": "e8170a81-de4d-4aa1-ffe0-dab29da4c7d4"
      },
      "source": [
        "dupli"
      ],
      "execution_count": null,
      "outputs": [
        {
          "output_type": "execute_result",
          "data": {
            "text/html": [
              "<div>\n",
              "<style scoped>\n",
              "    .dataframe tbody tr th:only-of-type {\n",
              "        vertical-align: middle;\n",
              "    }\n",
              "\n",
              "    .dataframe tbody tr th {\n",
              "        vertical-align: top;\n",
              "    }\n",
              "\n",
              "    .dataframe thead th {\n",
              "        text-align: right;\n",
              "    }\n",
              "</style>\n",
              "<table border=\"1\" class=\"dataframe\">\n",
              "  <thead>\n",
              "    <tr style=\"text-align: right;\">\n",
              "      <th></th>\n",
              "      <th>Buy Price</th>\n",
              "      <th>Buy Date</th>\n",
              "    </tr>\n",
              "  </thead>\n",
              "  <tbody>\n",
              "    <tr>\n",
              "      <th>0</th>\n",
              "      <td>1465.150024</td>\n",
              "      <td>2021-01-12 10:00:00+05:30</td>\n",
              "    </tr>\n",
              "    <tr>\n",
              "      <th>1</th>\n",
              "      <td>1481.150024</td>\n",
              "      <td>2021-01-12 15:00:00+05:30</td>\n",
              "    </tr>\n",
              "    <tr>\n",
              "      <th>2</th>\n",
              "      <td>1484.949951</td>\n",
              "      <td>2021-01-13 10:00:00+05:30</td>\n",
              "    </tr>\n",
              "    <tr>\n",
              "      <th>3</th>\n",
              "      <td>1462.000000</td>\n",
              "      <td>2021-01-13 15:00:00+05:30</td>\n",
              "    </tr>\n",
              "    <tr>\n",
              "      <th>4</th>\n",
              "      <td>1463.800049</td>\n",
              "      <td>2021-01-14 10:00:00+05:30</td>\n",
              "    </tr>\n",
              "    <tr>\n",
              "      <th>...</th>\n",
              "      <td>...</td>\n",
              "      <td>...</td>\n",
              "    </tr>\n",
              "    <tr>\n",
              "      <th>75</th>\n",
              "      <td>2005.449951</td>\n",
              "      <td>2021-03-08 15:00:00+05:30</td>\n",
              "    </tr>\n",
              "    <tr>\n",
              "      <th>76</th>\n",
              "      <td>2034.699951</td>\n",
              "      <td>2021-03-09 10:00:00+05:30</td>\n",
              "    </tr>\n",
              "    <tr>\n",
              "      <th>77</th>\n",
              "      <td>2029.599976</td>\n",
              "      <td>2021-03-09 15:00:00+05:30</td>\n",
              "    </tr>\n",
              "    <tr>\n",
              "      <th>78</th>\n",
              "      <td>2032.099976</td>\n",
              "      <td>2021-03-10 10:00:00+05:30</td>\n",
              "    </tr>\n",
              "    <tr>\n",
              "      <th>79</th>\n",
              "      <td>2019.000000</td>\n",
              "      <td>2021-03-10 15:00:00+05:30</td>\n",
              "    </tr>\n",
              "  </tbody>\n",
              "</table>\n",
              "<p>80 rows × 2 columns</p>\n",
              "</div>"
            ],
            "text/plain": [
              "      Buy Price                   Buy Date\n",
              "0   1465.150024  2021-01-12 10:00:00+05:30\n",
              "1   1481.150024  2021-01-12 15:00:00+05:30\n",
              "2   1484.949951  2021-01-13 10:00:00+05:30\n",
              "3   1462.000000  2021-01-13 15:00:00+05:30\n",
              "4   1463.800049  2021-01-14 10:00:00+05:30\n",
              "..          ...                        ...\n",
              "75  2005.449951  2021-03-08 15:00:00+05:30\n",
              "76  2034.699951  2021-03-09 10:00:00+05:30\n",
              "77  2029.599976  2021-03-09 15:00:00+05:30\n",
              "78  2032.099976  2021-03-10 10:00:00+05:30\n",
              "79  2019.000000  2021-03-10 15:00:00+05:30\n",
              "\n",
              "[80 rows x 2 columns]"
            ]
          },
          "metadata": {
            "tags": []
          },
          "execution_count": 289
        }
      ]
    },
    {
      "cell_type": "code",
      "metadata": {
        "id": "CMpoQzqyIBgl"
      },
      "source": [
        "dupli['Sell Price']=dupli['Buy Price'].shift(-1)"
      ],
      "execution_count": null,
      "outputs": []
    },
    {
      "cell_type": "code",
      "metadata": {
        "id": "7Op03a1TJBQ7"
      },
      "source": [
        "dupli['Sell Date']=dupli['Buy Date'].shift(-1)"
      ],
      "execution_count": null,
      "outputs": []
    },
    {
      "cell_type": "code",
      "metadata": {
        "id": "wlfRz13UI3mg"
      },
      "source": [
        "dupli=dupli.dropna()"
      ],
      "execution_count": null,
      "outputs": []
    },
    {
      "cell_type": "code",
      "metadata": {
        "colab": {
          "base_uri": "https://localhost:8080/",
          "height": 654
        },
        "id": "qVAihbWHSWff",
        "outputId": "90e0a4cb-889c-46fd-c28b-6a08d86d1d57"
      },
      "source": [
        "dupli.head(20)"
      ],
      "execution_count": null,
      "outputs": [
        {
          "output_type": "execute_result",
          "data": {
            "text/html": [
              "<div>\n",
              "<style scoped>\n",
              "    .dataframe tbody tr th:only-of-type {\n",
              "        vertical-align: middle;\n",
              "    }\n",
              "\n",
              "    .dataframe tbody tr th {\n",
              "        vertical-align: top;\n",
              "    }\n",
              "\n",
              "    .dataframe thead th {\n",
              "        text-align: right;\n",
              "    }\n",
              "</style>\n",
              "<table border=\"1\" class=\"dataframe\">\n",
              "  <thead>\n",
              "    <tr style=\"text-align: right;\">\n",
              "      <th></th>\n",
              "      <th>Buy Price</th>\n",
              "      <th>Buy Date</th>\n",
              "      <th>Sell Price</th>\n",
              "      <th>Sell Date</th>\n",
              "    </tr>\n",
              "  </thead>\n",
              "  <tbody>\n",
              "    <tr>\n",
              "      <th>0</th>\n",
              "      <td>1465.150024</td>\n",
              "      <td>2021-01-12 10:00:00+05:30</td>\n",
              "      <td>1481.150024</td>\n",
              "      <td>2021-01-12 15:00:00+05:30</td>\n",
              "    </tr>\n",
              "    <tr>\n",
              "      <th>1</th>\n",
              "      <td>1481.150024</td>\n",
              "      <td>2021-01-12 15:00:00+05:30</td>\n",
              "      <td>1484.949951</td>\n",
              "      <td>2021-01-13 10:00:00+05:30</td>\n",
              "    </tr>\n",
              "    <tr>\n",
              "      <th>2</th>\n",
              "      <td>1484.949951</td>\n",
              "      <td>2021-01-13 10:00:00+05:30</td>\n",
              "      <td>1462.000000</td>\n",
              "      <td>2021-01-13 15:00:00+05:30</td>\n",
              "    </tr>\n",
              "    <tr>\n",
              "      <th>3</th>\n",
              "      <td>1462.000000</td>\n",
              "      <td>2021-01-13 15:00:00+05:30</td>\n",
              "      <td>1463.800049</td>\n",
              "      <td>2021-01-14 10:00:00+05:30</td>\n",
              "    </tr>\n",
              "    <tr>\n",
              "      <th>4</th>\n",
              "      <td>1463.800049</td>\n",
              "      <td>2021-01-14 10:00:00+05:30</td>\n",
              "      <td>1463.150024</td>\n",
              "      <td>2021-01-14 15:00:00+05:30</td>\n",
              "    </tr>\n",
              "    <tr>\n",
              "      <th>5</th>\n",
              "      <td>1463.150024</td>\n",
              "      <td>2021-01-14 15:00:00+05:30</td>\n",
              "      <td>1457.000000</td>\n",
              "      <td>2021-01-15 10:00:00+05:30</td>\n",
              "    </tr>\n",
              "    <tr>\n",
              "      <th>6</th>\n",
              "      <td>1457.000000</td>\n",
              "      <td>2021-01-15 10:00:00+05:30</td>\n",
              "      <td>1442.699951</td>\n",
              "      <td>2021-01-15 15:00:00+05:30</td>\n",
              "    </tr>\n",
              "    <tr>\n",
              "      <th>7</th>\n",
              "      <td>1442.699951</td>\n",
              "      <td>2021-01-15 15:00:00+05:30</td>\n",
              "      <td>1448.199951</td>\n",
              "      <td>2021-01-18 10:00:00+05:30</td>\n",
              "    </tr>\n",
              "    <tr>\n",
              "      <th>8</th>\n",
              "      <td>1448.199951</td>\n",
              "      <td>2021-01-18 10:00:00+05:30</td>\n",
              "      <td>1428.000000</td>\n",
              "      <td>2021-01-18 15:00:00+05:30</td>\n",
              "    </tr>\n",
              "    <tr>\n",
              "      <th>9</th>\n",
              "      <td>1428.000000</td>\n",
              "      <td>2021-01-18 15:00:00+05:30</td>\n",
              "      <td>1440.300049</td>\n",
              "      <td>2021-01-19 10:00:00+05:30</td>\n",
              "    </tr>\n",
              "    <tr>\n",
              "      <th>10</th>\n",
              "      <td>1440.300049</td>\n",
              "      <td>2021-01-19 10:00:00+05:30</td>\n",
              "      <td>1439.000000</td>\n",
              "      <td>2021-01-19 15:00:00+05:30</td>\n",
              "    </tr>\n",
              "    <tr>\n",
              "      <th>11</th>\n",
              "      <td>1439.000000</td>\n",
              "      <td>2021-01-19 15:00:00+05:30</td>\n",
              "      <td>1443.000000</td>\n",
              "      <td>2021-01-20 10:00:00+05:30</td>\n",
              "    </tr>\n",
              "    <tr>\n",
              "      <th>12</th>\n",
              "      <td>1443.000000</td>\n",
              "      <td>2021-01-20 10:00:00+05:30</td>\n",
              "      <td>1450.699951</td>\n",
              "      <td>2021-01-20 15:00:00+05:30</td>\n",
              "    </tr>\n",
              "    <tr>\n",
              "      <th>13</th>\n",
              "      <td>1450.699951</td>\n",
              "      <td>2021-01-20 15:00:00+05:30</td>\n",
              "      <td>1452.500000</td>\n",
              "      <td>2021-01-21 10:00:00+05:30</td>\n",
              "    </tr>\n",
              "    <tr>\n",
              "      <th>14</th>\n",
              "      <td>1452.500000</td>\n",
              "      <td>2021-01-21 10:00:00+05:30</td>\n",
              "      <td>1457.000000</td>\n",
              "      <td>2021-01-21 15:00:00+05:30</td>\n",
              "    </tr>\n",
              "    <tr>\n",
              "      <th>15</th>\n",
              "      <td>1457.000000</td>\n",
              "      <td>2021-01-21 15:00:00+05:30</td>\n",
              "      <td>1457.099976</td>\n",
              "      <td>2021-01-22 10:00:00+05:30</td>\n",
              "    </tr>\n",
              "    <tr>\n",
              "      <th>16</th>\n",
              "      <td>1457.099976</td>\n",
              "      <td>2021-01-22 10:00:00+05:30</td>\n",
              "      <td>1436.449951</td>\n",
              "      <td>2021-01-22 15:00:00+05:30</td>\n",
              "    </tr>\n",
              "    <tr>\n",
              "      <th>17</th>\n",
              "      <td>1436.449951</td>\n",
              "      <td>2021-01-22 15:00:00+05:30</td>\n",
              "      <td>1430.000000</td>\n",
              "      <td>2021-01-25 10:00:00+05:30</td>\n",
              "    </tr>\n",
              "    <tr>\n",
              "      <th>18</th>\n",
              "      <td>1430.000000</td>\n",
              "      <td>2021-01-25 10:00:00+05:30</td>\n",
              "      <td>1425.500000</td>\n",
              "      <td>2021-01-25 15:00:00+05:30</td>\n",
              "    </tr>\n",
              "    <tr>\n",
              "      <th>19</th>\n",
              "      <td>1425.500000</td>\n",
              "      <td>2021-01-25 15:00:00+05:30</td>\n",
              "      <td>1432.449951</td>\n",
              "      <td>2021-01-27 10:00:00+05:30</td>\n",
              "    </tr>\n",
              "  </tbody>\n",
              "</table>\n",
              "</div>"
            ],
            "text/plain": [
              "      Buy Price  ...                  Sell Date\n",
              "0   1465.150024  ...  2021-01-12 15:00:00+05:30\n",
              "1   1481.150024  ...  2021-01-13 10:00:00+05:30\n",
              "2   1484.949951  ...  2021-01-13 15:00:00+05:30\n",
              "3   1462.000000  ...  2021-01-14 10:00:00+05:30\n",
              "4   1463.800049  ...  2021-01-14 15:00:00+05:30\n",
              "5   1463.150024  ...  2021-01-15 10:00:00+05:30\n",
              "6   1457.000000  ...  2021-01-15 15:00:00+05:30\n",
              "7   1442.699951  ...  2021-01-18 10:00:00+05:30\n",
              "8   1448.199951  ...  2021-01-18 15:00:00+05:30\n",
              "9   1428.000000  ...  2021-01-19 10:00:00+05:30\n",
              "10  1440.300049  ...  2021-01-19 15:00:00+05:30\n",
              "11  1439.000000  ...  2021-01-20 10:00:00+05:30\n",
              "12  1443.000000  ...  2021-01-20 15:00:00+05:30\n",
              "13  1450.699951  ...  2021-01-21 10:00:00+05:30\n",
              "14  1452.500000  ...  2021-01-21 15:00:00+05:30\n",
              "15  1457.000000  ...  2021-01-22 10:00:00+05:30\n",
              "16  1457.099976  ...  2021-01-22 15:00:00+05:30\n",
              "17  1436.449951  ...  2021-01-25 10:00:00+05:30\n",
              "18  1430.000000  ...  2021-01-25 15:00:00+05:30\n",
              "19  1425.500000  ...  2021-01-27 10:00:00+05:30\n",
              "\n",
              "[20 rows x 4 columns]"
            ]
          },
          "metadata": {
            "tags": []
          },
          "execution_count": 293
        }
      ]
    },
    {
      "cell_type": "code",
      "metadata": {
        "id": "-3tyKJp2Ko3q"
      },
      "source": [
        "dupli = dupli[np.arange(len(dupli)) % 2 == 0]"
      ],
      "execution_count": null,
      "outputs": []
    },
    {
      "cell_type": "code",
      "metadata": {
        "id": "QOdIo41_KYhT"
      },
      "source": [
        "dupli.reset_index(inplace=True)"
      ],
      "execution_count": null,
      "outputs": []
    },
    {
      "cell_type": "code",
      "metadata": {
        "id": "dfKFTvjVL5KC"
      },
      "source": [
        "dupli=dupli.drop('index',axis=1)"
      ],
      "execution_count": null,
      "outputs": []
    },
    {
      "cell_type": "code",
      "metadata": {
        "colab": {
          "base_uri": "https://localhost:8080/",
          "height": 1000
        },
        "id": "HA92WrttMBCh",
        "outputId": "1b431858-0ab0-4940-dbfe-af570d32e6bd"
      },
      "source": [
        "dupli"
      ],
      "execution_count": null,
      "outputs": [
        {
          "output_type": "execute_result",
          "data": {
            "text/html": [
              "<div>\n",
              "<style scoped>\n",
              "    .dataframe tbody tr th:only-of-type {\n",
              "        vertical-align: middle;\n",
              "    }\n",
              "\n",
              "    .dataframe tbody tr th {\n",
              "        vertical-align: top;\n",
              "    }\n",
              "\n",
              "    .dataframe thead th {\n",
              "        text-align: right;\n",
              "    }\n",
              "</style>\n",
              "<table border=\"1\" class=\"dataframe\">\n",
              "  <thead>\n",
              "    <tr style=\"text-align: right;\">\n",
              "      <th></th>\n",
              "      <th>Buy Price</th>\n",
              "      <th>Buy Date</th>\n",
              "      <th>Sell Price</th>\n",
              "      <th>Sell Date</th>\n",
              "    </tr>\n",
              "  </thead>\n",
              "  <tbody>\n",
              "    <tr>\n",
              "      <th>0</th>\n",
              "      <td>1465.150024</td>\n",
              "      <td>2021-01-12 10:00:00+05:30</td>\n",
              "      <td>1481.150024</td>\n",
              "      <td>2021-01-12 15:00:00+05:30</td>\n",
              "    </tr>\n",
              "    <tr>\n",
              "      <th>1</th>\n",
              "      <td>1484.949951</td>\n",
              "      <td>2021-01-13 10:00:00+05:30</td>\n",
              "      <td>1462.000000</td>\n",
              "      <td>2021-01-13 15:00:00+05:30</td>\n",
              "    </tr>\n",
              "    <tr>\n",
              "      <th>2</th>\n",
              "      <td>1463.800049</td>\n",
              "      <td>2021-01-14 10:00:00+05:30</td>\n",
              "      <td>1463.150024</td>\n",
              "      <td>2021-01-14 15:00:00+05:30</td>\n",
              "    </tr>\n",
              "    <tr>\n",
              "      <th>3</th>\n",
              "      <td>1457.000000</td>\n",
              "      <td>2021-01-15 10:00:00+05:30</td>\n",
              "      <td>1442.699951</td>\n",
              "      <td>2021-01-15 15:00:00+05:30</td>\n",
              "    </tr>\n",
              "    <tr>\n",
              "      <th>4</th>\n",
              "      <td>1448.199951</td>\n",
              "      <td>2021-01-18 10:00:00+05:30</td>\n",
              "      <td>1428.000000</td>\n",
              "      <td>2021-01-18 15:00:00+05:30</td>\n",
              "    </tr>\n",
              "    <tr>\n",
              "      <th>5</th>\n",
              "      <td>1440.300049</td>\n",
              "      <td>2021-01-19 10:00:00+05:30</td>\n",
              "      <td>1439.000000</td>\n",
              "      <td>2021-01-19 15:00:00+05:30</td>\n",
              "    </tr>\n",
              "    <tr>\n",
              "      <th>6</th>\n",
              "      <td>1443.000000</td>\n",
              "      <td>2021-01-20 10:00:00+05:30</td>\n",
              "      <td>1450.699951</td>\n",
              "      <td>2021-01-20 15:00:00+05:30</td>\n",
              "    </tr>\n",
              "    <tr>\n",
              "      <th>7</th>\n",
              "      <td>1452.500000</td>\n",
              "      <td>2021-01-21 10:00:00+05:30</td>\n",
              "      <td>1457.000000</td>\n",
              "      <td>2021-01-21 15:00:00+05:30</td>\n",
              "    </tr>\n",
              "    <tr>\n",
              "      <th>8</th>\n",
              "      <td>1457.099976</td>\n",
              "      <td>2021-01-22 10:00:00+05:30</td>\n",
              "      <td>1436.449951</td>\n",
              "      <td>2021-01-22 15:00:00+05:30</td>\n",
              "    </tr>\n",
              "    <tr>\n",
              "      <th>9</th>\n",
              "      <td>1430.000000</td>\n",
              "      <td>2021-01-25 10:00:00+05:30</td>\n",
              "      <td>1425.500000</td>\n",
              "      <td>2021-01-25 15:00:00+05:30</td>\n",
              "    </tr>\n",
              "    <tr>\n",
              "      <th>10</th>\n",
              "      <td>1432.449951</td>\n",
              "      <td>2021-01-27 10:00:00+05:30</td>\n",
              "      <td>1435.099976</td>\n",
              "      <td>2021-01-27 15:00:00+05:30</td>\n",
              "    </tr>\n",
              "    <tr>\n",
              "      <th>11</th>\n",
              "      <td>1475.800049</td>\n",
              "      <td>2021-01-28 10:00:00+05:30</td>\n",
              "      <td>1460.000000</td>\n",
              "      <td>2021-01-28 15:00:00+05:30</td>\n",
              "    </tr>\n",
              "    <tr>\n",
              "      <th>12</th>\n",
              "      <td>1458.849976</td>\n",
              "      <td>2021-01-29 10:00:00+05:30</td>\n",
              "      <td>1464.650024</td>\n",
              "      <td>2021-01-29 15:00:00+05:30</td>\n",
              "    </tr>\n",
              "    <tr>\n",
              "      <th>13</th>\n",
              "      <td>1462.000000</td>\n",
              "      <td>2021-02-01 10:00:00+05:30</td>\n",
              "      <td>1465.750000</td>\n",
              "      <td>2021-02-01 15:00:00+05:30</td>\n",
              "    </tr>\n",
              "    <tr>\n",
              "      <th>14</th>\n",
              "      <td>1473.000000</td>\n",
              "      <td>2021-02-02 10:00:00+05:30</td>\n",
              "      <td>1467.800049</td>\n",
              "      <td>2021-02-02 15:00:00+05:30</td>\n",
              "    </tr>\n",
              "    <tr>\n",
              "      <th>15</th>\n",
              "      <td>1473.400024</td>\n",
              "      <td>2021-02-03 10:00:00+05:30</td>\n",
              "      <td>1475.550049</td>\n",
              "      <td>2021-02-03 15:00:00+05:30</td>\n",
              "    </tr>\n",
              "    <tr>\n",
              "      <th>16</th>\n",
              "      <td>1476.900024</td>\n",
              "      <td>2021-02-04 10:00:00+05:30</td>\n",
              "      <td>1487.500000</td>\n",
              "      <td>2021-02-04 15:00:00+05:30</td>\n",
              "    </tr>\n",
              "    <tr>\n",
              "      <th>17</th>\n",
              "      <td>1536.349976</td>\n",
              "      <td>2021-02-05 10:00:00+05:30</td>\n",
              "      <td>1540.000000</td>\n",
              "      <td>2021-02-05 15:00:00+05:30</td>\n",
              "    </tr>\n",
              "    <tr>\n",
              "      <th>18</th>\n",
              "      <td>1588.550049</td>\n",
              "      <td>2021-02-08 10:00:00+05:30</td>\n",
              "      <td>1617.699951</td>\n",
              "      <td>2021-02-08 15:00:00+05:30</td>\n",
              "    </tr>\n",
              "    <tr>\n",
              "      <th>19</th>\n",
              "      <td>1609.849976</td>\n",
              "      <td>2021-02-09 10:00:00+05:30</td>\n",
              "      <td>1641.000000</td>\n",
              "      <td>2021-02-09 15:00:00+05:30</td>\n",
              "    </tr>\n",
              "    <tr>\n",
              "      <th>20</th>\n",
              "      <td>1665.050049</td>\n",
              "      <td>2021-02-10 10:00:00+05:30</td>\n",
              "      <td>1617.000000</td>\n",
              "      <td>2021-02-10 15:00:00+05:30</td>\n",
              "    </tr>\n",
              "    <tr>\n",
              "      <th>21</th>\n",
              "      <td>1627.050049</td>\n",
              "      <td>2021-02-11 10:00:00+05:30</td>\n",
              "      <td>1621.199951</td>\n",
              "      <td>2021-02-11 15:00:00+05:30</td>\n",
              "    </tr>\n",
              "    <tr>\n",
              "      <th>22</th>\n",
              "      <td>1643.199951</td>\n",
              "      <td>2021-02-12 10:00:00+05:30</td>\n",
              "      <td>1715.000000</td>\n",
              "      <td>2021-02-12 15:00:00+05:30</td>\n",
              "    </tr>\n",
              "    <tr>\n",
              "      <th>23</th>\n",
              "      <td>1709.050049</td>\n",
              "      <td>2021-02-15 10:00:00+05:30</td>\n",
              "      <td>1711.150024</td>\n",
              "      <td>2021-02-15 15:00:00+05:30</td>\n",
              "    </tr>\n",
              "    <tr>\n",
              "      <th>24</th>\n",
              "      <td>1716.000000</td>\n",
              "      <td>2021-02-16 10:00:00+05:30</td>\n",
              "      <td>1677.250000</td>\n",
              "      <td>2021-02-16 15:00:00+05:30</td>\n",
              "    </tr>\n",
              "    <tr>\n",
              "      <th>25</th>\n",
              "      <td>1682.599976</td>\n",
              "      <td>2021-02-17 10:00:00+05:30</td>\n",
              "      <td>1697.050049</td>\n",
              "      <td>2021-02-17 15:00:00+05:30</td>\n",
              "    </tr>\n",
              "    <tr>\n",
              "      <th>26</th>\n",
              "      <td>1696.599976</td>\n",
              "      <td>2021-02-18 10:00:00+05:30</td>\n",
              "      <td>1700.949951</td>\n",
              "      <td>2021-02-18 15:00:00+05:30</td>\n",
              "    </tr>\n",
              "    <tr>\n",
              "      <th>27</th>\n",
              "      <td>1702.000000</td>\n",
              "      <td>2021-02-19 10:00:00+05:30</td>\n",
              "      <td>1660.150024</td>\n",
              "      <td>2021-02-19 15:00:00+05:30</td>\n",
              "    </tr>\n",
              "    <tr>\n",
              "      <th>28</th>\n",
              "      <td>1648.800049</td>\n",
              "      <td>2021-02-22 10:00:00+05:30</td>\n",
              "      <td>1631.400024</td>\n",
              "      <td>2021-02-22 15:00:00+05:30</td>\n",
              "    </tr>\n",
              "    <tr>\n",
              "      <th>29</th>\n",
              "      <td>1615.900024</td>\n",
              "      <td>2021-02-23 10:00:00+05:30</td>\n",
              "      <td>1633.000000</td>\n",
              "      <td>2021-02-23 15:00:00+05:30</td>\n",
              "    </tr>\n",
              "    <tr>\n",
              "      <th>30</th>\n",
              "      <td>1679.400024</td>\n",
              "      <td>2021-02-25 10:00:00+05:30</td>\n",
              "      <td>1719.650024</td>\n",
              "      <td>2021-02-25 15:00:00+05:30</td>\n",
              "    </tr>\n",
              "    <tr>\n",
              "      <th>31</th>\n",
              "      <td>1772.000000</td>\n",
              "      <td>2021-02-26 10:00:00+05:30</td>\n",
              "      <td>1771.099976</td>\n",
              "      <td>2021-02-26 15:00:00+05:30</td>\n",
              "    </tr>\n",
              "    <tr>\n",
              "      <th>32</th>\n",
              "      <td>1841.449951</td>\n",
              "      <td>2021-03-01 10:00:00+05:30</td>\n",
              "      <td>1922.050049</td>\n",
              "      <td>2021-03-01 15:00:00+05:30</td>\n",
              "    </tr>\n",
              "    <tr>\n",
              "      <th>33</th>\n",
              "      <td>1902.900024</td>\n",
              "      <td>2021-03-02 10:00:00+05:30</td>\n",
              "      <td>1898.000000</td>\n",
              "      <td>2021-03-02 15:00:00+05:30</td>\n",
              "    </tr>\n",
              "    <tr>\n",
              "      <th>34</th>\n",
              "      <td>1915.949951</td>\n",
              "      <td>2021-03-03 10:00:00+05:30</td>\n",
              "      <td>1889.699951</td>\n",
              "      <td>2021-03-03 15:00:00+05:30</td>\n",
              "    </tr>\n",
              "    <tr>\n",
              "      <th>35</th>\n",
              "      <td>1938.000000</td>\n",
              "      <td>2021-03-04 10:00:00+05:30</td>\n",
              "      <td>1967.250000</td>\n",
              "      <td>2021-03-04 15:00:00+05:30</td>\n",
              "    </tr>\n",
              "    <tr>\n",
              "      <th>36</th>\n",
              "      <td>1974.000000</td>\n",
              "      <td>2021-03-05 10:00:00+05:30</td>\n",
              "      <td>1933.599976</td>\n",
              "      <td>2021-03-05 15:00:00+05:30</td>\n",
              "    </tr>\n",
              "    <tr>\n",
              "      <th>37</th>\n",
              "      <td>1952.000000</td>\n",
              "      <td>2021-03-08 10:00:00+05:30</td>\n",
              "      <td>2005.449951</td>\n",
              "      <td>2021-03-08 15:00:00+05:30</td>\n",
              "    </tr>\n",
              "    <tr>\n",
              "      <th>38</th>\n",
              "      <td>2034.699951</td>\n",
              "      <td>2021-03-09 10:00:00+05:30</td>\n",
              "      <td>2029.599976</td>\n",
              "      <td>2021-03-09 15:00:00+05:30</td>\n",
              "    </tr>\n",
              "    <tr>\n",
              "      <th>39</th>\n",
              "      <td>2032.099976</td>\n",
              "      <td>2021-03-10 10:00:00+05:30</td>\n",
              "      <td>2019.000000</td>\n",
              "      <td>2021-03-10 15:00:00+05:30</td>\n",
              "    </tr>\n",
              "  </tbody>\n",
              "</table>\n",
              "</div>"
            ],
            "text/plain": [
              "      Buy Price  ...                  Sell Date\n",
              "0   1465.150024  ...  2021-01-12 15:00:00+05:30\n",
              "1   1484.949951  ...  2021-01-13 15:00:00+05:30\n",
              "2   1463.800049  ...  2021-01-14 15:00:00+05:30\n",
              "3   1457.000000  ...  2021-01-15 15:00:00+05:30\n",
              "4   1448.199951  ...  2021-01-18 15:00:00+05:30\n",
              "5   1440.300049  ...  2021-01-19 15:00:00+05:30\n",
              "6   1443.000000  ...  2021-01-20 15:00:00+05:30\n",
              "7   1452.500000  ...  2021-01-21 15:00:00+05:30\n",
              "8   1457.099976  ...  2021-01-22 15:00:00+05:30\n",
              "9   1430.000000  ...  2021-01-25 15:00:00+05:30\n",
              "10  1432.449951  ...  2021-01-27 15:00:00+05:30\n",
              "11  1475.800049  ...  2021-01-28 15:00:00+05:30\n",
              "12  1458.849976  ...  2021-01-29 15:00:00+05:30\n",
              "13  1462.000000  ...  2021-02-01 15:00:00+05:30\n",
              "14  1473.000000  ...  2021-02-02 15:00:00+05:30\n",
              "15  1473.400024  ...  2021-02-03 15:00:00+05:30\n",
              "16  1476.900024  ...  2021-02-04 15:00:00+05:30\n",
              "17  1536.349976  ...  2021-02-05 15:00:00+05:30\n",
              "18  1588.550049  ...  2021-02-08 15:00:00+05:30\n",
              "19  1609.849976  ...  2021-02-09 15:00:00+05:30\n",
              "20  1665.050049  ...  2021-02-10 15:00:00+05:30\n",
              "21  1627.050049  ...  2021-02-11 15:00:00+05:30\n",
              "22  1643.199951  ...  2021-02-12 15:00:00+05:30\n",
              "23  1709.050049  ...  2021-02-15 15:00:00+05:30\n",
              "24  1716.000000  ...  2021-02-16 15:00:00+05:30\n",
              "25  1682.599976  ...  2021-02-17 15:00:00+05:30\n",
              "26  1696.599976  ...  2021-02-18 15:00:00+05:30\n",
              "27  1702.000000  ...  2021-02-19 15:00:00+05:30\n",
              "28  1648.800049  ...  2021-02-22 15:00:00+05:30\n",
              "29  1615.900024  ...  2021-02-23 15:00:00+05:30\n",
              "30  1679.400024  ...  2021-02-25 15:00:00+05:30\n",
              "31  1772.000000  ...  2021-02-26 15:00:00+05:30\n",
              "32  1841.449951  ...  2021-03-01 15:00:00+05:30\n",
              "33  1902.900024  ...  2021-03-02 15:00:00+05:30\n",
              "34  1915.949951  ...  2021-03-03 15:00:00+05:30\n",
              "35  1938.000000  ...  2021-03-04 15:00:00+05:30\n",
              "36  1974.000000  ...  2021-03-05 15:00:00+05:30\n",
              "37  1952.000000  ...  2021-03-08 15:00:00+05:30\n",
              "38  2034.699951  ...  2021-03-09 15:00:00+05:30\n",
              "39  2032.099976  ...  2021-03-10 15:00:00+05:30\n",
              "\n",
              "[40 rows x 4 columns]"
            ]
          },
          "metadata": {
            "tags": []
          },
          "execution_count": 297
        }
      ]
    },
    {
      "cell_type": "code",
      "metadata": {
        "id": "vdwBD6MeLxjg"
      },
      "source": [
        "dupli['Profit/Loss']=((dupli['Sell Price'] - dupli['Buy Price']) * 30) - 130"
      ],
      "execution_count": null,
      "outputs": []
    },
    {
      "cell_type": "code",
      "metadata": {
        "colab": {
          "base_uri": "https://localhost:8080/"
        },
        "id": "YMLAqF_pMYOB",
        "outputId": "36a025d8-e1a4-4ea8-f3e4-125ef12a7307"
      },
      "source": [
        "dupli['Profit/Loss'].sum()"
      ],
      "execution_count": null,
      "outputs": [
        {
          "output_type": "execute_result",
          "data": {
            "text/plain": [
              "-2729.50439453125"
            ]
          },
          "metadata": {
            "tags": []
          },
          "execution_count": 299
        }
      ]
    },
    {
      "cell_type": "code",
      "metadata": {
        "id": "eINYjYEaQ9m6"
      },
      "source": [
        "dupli.to_csv('IRCTC_BTST.csv',index=False)"
      ],
      "execution_count": null,
      "outputs": []
    },
    {
      "cell_type": "code",
      "metadata": {
        "colab": {
          "base_uri": "https://localhost:8080/",
          "height": 17
        },
        "id": "CY-x4VIrP3p6",
        "outputId": "b94a1d9d-3f8e-4953-8eb8-18b7790ff4f8"
      },
      "source": [
        "#from google.colab import files\n",
        "files.download(\"IRCTC_BTST.csv\")"
      ],
      "execution_count": null,
      "outputs": [
        {
          "output_type": "display_data",
          "data": {
            "application/javascript": [
              "\n",
              "    async function download(id, filename, size) {\n",
              "      if (!google.colab.kernel.accessAllowed) {\n",
              "        return;\n",
              "      }\n",
              "      const div = document.createElement('div');\n",
              "      const label = document.createElement('label');\n",
              "      label.textContent = `Downloading \"${filename}\": `;\n",
              "      div.appendChild(label);\n",
              "      const progress = document.createElement('progress');\n",
              "      progress.max = size;\n",
              "      div.appendChild(progress);\n",
              "      document.body.appendChild(div);\n",
              "\n",
              "      const buffers = [];\n",
              "      let downloaded = 0;\n",
              "\n",
              "      const channel = await google.colab.kernel.comms.open(id);\n",
              "      // Send a message to notify the kernel that we're ready.\n",
              "      channel.send({})\n",
              "\n",
              "      for await (const message of channel.messages) {\n",
              "        // Send a message to notify the kernel that we're ready.\n",
              "        channel.send({})\n",
              "        if (message.buffers) {\n",
              "          for (const buffer of message.buffers) {\n",
              "            buffers.push(buffer);\n",
              "            downloaded += buffer.byteLength;\n",
              "            progress.value = downloaded;\n",
              "          }\n",
              "        }\n",
              "      }\n",
              "      const blob = new Blob(buffers, {type: 'application/binary'});\n",
              "      const a = document.createElement('a');\n",
              "      a.href = window.URL.createObjectURL(blob);\n",
              "      a.download = filename;\n",
              "      div.appendChild(a);\n",
              "      a.click();\n",
              "      div.remove();\n",
              "    }\n",
              "  "
            ],
            "text/plain": [
              "<IPython.core.display.Javascript object>"
            ]
          },
          "metadata": {
            "tags": []
          }
        },
        {
          "output_type": "display_data",
          "data": {
            "application/javascript": [
              "download(\"download_54337635-81af-405c-8fc5-914881b4c4fb\", \"IRCTC_BTST.csv\", 3776)"
            ],
            "text/plain": [
              "<IPython.core.display.Javascript object>"
            ]
          },
          "metadata": {
            "tags": []
          }
        }
      ]
    },
    {
      "cell_type": "code",
      "metadata": {
        "colab": {
          "base_uri": "https://localhost:8080/",
          "height": 500
        },
        "id": "hPztRr_F4ktu",
        "outputId": "47976c49-c01d-4a10-e04d-2e0dbd00432c"
      },
      "source": [
        "plt.figure(figsize=(15,8))\n",
        "plt.plot(IRCTC['Points Earned'],)"
      ],
      "execution_count": null,
      "outputs": [
        {
          "output_type": "execute_result",
          "data": {
            "text/plain": [
              "[<matplotlib.lines.Line2D at 0x7ff9088a6e50>]"
            ]
          },
          "metadata": {
            "tags": []
          },
          "execution_count": 24
        },
        {
          "output_type": "display_data",
          "data": {
            "image/png": "[encoded data removed]",
            "text/plain": [
              "<Figure size 1080x576 with 1 Axes>"
            ]
          },
          "metadata": {
            "tags": [],
            "needs_background": "light"
          }
        }
      ]
    },
    {
      "cell_type": "code",
      "metadata": {
        "id": "wBTBetly47ZA"
      },
      "source": [
        ""
      ],
      "execution_count": null,
      "outputs": []
    }
  ]
}