{
  "nbformat": 4,
  "nbformat_minor": 0,
  "metadata": {
    "colab": {
      "name": "camarilla.ipynb",
      "provenance": [],
      "collapsed_sections": [
        "EvQo6SGYIgra"
      ]
    },
    "kernelspec": {
      "name": "python3",
      "display_name": "Python 3"
    },
    "language_info": {
      "name": "python"
    },
    "widgets": {
      "application/vnd.jupyter.widget-state+json": {
        "25ceaba26a1f4c4c8d29b01a72f180e2": {
          "model_module": "@jupyter-widgets/controls",
          "model_name": "HBoxModel",
          "state": {
            "_view_name": "HBoxView",
            "_dom_classes": [],
            "_model_name": "HBoxModel",
            "_view_module": "@jupyter-widgets/controls",
            "_model_module_version": "1.5.0",
            "_view_count": null,
            "_view_module_version": "1.5.0",
            "box_style": "",
            "layout": "IPY_MODEL_18b9696db90f4145ad6519d95979101e",
            "_model_module": "@jupyter-widgets/controls",
            "children": [
              "IPY_MODEL_c595269cf6e04ecbada4fc72176e25c0",
              "IPY_MODEL_bb3f74b289df4f738c370b6f1ef9cb53"
            ]
          },
          "model_module_version": "1.5.0"
        },
        "18b9696db90f4145ad6519d95979101e": {
          "model_module": "@jupyter-widgets/base",
          "model_name": "LayoutModel",
          "state": {
            "_view_name": "LayoutView",
            "grid_template_rows": null,
            "right": null,
            "justify_content": null,
            "_view_module": "@jupyter-widgets/base",
            "overflow": null,
            "_model_module_version": "1.2.0",
            "_view_count": null,
            "flex_flow": null,
            "width": null,
            "min_width": null,
            "border": null,
            "align_items": null,
            "bottom": null,
            "_model_module": "@jupyter-widgets/base",
            "top": null,
            "grid_column": null,
            "overflow_y": null,
            "overflow_x": null,
            "grid_auto_flow": null,
            "grid_area": null,
            "grid_template_columns": null,
            "flex": null,
            "_model_name": "LayoutModel",
            "justify_items": null,
            "grid_row": null,
            "max_height": null,
            "align_content": null,
            "visibility": null,
            "align_self": null,
            "height": null,
            "min_height": null,
            "padding": null,
            "grid_auto_rows": null,
            "grid_gap": null,
            "max_width": null,
            "order": null,
            "_view_module_version": "1.2.0",
            "grid_template_areas": null,
            "object_position": null,
            "object_fit": null,
            "grid_auto_columns": null,
            "margin": null,
            "display": null,
            "left": null
          },
          "model_module_version": "1.2.0"
        },
        "c595269cf6e04ecbada4fc72176e25c0": {
          "model_module": "@jupyter-widgets/controls",
          "model_name": "FloatProgressModel",
          "state": {
            "_view_name": "ProgressView",
            "style": "IPY_MODEL_5b931e4a52fd4aa6a3092be7a784ca1b",
            "_dom_classes": [],
            "description": "100%",
            "_model_name": "FloatProgressModel",
            "bar_style": "success",
            "max": 50,
            "_view_module": "@jupyter-widgets/controls",
            "_model_module_version": "1.5.0",
            "value": 50,
            "_view_count": null,
            "_view_module_version": "1.5.0",
            "orientation": "horizontal",
            "min": 0,
            "description_tooltip": null,
            "_model_module": "@jupyter-widgets/controls",
            "layout": "IPY_MODEL_d2d2d639f60140949ee897a5ea7f61fd"
          },
          "model_module_version": "1.5.0"
        },
        "bb3f74b289df4f738c370b6f1ef9cb53": {
          "model_module": "@jupyter-widgets/controls",
          "model_name": "HTMLModel",
          "state": {
            "_view_name": "HTMLView",
            "style": "IPY_MODEL_b3a79bf977f64d20bced19f0d3a51a14",
            "_dom_classes": [],
            "description": "",
            "_model_name": "HTMLModel",
            "placeholder": "​",
            "_view_module": "@jupyter-widgets/controls",
            "_model_module_version": "1.5.0",
            "value": " 50/50 [01:06&lt;00:00,  1.33s/it]",
            "_view_count": null,
            "_view_module_version": "1.5.0",
            "description_tooltip": null,
            "_model_module": "@jupyter-widgets/controls",
            "layout": "IPY_MODEL_1cc909ca454b406bb9d7eb59d91706cd"
          },
          "model_module_version": "1.5.0"
        },
        "5b931e4a52fd4aa6a3092be7a784ca1b": {
          "model_module": "@jupyter-widgets/controls",
          "model_name": "ProgressStyleModel",
          "state": {
            "_view_name": "StyleView",
            "_model_name": "ProgressStyleModel",
            "description_width": "initial",
            "_view_module": "@jupyter-widgets/base",
            "_model_module_version": "1.5.0",
            "_view_count": null,
            "_view_module_version": "1.2.0",
            "bar_color": null,
            "_model_module": "@jupyter-widgets/controls"
          },
          "model_module_version": "1.5.0"
        },
        "d2d2d639f60140949ee897a5ea7f61fd": {
          "model_module": "@jupyter-widgets/base",
          "model_name": "LayoutModel",
          "state": {
            "_view_name": "LayoutView",
            "grid_template_rows": null,
            "right": null,
            "justify_content": null,
            "_view_module": "@jupyter-widgets/base",
            "overflow": null,
            "_model_module_version": "1.2.0",
            "_view_count": null,
            "flex_flow": null,
            "width": null,
            "min_width": null,
            "border": null,
            "align_items": null,
            "bottom": null,
            "_model_module": "@jupyter-widgets/base",
            "top": null,
            "grid_column": null,
            "overflow_y": null,
            "overflow_x": null,
            "grid_auto_flow": null,
            "grid_area": null,
            "grid_template_columns": null,
            "flex": null,
            "_model_name": "LayoutModel",
            "justify_items": null,
            "grid_row": null,
            "max_height": null,
            "align_content": null,
            "visibility": null,
            "align_self": null,
            "height": null,
            "min_height": null,
            "padding": null,
            "grid_auto_rows": null,
            "grid_gap": null,
            "max_width": null,
            "order": null,
            "_view_module_version": "1.2.0",
            "grid_template_areas": null,
            "object_position": null,
            "object_fit": null,
            "grid_auto_columns": null,
            "margin": null,
            "display": null,
            "left": null
          },
          "model_module_version": "1.2.0"
        },
        "b3a79bf977f64d20bced19f0d3a51a14": {
          "model_module": "@jupyter-widgets/controls",
          "model_name": "DescriptionStyleModel",
          "state": {
            "_view_name": "StyleView",
            "_model_name": "DescriptionStyleModel",
            "description_width": "",
            "_view_module": "@jupyter-widgets/base",
            "_model_module_version": "1.5.0",
            "_view_count": null,
            "_view_module_version": "1.2.0",
            "_model_module": "@jupyter-widgets/controls"
          },
          "model_module_version": "1.5.0"
        },
        "1cc909ca454b406bb9d7eb59d91706cd": {
          "model_module": "@jupyter-widgets/base",
          "model_name": "LayoutModel",
          "state": {
            "_view_name": "LayoutView",
            "grid_template_rows": null,
            "right": null,
            "justify_content": null,
            "_view_module": "@jupyter-widgets/base",
            "overflow": null,
            "_model_module_version": "1.2.0",
            "_view_count": null,
            "flex_flow": null,
            "width": null,
            "min_width": null,
            "border": null,
            "align_items": null,
            "bottom": null,
            "_model_module": "@jupyter-widgets/base",
            "top": null,
            "grid_column": null,
            "overflow_y": null,
            "overflow_x": null,
            "grid_auto_flow": null,
            "grid_area": null,
            "grid_template_columns": null,
            "flex": null,
            "_model_name": "LayoutModel",
            "justify_items": null,
            "grid_row": null,
            "max_height": null,
            "align_content": null,
            "visibility": null,
            "align_self": null,
            "height": null,
            "min_height": null,
            "padding": null,
            "grid_auto_rows": null,
            "grid_gap": null,
            "max_width": null,
            "order": null,
            "_view_module_version": "1.2.0",
            "grid_template_areas": null,
            "object_position": null,
            "object_fit": null,
            "grid_auto_columns": null,
            "margin": null,
            "display": null,
            "left": null
          },
          "model_module_version": "1.2.0"
        },
        "c0ed1defd9a4499ba06737bbcb47ad64": {
          "model_module": "@jupyter-widgets/controls",
          "model_name": "HBoxModel",
          "state": {
            "_view_name": "HBoxView",
            "_dom_classes": [],
            "_model_name": "HBoxModel",
            "_view_module": "@jupyter-widgets/controls",
            "_model_module_version": "1.5.0",
            "_view_count": null,
            "_view_module_version": "1.5.0",
            "box_style": "",
            "layout": "IPY_MODEL_b5f4a09c4fdf4885970c29c8657d3a93",
            "_model_module": "@jupyter-widgets/controls",
            "children": [
              "IPY_MODEL_e643c225298641bf884af33e134329d3",
              "IPY_MODEL_5f06a0e331bc49b2ab55659ad714f40a"
            ]
          },
          "model_module_version": "1.5.0"
        },
        "b5f4a09c4fdf4885970c29c8657d3a93": {
          "model_module": "@jupyter-widgets/base",
          "model_name": "LayoutModel",
          "state": {
            "_view_name": "LayoutView",
            "grid_template_rows": null,
            "right": null,
            "justify_content": null,
            "_view_module": "@jupyter-widgets/base",
            "overflow": null,
            "_model_module_version": "1.2.0",
            "_view_count": null,
            "flex_flow": null,
            "width": null,
            "min_width": null,
            "border": null,
            "align_items": null,
            "bottom": null,
            "_model_module": "@jupyter-widgets/base",
            "top": null,
            "grid_column": null,
            "overflow_y": null,
            "overflow_x": null,
            "grid_auto_flow": null,
            "grid_area": null,
            "grid_template_columns": null,
            "flex": null,
            "_model_name": "LayoutModel",
            "justify_items": null,
            "grid_row": null,
            "max_height": null,
            "align_content": null,
            "visibility": null,
            "align_self": null,
            "height": null,
            "min_height": null,
            "padding": null,
            "grid_auto_rows": null,
            "grid_gap": null,
            "max_width": null,
            "order": null,
            "_view_module_version": "1.2.0",
            "grid_template_areas": null,
            "object_position": null,
            "object_fit": null,
            "grid_auto_columns": null,
            "margin": null,
            "display": null,
            "left": null
          },
          "model_module_version": "1.2.0"
        },
        "e643c225298641bf884af33e134329d3": {
          "model_module": "@jupyter-widgets/controls",
          "model_name": "FloatProgressModel",
          "state": {
            "_view_name": "ProgressView",
            "style": "IPY_MODEL_1a00c6aae3c948b5aa98f1f9ce07ef6e",
            "_dom_classes": [],
            "description": "100%",
            "_model_name": "FloatProgressModel",
            "bar_style": "success",
            "max": 50,
            "_view_module": "@jupyter-widgets/controls",
            "_model_module_version": "1.5.0",
            "value": 50,
            "_view_count": null,
            "_view_module_version": "1.5.0",
            "orientation": "horizontal",
            "min": 0,
            "description_tooltip": null,
            "_model_module": "@jupyter-widgets/controls",
            "layout": "IPY_MODEL_0bb45b7384d84b2797833575542381b9"
          },
          "model_module_version": "1.5.0"
        },
        "5f06a0e331bc49b2ab55659ad714f40a": {
          "model_module": "@jupyter-widgets/controls",
          "model_name": "HTMLModel",
          "state": {
            "_view_name": "HTMLView",
            "style": "IPY_MODEL_6a2aa4b7471a4f13bf3dc7e87d60510a",
            "_dom_classes": [],
            "description": "",
            "_model_name": "HTMLModel",
            "placeholder": "​",
            "_view_module": "@jupyter-widgets/controls",
            "_model_module_version": "1.5.0",
            "value": " 50/50 [00:57&lt;00:00,  1.16s/it]",
            "_view_count": null,
            "_view_module_version": "1.5.0",
            "description_tooltip": null,
            "_model_module": "@jupyter-widgets/controls",
            "layout": "IPY_MODEL_00db4c63f77844c7818aecf5e84d696a"
          },
          "model_module_version": "1.5.0"
        },
        "1a00c6aae3c948b5aa98f1f9ce07ef6e": {
          "model_module": "@jupyter-widgets/controls",
          "model_name": "ProgressStyleModel",
          "state": {
            "_view_name": "StyleView",
            "_model_name": "ProgressStyleModel",
            "description_width": "initial",
            "_view_module": "@jupyter-widgets/base",
            "_model_module_version": "1.5.0",
            "_view_count": null,
            "_view_module_version": "1.2.0",
            "bar_color": null,
            "_model_module": "@jupyter-widgets/controls"
          },
          "model_module_version": "1.5.0"
        },
        "0bb45b7384d84b2797833575542381b9": {
          "model_module": "@jupyter-widgets/base",
          "model_name": "LayoutModel",
          "state": {
            "_view_name": "LayoutView",
            "grid_template_rows": null,
            "right": null,
            "justify_content": null,
            "_view_module": "@jupyter-widgets/base",
            "overflow": null,
            "_model_module_version": "1.2.0",
            "_view_count": null,
            "flex_flow": null,
            "width": null,
            "min_width": null,
            "border": null,
            "align_items": null,
            "bottom": null,
            "_model_module": "@jupyter-widgets/base",
            "top": null,
            "grid_column": null,
            "overflow_y": null,
            "overflow_x": null,
            "grid_auto_flow": null,
            "grid_area": null,
            "grid_template_columns": null,
            "flex": null,
            "_model_name": "LayoutModel",
            "justify_items": null,
            "grid_row": null,
            "max_height": null,
            "align_content": null,
            "visibility": null,
            "align_self": null,
            "height": null,
            "min_height": null,
            "padding": null,
            "grid_auto_rows": null,
            "grid_gap": null,
            "max_width": null,
            "order": null,
            "_view_module_version": "1.2.0",
            "grid_template_areas": null,
            "object_position": null,
            "object_fit": null,
            "grid_auto_columns": null,
            "margin": null,
            "display": null,
            "left": null
          },
          "model_module_version": "1.2.0"
        },
        "6a2aa4b7471a4f13bf3dc7e87d60510a": {
          "model_module": "@jupyter-widgets/controls",
          "model_name": "DescriptionStyleModel",
          "state": {
            "_view_name": "StyleView",
            "_model_name": "DescriptionStyleModel",
            "description_width": "",
            "_view_module": "@jupyter-widgets/base",
            "_model_module_version": "1.5.0",
            "_view_count": null,
            "_view_module_version": "1.2.0",
            "_model_module": "@jupyter-widgets/controls"
          },
          "model_module_version": "1.5.0"
        },
        "00db4c63f77844c7818aecf5e84d696a": {
          "model_module": "@jupyter-widgets/base",
          "model_name": "LayoutModel",
          "state": {
            "_view_name": "LayoutView",
            "grid_template_rows": null,
            "right": null,
            "justify_content": null,
            "_view_module": "@jupyter-widgets/base",
            "overflow": null,
            "_model_module_version": "1.2.0",
            "_view_count": null,
            "flex_flow": null,
            "width": null,
            "min_width": null,
            "border": null,
            "align_items": null,
            "bottom": null,
            "_model_module": "@jupyter-widgets/base",
            "top": null,
            "grid_column": null,
            "overflow_y": null,
            "overflow_x": null,
            "grid_auto_flow": null,
            "grid_area": null,
            "grid_template_columns": null,
            "flex": null,
            "_model_name": "LayoutModel",
            "justify_items": null,
            "grid_row": null,
            "max_height": null,
            "align_content": null,
            "visibility": null,
            "align_self": null,
            "height": null,
            "min_height": null,
            "padding": null,
            "grid_auto_rows": null,
            "grid_gap": null,
            "max_width": null,
            "order": null,
            "_view_module_version": "1.2.0",
            "grid_template_areas": null,
            "object_position": null,
            "object_fit": null,
            "grid_auto_columns": null,
            "margin": null,
            "display": null,
            "left": null
          },
          "model_module_version": "1.2.0"
        },
        "b3a090a1982d4340a1f1a4fca28c8379": {
          "model_module": "@jupyter-widgets/controls",
          "model_name": "HBoxModel",
          "state": {
            "_view_name": "HBoxView",
            "_dom_classes": [],
            "_model_name": "HBoxModel",
            "_view_module": "@jupyter-widgets/controls",
            "_model_module_version": "1.5.0",
            "_view_count": null,
            "_view_module_version": "1.5.0",
            "box_style": "",
            "layout": "IPY_MODEL_3ff6929fecfd4585af8fffc2de4c53ee",
            "_model_module": "@jupyter-widgets/controls",
            "children": [
              "IPY_MODEL_502662dc75e74f54a065f564d2582bf2",
              "IPY_MODEL_15ca9f54ab324daea60907697b3d75c7"
            ]
          },
          "model_module_version": "1.5.0"
        },
        "3ff6929fecfd4585af8fffc2de4c53ee": {
          "model_module": "@jupyter-widgets/base",
          "model_name": "LayoutModel",
          "state": {
            "_view_name": "LayoutView",
            "grid_template_rows": null,
            "right": null,
            "justify_content": null,
            "_view_module": "@jupyter-widgets/base",
            "overflow": null,
            "_model_module_version": "1.2.0",
            "_view_count": null,
            "flex_flow": null,
            "width": null,
            "min_width": null,
            "border": null,
            "align_items": null,
            "bottom": null,
            "_model_module": "@jupyter-widgets/base",
            "top": null,
            "grid_column": null,
            "overflow_y": null,
            "overflow_x": null,
            "grid_auto_flow": null,
            "grid_area": null,
            "grid_template_columns": null,
            "flex": null,
            "_model_name": "LayoutModel",
            "justify_items": null,
            "grid_row": null,
            "max_height": null,
            "align_content": null,
            "visibility": null,
            "align_self": null,
            "height": null,
            "min_height": null,
            "padding": null,
            "grid_auto_rows": null,
            "grid_gap": null,
            "max_width": null,
            "order": null,
            "_view_module_version": "1.2.0",
            "grid_template_areas": null,
            "object_position": null,
            "object_fit": null,
            "grid_auto_columns": null,
            "margin": null,
            "display": null,
            "left": null
          },
          "model_module_version": "1.2.0"
        },
        "502662dc75e74f54a065f564d2582bf2": {
          "model_module": "@jupyter-widgets/controls",
          "model_name": "FloatProgressModel",
          "state": {
            "_view_name": "ProgressView",
            "style": "IPY_MODEL_8c5b8cd87212437096833dacbbec45d5",
            "_dom_classes": [],
            "description": "100%",
            "_model_name": "FloatProgressModel",
            "bar_style": "success",
            "max": 50,
            "_view_module": "@jupyter-widgets/controls",
            "_model_module_version": "1.5.0",
            "value": 50,
            "_view_count": null,
            "_view_module_version": "1.5.0",
            "orientation": "horizontal",
            "min": 0,
            "description_tooltip": null,
            "_model_module": "@jupyter-widgets/controls",
            "layout": "IPY_MODEL_c639496822654ddd93abc5669b397664"
          },
          "model_module_version": "1.5.0"
        },
        "15ca9f54ab324daea60907697b3d75c7": {
          "model_module": "@jupyter-widgets/controls",
          "model_name": "HTMLModel",
          "state": {
            "_view_name": "HTMLView",
            "style": "IPY_MODEL_71fddf5409cb428398073170b5324f0c",
            "_dom_classes": [],
            "description": "",
            "_model_name": "HTMLModel",
            "placeholder": "​",
            "_view_module": "@jupyter-widgets/controls",
            "_model_module_version": "1.5.0",
            "value": " 50/50 [00:57&lt;00:00,  1.16s/it]",
            "_view_count": null,
            "_view_module_version": "1.5.0",
            "description_tooltip": null,
            "_model_module": "@jupyter-widgets/controls",
            "layout": "IPY_MODEL_047d101e1c0249ae9b712d40e92dae11"
          },
          "model_module_version": "1.5.0"
        },
        "8c5b8cd87212437096833dacbbec45d5": {
          "model_module": "@jupyter-widgets/controls",
          "model_name": "ProgressStyleModel",
          "state": {
            "_view_name": "StyleView",
            "_model_name": "ProgressStyleModel",
            "description_width": "initial",
            "_view_module": "@jupyter-widgets/base",
            "_model_module_version": "1.5.0",
            "_view_count": null,
            "_view_module_version": "1.2.0",
            "bar_color": null,
            "_model_module": "@jupyter-widgets/controls"
          },
          "model_module_version": "1.5.0"
        },
        "c639496822654ddd93abc5669b397664": {
          "model_module": "@jupyter-widgets/base",
          "model_name": "LayoutModel",
          "state": {
            "_view_name": "LayoutView",
            "grid_template_rows": null,
            "right": null,
            "justify_content": null,
            "_view_module": "@jupyter-widgets/base",
            "overflow": null,
            "_model_module_version": "1.2.0",
            "_view_count": null,
            "flex_flow": null,
            "width": null,
            "min_width": null,
            "border": null,
            "align_items": null,
            "bottom": null,
            "_model_module": "@jupyter-widgets/base",
            "top": null,
            "grid_column": null,
            "overflow_y": null,
            "overflow_x": null,
            "grid_auto_flow": null,
            "grid_area": null,
            "grid_template_columns": null,
            "flex": null,
            "_model_name": "LayoutModel",
            "justify_items": null,
            "grid_row": null,
            "max_height": null,
            "align_content": null,
            "visibility": null,
            "align_self": null,
            "height": null,
            "min_height": null,
            "padding": null,
            "grid_auto_rows": null,
            "grid_gap": null,
            "max_width": null,
            "order": null,
            "_view_module_version": "1.2.0",
            "grid_template_areas": null,
            "object_position": null,
            "object_fit": null,
            "grid_auto_columns": null,
            "margin": null,
            "display": null,
            "left": null
          },
          "model_module_version": "1.2.0"
        },
        "71fddf5409cb428398073170b5324f0c": {
          "model_module": "@jupyter-widgets/controls",
          "model_name": "DescriptionStyleModel",
          "state": {
            "_view_name": "StyleView",
            "_model_name": "DescriptionStyleModel",
            "description_width": "",
            "_view_module": "@jupyter-widgets/base",
            "_model_module_version": "1.5.0",
            "_view_count": null,
            "_view_module_version": "1.2.0",
            "_model_module": "@jupyter-widgets/controls"
          },
          "model_module_version": "1.5.0"
        },
        "047d101e1c0249ae9b712d40e92dae11": {
          "model_module": "@jupyter-widgets/base",
          "model_name": "LayoutModel",
          "state": {
            "_view_name": "LayoutView",
            "grid_template_rows": null,
            "right": null,
            "justify_content": null,
            "_view_module": "@jupyter-widgets/base",
            "overflow": null,
            "_model_module_version": "1.2.0",
            "_view_count": null,
            "flex_flow": null,
            "width": null,
            "min_width": null,
            "border": null,
            "align_items": null,
            "bottom": null,
            "_model_module": "@jupyter-widgets/base",
            "top": null,
            "grid_column": null,
            "overflow_y": null,
            "overflow_x": null,
            "grid_auto_flow": null,
            "grid_area": null,
            "grid_template_columns": null,
            "flex": null,
            "_model_name": "LayoutModel",
            "justify_items": null,
            "grid_row": null,
            "max_height": null,
            "align_content": null,
            "visibility": null,
            "align_self": null,
            "height": null,
            "min_height": null,
            "padding": null,
            "grid_auto_rows": null,
            "grid_gap": null,
            "max_width": null,
            "order": null,
            "_view_module_version": "1.2.0",
            "grid_template_areas": null,
            "object_position": null,
            "object_fit": null,
            "grid_auto_columns": null,
            "margin": null,
            "display": null,
            "left": null
          },
          "model_module_version": "1.2.0"
        },
        "40462c90041849b388986961e4a15d0d": {
          "model_module": "@jupyter-widgets/controls",
          "model_name": "HBoxModel",
          "state": {
            "_view_name": "HBoxView",
            "_dom_classes": [],
            "_model_name": "HBoxModel",
            "_view_module": "@jupyter-widgets/controls",
            "_model_module_version": "1.5.0",
            "_view_count": null,
            "_view_module_version": "1.5.0",
            "box_style": "",
            "layout": "IPY_MODEL_d2989a2f731a42bc832d0b538a996acb",
            "_model_module": "@jupyter-widgets/controls",
            "children": [
              "IPY_MODEL_c7187222f17f4dd6a9615a6c2cd2a971",
              "IPY_MODEL_f23cd8cd27354945b04d216ef6e7da0b"
            ]
          },
          "model_module_version": "1.5.0"
        },
        "d2989a2f731a42bc832d0b538a996acb": {
          "model_module": "@jupyter-widgets/base",
          "model_name": "LayoutModel",
          "state": {
            "_view_name": "LayoutView",
            "grid_template_rows": null,
            "right": null,
            "justify_content": null,
            "_view_module": "@jupyter-widgets/base",
            "overflow": null,
            "_model_module_version": "1.2.0",
            "_view_count": null,
            "flex_flow": null,
            "width": null,
            "min_width": null,
            "border": null,
            "align_items": null,
            "bottom": null,
            "_model_module": "@jupyter-widgets/base",
            "top": null,
            "grid_column": null,
            "overflow_y": null,
            "overflow_x": null,
            "grid_auto_flow": null,
            "grid_area": null,
            "grid_template_columns": null,
            "flex": null,
            "_model_name": "LayoutModel",
            "justify_items": null,
            "grid_row": null,
            "max_height": null,
            "align_content": null,
            "visibility": null,
            "align_self": null,
            "height": null,
            "min_height": null,
            "padding": null,
            "grid_auto_rows": null,
            "grid_gap": null,
            "max_width": null,
            "order": null,
            "_view_module_version": "1.2.0",
            "grid_template_areas": null,
            "object_position": null,
            "object_fit": null,
            "grid_auto_columns": null,
            "margin": null,
            "display": null,
            "left": null
          },
          "model_module_version": "1.2.0"
        },
        "c7187222f17f4dd6a9615a6c2cd2a971": {
          "model_module": "@jupyter-widgets/controls",
          "model_name": "FloatProgressModel",
          "state": {
            "_view_name": "ProgressView",
            "style": "IPY_MODEL_3bdf5008edd44067be3fb8ecd2838bce",
            "_dom_classes": [],
            "description": "100%",
            "_model_name": "FloatProgressModel",
            "bar_style": "success",
            "max": 50,
            "_view_module": "@jupyter-widgets/controls",
            "_model_module_version": "1.5.0",
            "value": 50,
            "_view_count": null,
            "_view_module_version": "1.5.0",
            "orientation": "horizontal",
            "min": 0,
            "description_tooltip": null,
            "_model_module": "@jupyter-widgets/controls",
            "layout": "IPY_MODEL_d9b456832d8646059e443c750f3e6718"
          },
          "model_module_version": "1.5.0"
        },
        "f23cd8cd27354945b04d216ef6e7da0b": {
          "model_module": "@jupyter-widgets/controls",
          "model_name": "HTMLModel",
          "state": {
            "_view_name": "HTMLView",
            "style": "IPY_MODEL_409e87467347472a8da548c31963910c",
            "_dom_classes": [],
            "description": "",
            "_model_name": "HTMLModel",
            "placeholder": "​",
            "_view_module": "@jupyter-widgets/controls",
            "_model_module_version": "1.5.0",
            "value": " 50/50 [02:15&lt;00:00,  2.71s/it]",
            "_view_count": null,
            "_view_module_version": "1.5.0",
            "description_tooltip": null,
            "_model_module": "@jupyter-widgets/controls",
            "layout": "IPY_MODEL_d29a02b5175a4fd6b1cab9b1ad5deb8a"
          },
          "model_module_version": "1.5.0"
        },
        "3bdf5008edd44067be3fb8ecd2838bce": {
          "model_module": "@jupyter-widgets/controls",
          "model_name": "ProgressStyleModel",
          "state": {
            "_view_name": "StyleView",
            "_model_name": "ProgressStyleModel",
            "description_width": "initial",
            "_view_module": "@jupyter-widgets/base",
            "_model_module_version": "1.5.0",
            "_view_count": null,
            "_view_module_version": "1.2.0",
            "bar_color": null,
            "_model_module": "@jupyter-widgets/controls"
          },
          "model_module_version": "1.5.0"
        },
        "d9b456832d8646059e443c750f3e6718": {
          "model_module": "@jupyter-widgets/base",
          "model_name": "LayoutModel",
          "state": {
            "_view_name": "LayoutView",
            "grid_template_rows": null,
            "right": null,
            "justify_content": null,
            "_view_module": "@jupyter-widgets/base",
            "overflow": null,
            "_model_module_version": "1.2.0",
            "_view_count": null,
            "flex_flow": null,
            "width": null,
            "min_width": null,
            "border": null,
            "align_items": null,
            "bottom": null,
            "_model_module": "@jupyter-widgets/base",
            "top": null,
            "grid_column": null,
            "overflow_y": null,
            "overflow_x": null,
            "grid_auto_flow": null,
            "grid_area": null,
            "grid_template_columns": null,
            "flex": null,
            "_model_name": "LayoutModel",
            "justify_items": null,
            "grid_row": null,
            "max_height": null,
            "align_content": null,
            "visibility": null,
            "align_self": null,
            "height": null,
            "min_height": null,
            "padding": null,
            "grid_auto_rows": null,
            "grid_gap": null,
            "max_width": null,
            "order": null,
            "_view_module_version": "1.2.0",
            "grid_template_areas": null,
            "object_position": null,
            "object_fit": null,
            "grid_auto_columns": null,
            "margin": null,
            "display": null,
            "left": null
          },
          "model_module_version": "1.2.0"
        },
        "409e87467347472a8da548c31963910c": {
          "model_module": "@jupyter-widgets/controls",
          "model_name": "DescriptionStyleModel",
          "state": {
            "_view_name": "StyleView",
            "_model_name": "DescriptionStyleModel",
            "description_width": "",
            "_view_module": "@jupyter-widgets/base",
            "_model_module_version": "1.5.0",
            "_view_count": null,
            "_view_module_version": "1.2.0",
            "_model_module": "@jupyter-widgets/controls"
          },
          "model_module_version": "1.5.0"
        },
        "d29a02b5175a4fd6b1cab9b1ad5deb8a": {
          "model_module": "@jupyter-widgets/base",
          "model_name": "LayoutModel",
          "state": {
            "_view_name": "LayoutView",
            "grid_template_rows": null,
            "right": null,
            "justify_content": null,
            "_view_module": "@jupyter-widgets/base",
            "overflow": null,
            "_model_module_version": "1.2.0",
            "_view_count": null,
            "flex_flow": null,
            "width": null,
            "min_width": null,
            "border": null,
            "align_items": null,
            "bottom": null,
            "_model_module": "@jupyter-widgets/base",
            "top": null,
            "grid_column": null,
            "overflow_y": null,
            "overflow_x": null,
            "grid_auto_flow": null,
            "grid_area": null,
            "grid_template_columns": null,
            "flex": null,
            "_model_name": "LayoutModel",
            "justify_items": null,
            "grid_row": null,
            "max_height": null,
            "align_content": null,
            "visibility": null,
            "align_self": null,
            "height": null,
            "min_height": null,
            "padding": null,
            "grid_auto_rows": null,
            "grid_gap": null,
            "max_width": null,
            "order": null,
            "_view_module_version": "1.2.0",
            "grid_template_areas": null,
            "object_position": null,
            "object_fit": null,
            "grid_auto_columns": null,
            "margin": null,
            "display": null,
            "left": null
          },
          "model_module_version": "1.2.0"
        },
        "bbbe1e411e544ef29d563f2b3aa940c3": {
          "model_module": "@jupyter-widgets/controls",
          "model_name": "HBoxModel",
          "state": {
            "_view_name": "HBoxView",
            "_dom_classes": [],
            "_model_name": "HBoxModel",
            "_view_module": "@jupyter-widgets/controls",
            "_model_module_version": "1.5.0",
            "_view_count": null,
            "_view_module_version": "1.5.0",
            "box_style": "",
            "layout": "IPY_MODEL_204ef6b228464e7d926be56e7176234c",
            "_model_module": "@jupyter-widgets/controls",
            "children": [
              "IPY_MODEL_f68cb62c5da547d5991f3138544cfae0",
              "IPY_MODEL_74c6c5daadcb4b33806c9be0e7098ff5"
            ]
          },
          "model_module_version": "1.5.0"
        },
        "204ef6b228464e7d926be56e7176234c": {
          "model_module": "@jupyter-widgets/base",
          "model_name": "LayoutModel",
          "state": {
            "_view_name": "LayoutView",
            "grid_template_rows": null,
            "right": null,
            "justify_content": null,
            "_view_module": "@jupyter-widgets/base",
            "overflow": null,
            "_model_module_version": "1.2.0",
            "_view_count": null,
            "flex_flow": null,
            "width": null,
            "min_width": null,
            "border": null,
            "align_items": null,
            "bottom": null,
            "_model_module": "@jupyter-widgets/base",
            "top": null,
            "grid_column": null,
            "overflow_y": null,
            "overflow_x": null,
            "grid_auto_flow": null,
            "grid_area": null,
            "grid_template_columns": null,
            "flex": null,
            "_model_name": "LayoutModel",
            "justify_items": null,
            "grid_row": null,
            "max_height": null,
            "align_content": null,
            "visibility": null,
            "align_self": null,
            "height": null,
            "min_height": null,
            "padding": null,
            "grid_auto_rows": null,
            "grid_gap": null,
            "max_width": null,
            "order": null,
            "_view_module_version": "1.2.0",
            "grid_template_areas": null,
            "object_position": null,
            "object_fit": null,
            "grid_auto_columns": null,
            "margin": null,
            "display": null,
            "left": null
          },
          "model_module_version": "1.2.0"
        },
        "f68cb62c5da547d5991f3138544cfae0": {
          "model_module": "@jupyter-widgets/controls",
          "model_name": "FloatProgressModel",
          "state": {
            "_view_name": "ProgressView",
            "style": "IPY_MODEL_b6696ad450654260b7e465c1dc56bd34",
            "_dom_classes": [],
            "description": "100%",
            "_model_name": "FloatProgressModel",
            "bar_style": "success",
            "max": 137,
            "_view_module": "@jupyter-widgets/controls",
            "_model_module_version": "1.5.0",
            "value": 137,
            "_view_count": null,
            "_view_module_version": "1.5.0",
            "orientation": "horizontal",
            "min": 0,
            "description_tooltip": null,
            "_model_module": "@jupyter-widgets/controls",
            "layout": "IPY_MODEL_5c67ab592a8e43ca9914c0f756e2fb29"
          },
          "model_module_version": "1.5.0"
        },
        "74c6c5daadcb4b33806c9be0e7098ff5": {
          "model_module": "@jupyter-widgets/controls",
          "model_name": "HTMLModel",
          "state": {
            "_view_name": "HTMLView",
            "style": "IPY_MODEL_8069a3cda3f04efb95d6854b62dc9685",
            "_dom_classes": [],
            "description": "",
            "_model_name": "HTMLModel",
            "placeholder": "​",
            "_view_module": "@jupyter-widgets/controls",
            "_model_module_version": "1.5.0",
            "value": " 137/137 [00:20&lt;00:00,  6.66it/s]",
            "_view_count": null,
            "_view_module_version": "1.5.0",
            "description_tooltip": null,
            "_model_module": "@jupyter-widgets/controls",
            "layout": "IPY_MODEL_5412ae8ca43041e3940c6da74a00f4f0"
          },
          "model_module_version": "1.5.0"
        },
        "b6696ad450654260b7e465c1dc56bd34": {
          "model_module": "@jupyter-widgets/controls",
          "model_name": "ProgressStyleModel",
          "state": {
            "_view_name": "StyleView",
            "_model_name": "ProgressStyleModel",
            "description_width": "initial",
            "_view_module": "@jupyter-widgets/base",
            "_model_module_version": "1.5.0",
            "_view_count": null,
            "_view_module_version": "1.2.0",
            "bar_color": null,
            "_model_module": "@jupyter-widgets/controls"
          },
          "model_module_version": "1.5.0"
        },
        "5c67ab592a8e43ca9914c0f756e2fb29": {
          "model_module": "@jupyter-widgets/base",
          "model_name": "LayoutModel",
          "state": {
            "_view_name": "LayoutView",
            "grid_template_rows": null,
            "right": null,
            "justify_content": null,
            "_view_module": "@jupyter-widgets/base",
            "overflow": null,
            "_model_module_version": "1.2.0",
            "_view_count": null,
            "flex_flow": null,
            "width": null,
            "min_width": null,
            "border": null,
            "align_items": null,
            "bottom": null,
            "_model_module": "@jupyter-widgets/base",
            "top": null,
            "grid_column": null,
            "overflow_y": null,
            "overflow_x": null,
            "grid_auto_flow": null,
            "grid_area": null,
            "grid_template_columns": null,
            "flex": null,
            "_model_name": "LayoutModel",
            "justify_items": null,
            "grid_row": null,
            "max_height": null,
            "align_content": null,
            "visibility": null,
            "align_self": null,
            "height": null,
            "min_height": null,
            "padding": null,
            "grid_auto_rows": null,
            "grid_gap": null,
            "max_width": null,
            "order": null,
            "_view_module_version": "1.2.0",
            "grid_template_areas": null,
            "object_position": null,
            "object_fit": null,
            "grid_auto_columns": null,
            "margin": null,
            "display": null,
            "left": null
          },
          "model_module_version": "1.2.0"
        },
        "8069a3cda3f04efb95d6854b62dc9685": {
          "model_module": "@jupyter-widgets/controls",
          "model_name": "DescriptionStyleModel",
          "state": {
            "_view_name": "StyleView",
            "_model_name": "DescriptionStyleModel",
            "description_width": "",
            "_view_module": "@jupyter-widgets/base",
            "_model_module_version": "1.5.0",
            "_view_count": null,
            "_view_module_version": "1.2.0",
            "_model_module": "@jupyter-widgets/controls"
          },
          "model_module_version": "1.5.0"
        },
        "5412ae8ca43041e3940c6da74a00f4f0": {
          "model_module": "@jupyter-widgets/base",
          "model_name": "LayoutModel",
          "state": {
            "_view_name": "LayoutView",
            "grid_template_rows": null,
            "right": null,
            "justify_content": null,
            "_view_module": "@jupyter-widgets/base",
            "overflow": null,
            "_model_module_version": "1.2.0",
            "_view_count": null,
            "flex_flow": null,
            "width": null,
            "min_width": null,
            "border": null,
            "align_items": null,
            "bottom": null,
            "_model_module": "@jupyter-widgets/base",
            "top": null,
            "grid_column": null,
            "overflow_y": null,
            "overflow_x": null,
            "grid_auto_flow": null,
            "grid_area": null,
            "grid_template_columns": null,
            "flex": null,
            "_model_name": "LayoutModel",
            "justify_items": null,
            "grid_row": null,
            "max_height": null,
            "align_content": null,
            "visibility": null,
            "align_self": null,
            "height": null,
            "min_height": null,
            "padding": null,
            "grid_auto_rows": null,
            "grid_gap": null,
            "max_width": null,
            "order": null,
            "_view_module_version": "1.2.0",
            "grid_template_areas": null,
            "object_position": null,
            "object_fit": null,
            "grid_auto_columns": null,
            "margin": null,
            "display": null,
            "left": null
          },
          "model_module_version": "1.2.0"
        }
      }
    }
  },
  "cells": [
    {
      "cell_type": "code",
      "metadata": {
        "colab": {
          "base_uri": "https://localhost:8080/"
        },
        "id": "FpUJ73kgaEtW",
        "outputId": "b5e509cc-bb12-44f5-b705-9aacb250e4c2"
      },
      "source": [
        "!pip install yfinance\n",
        "import pandas as pd\n",
        "import yfinance as yf # import libraries\n",
        "import numpy as np\n",
        "import matplotlib.pyplot as plt\n",
        "plt.style.use('seaborn')\n",
        "import warnings\n",
        "warnings.filterwarnings('ignore') \n",
        "# from IPython.display import FileLink\n",
        "from google.colab import files\n",
        "import tqdm.notebook as tq"
      ],
      "execution_count": null,
      "outputs": [
        {
          "output_type": "stream",
          "text": [
            "Collecting yfinance\n",
            "  Downloading https://files.pythonhosted.org/packages/79/bd/d64719da8f5367f4d8b16e83507fa1d90942f433f748a4cf3ed7aa515d14/yfinance-0.1.63.tar.gz\n",
            "Requirement already satisfied: pandas>=0.24 in /usr/local/lib/python3.7/dist-packages (from yfinance) (1.1.5)\n",
            "Requirement already satisfied: numpy>=1.15 in /usr/local/lib/python3.7/dist-packages (from yfinance) (1.19.5)\n",
            "Requirement already satisfied: requests>=2.20 in /usr/local/lib/python3.7/dist-packages (from yfinance) (2.23.0)\n",
            "Requirement already satisfied: multitasking>=0.0.7 in /usr/local/lib/python3.7/dist-packages (from yfinance) (0.0.9)\n",
            "Collecting lxml>=4.5.1\n",
            "\u001b[?25l  Downloading https://files.pythonhosted.org/packages/30/c0/d0526314971fc661b083ab135747dc68446a3022686da8c16d25fcf6ef07/lxml-4.6.3-cp37-cp37m-manylinux2014_x86_64.whl (6.3MB)\n",
            "\u001b[K     |████████████████████████████████| 6.3MB 6.3MB/s \n",
            "\u001b[?25hRequirement already satisfied: python-dateutil>=2.7.3 in /usr/local/lib/python3.7/dist-packages (from pandas>=0.24->yfinance) (2.8.1)\n",
            "Requirement already satisfied: pytz>=2017.2 in /usr/local/lib/python3.7/dist-packages (from pandas>=0.24->yfinance) (2018.9)\n",
            "Requirement already satisfied: urllib3!=1.25.0,!=1.25.1,<1.26,>=1.21.1 in /usr/local/lib/python3.7/dist-packages (from requests>=2.20->yfinance) (1.24.3)\n",
            "Requirement already satisfied: certifi>=2017.4.17 in /usr/local/lib/python3.7/dist-packages (from requests>=2.20->yfinance) (2021.5.30)\n",
            "Requirement already satisfied: idna<3,>=2.5 in /usr/local/lib/python3.7/dist-packages (from requests>=2.20->yfinance) (2.10)\n",
            "Requirement already satisfied: chardet<4,>=3.0.2 in /usr/local/lib/python3.7/dist-packages (from requests>=2.20->yfinance) (3.0.4)\n",
            "Requirement already satisfied: six>=1.5 in /usr/local/lib/python3.7/dist-packages (from python-dateutil>=2.7.3->pandas>=0.24->yfinance) (1.15.0)\n",
            "Building wheels for collected packages: yfinance\n",
            "  Building wheel for yfinance (setup.py) ... \u001b[?25l\u001b[?25hdone\n",
            "  Created wheel for yfinance: filename=yfinance-0.1.63-py2.py3-none-any.whl size=23919 sha256=4f5fdb84ac6ac7e9d5b7bf7c5e55576518f887fa5d3f9d5dbdf50baca31e039f\n",
            "  Stored in directory: /root/.cache/pip/wheels/fe/a0/79/b73d4a0c535b421b88fc7b393936b371fabbfeaf979eca4050\n",
            "Successfully built yfinance\n",
            "Installing collected packages: lxml, yfinance\n",
            "  Found existing installation: lxml 4.2.6\n",
            "    Uninstalling lxml-4.2.6:\n",
            "      Successfully uninstalled lxml-4.2.6\n",
            "Successfully installed lxml-4.6.3 yfinance-0.1.63\n"
          ],
          "name": "stdout"
        }
      ]
    },
    {
      "cell_type": "code",
      "metadata": {
        "id": "OE9Qb14qIOMz"
      },
      "source": [
        "from pandas_datareader import data as pdr\n",
        "yf.pdr_override() # <== that's all it takes :-)"
      ],
      "execution_count": null,
      "outputs": []
    },
    {
      "cell_type": "markdown",
      "metadata": {
        "id": "EvQo6SGYIgra"
      },
      "source": [
        "# BACKTESTING"
      ]
    },
    {
      "cell_type": "code",
      "metadata": {
        "id": "6bUj-l_RkaUr"
      },
      "source": [
        "def checker(stock_name,start_date,end_date): #,Amount):\n",
        "  data = pdr.get_data_yahoo(stock_name, \n",
        "                    start=start_date, \n",
        "                    end=end_date,\n",
        "                    progress=False)\n",
        "  # Create levels\n",
        "  data['R4']= (data['Close'] + ((data['High']-data['Low'])*(1.1/2))).shift(1)\n",
        "  data['R3']= (data['Close'] + ((data['High']-data['Low'])*(1.1/4))).shift(1)\n",
        "  data['S3']= (data['Close'] - ((data['High']-data['Low'])*(1.1/4))).shift(1)\n",
        "  data['S4']= (data['Close'] - ((data['High']-data['Low'])*(1.1/2))).shift(1)\n",
        "  # Check if camarilla got activated\n",
        "  data['Camarilla']=['Yes' if (data['R3'][i-1] > data['R3'][i] and data['S3'][i-1] < data['S3'][i]) else 'No' for i in range(0,len(data)) ]\n",
        "  data=data[data['Camarilla']== 'Yes']\n",
        "  # Calculate profit if activated\n",
        "  data['P/L']=[(data['Close'][i] - data['R4'][i]) if (data['R4'][i] < data['High'][i]) else  (data['S4'][i] - data['Close'][i]) if (data['Low'][i] < data['S4'][i]) else 0 for i in range(0,len(data))]\n",
        "  data.reset_index(inplace=True)\n",
        "  data['Date']=data['Date'].astype('str')\n",
        "  # data['INR'] = [((round(Amount/data['R4'][i])) * data['P/L'][i]) if (data['R4'][i] < data['High'][i]) else ((round(Amount/data['S4'][i])) * data['P/L'][i]) for i in range(0,len(data))]\n",
        "  # return sum(data['INR']), len(data), list(data['Date']) \n",
        "  return len(data), list(data['Date']) "
      ],
      "execution_count": null,
      "outputs": []
    },
    {
      "cell_type": "code",
      "metadata": {
        "colab": {
          "base_uri": "https://localhost:8080/"
        },
        "id": "lPOh0EFZjoKs",
        "outputId": "aeda1658-845a-4b05-dd0f-4e47ea91aed4"
      },
      "source": [
        "# from tqdm import tqdm\n",
        "from google.colab import drive\n",
        "drive.mount(\"/content/gdrive\")"
      ],
      "execution_count": null,
      "outputs": [
        {
          "output_type": "stream",
          "text": [
            "Mounted at /content/gdrive\n"
          ],
          "name": "stdout"
        }
      ]
    },
    {
      "cell_type": "code",
      "metadata": {
        "colab": {
          "base_uri": "https://localhost:8080/"
        },
        "id": "FcSnxn4GoRn5",
        "outputId": "6df3bf42-d4cf-424a-e8d5-fb4880041b1e"
      },
      "source": [
        "%cd '/content/gdrive/MyDrive/SASH/'\n",
        "# nse=pd.read_csv('ALL_FNO.csv')\n",
        "# nse"
      ],
      "execution_count": null,
      "outputs": [
        {
          "output_type": "stream",
          "text": [
            "/content/gdrive/MyDrive/SASH\n"
          ],
          "name": "stdout"
        }
      ]
    },
    {
      "cell_type": "code",
      "metadata": {
        "id": "vLdl_cLsefRF"
      },
      "source": [
        "# files.download('ALL_FNO.csv')"
      ],
      "execution_count": null,
      "outputs": []
    },
    {
      "cell_type": "code",
      "metadata": {
        "id": "Q2UYVflWtmIZ"
      },
      "source": [
        "nse=pd.read_csv('/content/gdrive/MyDrive/SASH/Nifty50.csv')\n",
        "nse['Symbol']= nse['Symbol'] + '.NS'"
      ],
      "execution_count": null,
      "outputs": []
    },
    {
      "cell_type": "code",
      "metadata": {
        "colab": {
          "base_uri": "https://localhost:8080/"
        },
        "id": "WLoMw_-Bo49m",
        "outputId": "878e9c66-dd1d-484c-ff1b-6f23be26be45"
      },
      "source": [
        "checker('CADILAHC.NS','2021-04-16','2021-04-22') #,100000)"
      ],
      "execution_count": null,
      "outputs": [
        {
          "output_type": "execute_result",
          "data": {
            "text/plain": [
              "(1, ['2021-04-20'])"
            ]
          },
          "metadata": {
            "tags": []
          },
          "execution_count": 20
        }
      ]
    },
    {
      "cell_type": "code",
      "metadata": {
        "colab": {
          "base_uri": "https://localhost:8080/",
          "height": 183,
          "referenced_widgets": [
            "25ceaba26a1f4c4c8d29b01a72f180e2",
            "18b9696db90f4145ad6519d95979101e",
            "c595269cf6e04ecbada4fc72176e25c0",
            "bb3f74b289df4f738c370b6f1ef9cb53",
            "5b931e4a52fd4aa6a3092be7a784ca1b",
            "d2d2d639f60140949ee897a5ea7f61fd",
            "b3a79bf977f64d20bced19f0d3a51a14",
            "1cc909ca454b406bb9d7eb59d91706cd",
            "c0ed1defd9a4499ba06737bbcb47ad64",
            "b5f4a09c4fdf4885970c29c8657d3a93",
            "e643c225298641bf884af33e134329d3",
            "5f06a0e331bc49b2ab55659ad714f40a",
            "1a00c6aae3c948b5aa98f1f9ce07ef6e",
            "0bb45b7384d84b2797833575542381b9",
            "6a2aa4b7471a4f13bf3dc7e87d60510a",
            "00db4c63f77844c7818aecf5e84d696a",
            "b3a090a1982d4340a1f1a4fca28c8379",
            "3ff6929fecfd4585af8fffc2de4c53ee",
            "502662dc75e74f54a065f564d2582bf2",
            "15ca9f54ab324daea60907697b3d75c7",
            "8c5b8cd87212437096833dacbbec45d5",
            "c639496822654ddd93abc5669b397664",
            "71fddf5409cb428398073170b5324f0c",
            "047d101e1c0249ae9b712d40e92dae11"
          ]
        },
        "id": "4XhopRFHtsJw",
        "outputId": "6c819cb5-f361-4c62-fdbc-7c08736865e1"
      },
      "source": [
        "# create df of nested info per stock\n",
        "selected_stocks={}\n",
        "for i in tq.tqdm(nse['Symbol']):\n",
        "    selected_stocks[i]=checker(i,'2021-06-01','2021-06-30')\n",
        "final_selection=pd.DataFrame.from_dict(selected_stocks,orient='index',columns=['Close','Dates'])\n",
        "final_selection.reset_index(inplace=True)\n",
        "final_selection=final_selection.rename(columns={'index':'Ticker'})\n",
        "final_selection=final_selection.reset_index().drop('index',axis=1)\n",
        "# add all in proper list format\n",
        "new_col=[]\n",
        "for i in tq.tqdm(range(0,len(final_selection))):\n",
        "  new_entry=[]\n",
        "  for j in range(0,len(final_selection['Dates'][i])):\n",
        "    new_entry.append([final_selection['Ticker'][i],final_selection['Dates'][i][j]])\n",
        "  new_col.append(new_entry)\n",
        "# make it to proper csv file\n",
        "final = pd.DataFrame(columns=['Stock','Date'])\n",
        "for i in tq.tqdm(range(0,len(new_col))):\n",
        "  for j in new_col[i]:\n",
        "    try:\n",
        "      final = final.append({'Stock': j[0],'Date':j[1]}, ignore_index=True)\n",
        "    except:\n",
        "      pass\n",
        "print('completed, please check dataframe \"final\" ')\n",
        "final=final.dropna().reset_index(drop=True)\n",
        "final['Date']=final['Date'].astype('str')\n",
        "final['Stock']='NSE:' + final['Stock'].str.replace('.NS',',')"
      ],
      "execution_count": null,
      "outputs": [
        {
          "output_type": "display_data",
          "data": {
            "application/vnd.jupyter.widget-view+json": {
              "model_id": "25ceaba26a1f4c4c8d29b01a72f180e2",
              "version_minor": 0,
              "version_major": 2
            },
            "text/plain": [
              "HBox(children=(FloatProgress(value=0.0, max=50.0), HTML(value='')))"
            ]
          },
          "metadata": {
            "tags": []
          }
        },
        {
          "output_type": "stream",
          "text": [
            "\n"
          ],
          "name": "stdout"
        },
        {
          "output_type": "display_data",
          "data": {
            "application/vnd.jupyter.widget-view+json": {
              "model_id": "c0ed1defd9a4499ba06737bbcb47ad64",
              "version_minor": 0,
              "version_major": 2
            },
            "text/plain": [
              "HBox(children=(FloatProgress(value=0.0, max=50.0), HTML(value='')))"
            ]
          },
          "metadata": {
            "tags": []
          }
        },
        {
          "output_type": "stream",
          "text": [
            "\n"
          ],
          "name": "stdout"
        },
        {
          "output_type": "display_data",
          "data": {
            "application/vnd.jupyter.widget-view+json": {
              "model_id": "b3a090a1982d4340a1f1a4fca28c8379",
              "version_minor": 0,
              "version_major": 2
            },
            "text/plain": [
              "HBox(children=(FloatProgress(value=0.0, max=50.0), HTML(value='')))"
            ]
          },
          "metadata": {
            "tags": []
          }
        },
        {
          "output_type": "stream",
          "text": [
            "\n",
            "completed, please check dataframe \"final\" \n"
          ],
          "name": "stdout"
        }
      ]
    },
    {
      "cell_type": "code",
      "metadata": {
        "colab": {
          "base_uri": "https://localhost:8080/",
          "height": 17
        },
        "id": "6DOZUPJSuvZf",
        "outputId": "043450d4-4ee3-4d86-d08c-719d7a4ecd34"
      },
      "source": [
        "final.to_excel('cam_50_jun.xlsx',index=False)\n",
        "files.download('cam_50_jun.xlsx')"
      ],
      "execution_count": null,
      "outputs": [
        {
          "output_type": "display_data",
          "data": {
            "application/javascript": [
              "\n",
              "    async function download(id, filename, size) {\n",
              "      if (!google.colab.kernel.accessAllowed) {\n",
              "        return;\n",
              "      }\n",
              "      const div = document.createElement('div');\n",
              "      const label = document.createElement('label');\n",
              "      label.textContent = `Downloading \"${filename}\": `;\n",
              "      div.appendChild(label);\n",
              "      const progress = document.createElement('progress');\n",
              "      progress.max = size;\n",
              "      div.appendChild(progress);\n",
              "      document.body.appendChild(div);\n",
              "\n",
              "      const buffers = [];\n",
              "      let downloaded = 0;\n",
              "\n",
              "      const channel = await google.colab.kernel.comms.open(id);\n",
              "      // Send a message to notify the kernel that we're ready.\n",
              "      channel.send({})\n",
              "\n",
              "      for await (const message of channel.messages) {\n",
              "        // Send a message to notify the kernel that we're ready.\n",
              "        channel.send({})\n",
              "        if (message.buffers) {\n",
              "          for (const buffer of message.buffers) {\n",
              "            buffers.push(buffer);\n",
              "            downloaded += buffer.byteLength;\n",
              "            progress.value = downloaded;\n",
              "          }\n",
              "        }\n",
              "      }\n",
              "      const blob = new Blob(buffers, {type: 'application/binary'});\n",
              "      const a = document.createElement('a');\n",
              "      a.href = window.URL.createObjectURL(blob);\n",
              "      a.download = filename;\n",
              "      div.appendChild(a);\n",
              "      a.click();\n",
              "      div.remove();\n",
              "    }\n",
              "  "
            ],
            "text/plain": [
              "<IPython.core.display.Javascript object>"
            ]
          },
          "metadata": {
            "tags": []
          }
        },
        {
          "output_type": "display_data",
          "data": {
            "application/javascript": [
              "download(\"download_41734ba7-e6eb-45a3-9776-d82e077aed89\", \"cam_50_jun.xlsx\", 6576)"
            ],
            "text/plain": [
              "<IPython.core.display.Javascript object>"
            ]
          },
          "metadata": {
            "tags": []
          }
        }
      ]
    },
    {
      "cell_type": "code",
      "metadata": {
        "colab": {
          "base_uri": "https://localhost:8080/",
          "height": 137,
          "referenced_widgets": [
            "40462c90041849b388986961e4a15d0d",
            "d2989a2f731a42bc832d0b538a996acb",
            "c7187222f17f4dd6a9615a6c2cd2a971",
            "f23cd8cd27354945b04d216ef6e7da0b",
            "3bdf5008edd44067be3fb8ecd2838bce",
            "d9b456832d8646059e443c750f3e6718",
            "409e87467347472a8da548c31963910c",
            "d29a02b5175a4fd6b1cab9b1ad5deb8a"
          ]
        },
        "id": "jX879gvKox1-",
        "outputId": "7e9dfc89-702e-4c3f-ea07-847ea51fa1d1"
      },
      "source": [
        "# bull_sash_stocks={}\n",
        "# for i in tq.tqdm(nse['Symbol']):\n",
        "#     bull_sash_stocks[i]=checker(i,'2021-03-01','2021-03-30',100000)\n",
        "# final_bull_sash=pd.DataFrame.from_dict(bull_sash_stocks,orient='index',columns=['P/L','Counts','Dates'],)\n",
        "# final_bull_sash.reset_index(inplace=True)\n",
        "# final_bull_sash=final_bull_sash.rename(columns={'index':'Ticker'})\n",
        "# final_bull_sash=final_bull_sash[final_bull_sash['Counts'] != 0]\n",
        "# print('\\n')\n",
        "# print('Total Trades:',sum(final_bull_sash['Counts']))\n",
        "# print('Total INR:',sum(final_bull_sash['P/L']))\n",
        "# final_bull_sash=final_bull_sash.reset_index().drop('index',axis=1)\n",
        "# # final_bull_sash.to_csv('Nifty50May.csv',index=False)"
      ],
      "execution_count": null,
      "outputs": [
        {
          "output_type": "display_data",
          "data": {
            "application/vnd.jupyter.widget-view+json": {
              "model_id": "40462c90041849b388986961e4a15d0d",
              "version_minor": 0,
              "version_major": 2
            },
            "text/plain": [
              "HBox(children=(FloatProgress(value=0.0, max=50.0), HTML(value='')))"
            ]
          },
          "metadata": {
            "tags": []
          }
        },
        {
          "output_type": "stream",
          "text": [
            "\n",
            "\n",
            "\n",
            "Total Trades: 71\n",
            "Total INR: 20145.191041946415\n"
          ],
          "name": "stdout"
        }
      ]
    },
    {
      "cell_type": "code",
      "metadata": {
        "colab": {
          "base_uri": "https://localhost:8080/",
          "height": 17
        },
        "id": "6O6ARoXcsEbl",
        "outputId": "192e6c02-cdba-4ebf-df06-3d25057737e3"
      },
      "source": [
        "# files.download('camarilla_test_Feb.csv')"
      ],
      "execution_count": null,
      "outputs": [
        {
          "output_type": "display_data",
          "data": {
            "application/javascript": [
              "\n",
              "    async function download(id, filename, size) {\n",
              "      if (!google.colab.kernel.accessAllowed) {\n",
              "        return;\n",
              "      }\n",
              "      const div = document.createElement('div');\n",
              "      const label = document.createElement('label');\n",
              "      label.textContent = `Downloading \"${filename}\": `;\n",
              "      div.appendChild(label);\n",
              "      const progress = document.createElement('progress');\n",
              "      progress.max = size;\n",
              "      div.appendChild(progress);\n",
              "      document.body.appendChild(div);\n",
              "\n",
              "      const buffers = [];\n",
              "      let downloaded = 0;\n",
              "\n",
              "      const channel = await google.colab.kernel.comms.open(id);\n",
              "      // Send a message to notify the kernel that we're ready.\n",
              "      channel.send({})\n",
              "\n",
              "      for await (const message of channel.messages) {\n",
              "        // Send a message to notify the kernel that we're ready.\n",
              "        channel.send({})\n",
              "        if (message.buffers) {\n",
              "          for (const buffer of message.buffers) {\n",
              "            buffers.push(buffer);\n",
              "            downloaded += buffer.byteLength;\n",
              "            progress.value = downloaded;\n",
              "          }\n",
              "        }\n",
              "      }\n",
              "      const blob = new Blob(buffers, {type: 'application/binary'});\n",
              "      const a = document.createElement('a');\n",
              "      a.href = window.URL.createObjectURL(blob);\n",
              "      a.download = filename;\n",
              "      div.appendChild(a);\n",
              "      a.click();\n",
              "      div.remove();\n",
              "    }\n",
              "  "
            ],
            "text/plain": [
              "<IPython.core.display.Javascript object>"
            ]
          },
          "metadata": {
            "tags": []
          }
        },
        {
          "output_type": "display_data",
          "data": {
            "application/javascript": [
              "download(\"download_3af50410-c045-4619-9a54-1691c8af6648\", \"camarilla_test_Feb.csv\", 8304)"
            ],
            "text/plain": [
              "<IPython.core.display.Javascript object>"
            ]
          },
          "metadata": {
            "tags": []
          }
        }
      ]
    },
    {
      "cell_type": "markdown",
      "metadata": {
        "id": "aGgpXYlMqvJN"
      },
      "source": [
        "# TO PREDICT NEXT DAY STOCKS"
      ]
    },
    {
      "cell_type": "code",
      "metadata": {
        "colab": {
          "base_uri": "https://localhost:8080/"
        },
        "id": "lHPbgfR2YsY-",
        "outputId": "ce8683fd-cdae-4aa8-8fb8-04298e2d90a8"
      },
      "source": [
        "# from tqdm import tqdm\n",
        "from google.colab import drive\n",
        "drive.mount(\"/content/gdrive\")"
      ],
      "execution_count": null,
      "outputs": [
        {
          "output_type": "stream",
          "text": [
            "Mounted at /content/gdrive\n"
          ],
          "name": "stdout"
        }
      ]
    },
    {
      "cell_type": "code",
      "metadata": {
        "colab": {
          "base_uri": "https://localhost:8080/"
        },
        "id": "6jVDr9K8XI9t",
        "outputId": "6f0cb295-6c0b-429e-c6b8-a3ff852c097c"
      },
      "source": [
        "%cd '/content/gdrive/MyDrive/SASH/'"
      ],
      "execution_count": null,
      "outputs": [
        {
          "output_type": "stream",
          "text": [
            "/content/gdrive/MyDrive/SASH\n"
          ],
          "name": "stdout"
        }
      ]
    },
    {
      "cell_type": "code",
      "metadata": {
        "id": "jUWlStZGW-Kn"
      },
      "source": [
        "nse=pd.read_csv('ALL_FNO.csv')"
      ],
      "execution_count": null,
      "outputs": []
    },
    {
      "cell_type": "code",
      "metadata": {
        "id": "L7gii4qUscT0"
      },
      "source": [
        "def stock_selector(stock_name,start_date,end_date):\n",
        "  data = yf.download(stock_name, \n",
        "                    start=start_date, \n",
        "                    end=end_date,\n",
        "                    progress=False)\n",
        "# Create levels\n",
        "  data['R4']= data['Close'] + ((data['High']-data['Low'])*(1.1/2))\n",
        "  data['R3']= data['Close'] + ((data['High']-data['Low'])*(1.1/4))\n",
        "  data['S3']= data['Close'] - ((data['High']-data['Low'])*(1.1/4))\n",
        "  data['S4']= data['Close'] - ((data['High']-data['Low'])*(1.1/2))\n",
        "# Check if camarilla got activated\n",
        "  data['Camarilla']=['Yes' if (data['R3'][i-1] > data['R3'][i] and data['S3'][i-1] < data['S3'][i]) else 'No' for i in range(0,len(data)) ]\n",
        "  data=data[data['Camarilla']== 'Yes']\n",
        "  data.reset_index(inplace=True)\n",
        "  data['Date']=data['Date'].astype('str')\n",
        "# take only last date as we want to predict only for next day\n",
        "  data=data[-1:]\n",
        "  if data.empty:\n",
        "    return list(data['Date']), list(data['R4']), list(data['R3']) , list(data['S4']) , list(data['S3'])\n",
        "  else:\n",
        "    df=data['Date'].str.split('-',expand=True)\n",
        "    return int(df[2]), float(data['R4']),float(data['R3']),float(data['S4']),float(data['S3'])"
      ],
      "execution_count": null,
      "outputs": []
    },
    {
      "cell_type": "code",
      "metadata": {
        "colab": {
          "base_uri": "https://localhost:8080/",
          "height": 349,
          "referenced_widgets": [
            "bbbe1e411e544ef29d563f2b3aa940c3",
            "204ef6b228464e7d926be56e7176234c",
            "f68cb62c5da547d5991f3138544cfae0",
            "74c6c5daadcb4b33806c9be0e7098ff5",
            "b6696ad450654260b7e465c1dc56bd34",
            "5c67ab592a8e43ca9914c0f756e2fb29",
            "8069a3cda3f04efb95d6854b62dc9685",
            "5412ae8ca43041e3940c6da74a00f4f0"
          ]
        },
        "id": "aW1s5KQD_jEL",
        "outputId": "b46add9f-471a-4dc4-b64c-dedfcf63ac73"
      },
      "source": [
        "# %cd '/content/gdrive/MyDrive/SASH/'\n",
        "# nse=pd.read_csv('new_FNO_list.csv')\n",
        "\n",
        "stocks={}\n",
        "for i in tq.tqdm(nse['Symbol']):\n",
        "  # provide range\n",
        "  stocks[i]=stock_selector(i,'2021-07-09','2021-07-16')\n",
        "# add column names and convert to df\n",
        "selected_stocks=pd.DataFrame.from_dict(stocks,orient='index',columns=['Date','Buy-Bull','SL-Bull','Sell-Bear','SL-Bear'])\n",
        "# slice on mentioned date\n",
        "selected_stocks=selected_stocks[selected_stocks[\"Date\"] == 15]\n",
        "# reset index and rename \n",
        "selected_stocks=selected_stocks.reset_index()\n",
        "selected_stocks=selected_stocks.rename(columns={'index':'Stock'})\n",
        "# Drop if buy or sell == stoploss\n",
        "for i in range(0,len(selected_stocks)):\n",
        "  if selected_stocks['Buy-Bull'][i] == selected_stocks['SL-Bull'][i] and selected_stocks['Sell-Bear'][i ] == selected_stocks['SL-Bear'][i]:\n",
        "    selected_stocks = selected_stocks.drop(i)\n",
        "selected_stocks"
      ],
      "execution_count": null,
      "outputs": [
        {
          "output_type": "display_data",
          "data": {
            "application/vnd.jupyter.widget-view+json": {
              "model_id": "bbbe1e411e544ef29d563f2b3aa940c3",
              "version_minor": 0,
              "version_major": 2
            },
            "text/plain": [
              "HBox(children=(FloatProgress(value=0.0, max=137.0), HTML(value='')))"
            ]
          },
          "metadata": {
            "tags": []
          }
        },
        {
          "output_type": "stream",
          "text": [
            "\n"
          ],
          "name": "stdout"
        },
        {
          "output_type": "execute_result",
          "data": {
            "text/html": [
              "<div>\n",
              "<style scoped>\n",
              "    .dataframe tbody tr th:only-of-type {\n",
              "        vertical-align: middle;\n",
              "    }\n",
              "\n",
              "    .dataframe tbody tr th {\n",
              "        vertical-align: top;\n",
              "    }\n",
              "\n",
              "    .dataframe thead th {\n",
              "        text-align: right;\n",
              "    }\n",
              "</style>\n",
              "<table border=\"1\" class=\"dataframe\">\n",
              "  <thead>\n",
              "    <tr style=\"text-align: right;\">\n",
              "      <th></th>\n",
              "      <th>Stock</th>\n",
              "      <th>Date</th>\n",
              "      <th>Buy-Bull</th>\n",
              "      <th>SL-Bull</th>\n",
              "      <th>Sell-Bear</th>\n",
              "      <th>SL-Bear</th>\n",
              "    </tr>\n",
              "  </thead>\n",
              "  <tbody>\n",
              "    <tr>\n",
              "      <th>0</th>\n",
              "      <td>DRREDDY.NS</td>\n",
              "      <td>15</td>\n",
              "      <td>5430.66</td>\n",
              "      <td>5412.16</td>\n",
              "      <td>5356.64</td>\n",
              "      <td>5375.14</td>\n",
              "    </tr>\n",
              "    <tr>\n",
              "      <th>1</th>\n",
              "      <td>IGL.NS</td>\n",
              "      <td>15</td>\n",
              "      <td>564.655</td>\n",
              "      <td>562.428</td>\n",
              "      <td>555.745</td>\n",
              "      <td>557.973</td>\n",
              "    </tr>\n",
              "    <tr>\n",
              "      <th>2</th>\n",
              "      <td>NMDC.NS</td>\n",
              "      <td>15</td>\n",
              "      <td>173.695</td>\n",
              "      <td>173.172</td>\n",
              "      <td>171.605</td>\n",
              "      <td>172.127</td>\n",
              "    </tr>\n",
              "    <tr>\n",
              "      <th>3</th>\n",
              "      <td>PIDILITIND.NS</td>\n",
              "      <td>15</td>\n",
              "      <td>2259.85</td>\n",
              "      <td>2254.5</td>\n",
              "      <td>2238.45</td>\n",
              "      <td>2243.8</td>\n",
              "    </tr>\n",
              "    <tr>\n",
              "      <th>4</th>\n",
              "      <td>TATACHEM.NS</td>\n",
              "      <td>15</td>\n",
              "      <td>782.42</td>\n",
              "      <td>780.11</td>\n",
              "      <td>773.18</td>\n",
              "      <td>775.49</td>\n",
              "    </tr>\n",
              "    <tr>\n",
              "      <th>5</th>\n",
              "      <td>SBIN.NS</td>\n",
              "      <td>15</td>\n",
              "      <td>433.515</td>\n",
              "      <td>432.608</td>\n",
              "      <td>429.885</td>\n",
              "      <td>430.793</td>\n",
              "    </tr>\n",
              "    <tr>\n",
              "      <th>6</th>\n",
              "      <td>SHREECEM.NS</td>\n",
              "      <td>15</td>\n",
              "      <td>28608.2</td>\n",
              "      <td>28517.8</td>\n",
              "      <td>28246.7</td>\n",
              "      <td>28337.1</td>\n",
              "    </tr>\n",
              "    <tr>\n",
              "      <th>7</th>\n",
              "      <td>MINDTREE.NS</td>\n",
              "      <td>15</td>\n",
              "      <td>2770.46</td>\n",
              "      <td>2751.28</td>\n",
              "      <td>2693.74</td>\n",
              "      <td>2712.92</td>\n",
              "    </tr>\n",
              "  </tbody>\n",
              "</table>\n",
              "</div>"
            ],
            "text/plain": [
              "           Stock Date Buy-Bull  SL-Bull Sell-Bear  SL-Bear\n",
              "0     DRREDDY.NS   15  5430.66  5412.16   5356.64  5375.14\n",
              "1         IGL.NS   15  564.655  562.428   555.745  557.973\n",
              "2        NMDC.NS   15  173.695  173.172   171.605  172.127\n",
              "3  PIDILITIND.NS   15  2259.85   2254.5   2238.45   2243.8\n",
              "4    TATACHEM.NS   15   782.42   780.11    773.18   775.49\n",
              "5        SBIN.NS   15  433.515  432.608   429.885  430.793\n",
              "6    SHREECEM.NS   15  28608.2  28517.8   28246.7  28337.1\n",
              "7    MINDTREE.NS   15  2770.46  2751.28   2693.74  2712.92"
            ]
          },
          "metadata": {
            "tags": []
          },
          "execution_count": 8
        }
      ]
    },
    {
      "cell_type": "code",
      "metadata": {
        "id": "tLFCMqZRCgdL"
      },
      "source": [
        "selected_stocks['Buy-Quantity']=100000/selected_stocks['Buy-Bull']\n",
        "selected_stocks['Buy-Quantity']=selected_stocks['Buy-Quantity'].astype('int')\n",
        "selected_stocks['Sell-Quantity']=100000/selected_stocks['Sell-Bear']\n",
        "selected_stocks['Sell-Quantity']=selected_stocks['Sell-Quantity'].astype('int')"
      ],
      "execution_count": null,
      "outputs": []
    },
    {
      "cell_type": "code",
      "metadata": {
        "id": "dW12ozPa4YDF"
      },
      "source": [
        "asset=selected_stocks['Stock'].str.split(\".\",expand=True)\n",
        "selected_stocks['Stock']= \"NSE:\" + asset[0] + \",\""
      ],
      "execution_count": null,
      "outputs": []
    },
    {
      "cell_type": "code",
      "metadata": {
        "colab": {
          "base_uri": "https://localhost:8080/",
          "height": 300
        },
        "id": "lpTFjZvQ2Krb",
        "outputId": "99b83eb8-b511-4c8e-88b7-731bace452bf"
      },
      "source": [
        "selected_stocks"
      ],
      "execution_count": null,
      "outputs": [
        {
          "output_type": "execute_result",
          "data": {
            "text/html": [
              "<div>\n",
              "<style scoped>\n",
              "    .dataframe tbody tr th:only-of-type {\n",
              "        vertical-align: middle;\n",
              "    }\n",
              "\n",
              "    .dataframe tbody tr th {\n",
              "        vertical-align: top;\n",
              "    }\n",
              "\n",
              "    .dataframe thead th {\n",
              "        text-align: right;\n",
              "    }\n",
              "</style>\n",
              "<table border=\"1\" class=\"dataframe\">\n",
              "  <thead>\n",
              "    <tr style=\"text-align: right;\">\n",
              "      <th></th>\n",
              "      <th>Stock</th>\n",
              "      <th>Date</th>\n",
              "      <th>Buy-Bull</th>\n",
              "      <th>SL-Bull</th>\n",
              "      <th>Sell-Bear</th>\n",
              "      <th>SL-Bear</th>\n",
              "      <th>Buy-Quantity</th>\n",
              "      <th>Sell-Quantity</th>\n",
              "    </tr>\n",
              "  </thead>\n",
              "  <tbody>\n",
              "    <tr>\n",
              "      <th>0</th>\n",
              "      <td>NSE:DRREDDY,</td>\n",
              "      <td>15</td>\n",
              "      <td>5430.66</td>\n",
              "      <td>5412.16</td>\n",
              "      <td>5356.64</td>\n",
              "      <td>5375.14</td>\n",
              "      <td>18</td>\n",
              "      <td>18</td>\n",
              "    </tr>\n",
              "    <tr>\n",
              "      <th>1</th>\n",
              "      <td>NSE:IGL,</td>\n",
              "      <td>15</td>\n",
              "      <td>564.655</td>\n",
              "      <td>562.428</td>\n",
              "      <td>555.745</td>\n",
              "      <td>557.973</td>\n",
              "      <td>177</td>\n",
              "      <td>179</td>\n",
              "    </tr>\n",
              "    <tr>\n",
              "      <th>2</th>\n",
              "      <td>NSE:NMDC,</td>\n",
              "      <td>15</td>\n",
              "      <td>173.695</td>\n",
              "      <td>173.172</td>\n",
              "      <td>171.605</td>\n",
              "      <td>172.127</td>\n",
              "      <td>575</td>\n",
              "      <td>582</td>\n",
              "    </tr>\n",
              "    <tr>\n",
              "      <th>3</th>\n",
              "      <td>NSE:PIDILITIND,</td>\n",
              "      <td>15</td>\n",
              "      <td>2259.85</td>\n",
              "      <td>2254.5</td>\n",
              "      <td>2238.45</td>\n",
              "      <td>2243.8</td>\n",
              "      <td>44</td>\n",
              "      <td>44</td>\n",
              "    </tr>\n",
              "    <tr>\n",
              "      <th>4</th>\n",
              "      <td>NSE:TATACHEM,</td>\n",
              "      <td>15</td>\n",
              "      <td>782.42</td>\n",
              "      <td>780.11</td>\n",
              "      <td>773.18</td>\n",
              "      <td>775.49</td>\n",
              "      <td>127</td>\n",
              "      <td>129</td>\n",
              "    </tr>\n",
              "    <tr>\n",
              "      <th>5</th>\n",
              "      <td>NSE:SBIN,</td>\n",
              "      <td>15</td>\n",
              "      <td>433.515</td>\n",
              "      <td>432.608</td>\n",
              "      <td>429.885</td>\n",
              "      <td>430.793</td>\n",
              "      <td>230</td>\n",
              "      <td>232</td>\n",
              "    </tr>\n",
              "    <tr>\n",
              "      <th>6</th>\n",
              "      <td>NSE:SHREECEM,</td>\n",
              "      <td>15</td>\n",
              "      <td>28608.2</td>\n",
              "      <td>28517.8</td>\n",
              "      <td>28246.7</td>\n",
              "      <td>28337.1</td>\n",
              "      <td>3</td>\n",
              "      <td>3</td>\n",
              "    </tr>\n",
              "    <tr>\n",
              "      <th>7</th>\n",
              "      <td>NSE:MINDTREE,</td>\n",
              "      <td>15</td>\n",
              "      <td>2770.46</td>\n",
              "      <td>2751.28</td>\n",
              "      <td>2693.74</td>\n",
              "      <td>2712.92</td>\n",
              "      <td>36</td>\n",
              "      <td>37</td>\n",
              "    </tr>\n",
              "  </tbody>\n",
              "</table>\n",
              "</div>"
            ],
            "text/plain": [
              "             Stock Date Buy-Bull  ...  SL-Bear Buy-Quantity Sell-Quantity\n",
              "0     NSE:DRREDDY,   15  5430.66  ...  5375.14           18            18\n",
              "1         NSE:IGL,   15  564.655  ...  557.973          177           179\n",
              "2        NSE:NMDC,   15  173.695  ...  172.127          575           582\n",
              "3  NSE:PIDILITIND,   15  2259.85  ...   2243.8           44            44\n",
              "4    NSE:TATACHEM,   15   782.42  ...   775.49          127           129\n",
              "5        NSE:SBIN,   15  433.515  ...  430.793          230           232\n",
              "6    NSE:SHREECEM,   15  28608.2  ...  28337.1            3             3\n",
              "7    NSE:MINDTREE,   15  2770.46  ...  2712.92           36            37\n",
              "\n",
              "[8 rows x 8 columns]"
            ]
          },
          "metadata": {
            "tags": []
          },
          "execution_count": 11
        }
      ]
    },
    {
      "cell_type": "code",
      "metadata": {
        "id": "qw4B1B_02MAd",
        "colab": {
          "base_uri": "https://localhost:8080/",
          "height": 17
        },
        "outputId": "771f2915-cc30-49ea-b047-59120ccaa2b4"
      },
      "source": [
        "selected_stocks.to_excel('stockselection_16th_july.xlsx',index=False)\n",
        "files.download('stockselection_16th_july.xlsx')\n"
      ],
      "execution_count": null,
      "outputs": [
        {
          "output_type": "display_data",
          "data": {
            "application/javascript": [
              "\n",
              "    async function download(id, filename, size) {\n",
              "      if (!google.colab.kernel.accessAllowed) {\n",
              "        return;\n",
              "      }\n",
              "      const div = document.createElement('div');\n",
              "      const label = document.createElement('label');\n",
              "      label.textContent = `Downloading \"${filename}\": `;\n",
              "      div.appendChild(label);\n",
              "      const progress = document.createElement('progress');\n",
              "      progress.max = size;\n",
              "      div.appendChild(progress);\n",
              "      document.body.appendChild(div);\n",
              "\n",
              "      const buffers = [];\n",
              "      let downloaded = 0;\n",
              "\n",
              "      const channel = await google.colab.kernel.comms.open(id);\n",
              "      // Send a message to notify the kernel that we're ready.\n",
              "      channel.send({})\n",
              "\n",
              "      for await (const message of channel.messages) {\n",
              "        // Send a message to notify the kernel that we're ready.\n",
              "        channel.send({})\n",
              "        if (message.buffers) {\n",
              "          for (const buffer of message.buffers) {\n",
              "            buffers.push(buffer);\n",
              "            downloaded += buffer.byteLength;\n",
              "            progress.value = downloaded;\n",
              "          }\n",
              "        }\n",
              "      }\n",
              "      const blob = new Blob(buffers, {type: 'application/binary'});\n",
              "      const a = document.createElement('a');\n",
              "      a.href = window.URL.createObjectURL(blob);\n",
              "      a.download = filename;\n",
              "      div.appendChild(a);\n",
              "      a.click();\n",
              "      div.remove();\n",
              "    }\n",
              "  "
            ],
            "text/plain": [
              "<IPython.core.display.Javascript object>"
            ]
          },
          "metadata": {
            "tags": []
          }
        },
        {
          "output_type": "display_data",
          "data": {
            "application/javascript": [
              "download(\"download_aaf2fe40-c441-4578-8dca-ddeb067b744c\", \"stockselection_16th_july.xlsx\", 5675)"
            ],
            "text/plain": [
              "<IPython.core.display.Javascript object>"
            ]
          },
          "metadata": {
            "tags": []
          }
        }
      ]
    },
    {
      "cell_type": "code",
      "metadata": {
        "id": "QCe7wIkxw6F9"
      },
      "source": [
        "rm 'stockselection_16th_july.xlsx'"
      ],
      "execution_count": null,
      "outputs": []
    },
    {
      "cell_type": "code",
      "metadata": {
        "id": "jbXVVmfExxSo"
      },
      "source": [
        ""
      ],
      "execution_count": null,
      "outputs": []
    }
  ]
}