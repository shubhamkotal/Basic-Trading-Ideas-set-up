{
  "nbformat": 4,
  "nbformat_minor": 0,
  "metadata": {
    "colab": {
      "name": "Sideways.ipynb",
      "provenance": [],
      "collapsed_sections": []
    },
    "kernelspec": {
      "name": "python3",
      "display_name": "Python 3"
    },
    "language_info": {
      "name": "python"
    }
  },
  "cells": [
    {
      "cell_type": "code",
      "metadata": {
        "id": "TkBWe_Z7MbOc"
      },
      "source": [
        "%%capture\n",
        "!pip install yfinance\n",
        "import pandas as pd\n",
        "import yfinance as yf # import libraries\n",
        "import numpy as np\n",
        "import matplotlib.pyplot as plt\n",
        "plt.style.use('seaborn')\n",
        "import warnings\n",
        "warnings.filterwarnings('ignore') \n",
        "# from IPython.display import FileLink\n",
        "from google.colab import files\n",
        "import tqdm.notebook as tq\n",
        "from pandas_datareader import data as pdr"
      ],
      "execution_count": null,
      "outputs": []
    },
    {
      "cell_type": "code",
      "metadata": {
        "id": "NzqaoZncNAcw"
      },
      "source": [
        "nse_Symbol=['ADANIPORTS.NS',\n",
        " 'ASIANPAINT.NS',\n",
        " 'AXISBANK.NS',\n",
        " 'BAJAJ-AUTO.NS',\n",
        " 'BAJAJFINSV.NS',\n",
        " 'BAJFINANCE.NS',\n",
        " 'BHARTIARTL.NS',\n",
        " 'BPCL.NS',\n",
        " 'BRITANNIA.NS',\n",
        " 'CIPLA.NS',\n",
        " 'COALINDIA.NS',\n",
        " 'DIVISLAB.NS',\n",
        " 'DRREDDY.NS',\n",
        " 'EICHERMOT.NS',\n",
        " 'GRASIM.NS',\n",
        " 'HCLTECH.NS',\n",
        " 'HDFC.NS',\n",
        " 'HDFCBANK.NS',\n",
        " 'HDFCLIFE.NS',\n",
        " 'HEROMOTOCO.NS',\n",
        " 'HINDALCO.NS',\n",
        " 'HINDUNILVR.NS',\n",
        " 'ICICIBANK.NS',\n",
        " 'INDUSINDBK.NS',\n",
        " 'INFY.NS',\n",
        " 'IOC.NS',\n",
        " 'ITC.NS',\n",
        " 'JSWSTEEL.NS',\n",
        " 'KOTAKBANK.NS',\n",
        " 'LT.NS',\n",
        " 'M&M.NS',\n",
        " 'MARUTI.NS',\n",
        " 'NESTLEIND.NS',\n",
        " 'NTPC.NS',\n",
        " 'ONGC.NS',\n",
        " 'POWERGRID.NS',\n",
        " 'RELIANCE.NS',\n",
        " 'SBILIFE.NS',\n",
        " 'SBIN.NS',\n",
        " 'SHREECEM.NS',\n",
        " 'SUNPHARMA.NS',\n",
        " 'TATACONSUM.NS',\n",
        " 'TATAMOTORS.NS',\n",
        " 'TATASTEEL.NS',\n",
        " 'TCS.NS',\n",
        " 'TECHM.NS',\n",
        " 'TITAN.NS',\n",
        " 'ULTRACEMCO.NS',\n",
        " 'UPL.NS',\n",
        " 'WIPRO.NS']"
      ],
      "execution_count": null,
      "outputs": []
    },
    {
      "cell_type": "code",
      "metadata": {
        "id": "QfDS-6KyNB0h"
      },
      "source": [
        "def checker(stock_name,start_date,end_date):\n",
        "  df1 = yf.download(stock_name, \n",
        "                    start=start_date, \n",
        "                    end=end_date,\n",
        "                    interval='15m')\n",
        "  df1.reset_index(inplace=True)\n",
        "  df1=df1.dropna().reset_index(drop=True)\n",
        "  df1['Datetime']=df1['Datetime'].astype('str')\n",
        "  df1=df1[df1['Datetime'].str.contains('09:30|15.15')].reset_index(drop=True)\n",
        "  df1['pct change']=df1['Close'].pct_change()*100\n",
        "  # df1['pct change']=df1['Close'].diff()\n",
        "  df1=df1.dropna().reset_index(drop=True)\n",
        "  df1=df1[df1['Datetime'].str.contains('09:30')].reset_index(drop=True)\n",
        "  # df1[stock_name] =  ['Advance' if df1['pct change'][i] > 0 else 'Decline' for i in range(0,len(df1)) ]\n",
        "  df1[stock_name] =  ['Advance' if df1['pct change'][i] > 0.2 else 'Decline' if df1['pct change'][i] < -0.2 else 'Neutral' for i in range(0,len(df1)) ]\n",
        "  df1=df1[['Datetime',stock_name]]\n",
        "  return df1"
      ],
      "execution_count": null,
      "outputs": []
    },
    {
      "cell_type": "code",
      "metadata": {
        "id": "Ci7j-u2aV9mC"
      },
      "source": [
        "%%capture\n",
        "df=checker('RELIANCE.NS','2021-09-10','2021-09-30')\n",
        "df=df.drop('RELIANCE.NS',axis=1)\n",
        "for i in nse_Symbol:\n",
        "  df1=checker(i,'2021-09-10','2021-09-30')\n",
        "  df[i]=df1[i]\n",
        "df_new=df.T\n",
        "df_new=df_new.reset_index()\n",
        "df_new.columns = df_new.iloc[0]\n",
        "df_new=df_new.drop(0,axis=0)\n",
        "df_new=df_new.reset_index(drop=True)\n",
        "columns=list(df_new.columns)\n",
        "columns.remove('Datetime')"
      ],
      "execution_count": null,
      "outputs": []
    },
    {
      "cell_type": "code",
      "metadata": {
        "colab": {
          "base_uri": "https://localhost:8080/"
        },
        "id": "7uLZD1XyW0pT",
        "outputId": "695366aa-1961-4201-b115-46c67158e765"
      },
      "source": [
        "adder=1\n",
        "for i in columns:\n",
        "  print('No. ',adder)\n",
        "  print(df_new[i].value_counts())\n",
        "  print(\"------------------------------------------------------------------------------------\")\n",
        "  adder=adder+1"
      ],
      "execution_count": null,
      "outputs": [
        {
          "output_type": "stream",
          "name": "stdout",
          "text": [
            "No.  1\n",
            "Advance    37\n",
            "Neutral     9\n",
            "Decline     4\n",
            "Name: 2021-09-14 09:30:00+05:30, dtype: int64\n",
            "------------------------------------------------------------------------------------\n",
            "No.  2\n",
            "Advance    29\n",
            "Neutral    12\n",
            "Decline     9\n",
            "Name: 2021-09-15 09:30:00+05:30, dtype: int64\n",
            "------------------------------------------------------------------------------------\n",
            "No.  3\n",
            "Advance    22\n",
            "Neutral    15\n",
            "Decline    13\n",
            "Name: 2021-09-16 09:30:00+05:30, dtype: int64\n",
            "------------------------------------------------------------------------------------\n",
            "No.  4\n",
            "Advance    30\n",
            "Decline    10\n",
            "Neutral    10\n",
            "Name: 2021-09-17 09:30:00+05:30, dtype: int64\n",
            "------------------------------------------------------------------------------------\n",
            "No.  5\n",
            "Decline    34\n",
            "Advance    12\n",
            "Neutral     4\n",
            "Name: 2021-09-20 09:30:00+05:30, dtype: int64\n",
            "------------------------------------------------------------------------------------\n",
            "No.  6\n",
            "Advance    39\n",
            "Decline     7\n",
            "Neutral     4\n",
            "Name: 2021-09-21 09:30:00+05:30, dtype: int64\n",
            "------------------------------------------------------------------------------------\n",
            "No.  7\n",
            "Advance    21\n",
            "Neutral    17\n",
            "Decline    12\n",
            "Name: 2021-09-22 09:30:00+05:30, dtype: int64\n",
            "------------------------------------------------------------------------------------\n",
            "No.  8\n",
            "Advance    43\n",
            "Neutral     7\n",
            "Name: 2021-09-23 09:30:00+05:30, dtype: int64\n",
            "------------------------------------------------------------------------------------\n",
            "No.  9\n",
            "Advance    27\n",
            "Decline    16\n",
            "Neutral     7\n",
            "Name: 2021-09-24 09:30:00+05:30, dtype: int64\n",
            "------------------------------------------------------------------------------------\n"
          ]
        }
      ]
    },
    {
      "cell_type": "code",
      "metadata": {
        "id": "iioR_Vdnml4T"
      },
      "source": [
        ""
      ],
      "execution_count": null,
      "outputs": []
    }
  ]
}