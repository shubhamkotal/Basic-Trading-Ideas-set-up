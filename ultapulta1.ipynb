{
  "nbformat": 4,
  "nbformat_minor": 0,
  "metadata": {
    "colab": {
      "name": "ultapulta1.ipynb",
      "provenance": [],
      "collapsed_sections": []
    },
    "kernelspec": {
      "name": "python3",
      "display_name": "Python 3"
    },
    "language_info": {
      "name": "python"
    }
  },
  "cells": [
    {
      "cell_type": "code",
      "metadata": {
        "colab": {
          "base_uri": "https://localhost:8080/"
        },
        "id": "0i4xnOKM8kv-",
        "outputId": "b2366736-c97a-481f-8884-25d88c999305"
      },
      "source": [
        "!pip install yfinance\n",
        "import pandas as pd \n",
        "import yfinance as yf # import libraries\n",
        "import numpy as np\n",
        "import matplotlib.pyplot as plt\n",
        "plt.style.use('seaborn')"
      ],
      "execution_count": null,
      "outputs": [
        {
          "output_type": "stream",
          "text": [
            "Collecting yfinance\n",
            "  Downloading https://files.pythonhosted.org/packages/a7/ee/315752b9ef281ba83c62aa7ec2e2074f85223da6e7e74efb4d3e11c0f510/yfinance-0.1.59.tar.gz\n",
            "Requirement already satisfied: pandas>=0.24 in /usr/local/lib/python3.7/dist-packages (from yfinance) (1.1.5)\n",
            "Requirement already satisfied: numpy>=1.15 in /usr/local/lib/python3.7/dist-packages (from yfinance) (1.19.5)\n",
            "Requirement already satisfied: requests>=2.20 in /usr/local/lib/python3.7/dist-packages (from yfinance) (2.23.0)\n",
            "Requirement already satisfied: multitasking>=0.0.7 in /usr/local/lib/python3.7/dist-packages (from yfinance) (0.0.9)\n",
            "Collecting lxml>=4.5.1\n",
            "\u001b[?25l  Downloading https://files.pythonhosted.org/packages/cf/4d/6537313bf58fe22b508f08cf3eb86b29b6f9edf68e00454224539421073b/lxml-4.6.3-cp37-cp37m-manylinux1_x86_64.whl (5.5MB)\n",
            "\u001b[K     |████████████████████████████████| 5.5MB 11.5MB/s \n",
            "\u001b[?25hRequirement already satisfied: python-dateutil>=2.7.3 in /usr/local/lib/python3.7/dist-packages (from pandas>=0.24->yfinance) (2.8.1)\n",
            "Requirement already satisfied: pytz>=2017.2 in /usr/local/lib/python3.7/dist-packages (from pandas>=0.24->yfinance) (2018.9)\n",
            "Requirement already satisfied: certifi>=2017.4.17 in /usr/local/lib/python3.7/dist-packages (from requests>=2.20->yfinance) (2020.12.5)\n",
            "Requirement already satisfied: chardet<4,>=3.0.2 in /usr/local/lib/python3.7/dist-packages (from requests>=2.20->yfinance) (3.0.4)\n",
            "Requirement already satisfied: urllib3!=1.25.0,!=1.25.1,<1.26,>=1.21.1 in /usr/local/lib/python3.7/dist-packages (from requests>=2.20->yfinance) (1.24.3)\n",
            "Requirement already satisfied: idna<3,>=2.5 in /usr/local/lib/python3.7/dist-packages (from requests>=2.20->yfinance) (2.10)\n",
            "Requirement already satisfied: six>=1.5 in /usr/local/lib/python3.7/dist-packages (from python-dateutil>=2.7.3->pandas>=0.24->yfinance) (1.15.0)\n",
            "Building wheels for collected packages: yfinance\n",
            "  Building wheel for yfinance (setup.py) ... \u001b[?25l\u001b[?25hdone\n",
            "  Created wheel for yfinance: filename=yfinance-0.1.59-py2.py3-none-any.whl size=23442 sha256=94c7ed27ba59a3e206394cb4bc7b476c4c25c25d61d52720f9d058ce14d43f37\n",
            "  Stored in directory: /root/.cache/pip/wheels/f8/2a/0f/4b5a86e1d52e451757eb6bc17fd899629f0925c777741b6d04\n",
            "Successfully built yfinance\n",
            "Installing collected packages: lxml, yfinance\n",
            "  Found existing installation: lxml 4.2.6\n",
            "    Uninstalling lxml-4.2.6:\n",
            "      Successfully uninstalled lxml-4.2.6\n",
            "Successfully installed lxml-4.6.3 yfinance-0.1.59\n"
          ],
          "name": "stdout"
        }
      ]
    },
    {
      "cell_type": "code",
      "metadata": {
        "id": "4in4Lc_98lPp"
      },
      "source": [
        "data = yf.download('SBIN.NS', \n",
        "                      start='2020-01-15', \n",
        "                      end='2021-04-15',\n",
        "                      progress=False)"
      ],
      "execution_count": null,
      "outputs": []
    },
    {
      "cell_type": "code",
      "metadata": {
        "colab": {
          "base_uri": "https://localhost:8080/",
          "height": 230
        },
        "id": "aDmCTYFkDyPT",
        "outputId": "4fb8d24c-fa1c-4a17-ce7e-5f891295305e"
      },
      "source": [
        "data.tail()"
      ],
      "execution_count": null,
      "outputs": [
        {
          "output_type": "execute_result",
          "data": {
            "text/html": [
              "<div>\n",
              "<style scoped>\n",
              "    .dataframe tbody tr th:only-of-type {\n",
              "        vertical-align: middle;\n",
              "    }\n",
              "\n",
              "    .dataframe tbody tr th {\n",
              "        vertical-align: top;\n",
              "    }\n",
              "\n",
              "    .dataframe thead th {\n",
              "        text-align: right;\n",
              "    }\n",
              "</style>\n",
              "<table border=\"1\" class=\"dataframe\">\n",
              "  <thead>\n",
              "    <tr style=\"text-align: right;\">\n",
              "      <th></th>\n",
              "      <th>Open</th>\n",
              "      <th>High</th>\n",
              "      <th>Low</th>\n",
              "      <th>Close</th>\n",
              "      <th>Adj Close</th>\n",
              "      <th>Volume</th>\n",
              "    </tr>\n",
              "    <tr>\n",
              "      <th>Date</th>\n",
              "      <th></th>\n",
              "      <th></th>\n",
              "      <th></th>\n",
              "      <th></th>\n",
              "      <th></th>\n",
              "      <th></th>\n",
              "    </tr>\n",
              "  </thead>\n",
              "  <tbody>\n",
              "    <tr>\n",
              "      <th>2021-04-07</th>\n",
              "      <td>351.250000</td>\n",
              "      <td>363.200012</td>\n",
              "      <td>347.600006</td>\n",
              "      <td>358.549988</td>\n",
              "      <td>358.549988</td>\n",
              "      <td>48023602</td>\n",
              "    </tr>\n",
              "    <tr>\n",
              "      <th>2021-04-08</th>\n",
              "      <td>361.000000</td>\n",
              "      <td>363.299988</td>\n",
              "      <td>354.299988</td>\n",
              "      <td>355.600006</td>\n",
              "      <td>355.600006</td>\n",
              "      <td>33370259</td>\n",
              "    </tr>\n",
              "    <tr>\n",
              "      <th>2021-04-09</th>\n",
              "      <td>354.399994</td>\n",
              "      <td>364.500000</td>\n",
              "      <td>351.200012</td>\n",
              "      <td>353.000000</td>\n",
              "      <td>353.000000</td>\n",
              "      <td>46473100</td>\n",
              "    </tr>\n",
              "    <tr>\n",
              "      <th>2021-04-12</th>\n",
              "      <td>344.000000</td>\n",
              "      <td>344.000000</td>\n",
              "      <td>322.549988</td>\n",
              "      <td>328.850006</td>\n",
              "      <td>328.850006</td>\n",
              "      <td>75501713</td>\n",
              "    </tr>\n",
              "    <tr>\n",
              "      <th>2021-04-13</th>\n",
              "      <td>332.000000</td>\n",
              "      <td>342.250000</td>\n",
              "      <td>330.500000</td>\n",
              "      <td>341.000000</td>\n",
              "      <td>341.000000</td>\n",
              "      <td>49773360</td>\n",
              "    </tr>\n",
              "  </tbody>\n",
              "</table>\n",
              "</div>"
            ],
            "text/plain": [
              "                  Open        High  ...   Adj Close    Volume\n",
              "Date                                ...                      \n",
              "2021-04-07  351.250000  363.200012  ...  358.549988  48023602\n",
              "2021-04-08  361.000000  363.299988  ...  355.600006  33370259\n",
              "2021-04-09  354.399994  364.500000  ...  353.000000  46473100\n",
              "2021-04-12  344.000000  344.000000  ...  328.850006  75501713\n",
              "2021-04-13  332.000000  342.250000  ...  341.000000  49773360\n",
              "\n",
              "[5 rows x 6 columns]"
            ]
          },
          "metadata": {
            "tags": []
          },
          "execution_count": 4
        }
      ]
    },
    {
      "cell_type": "code",
      "metadata": {
        "id": "AFAQEkEYDyWL"
      },
      "source": [
        ""
      ],
      "execution_count": null,
      "outputs": []
    },
    {
      "cell_type": "code",
      "metadata": {
        "id": "UJ7UhR5V8xB0"
      },
      "source": [
        "def checker(stock_name,start_date,end_date,Amount):\n",
        "  data = yf.download(stock_name, \n",
        "                    start=start_date, \n",
        "                    end=end_date,\n",
        "                    progress=False)\n",
        "  # pct change\n",
        "  data['Pre Pct Change']=(data['Close'].pct_change() * 100).shift(1)\n",
        "  # # pre close\n",
        "  # data['Pre Close']=data['Close'].shift(1)\n",
        "  # pre high\n",
        "  data['Pre High']=data['High'].shift(1)\n",
        "  # color\n",
        "  data['Color']=['Red' if x[0]>x[1] else 'Green' for x in zip(data['Open'],data['Close'])]\n",
        "  # gapup\n",
        "  data['Gap']=['Gap up' if data['Open'][i] > data['High'][i-1] else 'Down' for i in range(0,len(data))]\n",
        "  # trigger\n",
        "  try:\n",
        "    data['Trigered Buy'] = ['Yes' if data['High'][i-1] > data['Low'][i] else 'No' for i in range(0,len(data))]\n",
        "  except:\n",
        "    pass\n",
        "  # dlt column\n",
        "  data=data.drop(['Adj Close','Volume'],axis=1)\n",
        "  # success\n",
        "  data['Success']= ['Yes' if data['High'][i-1] > data['Close'][i] else 'No' for i in range(0,len(data))]\n",
        "  # drop na and reset index\n",
        "  data=data.dropna()\n",
        "  data=data.reset_index()\n",
        "  # slice \n",
        "  data=data[data['Pre Pct Change'] > 5]\n",
        "  data=data[data['Gap'] == 'Gap up']\n",
        "  data=data[data['Trigered Buy'] == 'Yes']\n",
        "  # profit\n",
        "  data['P/L']= data['Pre High'] - data['Close']\n",
        "  # add stoploss conditions\n",
        "  data=data.reset_index().drop('index',axis=1)\n",
        "  data['P/L']=[data['P/L'][i] if data['Success'][i]=='Yes' else data['Pre High'][i] - data['Open'][i] for i in range(0,len(data))]\n",
        "  # amount calculation\n",
        "  data['INR'] = (round(Amount/data['Pre High'])) * data['P/L']\n",
        "  # return\n",
        "  data['Date']=data['Date'].astype('str')\n",
        "  return sum(data['INR']), len(data),list(data['Date']) \n"
      ],
      "execution_count": null,
      "outputs": []
    },
    {
      "cell_type": "code",
      "metadata": {
        "colab": {
          "base_uri": "https://localhost:8080/"
        },
        "id": "GcP26LQk1ImX",
        "outputId": "65b01648-4774-45ec-b125-c04dc24e6e01"
      },
      "source": [
        "from tqdm import tqdm\n",
        "from google.colab import drive\n",
        "drive.mount(\"/content/gdrive\")"
      ],
      "execution_count": null,
      "outputs": [
        {
          "output_type": "stream",
          "text": [
            "Drive already mounted at /content/gdrive; to attempt to forcibly remount, call drive.mount(\"/content/gdrive\", force_remount=True).\n"
          ],
          "name": "stdout"
        }
      ]
    },
    {
      "cell_type": "code",
      "metadata": {
        "colab": {
          "base_uri": "https://localhost:8080/"
        },
        "id": "hpD8TjKW8Fc6",
        "outputId": "86d646c6-b555-464b-8dc5-336f2fceeb3a"
      },
      "source": [
        "%cd '/content/gdrive/MyDrive/SASH/'\n",
        "nse=pd.read_csv('ALL_FNO.csv')"
      ],
      "execution_count": null,
      "outputs": [
        {
          "output_type": "stream",
          "text": [
            "/content/gdrive/MyDrive/SASH\n"
          ],
          "name": "stdout"
        }
      ]
    },
    {
      "cell_type": "code",
      "metadata": {
        "colab": {
          "base_uri": "https://localhost:8080/",
          "height": 111
        },
        "id": "1CtDzncs_gAC",
        "outputId": "0e243b51-b7ef-4032-d94f-4025c34677c2"
      },
      "source": [
        "nse.head(2)"
      ],
      "execution_count": null,
      "outputs": [
        {
          "output_type": "execute_result",
          "data": {
            "text/html": [
              "<div>\n",
              "<style scoped>\n",
              "    .dataframe tbody tr th:only-of-type {\n",
              "        vertical-align: middle;\n",
              "    }\n",
              "\n",
              "    .dataframe tbody tr th {\n",
              "        vertical-align: top;\n",
              "    }\n",
              "\n",
              "    .dataframe thead th {\n",
              "        text-align: right;\n",
              "    }\n",
              "</style>\n",
              "<table border=\"1\" class=\"dataframe\">\n",
              "  <thead>\n",
              "    <tr style=\"text-align: right;\">\n",
              "      <th></th>\n",
              "      <th>Stock Name</th>\n",
              "      <th>Lot Size</th>\n",
              "      <th>Symbol</th>\n",
              "    </tr>\n",
              "  </thead>\n",
              "  <tbody>\n",
              "    <tr>\n",
              "      <th>0</th>\n",
              "      <td>apollo hospitals enterpirse</td>\n",
              "      <td>500</td>\n",
              "      <td>APOLLOHOSP.NS</td>\n",
              "    </tr>\n",
              "    <tr>\n",
              "      <th>1</th>\n",
              "      <td>acc limited</td>\n",
              "      <td>500</td>\n",
              "      <td>ACC.NS</td>\n",
              "    </tr>\n",
              "  </tbody>\n",
              "</table>\n",
              "</div>"
            ],
            "text/plain": [
              "                    Stock Name  Lot Size         Symbol\n",
              "0  apollo hospitals enterpirse       500  APOLLOHOSP.NS\n",
              "1                  acc limited       500         ACC.NS"
            ]
          },
          "metadata": {
            "tags": []
          },
          "execution_count": 94
        }
      ]
    },
    {
      "cell_type": "code",
      "metadata": {
        "colab": {
          "base_uri": "https://localhost:8080/"
        },
        "id": "oqd1Pfnj9kEi",
        "outputId": "141ab700-d145-4277-e2f2-0ccbe38690f5"
      },
      "source": [
        "checker('ADANIPORTS.NS','2021-04-13','2021-04-16',100000)"
      ],
      "execution_count": null,
      "outputs": [
        {
          "output_type": "execute_result",
          "data": {
            "text/plain": [
              "(0, 0, [])"
            ]
          },
          "metadata": {
            "tags": []
          },
          "execution_count": 95
        }
      ]
    },
    {
      "cell_type": "code",
      "metadata": {
        "colab": {
          "base_uri": "https://localhost:8080/",
          "height": 1000
        },
        "id": "XRTY42JA9lW1",
        "outputId": "9f8225c5-4c89-43b3-db89-f847c0604238"
      },
      "source": [
        "bull_sash_stocks={}\n",
        "for i in tqdm(nse['Symbol']):\n",
        "    bull_sash_stocks[i]=checker(i,'2021-02-01','2021-03-01',100000)\n",
        "final_bull_sash=pd.DataFrame.from_dict(bull_sash_stocks,orient='index',columns=['P/L','Counts','Dates'],)\n",
        "final_bull_sash.reset_index(inplace=True)\n",
        "final_bull_sash=final_bull_sash.rename(columns={'index':'Ticker'})\n",
        "# final_bull_sash.to_csv('bull_gapup_F16_nostoploss.csv')\n",
        "final_bull_sash=final_bull_sash[final_bull_sash['Counts'] != 0]\n",
        "print('\\n')\n",
        "print('Total INR:',sum(final_bull_sash['P/L']))\n",
        "final_bull_sash=final_bull_sash.reset_index().drop('index',axis=1)\n",
        "final_bull_sash"
      ],
      "execution_count": null,
      "outputs": [
        {
          "output_type": "stream",
          "text": [
            "\n",
            "  0%|          | 0/137 [00:00<?, ?it/s]\u001b[A\n",
            "  1%|          | 1/137 [00:00<00:21,  6.22it/s]\u001b[A\n",
            "  1%|▏         | 2/137 [00:00<00:21,  6.39it/s]\u001b[A\n",
            "  2%|▏         | 3/137 [00:00<00:21,  6.36it/s]\u001b[A\n",
            "  3%|▎         | 4/137 [00:00<00:20,  6.48it/s]\u001b[A\n",
            "  4%|▎         | 5/137 [00:00<00:19,  6.74it/s]\u001b[A\n",
            "  4%|▍         | 6/137 [00:00<00:19,  6.75it/s]\u001b[A\n",
            "  5%|▌         | 7/137 [00:01<00:19,  6.64it/s]\u001b[A\n",
            "  6%|▌         | 8/137 [00:01<00:19,  6.74it/s]\u001b[A\n",
            "  7%|▋         | 9/137 [00:01<00:18,  6.90it/s]\u001b[A\n",
            "  7%|▋         | 10/137 [00:01<00:18,  6.92it/s]\u001b[A\n",
            "  8%|▊         | 11/137 [00:01<00:17,  7.10it/s]\u001b[A\n",
            "  9%|▉         | 12/137 [00:01<00:18,  6.80it/s]\u001b[A\n",
            "  9%|▉         | 13/137 [00:01<00:18,  6.71it/s]\u001b[A\n",
            " 10%|█         | 14/137 [00:02<00:18,  6.76it/s]\u001b[A\n",
            " 11%|█         | 15/137 [00:02<00:18,  6.64it/s]\u001b[A\n",
            " 12%|█▏        | 16/137 [00:02<00:17,  6.75it/s]\u001b[A\n",
            " 12%|█▏        | 17/137 [00:02<00:17,  6.80it/s]\u001b[A\n",
            " 13%|█▎        | 18/137 [00:02<00:17,  6.84it/s]\u001b[A\n",
            " 14%|█▍        | 19/137 [00:02<00:17,  6.78it/s]\u001b[A\n",
            " 15%|█▍        | 20/137 [00:02<00:16,  6.91it/s]\u001b[A\n",
            " 15%|█▌        | 21/137 [00:03<00:18,  6.30it/s]\u001b[A\n",
            " 16%|█▌        | 22/137 [00:03<00:18,  6.12it/s]\u001b[A\n",
            " 17%|█▋        | 23/137 [00:03<00:19,  5.99it/s]\u001b[A\n",
            " 18%|█▊        | 24/137 [00:03<00:18,  6.20it/s]\u001b[A\n",
            " 18%|█▊        | 25/137 [00:03<00:18,  6.22it/s]\u001b[A\n",
            " 19%|█▉        | 26/137 [00:03<00:18,  6.08it/s]\u001b[A\n",
            " 20%|█▉        | 27/137 [00:04<00:17,  6.23it/s]\u001b[A\n",
            " 20%|██        | 28/137 [00:04<00:18,  6.04it/s]\u001b[A\n",
            " 21%|██        | 29/137 [00:04<00:17,  6.12it/s]\u001b[A\n",
            " 22%|██▏       | 30/137 [00:04<00:17,  6.19it/s]\u001b[A\n",
            " 23%|██▎       | 31/137 [00:04<00:18,  5.81it/s]\u001b[A\n",
            " 23%|██▎       | 32/137 [00:04<00:17,  6.04it/s]\u001b[A\n",
            " 24%|██▍       | 33/137 [00:05<00:16,  6.28it/s]\u001b[A\n",
            " 25%|██▍       | 34/137 [00:05<00:16,  6.33it/s]\u001b[A\n",
            " 26%|██▌       | 35/137 [00:05<00:16,  6.36it/s]\u001b[A\n",
            " 26%|██▋       | 36/137 [00:05<00:15,  6.38it/s]\u001b[A\n",
            " 27%|██▋       | 37/137 [00:05<00:15,  6.25it/s]\u001b[A\n",
            " 28%|██▊       | 38/137 [00:05<00:15,  6.45it/s]\u001b[A\n",
            " 28%|██▊       | 39/137 [00:06<00:14,  6.54it/s]\u001b[A\n",
            " 29%|██▉       | 40/137 [00:06<00:14,  6.92it/s]\u001b[A\n",
            " 30%|██▉       | 41/137 [00:06<00:13,  6.87it/s]\u001b[A\n",
            " 31%|███       | 42/137 [00:06<00:13,  6.90it/s]\u001b[A\n",
            " 31%|███▏      | 43/137 [00:06<00:14,  6.38it/s]\u001b[A\n",
            " 32%|███▏      | 44/137 [00:06<00:14,  6.24it/s]\u001b[A\n",
            " 33%|███▎      | 45/137 [00:06<00:14,  6.27it/s]\u001b[A\n",
            " 34%|███▎      | 46/137 [00:07<00:14,  6.37it/s]\u001b[A\n",
            " 34%|███▍      | 47/137 [00:07<00:14,  6.30it/s]\u001b[A\n",
            " 35%|███▌      | 48/137 [00:07<00:14,  6.10it/s]\u001b[A\n",
            " 36%|███▌      | 49/137 [00:07<00:14,  6.15it/s]\u001b[A\n",
            " 36%|███▋      | 50/137 [00:07<00:14,  6.07it/s]\u001b[A\n",
            " 37%|███▋      | 51/137 [00:07<00:14,  5.94it/s]\u001b[A\n",
            " 38%|███▊      | 52/137 [00:08<00:13,  6.10it/s]\u001b[A\n",
            " 39%|███▊      | 53/137 [00:08<00:14,  5.61it/s]\u001b[A\n",
            " 39%|███▉      | 54/137 [00:08<00:14,  5.75it/s]\u001b[A\n",
            " 40%|████      | 55/137 [00:08<00:13,  5.95it/s]\u001b[A\n",
            " 41%|████      | 56/137 [00:08<00:14,  5.75it/s]\u001b[A\n",
            " 42%|████▏     | 57/137 [00:09<00:14,  5.42it/s]\u001b[A\n",
            " 42%|████▏     | 58/137 [00:09<00:15,  5.10it/s]\u001b[A\n",
            " 43%|████▎     | 59/137 [00:09<00:14,  5.37it/s]\u001b[A\n",
            " 44%|████▍     | 60/137 [00:09<00:13,  5.58it/s]\u001b[A\n",
            " 45%|████▍     | 61/137 [00:09<00:13,  5.84it/s]\u001b[A\n",
            " 45%|████▌     | 62/137 [00:09<00:12,  5.98it/s]\u001b[A\n",
            " 46%|████▌     | 63/137 [00:10<00:12,  5.92it/s]\u001b[A\n",
            " 47%|████▋     | 64/137 [00:10<00:11,  6.10it/s]\u001b[A\n",
            " 47%|████▋     | 65/137 [00:10<00:11,  6.23it/s]\u001b[A\n",
            " 48%|████▊     | 66/137 [00:10<00:11,  6.31it/s]\u001b[A\n",
            " 49%|████▉     | 67/137 [00:10<00:11,  6.34it/s]\u001b[A\n",
            " 50%|████▉     | 68/137 [00:10<00:10,  6.28it/s]\u001b[A\n",
            " 50%|█████     | 69/137 [00:10<00:10,  6.45it/s]\u001b[A\n",
            " 51%|█████     | 70/137 [00:11<00:11,  5.97it/s]\u001b[A\n",
            " 52%|█████▏    | 71/137 [00:11<00:10,  6.14it/s]\u001b[A\n",
            " 53%|█████▎    | 72/137 [00:11<00:10,  6.27it/s]\u001b[A\n",
            " 53%|█████▎    | 73/137 [00:11<00:10,  6.31it/s]\u001b[A\n",
            " 54%|█████▍    | 74/137 [00:11<00:10,  6.17it/s]\u001b[A\n",
            " 55%|█████▍    | 75/137 [00:11<00:09,  6.20it/s]\u001b[A\n",
            " 55%|█████▌    | 76/137 [00:12<00:09,  6.46it/s]\u001b[A\n",
            " 56%|█████▌    | 77/137 [00:12<00:09,  6.58it/s]\u001b[A\n",
            " 57%|█████▋    | 78/137 [00:12<00:08,  6.65it/s]\u001b[A\n",
            " 58%|█████▊    | 79/137 [00:12<00:09,  6.11it/s]\u001b[A\n",
            " 58%|█████▊    | 80/137 [00:12<00:09,  5.97it/s]\u001b[A\n",
            " 59%|█████▉    | 81/137 [00:12<00:09,  5.74it/s]\u001b[A\n",
            " 60%|█████▉    | 82/137 [00:13<00:09,  5.97it/s]\u001b[A\n",
            " 61%|██████    | 83/137 [00:13<00:08,  6.12it/s]\u001b[A\n",
            " 61%|██████▏   | 84/137 [00:13<00:08,  6.21it/s]\u001b[A\n",
            " 62%|██████▏   | 85/137 [00:13<00:08,  6.10it/s]\u001b[A\n",
            " 63%|██████▎   | 86/137 [00:13<00:07,  6.38it/s]\u001b[A\n",
            " 64%|██████▎   | 87/137 [00:13<00:07,  6.56it/s]\u001b[A\n",
            " 64%|██████▍   | 88/137 [00:14<00:07,  6.57it/s]\u001b[A\n",
            " 65%|██████▍   | 89/137 [00:14<00:07,  6.39it/s]\u001b[A\n",
            " 66%|██████▌   | 90/137 [00:14<00:07,  6.38it/s]\u001b[A\n",
            " 66%|██████▋   | 91/137 [00:14<00:07,  6.00it/s]\u001b[A\n",
            " 67%|██████▋   | 92/137 [00:14<00:07,  6.31it/s]\u001b[A\n",
            " 68%|██████▊   | 93/137 [00:14<00:07,  6.16it/s]\u001b[A\n",
            " 69%|██████▊   | 94/137 [00:15<00:07,  6.05it/s]\u001b[A\n",
            " 69%|██████▉   | 95/137 [00:15<00:06,  6.32it/s]\u001b[A\n",
            " 70%|███████   | 96/137 [00:15<00:06,  6.31it/s]\u001b[A\n",
            " 71%|███████   | 97/137 [00:15<00:06,  6.41it/s]\u001b[A\n",
            " 72%|███████▏  | 98/137 [00:15<00:06,  6.18it/s]\u001b[A\n",
            " 72%|███████▏  | 99/137 [00:15<00:06,  6.21it/s]\u001b[A\n",
            " 73%|███████▎  | 100/137 [00:15<00:05,  6.35it/s]\u001b[A\n",
            " 74%|███████▎  | 101/137 [00:16<00:05,  6.31it/s]\u001b[A\n",
            " 74%|███████▍  | 102/137 [00:16<00:05,  6.45it/s]\u001b[A\n",
            " 75%|███████▌  | 103/137 [00:16<00:05,  6.64it/s]\u001b[A\n",
            " 76%|███████▌  | 104/137 [00:16<00:04,  6.77it/s]\u001b[A\n",
            " 77%|███████▋  | 105/137 [00:16<00:04,  6.82it/s]\u001b[A\n",
            " 77%|███████▋  | 106/137 [00:16<00:04,  6.39it/s]\u001b[A\n",
            " 78%|███████▊  | 107/137 [00:17<00:04,  6.28it/s]\u001b[A\n",
            " 79%|███████▉  | 108/137 [00:17<00:04,  6.46it/s]\u001b[A\n",
            " 80%|███████▉  | 109/137 [00:17<00:04,  6.60it/s]\u001b[A\n",
            " 80%|████████  | 110/137 [00:17<00:04,  6.56it/s]\u001b[A\n",
            " 81%|████████  | 111/137 [00:17<00:04,  6.34it/s]\u001b[A\n",
            " 82%|████████▏ | 112/137 [00:17<00:04,  5.94it/s]\u001b[A\n",
            " 82%|████████▏ | 113/137 [00:17<00:03,  6.32it/s]\u001b[A\n",
            " 83%|████████▎ | 114/137 [00:18<00:03,  6.43it/s]\u001b[A\n",
            " 84%|████████▍ | 115/137 [00:18<00:03,  6.40it/s]\u001b[A\n",
            " 85%|████████▍ | 116/137 [00:18<00:03,  6.53it/s]\u001b[A\n",
            " 85%|████████▌ | 117/137 [00:18<00:03,  6.59it/s]\u001b[A\n",
            " 86%|████████▌ | 118/137 [00:18<00:02,  6.73it/s]\u001b[A\n",
            " 87%|████████▋ | 119/137 [00:18<00:03,  5.75it/s]\u001b[A\n",
            " 88%|████████▊ | 120/137 [00:19<00:02,  5.99it/s]\u001b[A\n",
            " 88%|████████▊ | 121/137 [00:19<00:02,  6.38it/s]\u001b[A\n",
            " 89%|████████▉ | 122/137 [00:19<00:02,  6.30it/s]\u001b[A\n",
            " 90%|████████▉ | 123/137 [00:19<00:02,  6.03it/s]\u001b[A\n",
            " 91%|█████████ | 124/137 [00:19<00:02,  6.11it/s]\u001b[A\n",
            " 91%|█████████ | 125/137 [00:19<00:01,  6.04it/s]\u001b[A\n",
            " 92%|█████████▏| 126/137 [00:20<00:01,  6.18it/s]\u001b[A\n",
            " 93%|█████████▎| 127/137 [00:20<00:01,  6.22it/s]\u001b[A\n",
            " 93%|█████████▎| 128/137 [00:20<00:01,  6.32it/s]\u001b[A\n",
            " 94%|█████████▍| 129/137 [00:20<00:01,  6.27it/s]\u001b[A\n",
            " 95%|█████████▍| 130/137 [00:20<00:01,  6.41it/s]\u001b[A\n",
            " 96%|█████████▌| 131/137 [00:20<00:00,  6.38it/s]\u001b[A\n",
            " 96%|█████████▋| 132/137 [00:21<00:00,  5.86it/s]\u001b[A\n",
            " 97%|█████████▋| 133/137 [00:21<00:00,  6.23it/s]\u001b[A\n",
            " 98%|█████████▊| 134/137 [00:21<00:00,  6.28it/s]\u001b[A\n",
            " 99%|█████████▊| 135/137 [00:21<00:00,  6.34it/s]\u001b[A\n",
            " 99%|█████████▉| 136/137 [00:21<00:00,  6.38it/s]\u001b[A\n",
            "100%|██████████| 137/137 [00:21<00:00,  6.28it/s]"
          ],
          "name": "stderr"
        },
        {
          "output_type": "stream",
          "text": [
            "\n",
            "\n",
            "Total INR: 15037.991889953613\n"
          ],
          "name": "stdout"
        },
        {
          "output_type": "stream",
          "text": [
            "\n"
          ],
          "name": "stderr"
        },
        {
          "output_type": "execute_result",
          "data": {
            "text/html": [
              "<div>\n",
              "<style scoped>\n",
              "    .dataframe tbody tr th:only-of-type {\n",
              "        vertical-align: middle;\n",
              "    }\n",
              "\n",
              "    .dataframe tbody tr th {\n",
              "        vertical-align: top;\n",
              "    }\n",
              "\n",
              "    .dataframe thead th {\n",
              "        text-align: right;\n",
              "    }\n",
              "</style>\n",
              "<table border=\"1\" class=\"dataframe\">\n",
              "  <thead>\n",
              "    <tr style=\"text-align: right;\">\n",
              "      <th></th>\n",
              "      <th>Ticker</th>\n",
              "      <th>P/L</th>\n",
              "      <th>Counts</th>\n",
              "      <th>Dates</th>\n",
              "    </tr>\n",
              "  </thead>\n",
              "  <tbody>\n",
              "    <tr>\n",
              "      <th>0</th>\n",
              "      <td>ADANIENT.NS</td>\n",
              "      <td>-23.089722</td>\n",
              "      <td>2</td>\n",
              "      <td>[2021-02-03, 2021-02-15]</td>\n",
              "    </tr>\n",
              "    <tr>\n",
              "      <th>1</th>\n",
              "      <td>APOLLOTYRE.NS</td>\n",
              "      <td>546.250000</td>\n",
              "      <td>1</td>\n",
              "      <td>[2021-02-03]</td>\n",
              "    </tr>\n",
              "    <tr>\n",
              "      <th>2</th>\n",
              "      <td>BANKBARODA.NS</td>\n",
              "      <td>721.798164</td>\n",
              "      <td>1</td>\n",
              "      <td>[2021-02-05]</td>\n",
              "    </tr>\n",
              "    <tr>\n",
              "      <th>3</th>\n",
              "      <td>EXIDEIND.NS</td>\n",
              "      <td>2443.301407</td>\n",
              "      <td>1</td>\n",
              "      <td>[2021-02-09]</td>\n",
              "    </tr>\n",
              "    <tr>\n",
              "      <th>4</th>\n",
              "      <td>GODREJPROP.NS</td>\n",
              "      <td>979.794800</td>\n",
              "      <td>1</td>\n",
              "      <td>[2021-02-03]</td>\n",
              "    </tr>\n",
              "    <tr>\n",
              "      <th>5</th>\n",
              "      <td>LICHSGFIN.NS</td>\n",
              "      <td>2100.801270</td>\n",
              "      <td>1</td>\n",
              "      <td>[2021-02-16]</td>\n",
              "    </tr>\n",
              "    <tr>\n",
              "      <th>6</th>\n",
              "      <td>NAUKRI.NS</td>\n",
              "      <td>1985.000000</td>\n",
              "      <td>1</td>\n",
              "      <td>[2021-02-03]</td>\n",
              "    </tr>\n",
              "    <tr>\n",
              "      <th>7</th>\n",
              "      <td>PEL.NS</td>\n",
              "      <td>912.601318</td>\n",
              "      <td>1</td>\n",
              "      <td>[2021-02-16]</td>\n",
              "    </tr>\n",
              "    <tr>\n",
              "      <th>8</th>\n",
              "      <td>RAMCOCEM.NS</td>\n",
              "      <td>888.098694</td>\n",
              "      <td>1</td>\n",
              "      <td>[2021-02-09]</td>\n",
              "    </tr>\n",
              "    <tr>\n",
              "      <th>9</th>\n",
              "      <td>TATAMOTORS.NS</td>\n",
              "      <td>-3146.401855</td>\n",
              "      <td>1</td>\n",
              "      <td>[2021-02-03]</td>\n",
              "    </tr>\n",
              "    <tr>\n",
              "      <th>10</th>\n",
              "      <td>TVSMOTOR.NS</td>\n",
              "      <td>-375.996094</td>\n",
              "      <td>1</td>\n",
              "      <td>[2021-02-03]</td>\n",
              "    </tr>\n",
              "    <tr>\n",
              "      <th>11</th>\n",
              "      <td>BHEL.NS</td>\n",
              "      <td>-352.953590</td>\n",
              "      <td>1</td>\n",
              "      <td>[2021-02-05]</td>\n",
              "    </tr>\n",
              "    <tr>\n",
              "      <th>12</th>\n",
              "      <td>ASHOKLEY.NS</td>\n",
              "      <td>-821.704559</td>\n",
              "      <td>1</td>\n",
              "      <td>[2021-02-03]</td>\n",
              "    </tr>\n",
              "    <tr>\n",
              "      <th>13</th>\n",
              "      <td>CANBK.NS</td>\n",
              "      <td>1771.896271</td>\n",
              "      <td>1</td>\n",
              "      <td>[2021-02-05]</td>\n",
              "    </tr>\n",
              "    <tr>\n",
              "      <th>14</th>\n",
              "      <td>HDFCBANK.NS</td>\n",
              "      <td>233.096924</td>\n",
              "      <td>1</td>\n",
              "      <td>[2021-02-03]</td>\n",
              "    </tr>\n",
              "    <tr>\n",
              "      <th>15</th>\n",
              "      <td>ITC.NS</td>\n",
              "      <td>-324.000000</td>\n",
              "      <td>1</td>\n",
              "      <td>[2021-02-05]</td>\n",
              "    </tr>\n",
              "    <tr>\n",
              "      <th>16</th>\n",
              "      <td>PNB.NS</td>\n",
              "      <td>2073.146278</td>\n",
              "      <td>1</td>\n",
              "      <td>[2021-02-05]</td>\n",
              "    </tr>\n",
              "    <tr>\n",
              "      <th>17</th>\n",
              "      <td>TATAPOWER.NS</td>\n",
              "      <td>3370.253372</td>\n",
              "      <td>1</td>\n",
              "      <td>[2021-02-05]</td>\n",
              "    </tr>\n",
              "    <tr>\n",
              "      <th>18</th>\n",
              "      <td>BHARATFORG.NS</td>\n",
              "      <td>2517.905640</td>\n",
              "      <td>1</td>\n",
              "      <td>[2021-02-03]</td>\n",
              "    </tr>\n",
              "    <tr>\n",
              "      <th>19</th>\n",
              "      <td>SAIL.NS</td>\n",
              "      <td>-280.806427</td>\n",
              "      <td>1</td>\n",
              "      <td>[2021-02-24]</td>\n",
              "    </tr>\n",
              "    <tr>\n",
              "      <th>20</th>\n",
              "      <td>SUNTV.NS</td>\n",
              "      <td>-181.000000</td>\n",
              "      <td>1</td>\n",
              "      <td>[2021-02-05]</td>\n",
              "    </tr>\n",
              "  </tbody>\n",
              "</table>\n",
              "</div>"
            ],
            "text/plain": [
              "           Ticker          P/L  Counts                     Dates\n",
              "0     ADANIENT.NS   -23.089722       2  [2021-02-03, 2021-02-15]\n",
              "1   APOLLOTYRE.NS   546.250000       1              [2021-02-03]\n",
              "2   BANKBARODA.NS   721.798164       1              [2021-02-05]\n",
              "3     EXIDEIND.NS  2443.301407       1              [2021-02-09]\n",
              "4   GODREJPROP.NS   979.794800       1              [2021-02-03]\n",
              "5    LICHSGFIN.NS  2100.801270       1              [2021-02-16]\n",
              "6       NAUKRI.NS  1985.000000       1              [2021-02-03]\n",
              "7          PEL.NS   912.601318       1              [2021-02-16]\n",
              "8     RAMCOCEM.NS   888.098694       1              [2021-02-09]\n",
              "9   TATAMOTORS.NS -3146.401855       1              [2021-02-03]\n",
              "10    TVSMOTOR.NS  -375.996094       1              [2021-02-03]\n",
              "11        BHEL.NS  -352.953590       1              [2021-02-05]\n",
              "12    ASHOKLEY.NS  -821.704559       1              [2021-02-03]\n",
              "13       CANBK.NS  1771.896271       1              [2021-02-05]\n",
              "14    HDFCBANK.NS   233.096924       1              [2021-02-03]\n",
              "15         ITC.NS  -324.000000       1              [2021-02-05]\n",
              "16         PNB.NS  2073.146278       1              [2021-02-05]\n",
              "17   TATAPOWER.NS  3370.253372       1              [2021-02-05]\n",
              "18  BHARATFORG.NS  2517.905640       1              [2021-02-03]\n",
              "19        SAIL.NS  -280.806427       1              [2021-02-24]\n",
              "20       SUNTV.NS  -181.000000       1              [2021-02-05]"
            ]
          },
          "metadata": {
            "tags": []
          },
          "execution_count": 96
        }
      ]
    },
    {
      "cell_type": "code",
      "metadata": {
        "id": "WPC5kSkf_zo5"
      },
      "source": [
        ""
      ],
      "execution_count": null,
      "outputs": []
    },
    {
      "cell_type": "code",
      "metadata": {
        "id": "t1FPrVkdHxEP"
      },
      "source": [
        "# once stoploss hit # no trading\n",
        "# but stop loss was modified and got profit 1st time then take trade again # example mandm fin 30-3-21\n",
        "# tata chem stop loss # loss 750\n",
        "# tata motors waste\n",
        "# dont modify smaller stop loss\n",
        "# always buy after high break and same candle break by next candle, i.e next candle break "
      ],
      "execution_count": null,
      "outputs": []
    },
    {
      "cell_type": "code",
      "metadata": {
        "colab": {
          "base_uri": "https://localhost:8080/",
          "height": 111
        },
        "id": "00FXuu1__5Oj",
        "outputId": "e2a0254d-bed0-4be8-9a58-3d20cb70e8e6"
      },
      "source": [
        "data = yf.download('ACC.NS', \n",
        "                      start='2020-01-01', \n",
        "                      end='2021-04-14',\n",
        "                      progress=False)\n",
        "# pct change\n",
        "data['Pre Pct Change']=(data['Close'].pct_change() * 100).shift(1)\n",
        "# # pre close\n",
        "# data['Pre Close']=data['Close'].shift(1)\n",
        "# pre high\n",
        "data['Pre High']=data['High'].shift(1)\n",
        "# color\n",
        "data['Color']=['Red' if x[0]>x[1] else 'Green' for x in zip(data['Open'],data['Close'])]\n",
        "# gapup\n",
        "data['Gap']=['Gap up' if data['Open'][i] > data['High'][i-1] else 'Down' for i in range(0,len(data))]\n",
        "# trigger\n",
        "try:\n",
        "  data['Trigered Buy'] = ['Yes' if data['High'][i-1] > data['Low'][i] else 'No' for i in range(0,len(data))]\n",
        "except:\n",
        "  pass\n",
        "# dlt column\n",
        "data=data.drop(['Adj Close','Volume'],axis=1)\n",
        "# success\n",
        "data['Success']= ['Yes' if data['High'][i-1] > data['Close'][i] else 'No' for i in range(0,len(data))]\n",
        "# drop na and reset index\n",
        "data=data.dropna()\n",
        "data=data.reset_index()\n",
        "# slice \n",
        "data=data[data['Pre Pct Change'] > 5]\n",
        "data=data[data['Gap'] == 'Gap up']\n",
        "data=data[data['Trigered Buy'] == 'Yes']\n",
        "# profit\n",
        "data['P/L']= data['Pre High'] - data['Close']\n",
        "data=data.reset_index().drop('index',axis=1)\n",
        "data['P/L']=[data['P/L'][i] if data['Success'][i]=='Yes' else data['Pre High'][i] - data['Open'][i] for i in range(0,len(data))]\n",
        "\n",
        "data['INR'] = (round(100000/data['Pre High'])) * data['P/L']\n",
        "# return\n",
        "\n",
        "data"
      ],
      "execution_count": null,
      "outputs": [
        {
          "output_type": "execute_result",
          "data": {
            "text/html": [
              "<div>\n",
              "<style scoped>\n",
              "    .dataframe tbody tr th:only-of-type {\n",
              "        vertical-align: middle;\n",
              "    }\n",
              "\n",
              "    .dataframe tbody tr th {\n",
              "        vertical-align: top;\n",
              "    }\n",
              "\n",
              "    .dataframe thead th {\n",
              "        text-align: right;\n",
              "    }\n",
              "</style>\n",
              "<table border=\"1\" class=\"dataframe\">\n",
              "  <thead>\n",
              "    <tr style=\"text-align: right;\">\n",
              "      <th></th>\n",
              "      <th>Date</th>\n",
              "      <th>Open</th>\n",
              "      <th>High</th>\n",
              "      <th>Low</th>\n",
              "      <th>Close</th>\n",
              "      <th>Pre Pct Change</th>\n",
              "      <th>Pre High</th>\n",
              "      <th>Color</th>\n",
              "      <th>Gap</th>\n",
              "      <th>Trigered Buy</th>\n",
              "      <th>Success</th>\n",
              "      <th>P/L</th>\n",
              "      <th>INR</th>\n",
              "    </tr>\n",
              "  </thead>\n",
              "  <tbody>\n",
              "    <tr>\n",
              "      <th>0</th>\n",
              "      <td>2020-03-27</td>\n",
              "      <td>1000.0</td>\n",
              "      <td>1010.0</td>\n",
              "      <td>940.000000</td>\n",
              "      <td>959.150024</td>\n",
              "      <td>5.211280</td>\n",
              "      <td>980.000000</td>\n",
              "      <td>Red</td>\n",
              "      <td>Gap up</td>\n",
              "      <td>Yes</td>\n",
              "      <td>Yes</td>\n",
              "      <td>20.849976</td>\n",
              "      <td>2126.697510</td>\n",
              "    </tr>\n",
              "    <tr>\n",
              "      <th>1</th>\n",
              "      <td>2021-02-02</td>\n",
              "      <td>1700.0</td>\n",
              "      <td>1784.0</td>\n",
              "      <td>1691.050049</td>\n",
              "      <td>1762.849976</td>\n",
              "      <td>5.087756</td>\n",
              "      <td>1696.949951</td>\n",
              "      <td>Green</td>\n",
              "      <td>Gap up</td>\n",
              "      <td>Yes</td>\n",
              "      <td>No</td>\n",
              "      <td>-3.050049</td>\n",
              "      <td>-179.952881</td>\n",
              "    </tr>\n",
              "  </tbody>\n",
              "</table>\n",
              "</div>"
            ],
            "text/plain": [
              "        Date    Open    High  ...  Success        P/L          INR\n",
              "0 2020-03-27  1000.0  1010.0  ...      Yes  20.849976  2126.697510\n",
              "1 2021-02-02  1700.0  1784.0  ...       No  -3.050049  -179.952881\n",
              "\n",
              "[2 rows x 13 columns]"
            ]
          },
          "metadata": {
            "tags": []
          },
          "execution_count": 81
        }
      ]
    },
    {
      "cell_type": "code",
      "metadata": {
        "id": "Sc2Jl5_QpjZc"
      },
      "source": [
        ""
      ],
      "execution_count": null,
      "outputs": []
    },
    {
      "cell_type": "code",
      "metadata": {
        "id": "5e1Hd_fh_Ygh",
        "colab": {
          "base_uri": "https://localhost:8080/"
        },
        "outputId": "011d05c9-50c5-432a-9bb2-79e0517bd26f"
      },
      "source": [
        ""
      ],
      "execution_count": null,
      "outputs": [
        {
          "output_type": "execute_result",
          "data": {
            "text/plain": [
              "['2020-03-27', '2021-02-02']"
            ]
          },
          "metadata": {
            "tags": []
          },
          "execution_count": 85
        }
      ]
    },
    {
      "cell_type": "code",
      "metadata": {
        "id": "l-aBrJgCpak3"
      },
      "source": [
        ""
      ],
      "execution_count": null,
      "outputs": []
    }
  ]
}