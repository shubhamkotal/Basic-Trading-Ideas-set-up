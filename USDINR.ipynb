{
  "nbformat": 4,
  "nbformat_minor": 0,
  "metadata": {
    "colab": {
      "name": "USDINR.ipynb",
      "provenance": []
    },
    "kernelspec": {
      "name": "python3",
      "display_name": "Python 3"
    },
    "language_info": {
      "name": "python"
    }
  },
  "cells": [
    {
      "cell_type": "code",
      "metadata": {
        "colab": {
          "base_uri": "https://localhost:8080/"
        },
        "id": "P5SdAOc5rt74",
        "outputId": "3d8986d4-3290-4ccd-e143-e95e7700dc26"
      },
      "source": [
        "!pip install yfinance\n",
        "import pandas as pd \n",
        "import yfinance as yf # import libraries\n",
        "import numpy as np\n",
        "import matplotlib.pyplot as plt\n",
        "plt.style.use('seaborn')\n",
        "import warnings\n",
        "warnings.filterwarnings('ignore')"
      ],
      "execution_count": null,
      "outputs": [
        {
          "output_type": "stream",
          "text": [
            "Requirement already satisfied: yfinance in /usr/local/lib/python3.7/dist-packages (0.1.59)\n",
            "Requirement already satisfied: numpy>=1.15 in /usr/local/lib/python3.7/dist-packages (from yfinance) (1.19.5)\n",
            "Requirement already satisfied: multitasking>=0.0.7 in /usr/local/lib/python3.7/dist-packages (from yfinance) (0.0.9)\n",
            "Requirement already satisfied: pandas>=0.24 in /usr/local/lib/python3.7/dist-packages (from yfinance) (1.1.5)\n",
            "Requirement already satisfied: requests>=2.20 in /usr/local/lib/python3.7/dist-packages (from yfinance) (2.23.0)\n",
            "Requirement already satisfied: lxml>=4.5.1 in /usr/local/lib/python3.7/dist-packages (from yfinance) (4.6.3)\n",
            "Requirement already satisfied: pytz>=2017.2 in /usr/local/lib/python3.7/dist-packages (from pandas>=0.24->yfinance) (2018.9)\n",
            "Requirement already satisfied: python-dateutil>=2.7.3 in /usr/local/lib/python3.7/dist-packages (from pandas>=0.24->yfinance) (2.8.1)\n",
            "Requirement already satisfied: certifi>=2017.4.17 in /usr/local/lib/python3.7/dist-packages (from requests>=2.20->yfinance) (2020.12.5)\n",
            "Requirement already satisfied: chardet<4,>=3.0.2 in /usr/local/lib/python3.7/dist-packages (from requests>=2.20->yfinance) (3.0.4)\n",
            "Requirement already satisfied: urllib3!=1.25.0,!=1.25.1,<1.26,>=1.21.1 in /usr/local/lib/python3.7/dist-packages (from requests>=2.20->yfinance) (1.24.3)\n",
            "Requirement already satisfied: idna<3,>=2.5 in /usr/local/lib/python3.7/dist-packages (from requests>=2.20->yfinance) (2.10)\n",
            "Requirement already satisfied: six>=1.5 in /usr/local/lib/python3.7/dist-packages (from python-dateutil>=2.7.3->pandas>=0.24->yfinance) (1.15.0)\n"
          ],
          "name": "stdout"
        }
      ]
    },
    {
      "cell_type": "code",
      "metadata": {
        "id": "6u5hPmeZz8ul"
      },
      "source": [
        "data = yf.download('INR=X', \n",
        "                      start='2021-04-01', \n",
        "                      end='2021-04-23',\n",
        "                      progress=False,interval='1wk')\n",
        "data=data[['Volume']]"
      ],
      "execution_count": null,
      "outputs": []
    },
    {
      "cell_type": "code",
      "metadata": {
        "id": "79F0yMpTyDcH"
      },
      "source": [
        "def currency(stock_name,start_date,end_date,interval):\n",
        "  data = yf.download(stock_name, \n",
        "                      start=start_date, \n",
        "                      end=end_date,\n",
        "                      progress=False,interval='1wk')\n",
        "  data=data[['Close']]\n",
        "  # data=data.rename(columns={'Close':stock_name})\n",
        "  return data"
      ],
      "execution_count": null,
      "outputs": []
    },
    {
      "cell_type": "code",
      "metadata": {
        "id": "fiNCaJG-0UHB"
      },
      "source": [
        "curlist=['INR=X','EURINR=X','GBPINR=X','JPYINR=X']"
      ],
      "execution_count": null,
      "outputs": []
    },
    {
      "cell_type": "code",
      "metadata": {
        "id": "14FF4O2d0qDr"
      },
      "source": [
        "for i in curlist:\n",
        "  newdf=currency(i,'2021-04-01','2021-04-23','1wk')\n",
        "  data[i]=newdf['Close']"
      ],
      "execution_count": null,
      "outputs": []
    },
    {
      "cell_type": "code",
      "metadata": {
        "id": "F-gLSJQh0FEW"
      },
      "source": [
        "data=data.reset_index()"
      ],
      "execution_count": null,
      "outputs": []
    },
    {
      "cell_type": "code",
      "metadata": {
        "id": "QlOC_4lk9OQi"
      },
      "source": [
        "data=data[:-1]"
      ],
      "execution_count": null,
      "outputs": []
    },
    {
      "cell_type": "code",
      "metadata": {
        "id": "5NRM0TO698Pv"
      },
      "source": [
        "data['ROC_0_INR=X']=data['INR=X'].pct_change() * 100\n",
        "data['ROC_1_EURINR=X']=data['EURINR=X'].pct_change() * 100\n",
        "data['ROC_2_GBPINR=X']=data['GBPINR=X'].pct_change() * 100\n",
        "data['ROC_3_JPYINR=X']=data['JPYINR=X'].pct_change() * 100"
      ],
      "execution_count": null,
      "outputs": []
    },
    {
      "cell_type": "code",
      "metadata": {
        "id": "DmjBTvIt5ZN4"
      },
      "source": [
        "data=data.dropna()"
      ],
      "execution_count": null,
      "outputs": []
    },
    {
      "cell_type": "code",
      "metadata": {
        "id": "BDWb1mks_cNK"
      },
      "source": [
        "data=data.reset_index().drop('index',axis=1)"
      ],
      "execution_count": null,
      "outputs": []
    },
    {
      "cell_type": "code",
      "metadata": {
        "colab": {
          "base_uri": "https://localhost:8080/",
          "height": 139
        },
        "id": "vGfbePYp5ZVa",
        "outputId": "c53e8136-9cfa-4e0f-d3a8-7a788f8c9723"
      },
      "source": [
        "data"
      ],
      "execution_count": null,
      "outputs": [
        {
          "output_type": "execute_result",
          "data": {
            "text/html": [
              "<div>\n",
              "<style scoped>\n",
              "    .dataframe tbody tr th:only-of-type {\n",
              "        vertical-align: middle;\n",
              "    }\n",
              "\n",
              "    .dataframe tbody tr th {\n",
              "        vertical-align: top;\n",
              "    }\n",
              "\n",
              "    .dataframe thead th {\n",
              "        text-align: right;\n",
              "    }\n",
              "</style>\n",
              "<table border=\"1\" class=\"dataframe\">\n",
              "  <thead>\n",
              "    <tr style=\"text-align: right;\">\n",
              "      <th></th>\n",
              "      <th>Date</th>\n",
              "      <th>Volume</th>\n",
              "      <th>INR=X</th>\n",
              "      <th>EURINR=X</th>\n",
              "      <th>GBPINR=X</th>\n",
              "      <th>JPYINR=X</th>\n",
              "      <th>ROC_0_INR=X</th>\n",
              "      <th>ROC_1_EURINR=X</th>\n",
              "      <th>ROC_2_GBPINR=X</th>\n",
              "      <th>ROC_3_JPYINR=X</th>\n",
              "    </tr>\n",
              "  </thead>\n",
              "  <tbody>\n",
              "    <tr>\n",
              "      <th>0</th>\n",
              "      <td>2021-04-05</td>\n",
              "      <td>0</td>\n",
              "      <td>74.729202</td>\n",
              "      <td>88.838997</td>\n",
              "      <td>102.439507</td>\n",
              "      <td>0.680654</td>\n",
              "      <td>1.967465</td>\n",
              "      <td>2.962345</td>\n",
              "      <td>0.951657</td>\n",
              "      <td>2.749373</td>\n",
              "    </tr>\n",
              "    <tr>\n",
              "      <th>1</th>\n",
              "      <td>2021-04-12</td>\n",
              "      <td>0</td>\n",
              "      <td>74.532997</td>\n",
              "      <td>89.255997</td>\n",
              "      <td>103.105225</td>\n",
              "      <td>0.684610</td>\n",
              "      <td>-0.262555</td>\n",
              "      <td>0.469388</td>\n",
              "      <td>0.649865</td>\n",
              "      <td>0.581209</td>\n",
              "    </tr>\n",
              "    <tr>\n",
              "      <th>2</th>\n",
              "      <td>2021-04-19</td>\n",
              "      <td>0</td>\n",
              "      <td>75.091698</td>\n",
              "      <td>90.172997</td>\n",
              "      <td>103.909996</td>\n",
              "      <td>0.695029</td>\n",
              "      <td>0.749602</td>\n",
              "      <td>1.027382</td>\n",
              "      <td>0.780534</td>\n",
              "      <td>1.521890</td>\n",
              "    </tr>\n",
              "  </tbody>\n",
              "</table>\n",
              "</div>"
            ],
            "text/plain": [
              "        Date  Volume      INR=X  ...  ROC_1_EURINR=X  ROC_2_GBPINR=X  ROC_3_JPYINR=X\n",
              "0 2021-04-05       0  74.729202  ...        2.962345        0.951657        2.749373\n",
              "1 2021-04-12       0  74.532997  ...        0.469388        0.649865        0.581209\n",
              "2 2021-04-19       0  75.091698  ...        1.027382        0.780534        1.521890\n",
              "\n",
              "[3 rows x 10 columns]"
            ]
          },
          "metadata": {
            "tags": []
          },
          "execution_count": 158
        }
      ]
    },
    {
      "cell_type": "code",
      "metadata": {
        "id": "7orRxSjp5ZcV"
      },
      "source": [
        "maxls=[]\n",
        "minls=[]\n",
        "for i in range(0,len(data)):\n",
        "  ls=[data['ROC_0_INR=X'][i],data['ROC_1_EURINR=X'][i],data['ROC_2_GBPINR=X'][i],data['ROC_3_JPYINR=X'][i]]\n",
        "  max_value = max(ls)\n",
        "  min_value = min(ls)\n",
        "  max_index = ls.index(max_value)\n",
        "  maxls.append(max_index)\n",
        "  min_index = ls.index(min_value)\n",
        "  minls.append(min_index)\n",
        "\n",
        "data['Rank1']=maxls\n",
        "data['Rank4']=minls"
      ],
      "execution_count": null,
      "outputs": []
    },
    {
      "cell_type": "code",
      "metadata": {
        "colab": {
          "base_uri": "https://localhost:8080/",
          "height": 190
        },
        "id": "g3C5Kq5fBykx",
        "outputId": "3517757c-a318-470a-8566-b32225a91087"
      },
      "source": [
        "data"
      ],
      "execution_count": null,
      "outputs": [
        {
          "output_type": "execute_result",
          "data": {
            "text/html": [
              "<div>\n",
              "<style scoped>\n",
              "    .dataframe tbody tr th:only-of-type {\n",
              "        vertical-align: middle;\n",
              "    }\n",
              "\n",
              "    .dataframe tbody tr th {\n",
              "        vertical-align: top;\n",
              "    }\n",
              "\n",
              "    .dataframe thead th {\n",
              "        text-align: right;\n",
              "    }\n",
              "</style>\n",
              "<table border=\"1\" class=\"dataframe\">\n",
              "  <thead>\n",
              "    <tr style=\"text-align: right;\">\n",
              "      <th></th>\n",
              "      <th>Date</th>\n",
              "      <th>Volume</th>\n",
              "      <th>INR=X</th>\n",
              "      <th>EURINR=X</th>\n",
              "      <th>GBPINR=X</th>\n",
              "      <th>JPYINR=X</th>\n",
              "      <th>ROC_0_INR=X</th>\n",
              "      <th>ROC_1_EURINR=X</th>\n",
              "      <th>ROC_2_GBPINR=X</th>\n",
              "      <th>ROC_3_JPYINR=X</th>\n",
              "      <th>Rank1</th>\n",
              "      <th>Rank4</th>\n",
              "    </tr>\n",
              "  </thead>\n",
              "  <tbody>\n",
              "    <tr>\n",
              "      <th>0</th>\n",
              "      <td>2021-04-05</td>\n",
              "      <td>0</td>\n",
              "      <td>74.729202</td>\n",
              "      <td>88.838997</td>\n",
              "      <td>102.439507</td>\n",
              "      <td>0.680654</td>\n",
              "      <td>1.967465</td>\n",
              "      <td>2.962345</td>\n",
              "      <td>0.951657</td>\n",
              "      <td>2.749373</td>\n",
              "      <td>1</td>\n",
              "      <td>2</td>\n",
              "    </tr>\n",
              "    <tr>\n",
              "      <th>1</th>\n",
              "      <td>2021-04-12</td>\n",
              "      <td>0</td>\n",
              "      <td>74.532997</td>\n",
              "      <td>89.255997</td>\n",
              "      <td>103.105225</td>\n",
              "      <td>0.684610</td>\n",
              "      <td>-0.262555</td>\n",
              "      <td>0.469388</td>\n",
              "      <td>0.649865</td>\n",
              "      <td>0.581209</td>\n",
              "      <td>2</td>\n",
              "      <td>0</td>\n",
              "    </tr>\n",
              "    <tr>\n",
              "      <th>2</th>\n",
              "      <td>2021-04-19</td>\n",
              "      <td>0</td>\n",
              "      <td>75.091698</td>\n",
              "      <td>90.172997</td>\n",
              "      <td>103.909996</td>\n",
              "      <td>0.695029</td>\n",
              "      <td>0.749602</td>\n",
              "      <td>1.027382</td>\n",
              "      <td>0.780534</td>\n",
              "      <td>1.521890</td>\n",
              "      <td>3</td>\n",
              "      <td>0</td>\n",
              "    </tr>\n",
              "  </tbody>\n",
              "</table>\n",
              "</div>"
            ],
            "text/plain": [
              "        Date  Volume      INR=X  ...  ROC_3_JPYINR=X  Rank1  Rank4\n",
              "0 2021-04-05       0  74.729202  ...        2.749373      1      2\n",
              "1 2021-04-12       0  74.532997  ...        0.581209      2      0\n",
              "2 2021-04-19       0  75.091698  ...        1.521890      3      0\n",
              "\n",
              "[3 rows x 12 columns]"
            ]
          },
          "metadata": {
            "tags": []
          },
          "execution_count": 163
        }
      ]
    },
    {
      "cell_type": "code",
      "metadata": {
        "id": "ufuwzH6JB0c0"
      },
      "source": [
        ""
      ],
      "execution_count": null,
      "outputs": []
    }
  ]
}