{
  "nbformat": 4,
  "nbformat_minor": 0,
  "metadata": {
    "colab": {
      "name": "Bank_Nifty_only.ipynb",
      "provenance": [],
      "collapsed_sections": []
    },
    "kernelspec": {
      "name": "python3",
      "display_name": "Python 3"
    },
    "language_info": {
      "name": "python"
    }
  },
  "cells": [
    {
      "cell_type": "code",
      "metadata": {
        "colab": {
          "base_uri": "https://localhost:8080/"
        },
        "id": "Uwd2PdV-xkv6",
        "outputId": "f7f8f106-5451-402c-96fa-d08e29a21bd1"
      },
      "source": [
        "!pip install yfinance\n",
        "import pandas as pd \n",
        "import yfinance as yf # import libraries\n",
        "import numpy as np\n",
        "import matplotlib.pyplot as plt\n",
        "plt.style.use('seaborn')"
      ],
      "execution_count": null,
      "outputs": [
        {
          "output_type": "stream",
          "text": [
            "Collecting yfinance\n",
            "  Downloading https://files.pythonhosted.org/packages/a7/ee/315752b9ef281ba83c62aa7ec2e2074f85223da6e7e74efb4d3e11c0f510/yfinance-0.1.59.tar.gz\n",
            "Requirement already satisfied: pandas>=0.24 in /usr/local/lib/python3.7/dist-packages (from yfinance) (1.1.5)\n",
            "Requirement already satisfied: numpy>=1.15 in /usr/local/lib/python3.7/dist-packages (from yfinance) (1.19.5)\n",
            "Requirement already satisfied: requests>=2.20 in /usr/local/lib/python3.7/dist-packages (from yfinance) (2.23.0)\n",
            "Requirement already satisfied: multitasking>=0.0.7 in /usr/local/lib/python3.7/dist-packages (from yfinance) (0.0.9)\n",
            "Collecting lxml>=4.5.1\n",
            "\u001b[?25l  Downloading https://files.pythonhosted.org/packages/30/c0/d0526314971fc661b083ab135747dc68446a3022686da8c16d25fcf6ef07/lxml-4.6.3-cp37-cp37m-manylinux2014_x86_64.whl (6.3MB)\n",
            "\u001b[K     |████████████████████████████████| 6.3MB 4.4MB/s \n",
            "\u001b[?25hRequirement already satisfied: python-dateutil>=2.7.3 in /usr/local/lib/python3.7/dist-packages (from pandas>=0.24->yfinance) (2.8.1)\n",
            "Requirement already satisfied: pytz>=2017.2 in /usr/local/lib/python3.7/dist-packages (from pandas>=0.24->yfinance) (2018.9)\n",
            "Requirement already satisfied: chardet<4,>=3.0.2 in /usr/local/lib/python3.7/dist-packages (from requests>=2.20->yfinance) (3.0.4)\n",
            "Requirement already satisfied: urllib3!=1.25.0,!=1.25.1,<1.26,>=1.21.1 in /usr/local/lib/python3.7/dist-packages (from requests>=2.20->yfinance) (1.24.3)\n",
            "Requirement already satisfied: idna<3,>=2.5 in /usr/local/lib/python3.7/dist-packages (from requests>=2.20->yfinance) (2.10)\n",
            "Requirement already satisfied: certifi>=2017.4.17 in /usr/local/lib/python3.7/dist-packages (from requests>=2.20->yfinance) (2020.12.5)\n",
            "Requirement already satisfied: six>=1.5 in /usr/local/lib/python3.7/dist-packages (from python-dateutil>=2.7.3->pandas>=0.24->yfinance) (1.15.0)\n",
            "Building wheels for collected packages: yfinance\n",
            "  Building wheel for yfinance (setup.py) ... \u001b[?25l\u001b[?25hdone\n",
            "  Created wheel for yfinance: filename=yfinance-0.1.59-py2.py3-none-any.whl size=23442 sha256=d2719da3972ceaf60b3e580a52aae602dfaa5077cdcd0150644bfc6f0c38d5e6\n",
            "  Stored in directory: /root/.cache/pip/wheels/f8/2a/0f/4b5a86e1d52e451757eb6bc17fd899629f0925c777741b6d04\n",
            "Successfully built yfinance\n",
            "Installing collected packages: lxml, yfinance\n",
            "  Found existing installation: lxml 4.2.6\n",
            "    Uninstalling lxml-4.2.6:\n",
            "      Successfully uninstalled lxml-4.2.6\n",
            "Successfully installed lxml-4.6.3 yfinance-0.1.59\n"
          ],
          "name": "stdout"
        }
      ]
    },
    {
      "cell_type": "code",
      "metadata": {
        "id": "dj9LOD22xvL7"
      },
      "source": [
        "import tqdm.notebook as tq\n",
        "import warnings\n",
        "warnings.filterwarnings('ignore')"
      ],
      "execution_count": null,
      "outputs": []
    },
    {
      "cell_type": "code",
      "metadata": {
        "colab": {
          "base_uri": "https://localhost:8080/"
        },
        "id": "1sJ6Cw8Gxw2-",
        "outputId": "66e6e7b1-abca-4c99-cdc8-333e64240374"
      },
      "source": [
        "from google.colab import drive\n",
        "drive.mount(\"/content/gdrive\")"
      ],
      "execution_count": null,
      "outputs": [
        {
          "output_type": "stream",
          "text": [
            "Mounted at /content/gdrive\n"
          ],
          "name": "stdout"
        }
      ]
    },
    {
      "cell_type": "code",
      "metadata": {
        "colab": {
          "base_uri": "https://localhost:8080/"
        },
        "id": "Vb8TgBBBx4N4",
        "outputId": "00d359d7-e069-4cf2-e906-b8a7dcdc9723"
      },
      "source": [
        "%cd '/content/gdrive/MyDrive/SASH/'\n",
        "nse=pd.read_csv('ALL_FNO.csv')"
      ],
      "execution_count": null,
      "outputs": [
        {
          "output_type": "stream",
          "text": [
            "/content/gdrive/MyDrive/SASH\n"
          ],
          "name": "stdout"
        }
      ]
    },
    {
      "cell_type": "markdown",
      "metadata": {
        "id": "UFA88LCpG6Lg"
      },
      "source": [
        "# SKIP"
      ]
    },
    {
      "cell_type": "code",
      "metadata": {
        "id": "dnXVsJ9rx4fi"
      },
      "source": [
        "banklist=list(nse[nse['Symbol'].str.contains('BANK','BK')]['Symbol'])"
      ],
      "execution_count": null,
      "outputs": []
    },
    {
      "cell_type": "code",
      "metadata": {
        "id": "HFbH0-ndx4wv"
      },
      "source": [
        "pendinglist=['SBIN.NS','INDUSINDBK.NS','BANDHANBNK.NS','PNB.NS','IDFCFIRSTB.NS','FEDERALBNK.NS','RBLBANK.NS']"
      ],
      "execution_count": null,
      "outputs": []
    },
    {
      "cell_type": "code",
      "metadata": {
        "id": "Q2carwMq5dnC"
      },
      "source": [
        "for i in pendinglist:\n",
        "  banklist.append(i)"
      ],
      "execution_count": null,
      "outputs": []
    },
    {
      "cell_type": "code",
      "metadata": {
        "id": "dHroFumd6_eo"
      },
      "source": [
        "nifty = yf.download('^NSEBANK', \n",
        "                start='2016-01-01', \n",
        "                end='2022-01-01',\n",
        "                progress=False)"
      ],
      "execution_count": null,
      "outputs": []
    },
    {
      "cell_type": "code",
      "metadata": {
        "id": "0oNzKbWX7XS-"
      },
      "source": [
        "stock = yf.download('BANDHANBNK.NS', \n",
        "                start='2016-01-01', \n",
        "                end='2022-01-01',\n",
        "                progress=False)"
      ],
      "execution_count": null,
      "outputs": []
    },
    {
      "cell_type": "code",
      "metadata": {
        "id": "gK1I1CBZ7aNB"
      },
      "source": [
        "nifty=nifty.rename(columns={'Open':'Nifty Open','High':'Nifty High','Low':'Nifty Low','Close':'Nifty Close',})"
      ],
      "execution_count": null,
      "outputs": []
    },
    {
      "cell_type": "code",
      "metadata": {
        "id": "AGETX5SP8i4A"
      },
      "source": [
        "nifty.drop(['Adj Close','Volume'],axis=1,inplace=True)\n",
        "stock.drop(['Adj Close','Volume'],axis=1,inplace=True)"
      ],
      "execution_count": null,
      "outputs": []
    },
    {
      "cell_type": "code",
      "metadata": {
        "id": "GASDwYQu-EbR"
      },
      "source": [
        "nifty.reset_index(inplace=True)\n",
        "stock.reset_index(inplace=True)"
      ],
      "execution_count": null,
      "outputs": []
    },
    {
      "cell_type": "code",
      "metadata": {
        "id": "1q4oQM7s9FlH"
      },
      "source": [
        "data=pd.merge(nifty,stock,on='Date')"
      ],
      "execution_count": null,
      "outputs": []
    },
    {
      "cell_type": "code",
      "metadata": {
        "id": "m7lxgdSe9ogP"
      },
      "source": [
        "data['Pre Nifty Close']=data['Nifty Close'].shift(1)"
      ],
      "execution_count": null,
      "outputs": []
    },
    {
      "cell_type": "code",
      "metadata": {
        "id": "ecjqIo_ZAbpz"
      },
      "source": [
        "data['Pre Close']=data['Close'].shift(1)"
      ],
      "execution_count": null,
      "outputs": []
    },
    {
      "cell_type": "code",
      "metadata": {
        "id": "ZNBY4ZfU-ujV"
      },
      "source": [
        "data['Nifty Gap']=['Up' if data['Nifty Open'][i] > data['Pre Nifty Close'][i] else 'Down' if data['Nifty Open'][i] < data['Pre Nifty Close'][i] else 'Flat' for i in range(0,len(data))]"
      ],
      "execution_count": null,
      "outputs": []
    },
    {
      "cell_type": "code",
      "metadata": {
        "id": "DTn5KhimAfCr"
      },
      "source": [
        "data['Gap']=['Up' if data['Open'][i] > data['Pre Close'][i] else 'Down' if data['Open'][i] < data['Pre Close'][i] else 'Flat' for i in range(0,len(data))]"
      ],
      "execution_count": null,
      "outputs": []
    },
    {
      "cell_type": "code",
      "metadata": {
        "colab": {
          "base_uri": "https://localhost:8080/"
        },
        "id": "lQZZwxIiAKAh",
        "outputId": "15e8acd2-b853-4221-ea0a-6644032c9ac4"
      },
      "source": [
        "df=data[data['Nifty Gap'] == 'Up']\n",
        "df=df[df['Gap'] == 'Down']\n",
        "df['P/L'] = (round(100000/df['Open'])) * (df['Open']-df['Close'])\n",
        "print('Trades:',len(df))\n",
        "print('Money:',sum(df['P/L']))"
      ],
      "execution_count": null,
      "outputs": [
        {
          "output_type": "stream",
          "text": [
            "Trades: 61\n",
            "Money: 29249.228393554688\n"
          ],
          "name": "stdout"
        }
      ]
    },
    {
      "cell_type": "code",
      "metadata": {
        "id": "cazdnv4vDVSU"
      },
      "source": [
        "# df1=data[data['Nifty Gap'] == 'Down']\n",
        "# df1=df1[df1['Gap'] == 'Up']\n",
        "# df1['P/L'] = (round(100000/df1['Open'])) * (df1['Close']-df1['Open'])\n",
        "# print('Trades:',len(df1))\n",
        "# print('Money:',sum(df1['P/L']))"
      ],
      "execution_count": null,
      "outputs": []
    },
    {
      "cell_type": "code",
      "metadata": {
        "colab": {
          "base_uri": "https://localhost:8080/"
        },
        "id": "X0p4ic1cMO2z",
        "outputId": "5b91b86f-05af-436c-f991-2c1a20970f62"
      },
      "source": [
        "banklist"
      ],
      "execution_count": null,
      "outputs": [
        {
          "output_type": "execute_result",
          "data": {
            "text/plain": [
              "['BANKBARODA.NS',\n",
              " 'ICICIBANK.NS',\n",
              " 'KOTAKBANK.NS',\n",
              " 'AXISBANK.NS',\n",
              " 'HDFCBANK.NS',\n",
              " 'RBLBANK.NS',\n",
              " 'SBIN.NS',\n",
              " 'INDUSINDBK.NS',\n",
              " 'BANDHANBNK.NS',\n",
              " 'PNB.NS',\n",
              " 'IDFCFIRSTB.NS',\n",
              " 'FEDERALBNK.NS',\n",
              " 'RBLBANK.NS']"
            ]
          },
          "metadata": {
            "tags": []
          },
          "execution_count": 20
        }
      ]
    },
    {
      "cell_type": "code",
      "metadata": {
        "colab": {
          "base_uri": "https://localhost:8080/"
        },
        "id": "3FVNfla9D5Lz",
        "outputId": "c72b19e4-3e93-4991-99b6-a3be9cd5e15a"
      },
      "source": [
        "for i in range(2010,2022):\n",
        "  nifty = yf.download('^NSEBANK', \n",
        "                  start= str(i) + '-01-01', \n",
        "                  end= str(i+1) + '-01-01',\n",
        "                  progress=False)\n",
        "  stock = yf.download('BANDHANBNK.NS', \n",
        "                  start=str(i) + '-01-01', \n",
        "                  end= str(i+1) + '-01-01',\n",
        "                  progress=False)\n",
        "  nifty=nifty.rename(columns={'Open':'Nifty Open','High':'Nifty High','Low':'Nifty Low','Close':'Nifty Close',})\n",
        "  nifty.drop(['Adj Close','Volume'],axis=1,inplace=True)\n",
        "  stock.drop(['Adj Close','Volume'],axis=1,inplace=True)\n",
        "  nifty.reset_index(inplace=True)\n",
        "  stock.reset_index(inplace=True)\n",
        "  data=pd.merge(nifty,stock,on='Date')\n",
        "  data['Pre Nifty Close']=data['Nifty Close'].shift(1)\n",
        "  data['Pre Close']=data['Close'].shift(1)\n",
        "  data['Nifty Gap']=['Up' if data['Nifty Open'][i] > data['Pre Nifty Close'][i] else 'Down' if data['Nifty Open'][i] < data['Pre Nifty Close'][i] else 'Flat' for i in range(0,len(data))]\n",
        "  data['Gap']=['Up' if data['Open'][i] > data['Pre Close'][i] else 'Down' if data['Open'][i] < data['Pre Close'][i] else 'Flat' for i in range(0,len(data))]\n",
        "  df=data[data['Nifty Gap'] == 'Up']\n",
        "  df=df[df['Gap'] == 'Down']\n",
        "  df['P/L'] = (round(100000/df['Open'])) * (df['Open']-df['Close']) # SHORT\n",
        "  # df['P/L'] = (round(100000/df['Open'])) * (df['Close']-df['Open']) #LONG\n",
        "  print('Year',i,' to ',i+1)\n",
        "  print('Trades:',len(df))\n",
        "  print('Money:',round(sum(df['P/L'])) - len(df)*85)\n",
        "  print('Nifty:',round(sum(df['Nifty Open'] - df['Nifty Close']))*25)"
      ],
      "execution_count": null,
      "outputs": [
        {
          "output_type": "stream",
          "text": [
            "\n",
            "1 Failed download:\n",
            "- BANDHANBNK.NS: Data doesn't exist for startDate = 1262304000, endDate = 1293840000\n",
            "Year 2010  to  2011\n",
            "Trades: 0\n",
            "Money: 0\n",
            "Nifty: 0\n",
            "\n",
            "1 Failed download:\n",
            "- BANDHANBNK.NS: Data doesn't exist for startDate = 1293840000, endDate = 1325376000\n",
            "Year 2011  to  2012\n",
            "Trades: 0\n",
            "Money: 0\n",
            "Nifty: 0\n",
            "\n",
            "1 Failed download:\n",
            "- BANDHANBNK.NS: Data doesn't exist for startDate = 1325376000, endDate = 1356998400\n",
            "Year 2012  to  2013\n",
            "Trades: 0\n",
            "Money: 0\n",
            "Nifty: 0\n",
            "\n",
            "1 Failed download:\n",
            "- BANDHANBNK.NS: Data doesn't exist for startDate = 1356998400, endDate = 1388534400\n",
            "Year 2013  to  2014\n",
            "Trades: 0\n",
            "Money: 0\n",
            "Nifty: 0\n",
            "\n",
            "1 Failed download:\n",
            "- BANDHANBNK.NS: Data doesn't exist for startDate = 1388534400, endDate = 1420070400\n",
            "Year 2014  to  2015\n",
            "Trades: 0\n",
            "Money: 0\n",
            "Nifty: 0\n",
            "\n",
            "1 Failed download:\n",
            "- BANDHANBNK.NS: Data doesn't exist for startDate = 1420070400, endDate = 1451606400\n",
            "Year 2015  to  2016\n",
            "Trades: 0\n",
            "Money: 0\n",
            "Nifty: 0\n",
            "\n",
            "1 Failed download:\n",
            "- BANDHANBNK.NS: Data doesn't exist for startDate = 1451606400, endDate = 1483228800\n",
            "Year 2016  to  2017\n",
            "Trades: 0\n",
            "Money: 0\n",
            "Nifty: 0\n",
            "\n",
            "1 Failed download:\n",
            "- BANDHANBNK.NS: Data doesn't exist for startDate = 1483228800, endDate = 1514764800\n",
            "Year 2017  to  2018\n",
            "Trades: 0\n",
            "Money: 0\n",
            "Nifty: 0\n",
            "Year 2018  to  2019\n",
            "Trades: 15\n",
            "Money: 2359\n",
            "Nifty: 15400\n",
            "Year 2019  to  2020\n",
            "Trades: 27\n",
            "Money: 9850\n",
            "Nifty: 35625\n",
            "Year 2020  to  2021\n",
            "Trades: 12\n",
            "Money: 8518\n",
            "Nifty: 18375\n",
            "Year 2021  to  2022\n",
            "Trades: 7\n",
            "Money: 3337\n",
            "Nifty: 59025\n"
          ],
          "name": "stdout"
        }
      ]
    },
    {
      "cell_type": "code",
      "metadata": {
        "id": "78tTCCMPJ8qx",
        "colab": {
          "base_uri": "https://localhost:8080/",
          "height": 416
        },
        "outputId": "8fc44a5e-2ee8-4403-8137-dedd80c88024"
      },
      "source": [
        "df"
      ],
      "execution_count": null,
      "outputs": [
        {
          "output_type": "execute_result",
          "data": {
            "text/html": [
              "<div>\n",
              "<style scoped>\n",
              "    .dataframe tbody tr th:only-of-type {\n",
              "        vertical-align: middle;\n",
              "    }\n",
              "\n",
              "    .dataframe tbody tr th {\n",
              "        vertical-align: top;\n",
              "    }\n",
              "\n",
              "    .dataframe thead th {\n",
              "        text-align: right;\n",
              "    }\n",
              "</style>\n",
              "<table border=\"1\" class=\"dataframe\">\n",
              "  <thead>\n",
              "    <tr style=\"text-align: right;\">\n",
              "      <th></th>\n",
              "      <th>Date</th>\n",
              "      <th>Nifty Open</th>\n",
              "      <th>Nifty High</th>\n",
              "      <th>Nifty Low</th>\n",
              "      <th>Nifty Close</th>\n",
              "      <th>Open</th>\n",
              "      <th>High</th>\n",
              "      <th>Low</th>\n",
              "      <th>Close</th>\n",
              "      <th>Pre Nifty Close</th>\n",
              "      <th>Pre Close</th>\n",
              "      <th>Nifty Gap</th>\n",
              "      <th>Gap</th>\n",
              "      <th>P/L</th>\n",
              "    </tr>\n",
              "  </thead>\n",
              "  <tbody>\n",
              "    <tr>\n",
              "      <th>10</th>\n",
              "      <td>2021-01-18</td>\n",
              "      <td>32275.150391</td>\n",
              "      <td>32441.500000</td>\n",
              "      <td>31650.900391</td>\n",
              "      <td>31811.750000</td>\n",
              "      <td>367.600006</td>\n",
              "      <td>368.950012</td>\n",
              "      <td>354.000000</td>\n",
              "      <td>356.000000</td>\n",
              "      <td>32246.800781</td>\n",
              "      <td>368.549988</td>\n",
              "      <td>Up</td>\n",
              "      <td>Down</td>\n",
              "      <td>3155.201660</td>\n",
              "    </tr>\n",
              "    <tr>\n",
              "      <th>30</th>\n",
              "      <td>2021-02-16</td>\n",
              "      <td>37492.601562</td>\n",
              "      <td>37708.750000</td>\n",
              "      <td>36762.750000</td>\n",
              "      <td>37098.398438</td>\n",
              "      <td>338.950012</td>\n",
              "      <td>352.600006</td>\n",
              "      <td>336.500000</td>\n",
              "      <td>350.149994</td>\n",
              "      <td>37306.250000</td>\n",
              "      <td>339.950012</td>\n",
              "      <td>Up</td>\n",
              "      <td>Down</td>\n",
              "      <td>-3303.994598</td>\n",
              "    </tr>\n",
              "    <tr>\n",
              "      <th>34</th>\n",
              "      <td>2021-02-22</td>\n",
              "      <td>35874.300781</td>\n",
              "      <td>36128.898438</td>\n",
              "      <td>35097.550781</td>\n",
              "      <td>35257.199219</td>\n",
              "      <td>336.799988</td>\n",
              "      <td>339.149994</td>\n",
              "      <td>324.250000</td>\n",
              "      <td>326.899994</td>\n",
              "      <td>35841.601562</td>\n",
              "      <td>337.250000</td>\n",
              "      <td>Up</td>\n",
              "      <td>Down</td>\n",
              "      <td>2940.298187</td>\n",
              "    </tr>\n",
              "    <tr>\n",
              "      <th>48</th>\n",
              "      <td>2021-03-15</td>\n",
              "      <td>35544.250000</td>\n",
              "      <td>35544.250000</td>\n",
              "      <td>34430.648438</td>\n",
              "      <td>35182.550781</td>\n",
              "      <td>348.950012</td>\n",
              "      <td>350.000000</td>\n",
              "      <td>330.000000</td>\n",
              "      <td>339.399994</td>\n",
              "      <td>35496.648438</td>\n",
              "      <td>349.200012</td>\n",
              "      <td>Up</td>\n",
              "      <td>Down</td>\n",
              "      <td>2740.855255</td>\n",
              "    </tr>\n",
              "    <tr>\n",
              "      <th>50</th>\n",
              "      <td>2021-03-17</td>\n",
              "      <td>34905.050781</td>\n",
              "      <td>35100.500000</td>\n",
              "      <td>34126.851562</td>\n",
              "      <td>34229.250000</td>\n",
              "      <td>339.000000</td>\n",
              "      <td>343.299988</td>\n",
              "      <td>334.399994</td>\n",
              "      <td>335.899994</td>\n",
              "      <td>34804.601562</td>\n",
              "      <td>339.500000</td>\n",
              "      <td>Up</td>\n",
              "      <td>Down</td>\n",
              "      <td>914.501801</td>\n",
              "    </tr>\n",
              "    <tr>\n",
              "      <th>68</th>\n",
              "      <td>2021-04-15</td>\n",
              "      <td>31929.099609</td>\n",
              "      <td>32187.050781</td>\n",
              "      <td>31406.400391</td>\n",
              "      <td>32112.849609</td>\n",
              "      <td>330.600006</td>\n",
              "      <td>335.799988</td>\n",
              "      <td>320.100006</td>\n",
              "      <td>326.200012</td>\n",
              "      <td>31771.599609</td>\n",
              "      <td>331.899994</td>\n",
              "      <td>Up</td>\n",
              "      <td>Down</td>\n",
              "      <td>1328.798157</td>\n",
              "    </tr>\n",
              "    <tr>\n",
              "      <th>84</th>\n",
              "      <td>2021-05-10</td>\n",
              "      <td>33175.300781</td>\n",
              "      <td>33297.601562</td>\n",
              "      <td>33028.148438</td>\n",
              "      <td>33142.398438</td>\n",
              "      <td>285.000000</td>\n",
              "      <td>304.899994</td>\n",
              "      <td>285.000000</td>\n",
              "      <td>295.950012</td>\n",
              "      <td>32904.500000</td>\n",
              "      <td>297.350006</td>\n",
              "      <td>Up</td>\n",
              "      <td>Down</td>\n",
              "      <td>-3843.454285</td>\n",
              "    </tr>\n",
              "  </tbody>\n",
              "</table>\n",
              "</div>"
            ],
            "text/plain": [
              "         Date    Nifty Open    Nifty High  ...  Nifty Gap   Gap          P/L\n",
              "10 2021-01-18  32275.150391  32441.500000  ...         Up  Down  3155.201660\n",
              "30 2021-02-16  37492.601562  37708.750000  ...         Up  Down -3303.994598\n",
              "34 2021-02-22  35874.300781  36128.898438  ...         Up  Down  2940.298187\n",
              "48 2021-03-15  35544.250000  35544.250000  ...         Up  Down  2740.855255\n",
              "50 2021-03-17  34905.050781  35100.500000  ...         Up  Down   914.501801\n",
              "68 2021-04-15  31929.099609  32187.050781  ...         Up  Down  1328.798157\n",
              "84 2021-05-10  33175.300781  33297.601562  ...         Up  Down -3843.454285\n",
              "\n",
              "[7 rows x 14 columns]"
            ]
          },
          "metadata": {
            "tags": []
          },
          "execution_count": 22
        }
      ]
    },
    {
      "cell_type": "markdown",
      "metadata": {
        "id": "iGGzpRhnG9fh"
      },
      "source": [
        "# CONTINUE"
      ]
    },
    {
      "cell_type": "code",
      "metadata": {
        "id": "V37rITbyUQDH"
      },
      "source": [
        "dates=['01','02','03','04','05','06','07','08','09','10','11','12']"
      ],
      "execution_count": null,
      "outputs": []
    },
    {
      "cell_type": "code",
      "metadata": {
        "id": "Eo3vL-qLyayn",
        "colab": {
          "base_uri": "https://localhost:8080/",
          "height": 817
        },
        "outputId": "69c8937c-ed12-40ec-8d6c-fb2c4ca34461"
      },
      "source": [
        "for i in range(0,len(dates)+1):\n",
        "  nifty = yf.download('^NSEBANK', \n",
        "                  start='2021-' + dates[i] + '-01', \n",
        "                  end='202-' + dates[i+1] + '-01',\n",
        "                  progress=False,\n",
        "                  interval='1h')\n",
        "  nifty.reset_index(inplace=True)\n",
        "  nifty['index']=nifty['index'].astype('str')\n",
        "  df=nifty[nifty['index'].str.contains(\"15:15\")] #.reset_index(inplace=True,drop=True)\n",
        "  df.reset_index(inplace=True,drop=True)\n",
        "  df.drop(['Adj Close','Volume'],axis=1,inplace=True)\n",
        "  df['Points']=df['Close'].diff()\n",
        "  df.dropna(inplace=True)\n",
        "  df.reset_index(inplace=True,drop=True)\n",
        "  df['Post Close']=df['Close'].shift(-1)\n",
        "  df['Gain']=[df['Close'][i] - df['Post Close'][i] if df['Points'][i] > 1 and df['Points'][i] < 300 else 0 for i in range(0,len(df))]\n",
        "  df.dropna(inplace=True)\n",
        "  df=df[df['Gain'] != 0]\n",
        "  print(dates[i])\n",
        "  print('Trades:',len(df['Gain']))\n",
        "  print('Money:',(sum(df['Gain'])*3) -85*len(df) )"
      ],
      "execution_count": null,
      "outputs": [
        {
          "output_type": "stream",
          "text": [
            "01\n",
            "Trades: 6\n",
            "Money: 2671.353515625\n",
            "02\n",
            "Trades: 5\n",
            "Money: 1316.048828125\n",
            "03\n",
            "Trades: 4\n",
            "Money: 12116.451171875\n",
            "04\n",
            "Trades: 1\n",
            "Money: -1572.25\n",
            "05\n",
            "Trades: 1\n",
            "Money: -3701.34765625\n",
            "06\n",
            "Trades: 4\n",
            "Money: 3793.853515625\n",
            "07\n",
            "Trades: 6\n",
            "Money: -2535.75\n",
            "08\n",
            "Trades: 8\n",
            "Money: -6841.84765625\n",
            "09\n",
            "Trades: 5\n",
            "Money: 4661.65234375\n",
            "10\n",
            "Trades: 4\n",
            "Money: -5543.201171875\n",
            "11\n",
            "Trades: 2\n",
            "Money: -619.25\n"
          ],
          "name": "stdout"
        },
        {
          "output_type": "error",
          "ename": "IndexError",
          "evalue": "ignored",
          "traceback": [
            "\u001b[0;31m---------------------------------------------------------------------------\u001b[0m",
            "\u001b[0;31mIndexError\u001b[0m                                Traceback (most recent call last)",
            "\u001b[0;32m<ipython-input-148-e6b3c233fe74>\u001b[0m in \u001b[0;36m<module>\u001b[0;34m()\u001b[0m\n\u001b[1;32m      2\u001b[0m   nifty = yf.download('^NSEBANK', \n\u001b[1;32m      3\u001b[0m                   \u001b[0mstart\u001b[0m\u001b[0;34m=\u001b[0m\u001b[0;34m'2020-'\u001b[0m \u001b[0;34m+\u001b[0m \u001b[0mdates\u001b[0m\u001b[0;34m[\u001b[0m\u001b[0mi\u001b[0m\u001b[0;34m]\u001b[0m \u001b[0;34m+\u001b[0m \u001b[0;34m'-01'\u001b[0m\u001b[0;34m,\u001b[0m\u001b[0;34m\u001b[0m\u001b[0;34m\u001b[0m\u001b[0m\n\u001b[0;32m----> 4\u001b[0;31m                   \u001b[0mend\u001b[0m\u001b[0;34m=\u001b[0m\u001b[0;34m'2020-'\u001b[0m \u001b[0;34m+\u001b[0m \u001b[0mdates\u001b[0m\u001b[0;34m[\u001b[0m\u001b[0mi\u001b[0m\u001b[0;34m+\u001b[0m\u001b[0;36m1\u001b[0m\u001b[0;34m]\u001b[0m \u001b[0;34m+\u001b[0m \u001b[0;34m'-01'\u001b[0m\u001b[0;34m,\u001b[0m\u001b[0;34m\u001b[0m\u001b[0;34m\u001b[0m\u001b[0m\n\u001b[0m\u001b[1;32m      5\u001b[0m                   \u001b[0mprogress\u001b[0m\u001b[0;34m=\u001b[0m\u001b[0;32mFalse\u001b[0m\u001b[0;34m,\u001b[0m\u001b[0;34m\u001b[0m\u001b[0;34m\u001b[0m\u001b[0m\n\u001b[1;32m      6\u001b[0m                   interval='1h')\n",
            "\u001b[0;31mIndexError\u001b[0m: list index out of range"
          ]
        }
      ]
    },
    {
      "cell_type": "code",
      "metadata": {
        "id": "WmfB_hjjUN16"
      },
      "source": [
        ""
      ],
      "execution_count": null,
      "outputs": []
    },
    {
      "cell_type": "code",
      "metadata": {
        "id": "cRMqUEfwPx8l"
      },
      "source": [
        ""
      ],
      "execution_count": null,
      "outputs": []
    }
  ]
}