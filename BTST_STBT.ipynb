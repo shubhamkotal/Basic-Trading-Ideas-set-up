{
  "nbformat": 4,
  "nbformat_minor": 0,
  "metadata": {
    "colab": {
      "name": "BTST_STBT.ipynb",
      "provenance": [],
      "collapsed_sections": [
        "mfy-1rtmeXOT"
      ]
    },
    "kernelspec": {
      "name": "python3",
      "display_name": "Python 3"
    },
    "language_info": {
      "name": "python"
    }
  },
  "cells": [
    {
      "cell_type": "code",
      "metadata": {
        "colab": {
          "base_uri": "https://localhost:8080/"
        },
        "id": "AmcAS6dhDWHM",
        "outputId": "6e5717ca-3c7b-4275-8d06-da8e321bb68e"
      },
      "source": [
        "!pip install yfinance\n",
        "import pandas as pd\n",
        "import yfinance as yf # import libraries\n",
        "import numpy as np\n",
        "import matplotlib.pyplot as plt\n",
        "plt.style.use('seaborn')\n",
        "import warnings\n",
        "warnings.filterwarnings('ignore') \n",
        "# from IPython.display import FileLink\n",
        "from google.colab import files\n",
        "import tqdm.notebook as tq\n",
        "from pandas_datareader import data as pdr\n",
        "yf.pdr_override() # <== that's all it takes :-)"
      ],
      "execution_count": null,
      "outputs": [
        {
          "output_type": "stream",
          "text": [
            "Collecting yfinance\n",
            "  Downloading https://files.pythonhosted.org/packages/a7/ee/315752b9ef281ba83c62aa7ec2e2074f85223da6e7e74efb4d3e11c0f510/yfinance-0.1.59.tar.gz\n",
            "Requirement already satisfied: pandas>=0.24 in /usr/local/lib/python3.7/dist-packages (from yfinance) (1.1.5)\n",
            "Requirement already satisfied: numpy>=1.15 in /usr/local/lib/python3.7/dist-packages (from yfinance) (1.19.5)\n",
            "Requirement already satisfied: requests>=2.20 in /usr/local/lib/python3.7/dist-packages (from yfinance) (2.23.0)\n",
            "Requirement already satisfied: multitasking>=0.0.7 in /usr/local/lib/python3.7/dist-packages (from yfinance) (0.0.9)\n",
            "Collecting lxml>=4.5.1\n",
            "\u001b[?25l  Downloading https://files.pythonhosted.org/packages/30/c0/d0526314971fc661b083ab135747dc68446a3022686da8c16d25fcf6ef07/lxml-4.6.3-cp37-cp37m-manylinux2014_x86_64.whl (6.3MB)\n",
            "\u001b[K     |████████████████████████████████| 6.3MB 4.4MB/s \n",
            "\u001b[?25hRequirement already satisfied: pytz>=2017.2 in /usr/local/lib/python3.7/dist-packages (from pandas>=0.24->yfinance) (2018.9)\n",
            "Requirement already satisfied: python-dateutil>=2.7.3 in /usr/local/lib/python3.7/dist-packages (from pandas>=0.24->yfinance) (2.8.1)\n",
            "Requirement already satisfied: chardet<4,>=3.0.2 in /usr/local/lib/python3.7/dist-packages (from requests>=2.20->yfinance) (3.0.4)\n",
            "Requirement already satisfied: certifi>=2017.4.17 in /usr/local/lib/python3.7/dist-packages (from requests>=2.20->yfinance) (2021.5.30)\n",
            "Requirement already satisfied: idna<3,>=2.5 in /usr/local/lib/python3.7/dist-packages (from requests>=2.20->yfinance) (2.10)\n",
            "Requirement already satisfied: urllib3!=1.25.0,!=1.25.1,<1.26,>=1.21.1 in /usr/local/lib/python3.7/dist-packages (from requests>=2.20->yfinance) (1.24.3)\n",
            "Requirement already satisfied: six>=1.5 in /usr/local/lib/python3.7/dist-packages (from python-dateutil>=2.7.3->pandas>=0.24->yfinance) (1.15.0)\n",
            "Building wheels for collected packages: yfinance\n",
            "  Building wheel for yfinance (setup.py) ... \u001b[?25l\u001b[?25hdone\n",
            "  Created wheel for yfinance: filename=yfinance-0.1.59-py2.py3-none-any.whl size=23455 sha256=0ce4fbd45411eeaba01a336995f2cf5c3b071cb0860fea6c4b5f8f9e1b23a5a4\n",
            "  Stored in directory: /root/.cache/pip/wheels/f8/2a/0f/4b5a86e1d52e451757eb6bc17fd899629f0925c777741b6d04\n",
            "Successfully built yfinance\n",
            "Installing collected packages: lxml, yfinance\n",
            "  Found existing installation: lxml 4.2.6\n",
            "    Uninstalling lxml-4.2.6:\n",
            "      Successfully uninstalled lxml-4.2.6\n",
            "Successfully installed lxml-4.6.3 yfinance-0.1.59\n"
          ],
          "name": "stdout"
        }
      ]
    },
    {
      "cell_type": "code",
      "metadata": {
        "colab": {
          "base_uri": "https://localhost:8080/"
        },
        "id": "tbWIG-nveWFo",
        "outputId": "12ef979a-c0f4-4503-e459-5b12b78deca6"
      },
      "source": [
        "from google.colab import drive\n",
        "drive.mount(\"/content/gdrive\")"
      ],
      "execution_count": null,
      "outputs": [
        {
          "output_type": "stream",
          "text": [
            "Mounted at /content/gdrive\n"
          ],
          "name": "stdout"
        }
      ]
    },
    {
      "cell_type": "code",
      "metadata": {
        "id": "GeyWWi6JekHY"
      },
      "source": [
        "nse=pd.read_csv('/content/gdrive/MyDrive/SASH/Nifty50.csv')\n",
        "nse['Symbol']=nse['Symbol'] + '.NS'"
      ],
      "execution_count": null,
      "outputs": []
    },
    {
      "cell_type": "markdown",
      "metadata": {
        "id": "mfy-1rtmeXOT"
      },
      "source": [
        "# CODE CREATION"
      ]
    },
    {
      "cell_type": "code",
      "metadata": {
        "colab": {
          "base_uri": "https://localhost:8080/"
        },
        "id": "OqkUqd3bQsRF",
        "outputId": "1e6b2c25-d1b3-4b2b-bb24-ad24e2073a48"
      },
      "source": [
        "df1 = yf.download('HDFC.NS', \n",
        "                  start='2021-05-05', \n",
        "                  end='2021-06-26',\n",
        "                  interval='15m')\n",
        "df1.reset_index(inplace=True)\n",
        "df1=df1.dropna().reset_index(drop=True)\n",
        "df1['Datetime']=df1['Datetime'].astype('str')\n",
        "# new\n",
        "olddf=pd.DataFrame(columns=['Datetime','Open','High','Low','Close','Checking High','Checking Low'])\n",
        "# take 25 candles 1day 15min chart as 1 dataframe\n",
        "for i in range(0,len(df1),25):\n",
        "  newdf=df1[i:i+25:]\n",
        "  # For high\n",
        "  Checking_High=[]\n",
        "  t=0\n",
        "  temporary_high=newdf['High'][i] # temperory high will be 1st 15min candle's high\n",
        "  for j in range(i,i+25):\n",
        "    if newdf['High'][j] > temporary_high:\n",
        "      t=t+1  # t will get update with every new high value found\n",
        "      if t==1:\n",
        "        temporary_high= newdf['High'][j] # once new high found tempory high will be updated. only once as we dont want candle high to be broken\n",
        "      Checking_High.append(t)\n",
        "    else:\n",
        "      Checking_High.append(0)\n",
        "  # For low, similar vice versa logic for low\n",
        "  Checking_Low=[]\n",
        "  m=0\n",
        "  temporary_low=newdf['Low'][i]\n",
        "  for k in range(i,i+25):\n",
        "    if newdf['Low'][k] < temporary_low:\n",
        "      m=m+1\n",
        "      if m==1:\n",
        "        temporary_low=newdf['Low'][k]\n",
        "      Checking_Low.append(m)\n",
        "    else:\n",
        "      Checking_Low.append(0)\n",
        "  newdf['Checking High']=Checking_High\n",
        "  newdf['Checking Low']=Checking_Low\n",
        "  olddf=olddf.append(newdf,ignore_index=True)\n",
        "# Now we need to take only days where max high count went upto 1 means only 1 high and 1 low got created.\n",
        "finaldf=pd.DataFrame(columns=['Datetime','Open','High','Low','Close','Checking High','Checking Low'])\n",
        "for i in range(0,len(df1),25):\n",
        "  newdf=olddf[i:i+25:]\n",
        "  if (max(newdf['Checking High']) == 1 and max(newdf['Checking Low']) == 1): # only 1 time selection\n",
        "    finaldf=finaldf.append(newdf,ignore_index=True)\n",
        "finaldf=finaldf[finaldf['Datetime'].str.contains('09:15')].reset_index(drop=True) # remove rest of the data.\n",
        "finaldf=finaldf.drop_duplicates().reset_index(drop=True)\n",
        "finaldf=finaldf[['Datetime']] # take only needed one\n",
        "finaldf['Datetime']=finaldf['Datetime'].astype('str')\n",
        "finaldf=finaldf.rename(columns={'Datetime':'Date'})\n",
        "finaldf['Date']=finaldf['Date'].str.split(' ',expand=True)[0] # final date selection"
      ],
      "execution_count": null,
      "outputs": [
        {
          "output_type": "stream",
          "text": [
            "\r[*********************100%***********************]  1 of 1 completed\n"
          ],
          "name": "stdout"
        }
      ]
    },
    {
      "cell_type": "code",
      "metadata": {
        "colab": {
          "base_uri": "https://localhost:8080/",
          "height": 80
        },
        "id": "jDD5rElldp12",
        "outputId": "e19d3fe7-51dc-417a-db30-acf7da900147"
      },
      "source": [
        "finaldf"
      ],
      "execution_count": null,
      "outputs": [
        {
          "output_type": "execute_result",
          "data": {
            "text/html": [
              "<div>\n",
              "<style scoped>\n",
              "    .dataframe tbody tr th:only-of-type {\n",
              "        vertical-align: middle;\n",
              "    }\n",
              "\n",
              "    .dataframe tbody tr th {\n",
              "        vertical-align: top;\n",
              "    }\n",
              "\n",
              "    .dataframe thead th {\n",
              "        text-align: right;\n",
              "    }\n",
              "</style>\n",
              "<table border=\"1\" class=\"dataframe\">\n",
              "  <thead>\n",
              "    <tr style=\"text-align: right;\">\n",
              "      <th></th>\n",
              "      <th>Date</th>\n",
              "    </tr>\n",
              "  </thead>\n",
              "  <tbody>\n",
              "    <tr>\n",
              "      <th>0</th>\n",
              "      <td>2021-05-05</td>\n",
              "    </tr>\n",
              "  </tbody>\n",
              "</table>\n",
              "</div>"
            ],
            "text/plain": [
              "         Date\n",
              "0  2021-05-05"
            ]
          },
          "metadata": {
            "tags": []
          },
          "execution_count": 69
        }
      ]
    },
    {
      "cell_type": "markdown",
      "metadata": {
        "id": "ysz8za6EevF5"
      },
      "source": [
        "# FOR BACKTEST"
      ]
    },
    {
      "cell_type": "code",
      "metadata": {
        "id": "FGbkYmmKdqvL"
      },
      "source": [
        "def checker(stock_name,start_date,end_date):\n",
        "  #**Condition 1**\n",
        "  #1st 15min high low should get break. That means days's high and day's low should be greater and lesser than 15min 1st candle high and low.\n",
        "  df1 = yf.download(stock_name, \n",
        "                    start=start_date, \n",
        "                    end=end_date,\n",
        "                    interval='15m')\n",
        "  df1.reset_index(inplace=True)\n",
        "  df1=df1.dropna().reset_index(drop=True)\n",
        "  df1['Datetime']=df1['Datetime'].astype('str')\n",
        "  # new\n",
        "  olddf=pd.DataFrame(columns=['Datetime','Open','High','Low','Close','Checking High','Checking Low'])\n",
        "  # take 25 candles 1day 15min chart as 1 dataframe\n",
        "  for i in range(0,len(df1),25):\n",
        "    newdf=df1[i:i+25:]\n",
        "    # For high\n",
        "    Checking_High=[]\n",
        "    t=0\n",
        "    temporary_high=newdf['High'][i] # temperory high will be 1st 15min candle's high\n",
        "    for j in range(i,i+25):\n",
        "      if newdf['High'][j] > temporary_high:\n",
        "        t=t+1  # t will get update with every new high value found\n",
        "        if t==1:\n",
        "          temporary_high= newdf['High'][j] # once new high found tempory high will be updated. only once as we dont want candle high to be broken\n",
        "        Checking_High.append(t)\n",
        "      else:\n",
        "        Checking_High.append(0)\n",
        "    # For low, similar vice versa logic for low\n",
        "    Checking_Low=[]\n",
        "    m=0\n",
        "    temporary_low=newdf['Low'][i]\n",
        "    for k in range(i,i+25):\n",
        "      if newdf['Low'][k] < temporary_low:\n",
        "        m=m+1\n",
        "        if m==1:\n",
        "          temporary_low=newdf['Low'][k]\n",
        "        Checking_Low.append(m)\n",
        "      else:\n",
        "        Checking_Low.append(0)\n",
        "    newdf['Checking High']=Checking_High\n",
        "    newdf['Checking Low']=Checking_Low\n",
        "    olddf=olddf.append(newdf,ignore_index=True)\n",
        "  # Now we need to take only days where max high count went upto 1 means only 1 high and 1 low got created.\n",
        "  finaldf=pd.DataFrame(columns=['Datetime','Open','High','Low','Close','Checking High','Checking Low'])\n",
        "  for i in range(0,len(df1),25):\n",
        "    newdf=olddf[i:i+25:]\n",
        "    if (max(newdf['Checking High']) == 1 and max(newdf['Checking Low']) == 1): # only 1 time selection\n",
        "      finaldf=finaldf.append(newdf,ignore_index=True)\n",
        "  finaldf=finaldf[finaldf['Datetime'].str.contains('09:15')].reset_index(drop=True) # remove rest of the data.\n",
        "  finaldf=finaldf.drop_duplicates().reset_index(drop=True)\n",
        "  finaldf=finaldf[['Datetime','Close']] # take only needed one\n",
        "  finaldf['Datetime']=finaldf['Datetime'].astype('str')\n",
        "  finaldf=finaldf.rename(columns={'Datetime':'Date'})\n",
        "  try:\n",
        "    finaldf['Date']=finaldf['Date'].str.split(' ',expand=True)[0] # final date selection\n",
        "  except:\n",
        "    pass\n",
        "  return list(finaldf['Close']),list(finaldf['Date'])"
      ],
      "execution_count": null,
      "outputs": []
    },
    {
      "cell_type": "code",
      "metadata": {
        "id": "EdMlwkZpfGsg"
      },
      "source": [
        "%%capture\n",
        "# create df of nested info per stock\n",
        "selected_stocks={}\n",
        "for i in tq.tqdm(nse['Symbol']):\n",
        "    selected_stocks[i]=checker(i,'2021-05-01','2021-05-31')\n",
        "final_selection=pd.DataFrame.from_dict(selected_stocks,orient='index',columns=['Close','Dates'])\n",
        "final_selection.reset_index(inplace=True)\n",
        "final_selection=final_selection.rename(columns={'index':'Ticker'})\n",
        "final_selection=final_selection.reset_index().drop('index',axis=1)\n",
        "\n",
        "# add all in proper list format\n",
        "new_col=[]\n",
        "for i in tq.tqdm(range(0,len(final_selection))):\n",
        "  new_entry=[]\n",
        "  for j in range(0,len(final_selection['Dates'][i])):\n",
        "    new_entry.append([final_selection['Ticker'][i],final_selection['Dates'][i][j]])\n",
        "  new_col.append(new_entry)\n",
        "# make it to proper csv file\n",
        "final = pd.DataFrame(columns=['Stock','Date'])\n",
        "for i in tq.tqdm(range(0,len(new_col))):\n",
        "  for j in new_col[i]:\n",
        "    try:\n",
        "      final = final.append({'Stock': j[0],'Date':j[1]}, ignore_index=True)\n",
        "    except:\n",
        "      pass\n",
        "print('completed, please check dataframe \"final\" ')\n",
        "final=final.dropna().reset_index(drop=True)\n",
        "final['Date']=final['Date'].astype('str')\n",
        "final['Stock']='NSE:' + final['Stock'].str.replace('.NS',',')"
      ],
      "execution_count": null,
      "outputs": []
    },
    {
      "cell_type": "code",
      "metadata": {
        "colab": {
          "base_uri": "https://localhost:8080/"
        },
        "id": "HUSlxpC2m803",
        "outputId": "3f416703-477b-46a7-c6c7-9ddb13ced1ff"
      },
      "source": [
        "%cd '/content/gdrive/MyDrive/SASH'"
      ],
      "execution_count": null,
      "outputs": [
        {
          "output_type": "stream",
          "text": [
            "/content/gdrive/MyDrive/SASH\n"
          ],
          "name": "stdout"
        }
      ]
    },
    {
      "cell_type": "code",
      "metadata": {
        "colab": {
          "base_uri": "https://localhost:8080/",
          "height": 17
        },
        "id": "j7WOG73bgGfT",
        "outputId": "8b4c7bb4-2138-44be-ea15-a2519d87ed82"
      },
      "source": [
        "final.to_excel('May_BTST_STBT.xlsx',index=False)\n",
        "files.download('May_BTST_STBT.xlsx')"
      ],
      "execution_count": null,
      "outputs": [
        {
          "output_type": "display_data",
          "data": {
            "application/javascript": [
              "\n",
              "    async function download(id, filename, size) {\n",
              "      if (!google.colab.kernel.accessAllowed) {\n",
              "        return;\n",
              "      }\n",
              "      const div = document.createElement('div');\n",
              "      const label = document.createElement('label');\n",
              "      label.textContent = `Downloading \"${filename}\": `;\n",
              "      div.appendChild(label);\n",
              "      const progress = document.createElement('progress');\n",
              "      progress.max = size;\n",
              "      div.appendChild(progress);\n",
              "      document.body.appendChild(div);\n",
              "\n",
              "      const buffers = [];\n",
              "      let downloaded = 0;\n",
              "\n",
              "      const channel = await google.colab.kernel.comms.open(id);\n",
              "      // Send a message to notify the kernel that we're ready.\n",
              "      channel.send({})\n",
              "\n",
              "      for await (const message of channel.messages) {\n",
              "        // Send a message to notify the kernel that we're ready.\n",
              "        channel.send({})\n",
              "        if (message.buffers) {\n",
              "          for (const buffer of message.buffers) {\n",
              "            buffers.push(buffer);\n",
              "            downloaded += buffer.byteLength;\n",
              "            progress.value = downloaded;\n",
              "          }\n",
              "        }\n",
              "      }\n",
              "      const blob = new Blob(buffers, {type: 'application/binary'});\n",
              "      const a = document.createElement('a');\n",
              "      a.href = window.URL.createObjectURL(blob);\n",
              "      a.download = filename;\n",
              "      div.appendChild(a);\n",
              "      a.click();\n",
              "      div.remove();\n",
              "    }\n",
              "  "
            ],
            "text/plain": [
              "<IPython.core.display.Javascript object>"
            ]
          },
          "metadata": {
            "tags": []
          }
        },
        {
          "output_type": "display_data",
          "data": {
            "application/javascript": [
              "download(\"download_77419c1f-023d-42b0-80a1-4c61f4cd6c3e\", \"May_BTST_STBT.xlsx\", 5378)"
            ],
            "text/plain": [
              "<IPython.core.display.Javascript object>"
            ]
          },
          "metadata": {
            "tags": []
          }
        }
      ]
    },
    {
      "cell_type": "code",
      "metadata": {
        "id": "Jd5U5-WbgSfT"
      },
      "source": [
        ""
      ],
      "execution_count": null,
      "outputs": []
    }
  ]
}