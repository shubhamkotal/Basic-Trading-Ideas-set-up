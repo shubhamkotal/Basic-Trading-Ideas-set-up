{
  "nbformat": 4,
  "nbformat_minor": 0,
  "metadata": {
    "colab": {
      "name": "Google_Trend.ipynb",
      "provenance": [],
      "collapsed_sections": []
    },
    "kernelspec": {
      "name": "python3",
      "display_name": "Python 3"
    },
    "language_info": {
      "name": "python"
    }
  },
  "cells": [
    {
      "cell_type": "code",
      "metadata": {
        "colab": {
          "base_uri": "https://localhost:8080/"
        },
        "id": "DPncrVTYLyuA",
        "outputId": "d10267a2-34ff-46e7-c4f6-617d32f955f7"
      },
      "source": [
        "!pip install yfinance\n",
        "import pandas as pd \n",
        "import yfinance as yf # import libraries\n",
        "import numpy as np\n",
        "import matplotlib.pyplot as plt\n",
        "plt.style.use('seaborn')\n",
        "import warnings\n",
        "warnings.filterwarnings('ignore')\n",
        "# from IPython.display import FileLink\n",
        "from google.colab import files\n",
        "import tqdm.notebook as tq"
      ],
      "execution_count": null,
      "outputs": [
        {
          "output_type": "stream",
          "text": [
            "Collecting yfinance\n",
            "  Downloading https://files.pythonhosted.org/packages/a7/ee/315752b9ef281ba83c62aa7ec2e2074f85223da6e7e74efb4d3e11c0f510/yfinance-0.1.59.tar.gz\n",
            "Requirement already satisfied: pandas>=0.24 in /usr/local/lib/python3.7/dist-packages (from yfinance) (1.1.5)\n",
            "Requirement already satisfied: numpy>=1.15 in /usr/local/lib/python3.7/dist-packages (from yfinance) (1.19.5)\n",
            "Requirement already satisfied: requests>=2.20 in /usr/local/lib/python3.7/dist-packages (from yfinance) (2.23.0)\n",
            "Requirement already satisfied: multitasking>=0.0.7 in /usr/local/lib/python3.7/dist-packages (from yfinance) (0.0.9)\n",
            "Collecting lxml>=4.5.1\n",
            "\u001b[?25l  Downloading https://files.pythonhosted.org/packages/30/c0/d0526314971fc661b083ab135747dc68446a3022686da8c16d25fcf6ef07/lxml-4.6.3-cp37-cp37m-manylinux2014_x86_64.whl (6.3MB)\n",
            "\u001b[K     |████████████████████████████████| 6.3MB 7.4MB/s \n",
            "\u001b[?25hRequirement already satisfied: pytz>=2017.2 in /usr/local/lib/python3.7/dist-packages (from pandas>=0.24->yfinance) (2018.9)\n",
            "Requirement already satisfied: python-dateutil>=2.7.3 in /usr/local/lib/python3.7/dist-packages (from pandas>=0.24->yfinance) (2.8.1)\n",
            "Requirement already satisfied: chardet<4,>=3.0.2 in /usr/local/lib/python3.7/dist-packages (from requests>=2.20->yfinance) (3.0.4)\n",
            "Requirement already satisfied: idna<3,>=2.5 in /usr/local/lib/python3.7/dist-packages (from requests>=2.20->yfinance) (2.10)\n",
            "Requirement already satisfied: certifi>=2017.4.17 in /usr/local/lib/python3.7/dist-packages (from requests>=2.20->yfinance) (2020.12.5)\n",
            "Requirement already satisfied: urllib3!=1.25.0,!=1.25.1,<1.26,>=1.21.1 in /usr/local/lib/python3.7/dist-packages (from requests>=2.20->yfinance) (1.24.3)\n",
            "Requirement already satisfied: six>=1.5 in /usr/local/lib/python3.7/dist-packages (from python-dateutil>=2.7.3->pandas>=0.24->yfinance) (1.15.0)\n",
            "Building wheels for collected packages: yfinance\n",
            "  Building wheel for yfinance (setup.py) ... \u001b[?25l\u001b[?25hdone\n",
            "  Created wheel for yfinance: filename=yfinance-0.1.59-py2.py3-none-any.whl size=23442 sha256=4b0610891568bf3b07cf615b55eef494f8bda532b2f9f238e9908afc12542719\n",
            "  Stored in directory: /root/.cache/pip/wheels/f8/2a/0f/4b5a86e1d52e451757eb6bc17fd899629f0925c777741b6d04\n",
            "Successfully built yfinance\n",
            "Installing collected packages: lxml, yfinance\n",
            "  Found existing installation: lxml 4.2.6\n",
            "    Uninstalling lxml-4.2.6:\n",
            "      Successfully uninstalled lxml-4.2.6\n",
            "Successfully installed lxml-4.6.3 yfinance-0.1.59\n"
          ],
          "name": "stdout"
        }
      ]
    },
    {
      "cell_type": "code",
      "metadata": {
        "id": "eAzevj5KkmgX",
        "colab": {
          "base_uri": "https://localhost:8080/"
        },
        "outputId": "d13b07f1-7c53-4775-992c-1bc1e7c0bfdb"
      },
      "source": [
        "!pip install pytrends\n",
        "from pytrends.request import TrendReq\n",
        "pytrend = TrendReq()"
      ],
      "execution_count": null,
      "outputs": [
        {
          "output_type": "stream",
          "text": [
            "Collecting pytrends\n",
            "  Downloading https://files.pythonhosted.org/packages/96/53/a4a74c33bfdbe1740183e00769377352072e64182913562daf9f5e4f1938/pytrends-4.7.3-py3-none-any.whl\n",
            "Requirement already satisfied: pandas>=0.25 in /usr/local/lib/python3.7/dist-packages (from pytrends) (1.1.5)\n",
            "Requirement already satisfied: lxml in /usr/local/lib/python3.7/dist-packages (from pytrends) (4.6.3)\n",
            "Requirement already satisfied: requests in /usr/local/lib/python3.7/dist-packages (from pytrends) (2.23.0)\n",
            "Requirement already satisfied: numpy>=1.15.4 in /usr/local/lib/python3.7/dist-packages (from pandas>=0.25->pytrends) (1.19.5)\n",
            "Requirement already satisfied: pytz>=2017.2 in /usr/local/lib/python3.7/dist-packages (from pandas>=0.25->pytrends) (2018.9)\n",
            "Requirement already satisfied: python-dateutil>=2.7.3 in /usr/local/lib/python3.7/dist-packages (from pandas>=0.25->pytrends) (2.8.1)\n",
            "Requirement already satisfied: idna<3,>=2.5 in /usr/local/lib/python3.7/dist-packages (from requests->pytrends) (2.10)\n",
            "Requirement already satisfied: certifi>=2017.4.17 in /usr/local/lib/python3.7/dist-packages (from requests->pytrends) (2020.12.5)\n",
            "Requirement already satisfied: chardet<4,>=3.0.2 in /usr/local/lib/python3.7/dist-packages (from requests->pytrends) (3.0.4)\n",
            "Requirement already satisfied: urllib3!=1.25.0,!=1.25.1,<1.26,>=1.21.1 in /usr/local/lib/python3.7/dist-packages (from requests->pytrends) (1.24.3)\n",
            "Requirement already satisfied: six>=1.5 in /usr/local/lib/python3.7/dist-packages (from python-dateutil>=2.7.3->pandas>=0.25->pytrends) (1.15.0)\n",
            "Installing collected packages: pytrends\n",
            "Successfully installed pytrends-4.7.3\n"
          ],
          "name": "stdout"
        }
      ]
    },
    {
      "cell_type": "code",
      "metadata": {
        "id": "ov1PT9tEMSY5"
      },
      "source": [
        "from google.colab import drive\n",
        "drive.mount(\"/content/gdrive\")\n",
        "%cd '/content/gdrive/MyDrive/SASH/'"
      ],
      "execution_count": null,
      "outputs": []
    },
    {
      "cell_type": "markdown",
      "metadata": {
        "id": "3J6tQkyjpILg"
      },
      "source": [
        "**Strategy 1**: After heavy trend on internet for 1week means market sentiment positive for upcoming week\n",
        "\n"
      ]
    },
    {
      "cell_type": "code",
      "metadata": {
        "colab": {
          "base_uri": "https://localhost:8080/"
        },
        "id": "c6GquJK1LzLu",
        "outputId": "0e41bc67-21d1-4845-f7f6-4fe69207c8a8"
      },
      "source": [
        "trade = yf.download('RELIANCE.NS', \n",
        "                   start='2020-05-31', \n",
        "                   end='2022-01-01',\n",
        "                   progress=False,\n",
        "                   interval='1wk')\n",
        "#Pull trend of google search for particular stocks, example =  reliance\n",
        "pytrend.build_payload(kw_list=['RELIANCE'],geo='IN',timeframe='today 12-m')\n",
        "google = pytrend.interest_over_time()\n",
        "google.reset_index(inplace=True)\n",
        "# delta=pd.read_csv('weeklydelta.csv',sep=',',skiprows=1)\n",
        "trade=trade[:-1]\n",
        "trade.reset_index(drop=True,inplace=True)\n",
        "trade['Trend']=google['RELIANCE']\n",
        "trade=trade.drop(['Adj Close','Volume'],axis=1) # adding trend to weekly data\n",
        "trade=trade.dropna().reset_index(drop=True)\n",
        "from mlxtend.preprocessing import minmax_scaling #normalize\n",
        "scaled_data1 = minmax_scaling(trade,columns=['Trend','Close'])\n",
        "trade['Trend'] = (round(scaled_data1['Trend']*100).astype('int')).shift(1) # trend in percentage\n",
        "# trade['2W Trend']= ((trade['Trend'] + trade['Trend'].shift(1))/2).shift(1) # last 2 week trend\n",
        "# trade['Price'] = round(scaled_data1['Close']*100).astype('int') # price trend in percentage\n",
        "trade.dropna(inplace=True)\n",
        "trade.reset_index(drop=True,inplace=True)\n",
        "df=trade[trade['Trend'] > 60] # greater than 60%\n",
        "print('Points:',sum(df['Close'] - df['Open']))\n",
        "print('Trades:',len(df))"
      ],
      "execution_count": null,
      "outputs": [
        {
          "output_type": "stream",
          "text": [
            "Points: 153.849853515625\n",
            "Trades: 7\n"
          ],
          "name": "stdout"
        }
      ]
    },
    {
      "cell_type": "markdown",
      "metadata": {
        "id": "RAqjN2doYdT0"
      },
      "source": [
        "**ISSUE:** Logic is not performing that well as people search on google mostly when price rise. Hence highly correlated data which is not providing any extra information."
      ]
    },
    {
      "cell_type": "markdown",
      "metadata": {
        "id": "w7_tbT-4psDB"
      },
      "source": [
        "_______________________________________________________________________________________________________________________________"
      ]
    },
    {
      "cell_type": "markdown",
      "metadata": {
        "id": "FaRbKn0vp7hn"
      },
      "source": [
        "STRATEGY 2: Using trend from youtube. If there is over trend then short else buy."
      ]
    },
    {
      "cell_type": "code",
      "metadata": {
        "id": "L-cBjUOnqCiv"
      },
      "source": [
        "def youtube_trend(stock,keyword): \n",
        "  trade = yf.download(stock, \n",
        "                    start='2020-05-31', \n",
        "                    end='2022-01-01',\n",
        "                    progress=False,\n",
        "                    interval='1wk')\n",
        "  #Pull trend of google search for particular stocks, example =  reliance\n",
        "  pytrend.build_payload(kw_list=[keyword],geo='IN',timeframe='today 12-m',gprop='youtube')\n",
        "  google = pytrend.interest_over_time()\n",
        "  google.reset_index(inplace=True)\n",
        "  trade=trade[:-1]\n",
        "  trade.reset_index(drop=True,inplace=True)\n",
        "  trade['Trend']=google[keyword] # adding trend to weekly data\n",
        "  trade=trade.drop(['Adj Close','Volume'],axis=1) \n",
        "  trade=trade.dropna().reset_index(drop=True)\n",
        "  from mlxtend.preprocessing import minmax_scaling #normalize\n",
        "  scaled_data1 = minmax_scaling(trade,columns=['Trend','Close'])\n",
        "  trade['Trend'] = (round(scaled_data1['Trend']*100).astype('int')).shift(1) # trend in percentage\n",
        "  trade.dropna(inplace=True)\n",
        "  trade.reset_index(drop=True,inplace=True)\n",
        "  buy=trade[trade['Trend'] < trade['Trend'].mean() ] # youtube trend lesser than its mean\n",
        "  print('Buy Points:',sum(buy['Close'] - buy['Open']))\n",
        "  print('Buy Trades:',len(buy))\n",
        "  short=trade[trade['Trend'] > trade['Trend'].mean() ] # youtube trend greater than its mean\n",
        "  print('Short Points:',sum(short['Open'] - short['Close']))\n",
        "  print('Short Trades:',len(short))"
      ],
      "execution_count": null,
      "outputs": []
    },
    {
      "cell_type": "code",
      "metadata": {
        "colab": {
          "base_uri": "https://localhost:8080/"
        },
        "id": "01qgM7bQrWSt",
        "outputId": "a84d5015-9e2d-4929-9e2f-780407552fef"
      },
      "source": [
        "youtube_trend('APOLLO.NS','Apollo Tyre')"
      ],
      "execution_count": null,
      "outputs": [
        {
          "output_type": "stream",
          "text": [
            "Buy Points: -4.849983215332031\n",
            "Buy Trades: 33\n",
            "Short Points: 34.100006103515625\n",
            "Short Trades: 16\n"
          ],
          "name": "stdout"
        }
      ]
    },
    {
      "cell_type": "code",
      "metadata": {
        "id": "mcRylQVh7LMl",
        "colab": {
          "base_uri": "https://localhost:8080/"
        },
        "outputId": "1bf3ad4d-9fc6-4270-cb2f-dd1629218c3a"
      },
      "source": [
        "!pip install GoogleNews\n",
        "# !pip install newspaper3k"
      ],
      "execution_count": null,
      "outputs": [
        {
          "output_type": "stream",
          "text": [
            "Collecting GoogleNews\n",
            "  Downloading https://files.pythonhosted.org/packages/db/da/a18fdb6beaaa488f4f35cc69930c41617d1e2f1c7a987b2f638e16815651/GoogleNews-1.5.8-py3-none-any.whl\n",
            "Requirement already satisfied: beautifulsoup4 in /usr/local/lib/python3.7/dist-packages (from GoogleNews) (4.6.3)\n",
            "Requirement already satisfied: python-dateutil in /usr/local/lib/python3.7/dist-packages (from GoogleNews) (2.8.1)\n",
            "Collecting dateparser\n",
            "\u001b[?25l  Downloading https://files.pythonhosted.org/packages/78/c4/b5ddc3eeac974d85055d88c1e6b62cc492fc1a93dbe3b66a45a756a7b807/dateparser-1.0.0-py2.py3-none-any.whl (279kB)\n",
            "\u001b[K     |████████████████████████████████| 286kB 2.8MB/s \n",
            "\u001b[?25hRequirement already satisfied: six>=1.5 in /usr/local/lib/python3.7/dist-packages (from python-dateutil->GoogleNews) (1.15.0)\n",
            "Requirement already satisfied: regex!=2019.02.19 in /usr/local/lib/python3.7/dist-packages (from dateparser->GoogleNews) (2019.12.20)\n",
            "Requirement already satisfied: pytz in /usr/local/lib/python3.7/dist-packages (from dateparser->GoogleNews) (2018.9)\n",
            "Requirement already satisfied: tzlocal in /usr/local/lib/python3.7/dist-packages (from dateparser->GoogleNews) (1.5.1)\n",
            "Installing collected packages: dateparser, GoogleNews\n",
            "Successfully installed GoogleNews-1.5.8 dateparser-1.0.0\n"
          ],
          "name": "stdout"
        }
      ]
    },
    {
      "cell_type": "code",
      "metadata": {
        "id": "ATtjILIC8kEn"
      },
      "source": [
        "from GoogleNews import GoogleNews\n",
        "# from newspaper import Article\n",
        "import pandas as pd"
      ],
      "execution_count": null,
      "outputs": []
    },
    {
      "cell_type": "code",
      "metadata": {
        "colab": {
          "base_uri": "https://localhost:8080/"
        },
        "id": "KYdMgMvg-D0u",
        "outputId": "2ca51307-4494-480d-f810-5df288b2eb44"
      },
      "source": [
        "googlenews=GoogleNews()#period='1d',start='05/05/2021',end='30/05/2021')\n",
        "googlenews.search('Fresher Data Scientist Role')\n",
        "result=googlenews.result()\n",
        "df=pd.DataFrame(result)\n",
        "print(df.head())"
      ],
      "execution_count": null,
      "outputs": [
        {
          "output_type": "stream",
          "text": [
            "                                               title  ...                                                img\n",
            "0  DBA In Data Science - India's Only Applied Res...  ...  data:image/gif;base64,R0lGODlhAQABAIAAAP//////...\n",
            "1  Expert Speaks: What Does A Career In Data Scie...  ...  data:image/gif;base64,R0lGODlhAQABAIAAAP//////...\n",
            "2  What Employers are Expecting while Hiring Big ...  ...  data:image/gif;base64,R0lGODlhAQABAIAAAP//////...\n",
            "3  3 Secret Mantras Nobody Knew to Woo Hiring Dat...  ...  data:image/gif;base64,R0lGODlhAQABAIAAAP//////...\n",
            "4  Here is a list of government job openings in s...  ...  data:image/gif;base64,R0lGODlhAQABAIAAAP//////...\n",
            "\n",
            "[5 rows x 7 columns]\n"
          ],
          "name": "stdout"
        }
      ]
    },
    {
      "cell_type": "code",
      "metadata": {
        "colab": {
          "base_uri": "https://localhost:8080/"
        },
        "id": "gJ6_JHNHYTvP",
        "outputId": "4703ecf3-0a05-4608-b4f1-a7cb738cbc5d"
      },
      "source": [
        " \n",
        "import os\n",
        "for i in range(0,len(df)):\n",
        "   print(df['title'][i])\n",
        "   print(os.linesep)"
      ],
      "execution_count": null,
      "outputs": [
        {
          "output_type": "stream",
          "text": [
            "DBA In Data Science - India's Only Applied Research Program\n",
            "\n",
            "\n",
            "Expert Speaks: What Does A Career In Data Science Has In ...\n",
            "\n",
            "\n",
            "What Employers are Expecting while Hiring Big Data ...\n",
            "\n",
            "\n",
            "3 Secret Mantras Nobody Knew to Woo Hiring Data Science ...\n",
            "\n",
            "\n",
            "Here is a list of government job openings in science and ...\n",
            "\n",
            "\n",
            "Demand for techies nearly doubled in last 14 months: ISF\n",
            "\n",
            "\n",
            "Tech Mahindra Announces Job and Educational Opportunities ...\n",
            "\n",
            "\n",
            "India's demand for techies nearly doubled in last 14 months: ISF\n",
            "\n",
            "\n",
            "Data Science is Losing its Value as a Top Tech Job. Here's Why!\n",
            "\n",
            "\n",
            "Gregory keeps backpacks fresher, longer\n",
            "\n",
            "\n"
          ],
          "name": "stdout"
        }
      ]
    },
    {
      "cell_type": "code",
      "metadata": {
        "id": "4CbC9pC4Ojm2"
      },
      "source": [
        "for i in range(0,5):\n",
        "    googlenews.getpage(i)\n",
        "    result=googlenews.result()\n",
        "    df=pd.DataFrame(result)"
      ],
      "execution_count": null,
      "outputs": []
    },
    {
      "cell_type": "code",
      "metadata": {
        "id": "7XRhH9vyOtiS"
      },
      "source": [
        "df1=df[df['date'].str.contains('hour|1 day')]"
      ],
      "execution_count": null,
      "outputs": []
    },
    {
      "cell_type": "code",
      "metadata": {
        "colab": {
          "base_uri": "https://localhost:8080/"
        },
        "id": "q5M3KxvvOttk",
        "outputId": "998e2ba3-2dc8-4dce-da07-c173b7bfb6b4"
      },
      "source": [
        "for i in df1['title']:\n",
        "  print(str(i))"
      ],
      "execution_count": null,
      "outputs": [
        {
          "output_type": "stream",
          "text": [
            "Hank Ellis Insurance wins first-quarter men's golf league title\n",
            "Metropolitan Control Centre Market Quality & Quantity ...\n",
            "DC Power Supply: Where is Global Market Influencing from ...\n",
            "Desiccated Coconut Market: Opportunities And Strategies size ...\n",
            "Global Interactive Classroom Projectors Market Status, Future ...\n",
            "Niger Delta group warns against implementing proposed ...\n",
            "Wellhead Equipment Market (Covid-19 Analysis) SWOT ...\n",
            "Digital Switch-Mode Power Supplies Market 2021 Analysis ...\n",
            "Impact of Covid-19 on Oilfield Equipment Market 2020-2028 ...\n",
            "Hank Ellis Insurance wins first-quarter men's golf league title\n",
            "Metropolitan Control Centre Market Quality & Quantity ...\n",
            "DC Power Supply: Where is Global Market Influencing from ...\n",
            "Desiccated Coconut Market: Opportunities And Strategies size ...\n",
            "Global Interactive Classroom Projectors Market Status, Future ...\n",
            "Niger Delta group warns against implementing proposed ...\n",
            "Wellhead Equipment Market (Covid-19 Analysis) SWOT ...\n",
            "Digital Switch-Mode Power Supplies Market 2021 Analysis ...\n",
            "Impact of Covid-19 on Oilfield Equipment Market 2020-2028 ...\n",
            "Hank Ellis Insurance wins first-quarter men's golf league title\n",
            "Metropolitan Control Centre Market Quality & Quantity ...\n",
            "DC Power Supply: Where is Global Market Influencing from ...\n",
            "Desiccated Coconut Market: Opportunities And Strategies size ...\n",
            "Global Interactive Classroom Projectors Market Status, Future ...\n",
            "Niger Delta group warns against implementing proposed ...\n",
            "Wellhead Equipment Market (Covid-19 Analysis) SWOT ...\n",
            "Digital Switch-Mode Power Supplies Market 2021 Analysis ...\n",
            "Impact of Covid-19 on Oilfield Equipment Market 2020-2028 ...\n"
          ],
          "name": "stdout"
        }
      ]
    },
    {
      "cell_type": "code",
      "metadata": {
        "id": "7aed6mF8OuCh"
      },
      "source": [
        ""
      ],
      "execution_count": null,
      "outputs": []
    },
    {
      "cell_type": "markdown",
      "metadata": {
        "id": "xaIcziDfIlpW"
      },
      "source": [
        "**Google client for latest headline news**"
      ]
    },
    {
      "cell_type": "code",
      "metadata": {
        "id": "oPBsF-vfEXpy"
      },
      "source": [
        "# !pip install gnewsclient\n",
        "from gnewsclient import gnewsclient\n",
        "client = gnewsclient.NewsClient(language='english', \n",
        "                                location='india', \n",
        "                                topic='Technology', \n",
        "                                max_results=10)\n",
        "news_list = client.get_news()\n",
        "# for i in news_list:\n",
        "#   if 'Reliance' in i['title']:\n",
        "#     print(i['title'])"
      ],
      "execution_count": null,
      "outputs": []
    },
    {
      "cell_type": "code",
      "metadata": {
        "colab": {
          "base_uri": "https://localhost:8080/"
        },
        "id": "C7BdvyEvZAMq",
        "outputId": "208e4105-9f7d-4668-c1bb-48455053ec33"
      },
      "source": [
        "news_list"
      ],
      "execution_count": null,
      "outputs": [
        {
          "output_type": "execute_result",
          "data": {
            "text/plain": [
              "[{'link': 'https://news.google.com/__i/rss/rd/articles/CBMiTGh0dHBzOi8vd3d3LmdzbWFyZW5hLmNvbS9vbmVwbHVzX25vcmRfY2VfNWdfZnVsbF9zcGVjc19sZWFrZWQtbmV3cy00OTQzMi5waHDSAUlodHRwczovL20uZ3NtYXJlbmEuY29tL29uZXBsdXNfbm9yZF9jZV81Z19mdWxsX3NwZWNzX2xlYWtlZC1hbXAtNDk0MzIucGhw?oc=5',\n",
              "  'media': None,\n",
              "  'title': 'OnePlus Nord CE 5G full specs leaked - GSMArena.com news - GSMArena.com'},\n",
              " {'link': 'https://news.google.com/__i/rss/rd/articles/CBMigQFodHRwczovL2dhZGdldHMubmR0di5jb20vbW9iaWxlcy9uZXdzL3JlYWxtZS01Zy1nbG9iYWwtc3VtbWl0LWRhdGUtdGltZS10b2RheS0yLTMwLXBtLWhvdy10by13YXRjaC1saXZlc3RyZWFtLWd0LWV4cGVjdGVkLTI0NTQ4MjjSAZYBaHR0cHM6Ly9nYWRnZXRzLm5kdHYuY29tL21vYmlsZXMvbmV3cy9yZWFsbWUtNWctZ2xvYmFsLXN1bW1pdC1kYXRlLXRpbWUtdG9kYXktMi0zMC1wbS1ob3ctdG8td2F0Y2gtbGl2ZXN0cmVhbS1ndC1leHBlY3RlZC0yNDU0ODI4P2FtcD0xJmFrYW1haS1ydW09b2Zm?oc=5',\n",
              "  'media': None,\n",
              "  'title': 'Realme 5G Global Summit Today, Realme GT 5G Launch Expected: How to Watch Livestream - Gadgets 360'},\n",
              " {'link': 'https://news.google.com/__i/rss/rd/articles/CBMiXmh0dHBzOi8vd3d3Lmdpem1vY2hpbmEuY29tLzIwMjEvMDYvMDMvbWljcm9zb2Z0LXRvLXVudmVpbC1hLW5ldy12ZXJzaW9uLW9mLXdpbmRvd3Mtb24tanVuZS0yNC_SAQA?oc=5',\n",
              "  'media': None,\n",
              "  'title': 'Microsoft to unveil a new version of Windows on June 24 - gizmochina'},\n",
              " {'link': 'https://news.google.com/__i/rss/rd/articles/CBMiZmh0dHBzOi8vd3d3LnRlY2hyYWRhci5jb20vaW4vbmV3cy9ydHgtMzA4MC1zdXBlci1hbmQtcnR4LTMwNzAtc3VwZXItbGFwdG9wLWdwdXMtbWlnaHQtaGF2ZS1qdXN0LWxlYWtlZNIBamh0dHBzOi8vd3d3LnRlY2hyYWRhci5jb20vaW4vYW1wL25ld3MvcnR4LTMwODAtc3VwZXItYW5kLXJ0eC0zMDcwLXN1cGVyLWxhcHRvcC1ncHVzLW1pZ2h0LWhhdmUtanVzdC1sZWFrZWQ?oc=5',\n",
              "  'media': None,\n",
              "  'title': 'RTX 3080 Super and RTX 3070 Super laptop GPUs might have just leaked - Techradar'},\n",
              " {'link': 'https://news.google.com/__i/rss/rd/articles/CBMijgFodHRwczovL3RlY2guaGluZHVzdGFudGltZXMuY29tL3RlY2gvbmV3cy9nb29nbGUtcGhvdG9zLWdldHMtYS1uZXctbWVtb3J5LWNvbGxlY3Rpb24tdGhhdC13aWxsLXNob3cteW91ci10b3Atc3ByaW5nLWNsaWNrcy03MTYyMjY1NDI2MjA5MC5odG1s0gGSAWh0dHBzOi8vdGVjaC5oaW5kdXN0YW50aW1lcy5jb20vYW1wL3RlY2gvbmV3cy9nb29nbGUtcGhvdG9zLWdldHMtYS1uZXctbWVtb3J5LWNvbGxlY3Rpb24tdGhhdC13aWxsLXNob3cteW91ci10b3Atc3ByaW5nLWNsaWNrcy03MTYyMjY1NDI2MjA5MC5odG1s?oc=5',\n",
              "  'media': None,\n",
              "  'title': 'Google Photos gets a new Memory collection that will show your top spring clicks - HT Tech'},\n",
              " {'link': 'https://news.google.com/__i/rss/rd/articles/CBMiQWh0dHBzOi8vd3d3LnhkYS1kZXZlbG9wZXJzLmNvbS9nb29nbGUtcGhvdG9zLW1hdGVyaWFsLXlvdS10d2Vha3Mv0gFFaHR0cHM6Ly93d3cueGRhLWRldmVsb3BlcnMuY29tL2dvb2dsZS1waG90b3MtbWF0ZXJpYWwteW91LXR3ZWFrcy9hbXAv?oc=5',\n",
              "  'media': None,\n",
              "  'title': 'Google Photos prepares for Material You with larger text in the image library and other changes - XDA Developers'},\n",
              " {'link': 'https://news.google.com/__i/rss/rd/articles/CBMiK2h0dHBzOi8vd3d3LnlvdXR1YmUuY29tL3dhdGNoP3Y9OExXOUZxWFJpWVnSAQA?oc=5',\n",
              "  'media': None,\n",
              "  'title': 'Editorji Tech Wrap: iOS 14.6 causing severe battery drain on iPhones - HT Tech'},\n",
              " {'link': 'https://news.google.com/__i/rss/rd/articles/CBMihgFodHRwczovL2luZGlhbmV4cHJlc3MuY29tL2FydGljbGUvdGVjaG5vbG9neS9zb2NpYWwvZmFjZWJvb2stZjgtd2hhdHNhcHAtYnVzaW5lc3MtYXBpLWFkZHMtbW9yZS1zdXBwb3J0LWZvci10eXBlcy1vZi1tZXNzYWdlcy03MzQxNDUzL9IBiwFodHRwczovL2luZGlhbmV4cHJlc3MuY29tL2FydGljbGUvdGVjaG5vbG9neS9zb2NpYWwvZmFjZWJvb2stZjgtd2hhdHNhcHAtYnVzaW5lc3MtYXBpLWFkZHMtbW9yZS1zdXBwb3J0LWZvci10eXBlcy1vZi1tZXNzYWdlcy03MzQxNDUzL2xpdGUv?oc=5',\n",
              "  'media': None,\n",
              "  'title': 'Facebook F8: WhatsApp Business API adds more support for types of messages - The Indian Express'},\n",
              " {'link': 'https://news.google.com/__i/rss/rd/articles/CBMiU2h0dHBzOi8vdmVudHVyZWJlYXQuY29tLzIwMjEvMDYvMDIvZ3Jhbi10dXJpc21vLTctc2hvdWxkLXN0aWNrLXRvLXBzNS1hbmQtc2tpcC1wczQv0gFXaHR0cHM6Ly92ZW50dXJlYmVhdC5jb20vMjAyMS8wNi8wMi9ncmFuLXR1cmlzbW8tNy1zaG91bGQtc3RpY2stdG8tcHM1LWFuZC1za2lwLXBzNC9hbXAv?oc=5',\n",
              "  'media': None,\n",
              "  'title': 'Gran Turismo 7 should stick to PS5 and skip PS4 - VentureBeat'},\n",
              " {'link': 'https://news.google.com/__i/rss/rd/articles/CBMic2h0dHBzOi8vd3d3LmhpbmR1c3RhbnRpbWVzLmNvbS9idXNpbmVzcy9mdXR1cmUtYmVsb25ncy10by10aG9zZS13aG8tYWNlLXRlY2gtbXVrZXNoLWFtYmFuaS0xMDE2MjI2NTU3MDU3ODAtYW1wLmh0bWzSAXNodHRwczovL3d3dy5oaW5kdXN0YW50aW1lcy5jb20vYnVzaW5lc3MvZnV0dXJlLWJlbG9uZ3MtdG8tdGhvc2Utd2hvLWFjZS10ZWNoLW11a2VzaC1hbWJhbmktMTAxNjIyNjU1NzA1NzgwLWFtcC5odG1s?oc=5',\n",
              "  'media': None,\n",
              "  'title': '‘Future belongs to those who ace tech’: Mukesh Ambani - Hindustan Times'}]"
            ]
          },
          "metadata": {
            "tags": []
          },
          "execution_count": 23
        }
      ]
    }
  ]
}