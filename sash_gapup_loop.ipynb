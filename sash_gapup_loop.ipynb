{
  "nbformat": 4,
  "nbformat_minor": 0,
  "metadata": {
    "colab": {
      "name": "sash_gapup_loop.ipynb",
      "provenance": [],
      "collapsed_sections": []
    },
    "kernelspec": {
      "name": "python3",
      "display_name": "Python 3"
    },
    "language_info": {
      "name": "python"
    }
  },
  "cells": [
    {
      "cell_type": "code",
      "metadata": {
        "colab": {
          "base_uri": "https://localhost:8080/"
        },
        "id": "nW8WvXq5sItj",
        "outputId": "65fa5d60-e47e-4143-bf12-21db68a7252c"
      },
      "source": [
        "!pip install yfinance\n",
        "import pandas as pd \n",
        "import yfinance as yf # import libraries\n",
        "import numpy as np\n",
        "import matplotlib.pyplot as plt\n",
        "import warnings\n",
        "warnings.filterwarnings('ignore')\n",
        "plt.style.use('seaborn')"
      ],
      "execution_count": null,
      "outputs": [
        {
          "output_type": "stream",
          "text": [
            "Requirement already satisfied: yfinance in /usr/local/lib/python3.7/dist-packages (0.1.59)\n",
            "Requirement already satisfied: pandas>=0.24 in /usr/local/lib/python3.7/dist-packages (from yfinance) (1.1.5)\n",
            "Requirement already satisfied: lxml>=4.5.1 in /usr/local/lib/python3.7/dist-packages (from yfinance) (4.6.3)\n",
            "Requirement already satisfied: requests>=2.20 in /usr/local/lib/python3.7/dist-packages (from yfinance) (2.23.0)\n",
            "Requirement already satisfied: multitasking>=0.0.7 in /usr/local/lib/python3.7/dist-packages (from yfinance) (0.0.9)\n",
            "Requirement already satisfied: numpy>=1.15 in /usr/local/lib/python3.7/dist-packages (from yfinance) (1.19.5)\n",
            "Requirement already satisfied: pytz>=2017.2 in /usr/local/lib/python3.7/dist-packages (from pandas>=0.24->yfinance) (2018.9)\n",
            "Requirement already satisfied: python-dateutil>=2.7.3 in /usr/local/lib/python3.7/dist-packages (from pandas>=0.24->yfinance) (2.8.1)\n",
            "Requirement already satisfied: urllib3!=1.25.0,!=1.25.1,<1.26,>=1.21.1 in /usr/local/lib/python3.7/dist-packages (from requests>=2.20->yfinance) (1.24.3)\n",
            "Requirement already satisfied: chardet<4,>=3.0.2 in /usr/local/lib/python3.7/dist-packages (from requests>=2.20->yfinance) (3.0.4)\n",
            "Requirement already satisfied: certifi>=2017.4.17 in /usr/local/lib/python3.7/dist-packages (from requests>=2.20->yfinance) (2020.12.5)\n",
            "Requirement already satisfied: idna<3,>=2.5 in /usr/local/lib/python3.7/dist-packages (from requests>=2.20->yfinance) (2.10)\n",
            "Requirement already satisfied: six>=1.5 in /usr/local/lib/python3.7/dist-packages (from python-dateutil>=2.7.3->pandas>=0.24->yfinance) (1.15.0)\n"
          ],
          "name": "stdout"
        }
      ]
    },
    {
      "cell_type": "code",
      "metadata": {
        "id": "SSU-J995sOMJ"
      },
      "source": [
        "def gapup(stock_name,start_date,end_date,Amount):\n",
        "  data = yf.download(stock_name, \n",
        "                    start=start_date, \n",
        "                    end=end_date,\n",
        "                    progress=False)\n",
        "  value=[]\n",
        "  for i in zip(data['Open'],data['Close']):\n",
        "    if i[0]>i[1]:\n",
        "      value.append('Red')\n",
        "    else:\n",
        "      value.append('Green')\n",
        "  data['color']= value\n",
        "  sash=[]\n",
        "  for i in range(0,len(data)):\n",
        "    try:\n",
        "      if (data['Close'][i] < data['Open'][i+1]) and (data['Open'][i] > data['Open'][i+1]) and (data['Open'][i] < data['Close'][i+1]) and (data['color'][i] == 'Red') and (data['color'][i+1] == 'Green'):\n",
        "        sash.append('Bull Sash')\n",
        "      else:\n",
        "        sash.append('flat')\n",
        "    except:\n",
        "      sash.append('flat')\n",
        "  data['Sash']= sash\n",
        "  data['Sash']=data['Sash'].shift(1)\n",
        "  indication=[]\n",
        "  for i in range(0,len(data)-1):\n",
        "    #if data['Sash'][i] == 'Bull Sash' and (data['Open'][i-1] - data['Close'][i-1]) <= (data['Close'][i] - data['Open'][i])  and data['Close'][i] <= data['Open'][i+1]:\n",
        "    if data['Sash'][i] == 'Bull Sash' and data['Close'][i] <= data['Open'][i+1]:\n",
        "      indication.append('Buy')\n",
        "    else:\n",
        "      indication.append('No')\n",
        "  indication.append('No')\n",
        "\n",
        "  # data['stop loss']=data[stop_loss].shift(2) # changes to Open from Close\n",
        "\n",
        "  data['indication']=indication\n",
        "  data['indication']=data['indication'].shift(1)\n",
        "  # data=data.dropna()\n",
        "\n",
        "  data.reset_index(inplace=True)\n",
        "\n",
        "  # # ADD MIN DATA\n",
        "\n",
        "  data2=yf.download(stock_name, \n",
        "                      start=start_date, \n",
        "                      end=end_date,\n",
        "                      progress=False,interval='5m')\n",
        "\n",
        "  #data2.dropna(inplace=True)\n",
        "  data2.reset_index(inplace=True)\n",
        "  # sep date time\n",
        "  data2['Datetime']=data2['Datetime'].astype('str')\n",
        "  df=data2['Datetime'].str.split(' ',expand=True)\n",
        "  data2['Date']=df[0]\n",
        "  data2['Time']=df[1]\n",
        "\n",
        "  # NSE WAS CLOSE DUE TO GLICTH\n",
        "\n",
        "  for i in data2['Date']:\n",
        "    if i=='2021-02-24':\n",
        "      data2.drop(data2[data2['Date'] == i].index, inplace = True) \n",
        "\n",
        "  data2.reset_index(inplace=True)\n",
        "  data2.drop('index',axis=1,inplace=True)\n",
        "\n",
        "  data=data.reset_index().drop('index',axis=1)\n",
        "\n",
        "  data['Date']=data['Date'].astype('str')\n",
        "\n",
        "  for i in data['Date']:\n",
        "    if i=='2021-02-24':\n",
        "      data.drop(data[data['Date'] == i].index, inplace = True) \n",
        "\n",
        "  data=data.reset_index().drop('index',axis=1)\n",
        "\n",
        "  buy_data=data2.copy()\n",
        "\n",
        "  # remove all other time data # selling\n",
        "  for i in data2['Time']:\n",
        "    if i=='14:55:00+05:30':\n",
        "      pass\n",
        "    else:\n",
        "      data2.drop(data2[data2['Time'] == i].index, inplace = True) \n",
        "  data2=data2.reset_index().drop('index',axis=1)\n",
        "\n",
        "  data['Close']=data2['Open']\n",
        "\n",
        "  # remove all other time data # for buying\n",
        "  for i in buy_data['Time']:\n",
        "    if i=='09:20:00+05:30':\n",
        "      pass\n",
        "    else:\n",
        "      buy_data.drop(buy_data[buy_data['Time'] == i].index, inplace = True) \n",
        "  buy_data=buy_data.reset_index().drop('index',axis=1)\n",
        "\n",
        "  data['Open']=buy_data['Open']\n",
        "\n",
        "  # # END OF MIN DATA\n",
        "\n",
        "  pandl=[]\n",
        "  for i in range(0,len(data)):\n",
        "    if data['indication'][i]=='Buy':\n",
        "      pandl.append(data['Close'][i] - data['Open'][i])\n",
        "    else:\n",
        "      pandl.append(0)\n",
        "  data['P/L']=pandl\n",
        "  data=data.drop(['Adj Close','Volume','color','Sash'],axis=1)\n",
        "\n",
        "  # gain=[]\n",
        "  # for i in range(0,len(data)):\n",
        "  #   if data['P/L'][i]==0:\n",
        "  #     gain.append(0)\n",
        "  #     continue\n",
        "  #   if data['stop loss'][i] > data['Close'][i]:\n",
        "  #     gain.append(data['stop loss'][i] - data['Open'][i])  #remove stoploss\n",
        "  #   else:\n",
        "  #     gain.append(data['P/L'][i])\n",
        "  # data['gain']=gain\n",
        "\n",
        "  data3=data[data['indication'] == 'Buy']\n",
        "  # data3=data[data['gain'] != 0]\n",
        "  data3=data3.reset_index().drop('index',axis=1)\n",
        "\n",
        "  # stop loss trigger adder\n",
        "\n",
        "  # gain_correction=[]\n",
        "  # for i in range(0,len(data3)):\n",
        "  #   if data3['stop loss'][i] > data3['Low'][i]:\n",
        "  #     gain_correction.append(data3['stop loss'][i] - data3['Open'][i])\n",
        "  #   else:\n",
        "  #     gain_correction.append(data3['gain'][i])\n",
        "\n",
        "  # data3['gain_correction']=gain_correction\n",
        "\n",
        "\n",
        "  # data3['INR'] = round(Amount/data3['Open'])*data3['gain_correction']\n",
        "\n",
        "  data3['INR'] = (round(100000/data3['Open'])) * data3['P/L']\n",
        "\n",
        "  return sum(data3['INR']),len(data3)"
      ],
      "execution_count": null,
      "outputs": []
    },
    {
      "cell_type": "code",
      "metadata": {
        "colab": {
          "base_uri": "https://localhost:8080/"
        },
        "id": "VRC0iN7E3FQD",
        "outputId": "c602de7d-0cd6-4525-bd62-88b59fd76f38"
      },
      "source": [
        "from tqdm import tqdm\n",
        "from google.colab import drive\n",
        "drive.mount(\"/content/gdrive\")"
      ],
      "execution_count": null,
      "outputs": [
        {
          "output_type": "stream",
          "text": [
            "Drive already mounted at /content/gdrive; to attempt to forcibly remount, call drive.mount(\"/content/gdrive\", force_remount=True).\n"
          ],
          "name": "stdout"
        }
      ]
    },
    {
      "cell_type": "code",
      "metadata": {
        "colab": {
          "base_uri": "https://localhost:8080/"
        },
        "id": "_nxWxtY33LWJ",
        "outputId": "f679cfb8-56df-4b86-ba5a-2cebb807b663"
      },
      "source": [
        "%cd '/content/gdrive/MyDrive/SASH/'"
      ],
      "execution_count": null,
      "outputs": [
        {
          "output_type": "stream",
          "text": [
            "/content/gdrive/MyDrive/SASH\n"
          ],
          "name": "stdout"
        }
      ]
    },
    {
      "cell_type": "code",
      "metadata": {
        "id": "pZyGgNqV3cG_"
      },
      "source": [
        "nse=pd.read_csv('ALL_FNO.csv')"
      ],
      "execution_count": null,
      "outputs": []
    },
    {
      "cell_type": "code",
      "metadata": {
        "colab": {
          "base_uri": "https://localhost:8080/"
        },
        "id": "N70n3TGW4BEW",
        "outputId": "04d6d9ea-a216-444c-e768-fdd8a0cd5c70"
      },
      "source": [
        "gapup('TCS.NS','2021-02-17','2021-04-11',100000)"
      ],
      "execution_count": null,
      "outputs": [
        {
          "output_type": "execute_result",
          "data": {
            "text/plain": [
              "(-1616.807861328125, 2)"
            ]
          },
          "metadata": {
            "tags": []
          },
          "execution_count": 14
        }
      ]
    },
    {
      "cell_type": "code",
      "metadata": {
        "colab": {
          "base_uri": "https://localhost:8080/"
        },
        "id": "QJftP-hZ3afA",
        "outputId": "16951575-ea2d-44a2-a2f0-0d8f5f3af84e"
      },
      "source": [
        "bull_sash_stocks={}\n",
        "for i in tqdm(nse['Symbol']):\n",
        "    bull_sash_stocks[i]=gapup(i,'2021-02-17','2021-04-11',100000)\n",
        "final_bull_sash=pd.DataFrame.from_dict(bull_sash_stocks,orient='index',columns=['P/L','counts'],)\n",
        "final_bull_sash.reset_index(inplace=True)\n",
        "final_bull_sash=final_bull_sash.rename(columns={'index':'Ticker'})\n",
        "final_bull_sash.to_csv('bull_gapup_F15_nostoploss.csv')"
      ],
      "execution_count": null,
      "outputs": [
        {
          "output_type": "stream",
          "text": [
            "100%|██████████| 137/137 [13:40<00:00,  5.99s/it]\n"
          ],
          "name": "stderr"
        }
      ]
    },
    {
      "cell_type": "code",
      "metadata": {
        "id": "R0yvdjRA59Jj"
      },
      "source": [
        ""
      ],
      "execution_count": null,
      "outputs": []
    }
  ]
}