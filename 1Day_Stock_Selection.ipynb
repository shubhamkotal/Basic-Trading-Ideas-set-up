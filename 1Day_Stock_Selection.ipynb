{
  "nbformat": 4,
  "nbformat_minor": 0,
  "metadata": {
    "colab": {
      "name": "1Day_Stock_Selection.ipynb",
      "provenance": [],
      "collapsed_sections": []
    },
    "kernelspec": {
      "display_name": "Python 3",
      "name": "python3"
    },
    "language_info": {
      "name": "python"
    }
  },
  "cells": [
    {
      "cell_type": "code",
      "metadata": {
        "id": "rn-PVWSSZFC7"
      },
      "source": [
        "%%capture\n",
        "\n",
        "!pip install yfinance\n",
        "import pandas as pd\n",
        "import yfinance as yf # import libraries\n",
        "import numpy as np\n",
        "import matplotlib.pyplot as plt\n",
        "plt.style.use('seaborn')\n",
        "import warnings\n",
        "warnings.filterwarnings('ignore') \n",
        "# from IPython.display import FileLink\n",
        "from google.colab import files\n",
        "import tqdm.notebook as tq\n",
        "from pandas_datareader import data as pdr\n",
        "yf.pdr_override() # <== that's all it takes :-)"
      ],
      "execution_count": null,
      "outputs": []
    },
    {
      "cell_type": "code",
      "metadata": {
        "colab": {
          "base_uri": "https://localhost:8080/"
        },
        "id": "wOqW0ZhtZM7u",
        "outputId": "2d6d9856-2af2-4950-a1a4-882a661c8847"
      },
      "source": [
        "# from google.colab import drive\n",
        "# drive.mount(\"/content/gdrive\")"
      ],
      "execution_count": null,
      "outputs": [
        {
          "output_type": "stream",
          "text": [
            "Mounted at /content/gdrive\n"
          ],
          "name": "stdout"
        }
      ]
    },
    {
      "cell_type": "code",
      "metadata": {
        "colab": {
          "base_uri": "https://localhost:8080/"
        },
        "id": "K0FbStTIxqhN",
        "outputId": "06bc7db4-2a2b-4d4b-a181-fb8b188699c7"
      },
      "source": [
        "# %cd '/content/gdrive/MyDrive/SASH/'"
      ],
      "execution_count": null,
      "outputs": [
        {
          "output_type": "stream",
          "text": [
            "/content/gdrive/MyDrive/SASH\n"
          ],
          "name": "stdout"
        }
      ]
    },
    {
      "cell_type": "code",
      "metadata": {
        "colab": {
          "background_save": true
        },
        "id": "Z2QcQH1txtmj"
      },
      "source": [
        "nse_Symbol=['ADANIPORTS.NS',\n",
        " 'ASIANPAINT.NS',\n",
        " 'AXISBANK.NS',\n",
        " 'BAJAJ-AUTO.NS',\n",
        " 'BAJAJFINSV.NS',\n",
        " 'BAJFINANCE.NS',\n",
        " 'BHARTIARTL.NS',\n",
        " 'BPCL.NS',\n",
        " 'BRITANNIA.NS',\n",
        " 'CIPLA.NS',\n",
        " 'COALINDIA.NS',\n",
        " 'DIVISLAB.NS',\n",
        " 'DRREDDY.NS',\n",
        " 'EICHERMOT.NS',\n",
        " 'GRASIM.NS',\n",
        " 'HCLTECH.NS',\n",
        " 'HDFC.NS',\n",
        " 'HDFCBANK.NS',\n",
        " 'HDFCLIFE.NS',\n",
        " 'HEROMOTOCO.NS',\n",
        " 'HINDALCO.NS',\n",
        " 'HINDUNILVR.NS',\n",
        " 'ICICIBANK.NS',\n",
        " 'INDUSINDBK.NS',\n",
        " 'INFY.NS',\n",
        " 'IOC.NS',\n",
        " 'ITC.NS',\n",
        " 'JSWSTEEL.NS',\n",
        " 'KOTAKBANK.NS',\n",
        " 'LT.NS',\n",
        " 'M&M.NS',\n",
        " 'MARUTI.NS',\n",
        " 'NESTLEIND.NS',\n",
        " 'NTPC.NS',\n",
        " 'ONGC.NS',\n",
        " 'POWERGRID.NS',\n",
        " 'RELIANCE.NS',\n",
        " 'SBILIFE.NS',\n",
        " 'SBIN.NS',\n",
        " 'SHREECEM.NS',\n",
        " 'SUNPHARMA.NS',\n",
        " 'TATACONSUM.NS',\n",
        " 'TATAMOTORS.NS',\n",
        " 'TATASTEEL.NS',\n",
        " 'TCS.NS',\n",
        " 'TECHM.NS',\n",
        " 'TITAN.NS',\n",
        " 'ULTRACEMCO.NS',\n",
        " 'UPL.NS',\n",
        " 'WIPRO.NS']"
      ],
      "execution_count": null,
      "outputs": []
    },
    {
      "cell_type": "code",
      "metadata": {
        "id": "81lZSs78ZO-S"
      },
      "source": [
        "# nse=pd.read_csv('/content/gdrive/MyDrive/SASH/Nifty50.csv')\n",
        "# nse['Symbol']=nse['Symbol'] + '.NS'"
      ],
      "execution_count": null,
      "outputs": []
    },
    {
      "cell_type": "code",
      "metadata": {
        "id": "ajn8K850xxc5"
      },
      "source": [
        "# nse=pd.read_csv('ALL_FNO.csv')"
      ],
      "execution_count": null,
      "outputs": []
    },
    {
      "cell_type": "markdown",
      "metadata": {
        "id": "6hD469FOY5z8"
      },
      "source": [
        "# BACK TEST"
      ]
    },
    {
      "cell_type": "code",
      "metadata": {
        "id": "2KuwIPK0Zc1V"
      },
      "source": [
        "def checker(stock_name,start_date,end_date):\n",
        "  #**Condition 1**\n",
        "  #1st 15min high low should get break. That means days's high and day's low should be greater and lesser than 15min 1st candle high and low.\n",
        "  df1 = yf.download(stock_name, \n",
        "                    start=start_date, \n",
        "                    end=end_date,\n",
        "                    interval='15m')\n",
        "  df1.reset_index(inplace=True)\n",
        "  df1=df1.dropna().reset_index(drop=True)\n",
        "  df1['Datetime']=df1['Datetime'].astype('str')\n",
        "  # new\n",
        "  olddf=pd.DataFrame(columns=['Datetime','Open','High','Low','Close','Checking High','Checking Low'])\n",
        "  for i in range(0,len(df1),25):\n",
        "    newdf=df1[i:i+25:]\n",
        "    newdf['Checking High'] = ['Yes' if newdf['High'][i] == max(newdf['High']) else 'No' for i in range(i,i+25)]\n",
        "    newdf['Checking Low'] = ['Yes' if newdf['Low'][i] == min(newdf['Low']) else 'No' for i in range(i,i+25)]\n",
        "    olddf=olddf.append(newdf,ignore_index=True)\n",
        "  # check inside\n",
        "  Insider=[]\n",
        "  for i in range(0,len(olddf)):\n",
        "    try:\n",
        "      if ((olddf['High'][i] > olddf['High'][i+1] and olddf['High'][i] > olddf['High'][i+2] and olddf['High'][i] > olddf['High'][i+3]) and \n",
        "          (olddf['Low'][i] < olddf['Low'][i+1] and olddf['Low'][i] < olddf['Low'][i+2] and olddf['Low'][i] < olddf['Low'][i+3])):\n",
        "        Insider.append('Yes')\n",
        "      else:\n",
        "        Insider.append('No')\n",
        "    except:\n",
        "      Insider.append('No')\n",
        "  olddf['Insider'] = Insider\n",
        "  df1=olddf[olddf['Datetime'].str.contains('09:15')].reset_index(drop=True)\n",
        "  df1=df1.drop_duplicates().reset_index(drop=True)\n",
        "  #Now check the days high and low are greater or not than 15min 1st candle high and low\n",
        "  df2 = yf.download(stock_name, \n",
        "                    start=start_date, \n",
        "                    end=end_date,\n",
        "                    progress=False)\n",
        "  df2.reset_index(inplace=True)\n",
        "  df2=df2.dropna().reset_index(drop=True)\n",
        "  # new - correction of high low\n",
        "  df2['15Min High']= df1['High']\n",
        "  df2['15Min Low']= df1['Low']\n",
        "  df2['Checking High']= df1['Checking High']\n",
        "  df2['Checking Low']= df1['Checking Low']\n",
        "  df2['Insider']=df1['Insider']\n",
        "  df2['15Min High'] = [df2['High'][i] if df2['Checking High'][i]=='Yes' else df2['15Min High'][i] for i in range(0,len(df2)) ]\n",
        "  df2['15Min Low'] = [df2['Low'][i] if df2['Checking Low'][i]=='Yes' else df2['15Min Low'][i] for i in range(0,len(df2)) ]\n",
        "  df2=df2.drop(['Checking High','Checking Low'],axis=1)\n",
        "  df2['15min HL Break'] = ['Yes' if (df2['High'][i] > df2['15Min High'][i]  and df2['Low'][i] < df2['15Min Low'][i]) else 'No' for i in range(0,len(df2))]\n",
        "  df2['15min HL Break']=df2['15min HL Break'].shift(1)\n",
        "  df2=df2[df2['15min HL Break'] == 'Yes'].reset_index(drop=True)\n",
        "  df2=df2[df2['Insider'] == 'Yes'].reset_index(drop=True)\n",
        "  return (list(df2['Open']),list(df2['Close']),list(df2['Date']))"
      ],
      "execution_count": null,
      "outputs": []
    },
    {
      "cell_type": "code",
      "metadata": {
        "id": "MZEZclhsFCu2"
      },
      "source": [
        "%%capture\n",
        "\n",
        "# create df of nested info per stock\n",
        "selected_stocks={}\n",
        "for i in tq.tqdm(nse_Symbol):\n",
        "    selected_stocks[i]=checker(i,'2021-06-24','2021-07-05')\n",
        "final_selection=pd.DataFrame.from_dict(selected_stocks,orient='index',columns=['Close','Dates'])\n",
        "final_selection.reset_index(inplace=True)\n",
        "final_selection=final_selection.rename(columns={'index':'Ticker'})\n",
        "final_selection=final_selection.reset_index().drop('index',axis=1)\n",
        "# add all in proper list format\n",
        "new_col=[]\n",
        "for i in tq.tqdm(range(0,len(final_selection))):\n",
        "  new_entry=[]\n",
        "  for j in range(0,len(final_selection['Dates'][i])):\n",
        "    new_entry.append([final_selection['Ticker'][i],final_selection['Dates'][i][j]])\n",
        "  new_col.append(new_entry)\n",
        "# make it to proper csv file\n",
        "final = pd.DataFrame(columns=['Stock','Date'])\n",
        "for i in tq.tqdm(range(0,len(new_col))):\n",
        "  for j in new_col[i]:\n",
        "    try:\n",
        "      final = final.append({'Stock': j[0],'Date':j[1]}, ignore_index=True)\n",
        "    except:\n",
        "      pass\n",
        "print('completed, please check dataframe \"final\" ')\n",
        "final=final.dropna().reset_index(drop=True)\n",
        "final['Date']=final['Date'].astype('str')\n",
        "final['Stock']='NSE:' + final['Stock'].str.strip('.NS') + ','\n"
      ],
      "execution_count": null,
      "outputs": []
    },
    {
      "cell_type": "code",
      "metadata": {
        "colab": {
          "base_uri": "https://localhost:8080/",
          "height": 17
        },
        "id": "quwDsbFxOrHY",
        "outputId": "29ec4eb3-f19c-4f84-c887-e8618af68090"
      },
      "source": [
        "# final.to_excel('3June.xlsx',index=False)\n",
        "# files.download('3June.xlsx')"
      ],
      "execution_count": null,
      "outputs": [
        {
          "output_type": "display_data",
          "data": {
            "application/javascript": [
              "\n",
              "    async function download(id, filename, size) {\n",
              "      if (!google.colab.kernel.accessAllowed) {\n",
              "        return;\n",
              "      }\n",
              "      const div = document.createElement('div');\n",
              "      const label = document.createElement('label');\n",
              "      label.textContent = `Downloading \"${filename}\": `;\n",
              "      div.appendChild(label);\n",
              "      const progress = document.createElement('progress');\n",
              "      progress.max = size;\n",
              "      div.appendChild(progress);\n",
              "      document.body.appendChild(div);\n",
              "\n",
              "      const buffers = [];\n",
              "      let downloaded = 0;\n",
              "\n",
              "      const channel = await google.colab.kernel.comms.open(id);\n",
              "      // Send a message to notify the kernel that we're ready.\n",
              "      channel.send({})\n",
              "\n",
              "      for await (const message of channel.messages) {\n",
              "        // Send a message to notify the kernel that we're ready.\n",
              "        channel.send({})\n",
              "        if (message.buffers) {\n",
              "          for (const buffer of message.buffers) {\n",
              "            buffers.push(buffer);\n",
              "            downloaded += buffer.byteLength;\n",
              "            progress.value = downloaded;\n",
              "          }\n",
              "        }\n",
              "      }\n",
              "      const blob = new Blob(buffers, {type: 'application/binary'});\n",
              "      const a = document.createElement('a');\n",
              "      a.href = window.URL.createObjectURL(blob);\n",
              "      a.download = filename;\n",
              "      div.appendChild(a);\n",
              "      a.click();\n",
              "      div.remove();\n",
              "    }\n",
              "  "
            ],
            "text/plain": [
              "<IPython.core.display.Javascript object>"
            ]
          },
          "metadata": {
            "tags": []
          }
        },
        {
          "output_type": "display_data",
          "data": {
            "application/javascript": [
              "download(\"download_d3560c29-2267-41be-bf0a-3bf6f99d0b3e\", \"3June.xlsx\", 5323)"
            ],
            "text/plain": [
              "<IPython.core.display.Javascript object>"
            ]
          },
          "metadata": {
            "tags": []
          }
        }
      ]
    },
    {
      "cell_type": "code",
      "metadata": {
        "colab": {
          "base_uri": "https://localhost:8080/",
          "height": 575
        },
        "id": "udYyima3OrNO",
        "outputId": "e84fde07-aaae-4eda-d265-42a571da1dc1"
      },
      "source": [
        "final"
      ],
      "execution_count": null,
      "outputs": [
        {
          "output_type": "execute_result",
          "data": {
            "text/html": [
              "<div>\n",
              "<style scoped>\n",
              "    .dataframe tbody tr th:only-of-type {\n",
              "        vertical-align: middle;\n",
              "    }\n",
              "\n",
              "    .dataframe tbody tr th {\n",
              "        vertical-align: top;\n",
              "    }\n",
              "\n",
              "    .dataframe thead th {\n",
              "        text-align: right;\n",
              "    }\n",
              "</style>\n",
              "<table border=\"1\" class=\"dataframe\">\n",
              "  <thead>\n",
              "    <tr style=\"text-align: right;\">\n",
              "      <th></th>\n",
              "      <th>Stock</th>\n",
              "      <th>Date</th>\n",
              "    </tr>\n",
              "  </thead>\n",
              "  <tbody>\n",
              "    <tr>\n",
              "      <th>0</th>\n",
              "      <td>NSE:AXISBANK,</td>\n",
              "      <td>2021-07-02</td>\n",
              "    </tr>\n",
              "    <tr>\n",
              "      <th>1</th>\n",
              "      <td>NSE:BAJAJ-AUTO,</td>\n",
              "      <td>2021-07-01</td>\n",
              "    </tr>\n",
              "    <tr>\n",
              "      <th>2</th>\n",
              "      <td>NSE:BHARTIARTL,</td>\n",
              "      <td>2021-06-30</td>\n",
              "    </tr>\n",
              "    <tr>\n",
              "      <th>3</th>\n",
              "      <td>NSE:CIPLA,</td>\n",
              "      <td>2021-06-28</td>\n",
              "    </tr>\n",
              "    <tr>\n",
              "      <th>4</th>\n",
              "      <td>NSE:DIVISLAB,</td>\n",
              "      <td>2021-06-25</td>\n",
              "    </tr>\n",
              "    <tr>\n",
              "      <th>5</th>\n",
              "      <td>NSE:INDUSINDBK,</td>\n",
              "      <td>2021-07-01</td>\n",
              "    </tr>\n",
              "    <tr>\n",
              "      <th>6</th>\n",
              "      <td>NSE:INFY,</td>\n",
              "      <td>2021-06-30</td>\n",
              "    </tr>\n",
              "    <tr>\n",
              "      <th>7</th>\n",
              "      <td>NSE:JSWSTEEL,</td>\n",
              "      <td>2021-07-02</td>\n",
              "    </tr>\n",
              "    <tr>\n",
              "      <th>8</th>\n",
              "      <td>NSE:KOTAKBANK,</td>\n",
              "      <td>2021-06-28</td>\n",
              "    </tr>\n",
              "    <tr>\n",
              "      <th>9</th>\n",
              "      <td>NSE:LT,</td>\n",
              "      <td>2021-06-28</td>\n",
              "    </tr>\n",
              "    <tr>\n",
              "      <th>10</th>\n",
              "      <td>NSE:M&amp;M,</td>\n",
              "      <td>2021-06-28</td>\n",
              "    </tr>\n",
              "    <tr>\n",
              "      <th>11</th>\n",
              "      <td>NSE:NTPC,</td>\n",
              "      <td>2021-06-30</td>\n",
              "    </tr>\n",
              "    <tr>\n",
              "      <th>12</th>\n",
              "      <td>NSE:RELIANCE,</td>\n",
              "      <td>2021-06-30</td>\n",
              "    </tr>\n",
              "    <tr>\n",
              "      <th>13</th>\n",
              "      <td>NSE:TATAC,UM,</td>\n",
              "      <td>2021-06-25</td>\n",
              "    </tr>\n",
              "    <tr>\n",
              "      <th>14</th>\n",
              "      <td>NSE:TATAMOTORS,</td>\n",
              "      <td>2021-07-01</td>\n",
              "    </tr>\n",
              "    <tr>\n",
              "      <th>15</th>\n",
              "      <td>NSE:TITAN,</td>\n",
              "      <td>2021-07-01</td>\n",
              "    </tr>\n",
              "    <tr>\n",
              "      <th>16</th>\n",
              "      <td>NSE:ULTRACEMCO,</td>\n",
              "      <td>2021-07-01</td>\n",
              "    </tr>\n",
              "  </tbody>\n",
              "</table>\n",
              "</div>"
            ],
            "text/plain": [
              "              Stock        Date\n",
              "0     NSE:AXISBANK,  2021-07-02\n",
              "1   NSE:BAJAJ-AUTO,  2021-07-01\n",
              "2   NSE:BHARTIARTL,  2021-06-30\n",
              "3        NSE:CIPLA,  2021-06-28\n",
              "4     NSE:DIVISLAB,  2021-06-25\n",
              "5   NSE:INDUSINDBK,  2021-07-01\n",
              "6         NSE:INFY,  2021-06-30\n",
              "7     NSE:JSWSTEEL,  2021-07-02\n",
              "8    NSE:KOTAKBANK,  2021-06-28\n",
              "9           NSE:LT,  2021-06-28\n",
              "10         NSE:M&M,  2021-06-28\n",
              "11        NSE:NTPC,  2021-06-30\n",
              "12    NSE:RELIANCE,  2021-06-30\n",
              "13    NSE:TATAC,UM,  2021-06-25\n",
              "14  NSE:TATAMOTORS,  2021-07-01\n",
              "15       NSE:TITAN,  2021-07-01\n",
              "16  NSE:ULTRACEMCO,  2021-07-01"
            ]
          },
          "metadata": {
            "tags": []
          },
          "execution_count": 21
        }
      ]
    },
    {
      "cell_type": "markdown",
      "metadata": {
        "id": "1FUzUxCsEomE"
      },
      "source": [
        "# NEXT DAY"
      ]
    },
    {
      "cell_type": "code",
      "metadata": {
        "id": "sZaL3uB5ZqQh"
      },
      "source": [
        "def checker(stock_name,start_date,end_date):\n",
        "  #**Condition 1**\n",
        "  #1st 15min high low should get break. That means days's high and day's low should be greater and lesser than 15min 1st candle high and low.\n",
        "  df1 = yf.download(stock_name, \n",
        "                    start=start_date, \n",
        "                    end=end_date,\n",
        "                    interval='15m')\n",
        "  df1.reset_index(inplace=True)\n",
        "  df1=df1.dropna().reset_index(drop=True)\n",
        "  df1['Datetime']=df1['Datetime'].astype('str')\n",
        "  # new - add checking condition if highest or lowest\n",
        "  olddf=pd.DataFrame(columns=['Datetime','Open','High','Low','Close','Checking High','Checking Low'])\n",
        "  for i in range(0,len(df1),25):\n",
        "    newdf=df1[i:i+25:]\n",
        "    newdf['Checking High'] = ['Yes' if newdf['High'][i] == max(newdf['High']) else 'No' for i in range(i,i+25)]\n",
        "    newdf['Checking Low'] = ['Yes' if newdf['Low'][i] == min(newdf['Low']) else 'No' for i in range(i,i+25)]\n",
        "    olddf=olddf.append(newdf,ignore_index=True)\n",
        "  df1=olddf[olddf['Datetime'].str.contains('09:15')].reset_index(drop=True)\n",
        "  df1=df1.drop_duplicates().reset_index(drop=True)\n",
        "  #Now check the days high and low are greater or not than 15min 1st candle high and low\n",
        "  df2 = yf.download(stock_name, \n",
        "                    start=start_date, \n",
        "                    end=end_date,\n",
        "                    progress=False)\n",
        "  df2.reset_index(inplace=True)\n",
        "  df2=df2.dropna().reset_index(drop=True)\n",
        "  # new - correction of high low\n",
        "  df2['15Min High']= df1['High']\n",
        "  df2['15Min Low']= df1['Low']\n",
        "  df2['Checking High']= df1['Checking High']\n",
        "  df2['Checking Low']= df1['Checking Low']\n",
        "  df2['15Min High'] = [df2['High'][i] if df2['Checking High'][i]=='Yes' else df2['15Min High'][i] for i in range(0,len(df2)) ]\n",
        "  df2['15Min Low'] = [df2['Low'][i] if df2['Checking Low'][i]=='Yes' else df2['15Min Low'][i] for i in range(0,len(df2)) ]\n",
        "  df2=df2.drop(['Checking High','Checking Low'],axis=1)\n",
        "  # continue\n",
        "  df2['15min HL Break'] = ['Yes' if (df2['High'][i] > df2['15Min High'][i]  and df2['Low'][i] < df2['15Min Low'][i]) else 'No' for i in range(0,len(df2))]\n",
        "  #**condition2**\n",
        "  df2=df2[-1:]\n",
        "  df2=df2[df2['15min HL Break'] == 'Yes'].reset_index(drop=True)\n",
        "  df2['Date']=df2['Date'].astype('str')\n",
        "  return (list(df2['Close']),list(df2['Date']))"
      ],
      "execution_count": null,
      "outputs": []
    },
    {
      "cell_type": "code",
      "metadata": {
        "id": "P1BcND-hbJvd"
      },
      "source": [
        "\n",
        "def checker2(stock_name,start_date,end_date):\n",
        "  df1 = yf.download(stock_name, \n",
        "                    start=start_date, \n",
        "                    end=end_date,\n",
        "                    interval='15m')\n",
        "  df1.reset_index(inplace=True)\n",
        "  df1=df1.dropna().reset_index(drop=True)\n",
        "  df1['Datetime']=df1['Datetime'].astype('str')\n",
        "  Insider=[]\n",
        "  for i in range(0,len(df1)):\n",
        "    try:\n",
        "      if ((df1['High'][i] > df1['High'][i+1] and df1['High'][i] > df1['High'][i+2] ) and \n",
        "          (df1['Low'][i] < df1['Low'][i+1] and df1['Low'][i] < df1['Low'][i+2] )):\n",
        "        Insider.append('Yes')\n",
        "      else:\n",
        "        Insider.append('No')\n",
        "    except:\n",
        "      Insider.append('No')\n",
        "  df1['Insider'] = Insider\n",
        "  df1=df1[df1['Datetime'].str.contains('09:15')].reset_index(drop=True)\n",
        "  df1=df1[df1['Insider'] == 'Yes']\n",
        "  df1=df1.drop_duplicates().reset_index(drop=True)\n",
        "  return (list(df1['Close']),list(df1['Datetime']))"
      ],
      "execution_count": null,
      "outputs": []
    },
    {
      "cell_type": "code",
      "metadata": {
        "id": "23pZZdZsbvgs"
      },
      "source": [
        "dold='2021-07-01'\n",
        "dtod='2021-07-05'\n",
        "dtom='2021-07-06'"
      ],
      "execution_count": null,
      "outputs": []
    },
    {
      "cell_type": "code",
      "metadata": {
        "id": "MB_jK-oDZ4vv"
      },
      "source": [
        "%%capture\n",
        "\n",
        "# create df of nested info per stock\n",
        "selected_stocks={}\n",
        "for i in tq.tqdm(nse['Symbol']):\n",
        "    selected_stocks[i]=checker(i,dold,dtod)\n",
        "final_selection=pd.DataFrame.from_dict(selected_stocks,orient='index',columns=['Close','Dates'])\n",
        "final_selection.reset_index(inplace=True)\n",
        "final_selection=final_selection.rename(columns={'index':'Ticker'})\n",
        "final_selection=final_selection.reset_index().drop('index',axis=1)\n",
        "# add all in proper list format\n",
        "new_col=[]\n",
        "for i in tq.tqdm(range(0,len(final_selection))):\n",
        "  new_entry=[]\n",
        "  for j in range(0,len(final_selection['Dates'][i])):\n",
        "    new_entry.append([final_selection['Ticker'][i],final_selection['Dates'][i][j]])\n",
        "  new_col.append(new_entry)\n",
        "# make it to proper csv file\n",
        "final = pd.DataFrame(columns=['Stock','Date'])\n",
        "for i in tq.tqdm(range(0,len(new_col))):\n",
        "  for j in new_col[i]:\n",
        "    try:\n",
        "      final = final.append({'Stock': j[0],'Date':j[1]}, ignore_index=True)\n",
        "    except:\n",
        "      pass\n",
        "# print('completed, please check dataframe \"final\" ')\n",
        "final=final.dropna().reset_index(drop=True)\n",
        "final['Date']=final['Date'].astype('str')\n",
        "\n",
        "# 2nd filtering\n",
        "# create df of nested info per stock\n",
        "selected_stocks={}\n",
        "for i in tq.tqdm(final['Stock']):\n",
        "    selected_stocks[i]=checker2(i,dtod,dtom)\n",
        "final_selection=pd.DataFrame.from_dict(selected_stocks,orient='index',columns=['Close','Dates'])\n",
        "final_selection.reset_index(inplace=True)\n",
        "final_selection=final_selection.rename(columns={'index':'Ticker'})\n",
        "final_selection=final_selection.reset_index().drop('index',axis=1)\n",
        "# add all in proper list format\n",
        "new_col=[]\n",
        "for i in tq.tqdm(range(0,len(final_selection))):\n",
        "  new_entry=[]\n",
        "  for j in range(0,len(final_selection['Dates'][i])):\n",
        "    new_entry.append([final_selection['Ticker'][i],final_selection['Dates'][i][j]])\n",
        "  new_col.append(new_entry)\n",
        "# make it to proper csv file\n",
        "final = pd.DataFrame(columns=['Stock','Date'])\n",
        "for i in tq.tqdm(range(0,len(new_col))):\n",
        "  for j in new_col[i]:\n",
        "    try:\n",
        "      final = final.append({'Stock': j[0],'Date':j[1]}, ignore_index=True)\n",
        "    except:\n",
        "      pass\n",
        "# print('completed, please check dataframe \"final\" ')\n",
        "final=final.dropna().reset_index(drop=True)\n",
        "final['Date']=final['Date'].astype('str')\n"
      ],
      "execution_count": null,
      "outputs": []
    },
    {
      "cell_type": "code",
      "metadata": {
        "colab": {
          "base_uri": "https://localhost:8080/",
          "height": 328
        },
        "id": "yFT5sQkCWqM6",
        "outputId": "b3572818-5bf7-4def-b7e7-cf19bef92b0d"
      },
      "source": [
        "final"
      ],
      "execution_count": null,
      "outputs": [
        {
          "output_type": "execute_result",
          "data": {
            "text/html": [
              "<div>\n",
              "<style scoped>\n",
              "    .dataframe tbody tr th:only-of-type {\n",
              "        vertical-align: middle;\n",
              "    }\n",
              "\n",
              "    .dataframe tbody tr th {\n",
              "        vertical-align: top;\n",
              "    }\n",
              "\n",
              "    .dataframe thead th {\n",
              "        text-align: right;\n",
              "    }\n",
              "</style>\n",
              "<table border=\"1\" class=\"dataframe\">\n",
              "  <thead>\n",
              "    <tr style=\"text-align: right;\">\n",
              "      <th></th>\n",
              "      <th>Stock</th>\n",
              "      <th>Date</th>\n",
              "    </tr>\n",
              "  </thead>\n",
              "  <tbody>\n",
              "    <tr>\n",
              "      <th>0</th>\n",
              "      <td>BHARTIARTL.NS</td>\n",
              "      <td>2021-07-05 09:15:00+05:30</td>\n",
              "    </tr>\n",
              "    <tr>\n",
              "      <th>1</th>\n",
              "      <td>EXIDEIND.NS</td>\n",
              "      <td>2021-07-05 09:15:00+05:30</td>\n",
              "    </tr>\n",
              "    <tr>\n",
              "      <th>2</th>\n",
              "      <td>HDFC.NS</td>\n",
              "      <td>2021-07-05 09:15:00+05:30</td>\n",
              "    </tr>\n",
              "    <tr>\n",
              "      <th>3</th>\n",
              "      <td>LICHSGFIN.NS</td>\n",
              "      <td>2021-07-05 09:15:00+05:30</td>\n",
              "    </tr>\n",
              "    <tr>\n",
              "      <th>4</th>\n",
              "      <td>NAUKRI.NS</td>\n",
              "      <td>2021-07-05 09:15:00+05:30</td>\n",
              "    </tr>\n",
              "    <tr>\n",
              "      <th>5</th>\n",
              "      <td>ULTRACEMCO.NS</td>\n",
              "      <td>2021-07-05 09:15:00+05:30</td>\n",
              "    </tr>\n",
              "    <tr>\n",
              "      <th>6</th>\n",
              "      <td>ZEEL.NS</td>\n",
              "      <td>2021-07-05 09:15:00+05:30</td>\n",
              "    </tr>\n",
              "    <tr>\n",
              "      <th>7</th>\n",
              "      <td>PAGEIND.NS</td>\n",
              "      <td>2021-07-05 09:15:00+05:30</td>\n",
              "    </tr>\n",
              "    <tr>\n",
              "      <th>8</th>\n",
              "      <td>MCDOWELL-N.NS</td>\n",
              "      <td>2021-07-05 09:15:00+05:30</td>\n",
              "    </tr>\n",
              "  </tbody>\n",
              "</table>\n",
              "</div>"
            ],
            "text/plain": [
              "           Stock                       Date\n",
              "0  BHARTIARTL.NS  2021-07-05 09:15:00+05:30\n",
              "1    EXIDEIND.NS  2021-07-05 09:15:00+05:30\n",
              "2        HDFC.NS  2021-07-05 09:15:00+05:30\n",
              "3   LICHSGFIN.NS  2021-07-05 09:15:00+05:30\n",
              "4      NAUKRI.NS  2021-07-05 09:15:00+05:30\n",
              "5  ULTRACEMCO.NS  2021-07-05 09:15:00+05:30\n",
              "6        ZEEL.NS  2021-07-05 09:15:00+05:30\n",
              "7     PAGEIND.NS  2021-07-05 09:15:00+05:30\n",
              "8  MCDOWELL-N.NS  2021-07-05 09:15:00+05:30"
            ]
          },
          "metadata": {
            "tags": []
          },
          "execution_count": 18
        }
      ]
    }
  ]
}