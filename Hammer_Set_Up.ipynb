{
  "nbformat": 4,
  "nbformat_minor": 0,
  "metadata": {
    "colab": {
      "name": "Hammer_Set_Up.ipynb",
      "provenance": [],
      "collapsed_sections": [
        "DN-eUjd48ToC",
        "SSrCUB1dXcUw",
        "g45IDqXUQ4T7"
      ]
    },
    "kernelspec": {
      "name": "python3",
      "display_name": "Python 3"
    },
    "language_info": {
      "name": "python"
    },
    "widgets": {
      "application/vnd.jupyter.widget-state+json": {
        "29c736fbb0ba4f2781005b66856eb5ff": {
          "model_module": "@jupyter-widgets/controls",
          "model_name": "HBoxModel",
          "state": {
            "_view_name": "HBoxView",
            "_dom_classes": [],
            "_model_name": "HBoxModel",
            "_view_module": "@jupyter-widgets/controls",
            "_model_module_version": "1.5.0",
            "_view_count": null,
            "_view_module_version": "1.5.0",
            "box_style": "",
            "layout": "IPY_MODEL_e1cbbae1a48549c8bc377cd504825553",
            "_model_module": "@jupyter-widgets/controls",
            "children": [
              "IPY_MODEL_c684173749ce455e979382d87d713db4",
              "IPY_MODEL_d0fe8d06b6474957819f041b07e81d61"
            ]
          },
          "model_module_version": "1.5.0"
        },
        "e1cbbae1a48549c8bc377cd504825553": {
          "model_module": "@jupyter-widgets/base",
          "model_name": "LayoutModel",
          "state": {
            "_view_name": "LayoutView",
            "grid_template_rows": null,
            "right": null,
            "justify_content": null,
            "_view_module": "@jupyter-widgets/base",
            "overflow": null,
            "_model_module_version": "1.2.0",
            "_view_count": null,
            "flex_flow": null,
            "width": null,
            "min_width": null,
            "border": null,
            "align_items": null,
            "bottom": null,
            "_model_module": "@jupyter-widgets/base",
            "top": null,
            "grid_column": null,
            "overflow_y": null,
            "overflow_x": null,
            "grid_auto_flow": null,
            "grid_area": null,
            "grid_template_columns": null,
            "flex": null,
            "_model_name": "LayoutModel",
            "justify_items": null,
            "grid_row": null,
            "max_height": null,
            "align_content": null,
            "visibility": null,
            "align_self": null,
            "height": null,
            "min_height": null,
            "padding": null,
            "grid_auto_rows": null,
            "grid_gap": null,
            "max_width": null,
            "order": null,
            "_view_module_version": "1.2.0",
            "grid_template_areas": null,
            "object_position": null,
            "object_fit": null,
            "grid_auto_columns": null,
            "margin": null,
            "display": null,
            "left": null
          },
          "model_module_version": "1.2.0"
        },
        "c684173749ce455e979382d87d713db4": {
          "model_module": "@jupyter-widgets/controls",
          "model_name": "FloatProgressModel",
          "state": {
            "_view_name": "ProgressView",
            "style": "IPY_MODEL_b77c17f44dcd44508ce4b63c66a43fd9",
            "_dom_classes": [],
            "description": "100%",
            "_model_name": "FloatProgressModel",
            "bar_style": "success",
            "max": 1319,
            "_view_module": "@jupyter-widgets/controls",
            "_model_module_version": "1.5.0",
            "value": 1319,
            "_view_count": null,
            "_view_module_version": "1.5.0",
            "orientation": "horizontal",
            "min": 0,
            "description_tooltip": null,
            "_model_module": "@jupyter-widgets/controls",
            "layout": "IPY_MODEL_51dfc01b22bc42eb837353e8b9cfb6e4"
          },
          "model_module_version": "1.5.0"
        },
        "d0fe8d06b6474957819f041b07e81d61": {
          "model_module": "@jupyter-widgets/controls",
          "model_name": "HTMLModel",
          "state": {
            "_view_name": "HTMLView",
            "style": "IPY_MODEL_9f8affc832a3418ca9ef496638bf8541",
            "_dom_classes": [],
            "description": "",
            "_model_name": "HTMLModel",
            "placeholder": "​",
            "_view_module": "@jupyter-widgets/controls",
            "_model_module_version": "1.5.0",
            "value": " 1319/1319 [29:47&lt;00:00,  1.35s/it]",
            "_view_count": null,
            "_view_module_version": "1.5.0",
            "description_tooltip": null,
            "_model_module": "@jupyter-widgets/controls",
            "layout": "IPY_MODEL_3148249a95e5410497b40f57fe0ef7d1"
          },
          "model_module_version": "1.5.0"
        },
        "b77c17f44dcd44508ce4b63c66a43fd9": {
          "model_module": "@jupyter-widgets/controls",
          "model_name": "ProgressStyleModel",
          "state": {
            "_view_name": "StyleView",
            "_model_name": "ProgressStyleModel",
            "description_width": "initial",
            "_view_module": "@jupyter-widgets/base",
            "_model_module_version": "1.5.0",
            "_view_count": null,
            "_view_module_version": "1.2.0",
            "bar_color": null,
            "_model_module": "@jupyter-widgets/controls"
          },
          "model_module_version": "1.5.0"
        },
        "51dfc01b22bc42eb837353e8b9cfb6e4": {
          "model_module": "@jupyter-widgets/base",
          "model_name": "LayoutModel",
          "state": {
            "_view_name": "LayoutView",
            "grid_template_rows": null,
            "right": null,
            "justify_content": null,
            "_view_module": "@jupyter-widgets/base",
            "overflow": null,
            "_model_module_version": "1.2.0",
            "_view_count": null,
            "flex_flow": null,
            "width": null,
            "min_width": null,
            "border": null,
            "align_items": null,
            "bottom": null,
            "_model_module": "@jupyter-widgets/base",
            "top": null,
            "grid_column": null,
            "overflow_y": null,
            "overflow_x": null,
            "grid_auto_flow": null,
            "grid_area": null,
            "grid_template_columns": null,
            "flex": null,
            "_model_name": "LayoutModel",
            "justify_items": null,
            "grid_row": null,
            "max_height": null,
            "align_content": null,
            "visibility": null,
            "align_self": null,
            "height": null,
            "min_height": null,
            "padding": null,
            "grid_auto_rows": null,
            "grid_gap": null,
            "max_width": null,
            "order": null,
            "_view_module_version": "1.2.0",
            "grid_template_areas": null,
            "object_position": null,
            "object_fit": null,
            "grid_auto_columns": null,
            "margin": null,
            "display": null,
            "left": null
          },
          "model_module_version": "1.2.0"
        },
        "9f8affc832a3418ca9ef496638bf8541": {
          "model_module": "@jupyter-widgets/controls",
          "model_name": "DescriptionStyleModel",
          "state": {
            "_view_name": "StyleView",
            "_model_name": "DescriptionStyleModel",
            "description_width": "",
            "_view_module": "@jupyter-widgets/base",
            "_model_module_version": "1.5.0",
            "_view_count": null,
            "_view_module_version": "1.2.0",
            "_model_module": "@jupyter-widgets/controls"
          },
          "model_module_version": "1.5.0"
        },
        "3148249a95e5410497b40f57fe0ef7d1": {
          "model_module": "@jupyter-widgets/base",
          "model_name": "LayoutModel",
          "state": {
            "_view_name": "LayoutView",
            "grid_template_rows": null,
            "right": null,
            "justify_content": null,
            "_view_module": "@jupyter-widgets/base",
            "overflow": null,
            "_model_module_version": "1.2.0",
            "_view_count": null,
            "flex_flow": null,
            "width": null,
            "min_width": null,
            "border": null,
            "align_items": null,
            "bottom": null,
            "_model_module": "@jupyter-widgets/base",
            "top": null,
            "grid_column": null,
            "overflow_y": null,
            "overflow_x": null,
            "grid_auto_flow": null,
            "grid_area": null,
            "grid_template_columns": null,
            "flex": null,
            "_model_name": "LayoutModel",
            "justify_items": null,
            "grid_row": null,
            "max_height": null,
            "align_content": null,
            "visibility": null,
            "align_self": null,
            "height": null,
            "min_height": null,
            "padding": null,
            "grid_auto_rows": null,
            "grid_gap": null,
            "max_width": null,
            "order": null,
            "_view_module_version": "1.2.0",
            "grid_template_areas": null,
            "object_position": null,
            "object_fit": null,
            "grid_auto_columns": null,
            "margin": null,
            "display": null,
            "left": null
          },
          "model_module_version": "1.2.0"
        },
        "39ac00292f564fd48687d9be19d6d0f9": {
          "model_module": "@jupyter-widgets/controls",
          "model_name": "HBoxModel",
          "model_module_version": "1.5.0",
          "state": {
            "_view_name": "HBoxView",
            "_dom_classes": [],
            "_model_name": "HBoxModel",
            "_view_module": "@jupyter-widgets/controls",
            "_model_module_version": "1.5.0",
            "_view_count": null,
            "_view_module_version": "1.5.0",
            "box_style": "",
            "layout": "IPY_MODEL_06ae74e554f24a37882adc1fd8431a44",
            "_model_module": "@jupyter-widgets/controls",
            "children": [
              "IPY_MODEL_3665a1e8eeef439e9e2e5e5a79452d03",
              "IPY_MODEL_8aa007eec680403f95b925c700221a5f",
              "IPY_MODEL_8137288f1b4d4f2fa27a299c6f592a6c"
            ]
          }
        },
        "06ae74e554f24a37882adc1fd8431a44": {
          "model_module": "@jupyter-widgets/base",
          "model_name": "LayoutModel",
          "model_module_version": "1.2.0",
          "state": {
            "_view_name": "LayoutView",
            "grid_template_rows": null,
            "right": null,
            "justify_content": null,
            "_view_module": "@jupyter-widgets/base",
            "overflow": null,
            "_model_module_version": "1.2.0",
            "_view_count": null,
            "flex_flow": null,
            "width": null,
            "min_width": null,
            "border": null,
            "align_items": null,
            "bottom": null,
            "_model_module": "@jupyter-widgets/base",
            "top": null,
            "grid_column": null,
            "overflow_y": null,
            "overflow_x": null,
            "grid_auto_flow": null,
            "grid_area": null,
            "grid_template_columns": null,
            "flex": null,
            "_model_name": "LayoutModel",
            "justify_items": null,
            "grid_row": null,
            "max_height": null,
            "align_content": null,
            "visibility": null,
            "align_self": null,
            "height": null,
            "min_height": null,
            "padding": null,
            "grid_auto_rows": null,
            "grid_gap": null,
            "max_width": null,
            "order": null,
            "_view_module_version": "1.2.0",
            "grid_template_areas": null,
            "object_position": null,
            "object_fit": null,
            "grid_auto_columns": null,
            "margin": null,
            "display": null,
            "left": null
          }
        },
        "3665a1e8eeef439e9e2e5e5a79452d03": {
          "model_module": "@jupyter-widgets/controls",
          "model_name": "HTMLModel",
          "model_module_version": "1.5.0",
          "state": {
            "_view_name": "HTMLView",
            "style": "IPY_MODEL_875f2857e8974494be7db8cb32fc29c6",
            "_dom_classes": [],
            "description": "",
            "_model_name": "HTMLModel",
            "placeholder": "​",
            "_view_module": "@jupyter-widgets/controls",
            "_model_module_version": "1.5.0",
            "value": "100%",
            "_view_count": null,
            "_view_module_version": "1.5.0",
            "description_tooltip": null,
            "_model_module": "@jupyter-widgets/controls",
            "layout": "IPY_MODEL_8ca49fdcc91147258390cddb6b47b88b"
          }
        },
        "8aa007eec680403f95b925c700221a5f": {
          "model_module": "@jupyter-widgets/controls",
          "model_name": "FloatProgressModel",
          "model_module_version": "1.5.0",
          "state": {
            "_view_name": "ProgressView",
            "style": "IPY_MODEL_a3aae770e7e24440aa11fa994fa6c118",
            "_dom_classes": [],
            "description": "",
            "_model_name": "FloatProgressModel",
            "bar_style": "success",
            "max": 137,
            "_view_module": "@jupyter-widgets/controls",
            "_model_module_version": "1.5.0",
            "value": 137,
            "_view_count": null,
            "_view_module_version": "1.5.0",
            "orientation": "horizontal",
            "min": 0,
            "description_tooltip": null,
            "_model_module": "@jupyter-widgets/controls",
            "layout": "IPY_MODEL_9f51a364b88d485b8d04346756ae3484"
          }
        },
        "8137288f1b4d4f2fa27a299c6f592a6c": {
          "model_module": "@jupyter-widgets/controls",
          "model_name": "HTMLModel",
          "model_module_version": "1.5.0",
          "state": {
            "_view_name": "HTMLView",
            "style": "IPY_MODEL_72df2b1cef5c459186f2c6793dd51b1a",
            "_dom_classes": [],
            "description": "",
            "_model_name": "HTMLModel",
            "placeholder": "​",
            "_view_module": "@jupyter-widgets/controls",
            "_model_module_version": "1.5.0",
            "value": " 137/137 [00:29&lt;00:00,  4.95it/s]",
            "_view_count": null,
            "_view_module_version": "1.5.0",
            "description_tooltip": null,
            "_model_module": "@jupyter-widgets/controls",
            "layout": "IPY_MODEL_3cebb615a4af4b818683ed7e719ef711"
          }
        },
        "875f2857e8974494be7db8cb32fc29c6": {
          "model_module": "@jupyter-widgets/controls",
          "model_name": "DescriptionStyleModel",
          "model_module_version": "1.5.0",
          "state": {
            "_view_name": "StyleView",
            "_model_name": "DescriptionStyleModel",
            "description_width": "",
            "_view_module": "@jupyter-widgets/base",
            "_model_module_version": "1.5.0",
            "_view_count": null,
            "_view_module_version": "1.2.0",
            "_model_module": "@jupyter-widgets/controls"
          }
        },
        "8ca49fdcc91147258390cddb6b47b88b": {
          "model_module": "@jupyter-widgets/base",
          "model_name": "LayoutModel",
          "model_module_version": "1.2.0",
          "state": {
            "_view_name": "LayoutView",
            "grid_template_rows": null,
            "right": null,
            "justify_content": null,
            "_view_module": "@jupyter-widgets/base",
            "overflow": null,
            "_model_module_version": "1.2.0",
            "_view_count": null,
            "flex_flow": null,
            "width": null,
            "min_width": null,
            "border": null,
            "align_items": null,
            "bottom": null,
            "_model_module": "@jupyter-widgets/base",
            "top": null,
            "grid_column": null,
            "overflow_y": null,
            "overflow_x": null,
            "grid_auto_flow": null,
            "grid_area": null,
            "grid_template_columns": null,
            "flex": null,
            "_model_name": "LayoutModel",
            "justify_items": null,
            "grid_row": null,
            "max_height": null,
            "align_content": null,
            "visibility": null,
            "align_self": null,
            "height": null,
            "min_height": null,
            "padding": null,
            "grid_auto_rows": null,
            "grid_gap": null,
            "max_width": null,
            "order": null,
            "_view_module_version": "1.2.0",
            "grid_template_areas": null,
            "object_position": null,
            "object_fit": null,
            "grid_auto_columns": null,
            "margin": null,
            "display": null,
            "left": null
          }
        },
        "a3aae770e7e24440aa11fa994fa6c118": {
          "model_module": "@jupyter-widgets/controls",
          "model_name": "ProgressStyleModel",
          "model_module_version": "1.5.0",
          "state": {
            "_view_name": "StyleView",
            "_model_name": "ProgressStyleModel",
            "description_width": "",
            "_view_module": "@jupyter-widgets/base",
            "_model_module_version": "1.5.0",
            "_view_count": null,
            "_view_module_version": "1.2.0",
            "bar_color": null,
            "_model_module": "@jupyter-widgets/controls"
          }
        },
        "9f51a364b88d485b8d04346756ae3484": {
          "model_module": "@jupyter-widgets/base",
          "model_name": "LayoutModel",
          "model_module_version": "1.2.0",
          "state": {
            "_view_name": "LayoutView",
            "grid_template_rows": null,
            "right": null,
            "justify_content": null,
            "_view_module": "@jupyter-widgets/base",
            "overflow": null,
            "_model_module_version": "1.2.0",
            "_view_count": null,
            "flex_flow": null,
            "width": null,
            "min_width": null,
            "border": null,
            "align_items": null,
            "bottom": null,
            "_model_module": "@jupyter-widgets/base",
            "top": null,
            "grid_column": null,
            "overflow_y": null,
            "overflow_x": null,
            "grid_auto_flow": null,
            "grid_area": null,
            "grid_template_columns": null,
            "flex": null,
            "_model_name": "LayoutModel",
            "justify_items": null,
            "grid_row": null,
            "max_height": null,
            "align_content": null,
            "visibility": null,
            "align_self": null,
            "height": null,
            "min_height": null,
            "padding": null,
            "grid_auto_rows": null,
            "grid_gap": null,
            "max_width": null,
            "order": null,
            "_view_module_version": "1.2.0",
            "grid_template_areas": null,
            "object_position": null,
            "object_fit": null,
            "grid_auto_columns": null,
            "margin": null,
            "display": null,
            "left": null
          }
        },
        "72df2b1cef5c459186f2c6793dd51b1a": {
          "model_module": "@jupyter-widgets/controls",
          "model_name": "DescriptionStyleModel",
          "model_module_version": "1.5.0",
          "state": {
            "_view_name": "StyleView",
            "_model_name": "DescriptionStyleModel",
            "description_width": "",
            "_view_module": "@jupyter-widgets/base",
            "_model_module_version": "1.5.0",
            "_view_count": null,
            "_view_module_version": "1.2.0",
            "_model_module": "@jupyter-widgets/controls"
          }
        },
        "3cebb615a4af4b818683ed7e719ef711": {
          "model_module": "@jupyter-widgets/base",
          "model_name": "LayoutModel",
          "model_module_version": "1.2.0",
          "state": {
            "_view_name": "LayoutView",
            "grid_template_rows": null,
            "right": null,
            "justify_content": null,
            "_view_module": "@jupyter-widgets/base",
            "overflow": null,
            "_model_module_version": "1.2.0",
            "_view_count": null,
            "flex_flow": null,
            "width": null,
            "min_width": null,
            "border": null,
            "align_items": null,
            "bottom": null,
            "_model_module": "@jupyter-widgets/base",
            "top": null,
            "grid_column": null,
            "overflow_y": null,
            "overflow_x": null,
            "grid_auto_flow": null,
            "grid_area": null,
            "grid_template_columns": null,
            "flex": null,
            "_model_name": "LayoutModel",
            "justify_items": null,
            "grid_row": null,
            "max_height": null,
            "align_content": null,
            "visibility": null,
            "align_self": null,
            "height": null,
            "min_height": null,
            "padding": null,
            "grid_auto_rows": null,
            "grid_gap": null,
            "max_width": null,
            "order": null,
            "_view_module_version": "1.2.0",
            "grid_template_areas": null,
            "object_position": null,
            "object_fit": null,
            "grid_auto_columns": null,
            "margin": null,
            "display": null,
            "left": null
          }
        }
      }
    }
  },
  "cells": [
    {
      "cell_type": "code",
      "metadata": {
        "colab": {
          "base_uri": "https://localhost:8080/"
        },
        "id": "V1FGtjJSsyd9",
        "outputId": "6cfc4f43-f1e7-4328-bf99-02b80a633eb6"
      },
      "source": [
        "!pip install yfinance\n",
        "import pandas as pd \n",
        "import yfinance as yf # import libraries\n",
        "import numpy as np\n",
        "import matplotlib.pyplot as plt\n",
        "plt.style.use('seaborn')\n",
        "import warnings\n",
        "warnings.filterwarnings('ignore')\n",
        "# from IPython.display import FileLink\n",
        "from google.colab import files\n",
        "import tqdm.notebook as tq"
      ],
      "execution_count": null,
      "outputs": [
        {
          "output_type": "stream",
          "name": "stdout",
          "text": [
            "Collecting yfinance\n",
            "  Downloading yfinance-0.1.67-py2.py3-none-any.whl (25 kB)\n",
            "Requirement already satisfied: pandas>=0.24 in /usr/local/lib/python3.7/dist-packages (from yfinance) (1.1.5)\n",
            "Requirement already satisfied: requests>=2.20 in /usr/local/lib/python3.7/dist-packages (from yfinance) (2.23.0)\n",
            "Collecting lxml>=4.5.1\n",
            "  Downloading lxml-4.7.1-cp37-cp37m-manylinux_2_17_x86_64.manylinux2014_x86_64.manylinux_2_24_x86_64.whl (6.4 MB)\n",
            "\u001b[K     |████████████████████████████████| 6.4 MB 10.1 MB/s \n",
            "\u001b[?25hRequirement already satisfied: numpy>=1.15 in /usr/local/lib/python3.7/dist-packages (from yfinance) (1.19.5)\n",
            "Requirement already satisfied: multitasking>=0.0.7 in /usr/local/lib/python3.7/dist-packages (from yfinance) (0.0.10)\n",
            "Requirement already satisfied: python-dateutil>=2.7.3 in /usr/local/lib/python3.7/dist-packages (from pandas>=0.24->yfinance) (2.8.2)\n",
            "Requirement already satisfied: pytz>=2017.2 in /usr/local/lib/python3.7/dist-packages (from pandas>=0.24->yfinance) (2018.9)\n",
            "Requirement already satisfied: six>=1.5 in /usr/local/lib/python3.7/dist-packages (from python-dateutil>=2.7.3->pandas>=0.24->yfinance) (1.15.0)\n",
            "Requirement already satisfied: urllib3!=1.25.0,!=1.25.1,<1.26,>=1.21.1 in /usr/local/lib/python3.7/dist-packages (from requests>=2.20->yfinance) (1.24.3)\n",
            "Requirement already satisfied: idna<3,>=2.5 in /usr/local/lib/python3.7/dist-packages (from requests>=2.20->yfinance) (2.10)\n",
            "Requirement already satisfied: chardet<4,>=3.0.2 in /usr/local/lib/python3.7/dist-packages (from requests>=2.20->yfinance) (3.0.4)\n",
            "Requirement already satisfied: certifi>=2017.4.17 in /usr/local/lib/python3.7/dist-packages (from requests>=2.20->yfinance) (2021.10.8)\n",
            "Installing collected packages: lxml, yfinance\n",
            "  Attempting uninstall: lxml\n",
            "    Found existing installation: lxml 4.2.6\n",
            "    Uninstalling lxml-4.2.6:\n",
            "      Successfully uninstalled lxml-4.2.6\n",
            "Successfully installed lxml-4.7.1 yfinance-0.1.67\n"
          ]
        }
      ]
    },
    {
      "cell_type": "code",
      "metadata": {
        "id": "k1ZzFwP5uqb8",
        "colab": {
          "base_uri": "https://localhost:8080/"
        },
        "outputId": "08c263ec-1901-4d9e-e2aa-d3c11a55ab81"
      },
      "source": [
        "data = yf.download('^NSEI', \n",
        "                   start='2021-01-20', \n",
        "                   end='2021-12-01')"
      ],
      "execution_count": null,
      "outputs": [
        {
          "output_type": "stream",
          "name": "stdout",
          "text": [
            "\r[*********************100%***********************]  1 of 1 completed\n"
          ]
        }
      ]
    },
    {
      "cell_type": "code",
      "metadata": {
        "colab": {
          "base_uri": "https://localhost:8080/"
        },
        "id": "P1GoqL5ZEP72",
        "outputId": "41e64d09-6137-4d86-ad17-e366bad53215"
      },
      "source": [
        "# !pip install ipython-autotime\n",
        "# %load_ext autotime"
      ],
      "execution_count": null,
      "outputs": [
        {
          "output_type": "stream",
          "name": "stdout",
          "text": [
            "time: 1.03 ms (started: 2021-12-18 14:20:05 +00:00)\n"
          ]
        }
      ]
    },
    {
      "cell_type": "markdown",
      "metadata": {
        "id": "HULcN_FHtaKO"
      },
      "source": [
        "# HAMMER SET UP\n",
        "The hammer should have no upper shadow, but can have an upper shadow if it is relatively small.\n",
        "\n",
        "The real body should be at the top of the candlestick trading range. This real body can be bullish or bearish, but preferably bullish.\n",
        "\n",
        "The lower shadow should be at least twice the height of the real body.\n",
        "\n",
        "The lower shadow must be at least 2 times the height of the real body.\n",
        "\n",
        "The trend over the past 3 trading sessions is downward.\n",
        "\n",
        "A suggested confirmation candle closes higher than the hammer's close and an uptrend starts.\n",
        "\n",
        "![image.png](data:image/png;base64,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)"
      ]
    },
    {
      "cell_type": "code",
      "metadata": {
        "id": "R78utje5sphg",
        "colab": {
          "base_uri": "https://localhost:8080/"
        },
        "outputId": "c7de110c-cc8e-448f-a0fe-3a53e2244f82"
      },
      "source": [
        "data = yf.download('HDFC.NS', \n",
        "                   start='2010-01-01', \n",
        "                   end='2022-01-01',\n",
        "                   progress=False)\n",
        "data=data.reset_index()\n",
        "data['Pre Close']=data['Close'].shift(1)\n",
        "data['Pre Open']=data['Open'].shift(1)\n",
        "data['Gap']=['Up' if data['Open'][i] > data['Pre Close'][i] else 'Down' if data['Open'][i] < data['Pre Close'][i] else 'Flat' for i in range(0,len(data))]\n",
        "data['Color'] = ['Red' if data['Open'][i] > data['Close'][i] else 'Green' if data['Open'][i] < data['Close'][i] else 'Neutral' for i in range(0,len(data))]\n",
        "data['Downshadow'] = [data['Open'][i] - data['Low'][i] if data['Color'][i] == 'Green' else data['Close'][i] - data['Low'][i] if data['Color'][i] == 'Red' else 0 for i in range(0,len(data))]\n",
        "data['Upshadow'] = [data['High'][i] - data['Close'][i] if data['Color'][i] == 'Green' else data['High'][i] - data['Open'][i] if data['Color'][i] == 'Red' else 0 for i in range(0,len(data))]\n",
        "data['Body'] =[abs(data['Close'][i] - data['Open'][i]) for i in range(0,len(data))]\n",
        "data['Candle']=['Hammer' if data['Downshadow'][i] > 2* data['Body'][i] and data['Downshadow'][i] > 4*data['Upshadow'][i]  and data['Open'][i] < data['Pre Open'][i] and  data['Close'][i] < data['Pre Open'][i] else 'Normal' for i in range(0,len(data))]"
      ],
      "execution_count": null,
      "outputs": [
        {
          "output_type": "stream",
          "name": "stdout",
          "text": [
            "time: 565 ms (started: 2021-12-18 14:21:01 +00:00)\n"
          ]
        }
      ]
    },
    {
      "cell_type": "markdown",
      "metadata": {
        "id": "0PO3_l7B2IXs"
      },
      "source": [
        "Check all hammers "
      ]
    },
    {
      "cell_type": "code",
      "metadata": {
        "colab": {
          "base_uri": "https://localhost:8080/",
          "height": 560
        },
        "id": "0CYHKxF_yRP8",
        "outputId": "1fe93c14-8b9c-448e-817f-4c267f049199"
      },
      "source": [
        "df=data[data['Candle']=='Hammer']\n",
        "import plotly.graph_objects as go\n",
        "fig = go.Figure(data=go.Candlestick(x=df['Date'],\n",
        "                open=df['Open'],\n",
        "                high=df['High'],\n",
        "                low=df['Low'],\n",
        "                close=df['Close']))\n",
        "fig.update(layout_xaxis_rangeslider_visible=False)\n",
        "fig.show()\n",
        "# ZOOM THE CHART WITH OPTION"
      ],
      "execution_count": null,
      "outputs": [
        {
          "output_type": "display_data",
          "data": {
            "text/html": [
              "<html>\n",
              "<head><meta charset=\"utf-8\" /></head>\n",
              "<body>\n",
              "    <div>\n",
              "            <script src=\"https://cdnjs.cloudflare.com/ajax/libs/mathjax/2.7.5/MathJax.js?config=TeX-AMS-MML_SVG\"></script><script type=\"text/javascript\">if (window.MathJax) {MathJax.Hub.Config({SVG: {font: \"STIX-Web\"}});}</script>\n",
              "                <script type=\"text/javascript\">window.PlotlyConfig = {MathJaxConfig: 'local'};</script>\n",
              "        <script src=\"https://cdn.plot.ly/plotly-latest.min.js\"></script>    \n",
              "            <div id=\"98a1feee-25f8-4be1-84d0-b3c7c01b1555\" class=\"plotly-graph-div\" style=\"height:525px; width:100%;\"></div>\n",
              "            <script type=\"text/javascript\">\n",
              "                \n",
              "                    window.PLOTLYENV=window.PLOTLYENV || {};\n",
              "                    \n",
              "                if (document.getElementById(\"98a1feee-25f8-4be1-84d0-b3c7c01b1555\")) {\n",
              "                    Plotly.newPlot(\n",
              "                        '98a1feee-25f8-4be1-84d0-b3c7c01b1555',\n",
              "                        [{\"close\": [539.27001953125, 481.739990234375, 725.4500122070312, 688.5, 666.0999755859375, 694.2000122070312, 634.4500122070312, 626.0999755859375, 618.25, 688.9000244140625, 677.7999877929688, 639.5999755859375, 749.9500122070312, 740.2000122070312, 793.1500244140625, 877.2999877929688, 803.9500122070312, 797.7999877929688, 1060.8499755859375, 1205.1500244140625, 1393.449951171875, 1392.050048828125, 1704.5, 1973.8499755859375, 1935.949951171875, 1946.300048828125, 2181.949951171875, 2232.800048828125, 2182.300048828125, 1664.1500244140625, 1886.75, 1787.800048828125, 1800.550048828125, 2289.10009765625, 2657.5, 2531.449951171875, 2438.699951171875, 2509.199951171875, 2501.199951171875, 2425.800048828125, 2774.35009765625, 2822.89990234375], \"high\": [540.0, 488.3599853515625, 730.0, 692.7999877929688, 668.0999755859375, 696.9000244140625, 635.0999755859375, 630.0, 624.4000244140625, 692.0, 680.5499877929688, 640.9500122070312, 775.7999877929688, 742.0, 795.9000244140625, 882.1500244140625, 808.5499877929688, 800.1500244140625, 1065.4000244140625, 1209.4000244140625, 1399.199951171875, 1398.4000244140625, 1710.0, 1982.0, 1942.449951171875, 1953.3499755859375, 2188.10009765625, 2248.85009765625, 2187.699951171875, 1679.0, 1892.3499755859375, 1794.699951171875, 1807.8499755859375, 2303.0, 2674.39990234375, 2536.949951171875, 2448.0, 2515.0, 2510.0, 2432.449951171875, 2780.699951171875, 2827.949951171875], \"low\": [532.25, 389.92999267578125, 714.2000122070312, 671.5, 656.0, 683.3499755859375, 617.2999877929688, 607.0999755859375, 600.2999877929688, 680.0, 672.9500122070312, 635.2999877929688, 631.25, 732.6500244140625, 765.8499755859375, 863.0999755859375, 796.4000244140625, 777.5, 1046.199951171875, 1189.25, 1381.800048828125, 1372.5999755859375, 1682.25, 1957.0999755859375, 1908.050048828125, 1930.8499755859375, 2162.0, 2197.25, 2152.0, 1626.1500244140625, 1857.0, 1750.0, 1783.8499755859375, 2267.0, 2631.0, 2480.0, 2407.5, 2482.0, 2476.89990234375, 2380.0, 2724.75, 2800.0], \"open\": [540.0, 485.0199890136719, 730.0, 689.6500244140625, 665.0999755859375, 695.0, 630.5499877929688, 623.0, 620.0, 691.0, 679.5, 640.5, 775.7999877929688, 740.4500122070312, 784.7000122070312, 880.0, 807.0, 793.25, 1065.0, 1206.199951171875, 1396.9000244140625, 1398.4000244140625, 1705.0, 1980.5, 1940.9000244140625, 1950.4000244140625, 2187.5, 2248.85009765625, 2183.89990234375, 1669.699951171875, 1880.0, 1792.0, 1805.0, 2300.0, 2668.0, 2524.0, 2448.0, 2511.0, 2510.0, 2417.10009765625, 2760.0, 2825.0], \"type\": \"candlestick\", \"x\": [\"2010-01-06T00:00:00\", \"2010-01-22T00:00:00\", \"2010-11-09T00:00:00\", \"2010-12-16T00:00:00\", \"2011-05-11T00:00:00\", \"2011-07-13T00:00:00\", \"2011-10-03T00:00:00\", \"2011-11-24T00:00:00\", \"2011-12-19T00:00:00\", \"2012-02-01T00:00:00\", \"2012-04-16T00:00:00\", \"2012-06-04T00:00:00\", \"2012-10-05T00:00:00\", \"2012-10-15T00:00:00\", \"2012-11-15T00:00:00\", \"2013-05-10T00:00:00\", \"2013-09-17T00:00:00\", \"2013-10-07T00:00:00\", \"2016-02-19T00:00:00\", \"2016-06-15T00:00:00\", \"2016-09-30T00:00:00\", \"2017-02-13T00:00:00\", \"2017-12-14T00:00:00\", \"2018-07-20T00:00:00\", \"2018-08-31T00:00:00\", \"2019-03-26T00:00:00\", \"2019-06-12T00:00:00\", \"2019-07-09T00:00:00\", \"2019-08-08T00:00:00\", \"2020-04-22T00:00:00\", \"2020-07-07T00:00:00\", \"2020-07-16T00:00:00\", \"2020-08-17T00:00:00\", \"2020-12-10T00:00:00\", \"2021-01-08T00:00:00\", \"2021-04-01T00:00:00\", \"2021-05-12T00:00:00\", \"2021-06-25T00:00:00\", \"2021-06-29T00:00:00\", \"2021-07-28T00:00:00\", \"2021-09-21T00:00:00\", \"2021-10-19T00:00:00\"]}],\n",
              "                        {\"template\": {\"data\": {\"bar\": [{\"error_x\": {\"color\": \"#2a3f5f\"}, \"error_y\": {\"color\": \"#2a3f5f\"}, \"marker\": {\"line\": {\"color\": \"#E5ECF6\", \"width\": 0.5}}, \"type\": \"bar\"}], \"barpolar\": [{\"marker\": {\"line\": {\"color\": \"#E5ECF6\", \"width\": 0.5}}, \"type\": \"barpolar\"}], \"carpet\": [{\"aaxis\": {\"endlinecolor\": \"#2a3f5f\", \"gridcolor\": \"white\", \"linecolor\": \"white\", \"minorgridcolor\": \"white\", \"startlinecolor\": \"#2a3f5f\"}, \"baxis\": {\"endlinecolor\": \"#2a3f5f\", \"gridcolor\": \"white\", \"linecolor\": \"white\", \"minorgridcolor\": \"white\", \"startlinecolor\": \"#2a3f5f\"}, \"type\": \"carpet\"}], \"choropleth\": [{\"colorbar\": {\"outlinewidth\": 0, \"ticks\": \"\"}, \"type\": \"choropleth\"}], \"contour\": [{\"colorbar\": {\"outlinewidth\": 0, \"ticks\": \"\"}, \"colorscale\": [[0.0, \"#0d0887\"], [0.1111111111111111, \"#46039f\"], [0.2222222222222222, \"#7201a8\"], [0.3333333333333333, \"#9c179e\"], [0.4444444444444444, \"#bd3786\"], [0.5555555555555556, \"#d8576b\"], [0.6666666666666666, \"#ed7953\"], [0.7777777777777778, \"#fb9f3a\"], [0.8888888888888888, \"#fdca26\"], [1.0, \"#f0f921\"]], \"type\": \"contour\"}], \"contourcarpet\": [{\"colorbar\": {\"outlinewidth\": 0, \"ticks\": \"\"}, \"type\": \"contourcarpet\"}], \"heatmap\": [{\"colorbar\": {\"outlinewidth\": 0, \"ticks\": \"\"}, \"colorscale\": [[0.0, \"#0d0887\"], [0.1111111111111111, \"#46039f\"], [0.2222222222222222, \"#7201a8\"], [0.3333333333333333, \"#9c179e\"], [0.4444444444444444, \"#bd3786\"], [0.5555555555555556, \"#d8576b\"], [0.6666666666666666, \"#ed7953\"], [0.7777777777777778, \"#fb9f3a\"], [0.8888888888888888, \"#fdca26\"], [1.0, \"#f0f921\"]], \"type\": \"heatmap\"}], \"heatmapgl\": [{\"colorbar\": {\"outlinewidth\": 0, \"ticks\": \"\"}, \"colorscale\": [[0.0, \"#0d0887\"], [0.1111111111111111, \"#46039f\"], [0.2222222222222222, \"#7201a8\"], [0.3333333333333333, \"#9c179e\"], [0.4444444444444444, \"#bd3786\"], [0.5555555555555556, \"#d8576b\"], [0.6666666666666666, \"#ed7953\"], [0.7777777777777778, \"#fb9f3a\"], [0.8888888888888888, \"#fdca26\"], [1.0, \"#f0f921\"]], \"type\": \"heatmapgl\"}], \"histogram\": [{\"marker\": {\"colorbar\": {\"outlinewidth\": 0, \"ticks\": \"\"}}, \"type\": \"histogram\"}], \"histogram2d\": [{\"colorbar\": {\"outlinewidth\": 0, \"ticks\": \"\"}, \"colorscale\": [[0.0, \"#0d0887\"], [0.1111111111111111, \"#46039f\"], [0.2222222222222222, \"#7201a8\"], [0.3333333333333333, \"#9c179e\"], [0.4444444444444444, \"#bd3786\"], [0.5555555555555556, \"#d8576b\"], [0.6666666666666666, \"#ed7953\"], [0.7777777777777778, \"#fb9f3a\"], [0.8888888888888888, \"#fdca26\"], [1.0, \"#f0f921\"]], \"type\": \"histogram2d\"}], \"histogram2dcontour\": [{\"colorbar\": {\"outlinewidth\": 0, \"ticks\": \"\"}, \"colorscale\": [[0.0, \"#0d0887\"], [0.1111111111111111, \"#46039f\"], [0.2222222222222222, \"#7201a8\"], [0.3333333333333333, \"#9c179e\"], [0.4444444444444444, \"#bd3786\"], [0.5555555555555556, \"#d8576b\"], [0.6666666666666666, \"#ed7953\"], [0.7777777777777778, \"#fb9f3a\"], [0.8888888888888888, \"#fdca26\"], [1.0, \"#f0f921\"]], \"type\": \"histogram2dcontour\"}], \"mesh3d\": [{\"colorbar\": {\"outlinewidth\": 0, \"ticks\": \"\"}, \"type\": \"mesh3d\"}], \"parcoords\": [{\"line\": {\"colorbar\": {\"outlinewidth\": 0, \"ticks\": \"\"}}, \"type\": \"parcoords\"}], \"pie\": [{\"automargin\": true, \"type\": \"pie\"}], \"scatter\": [{\"marker\": {\"colorbar\": {\"outlinewidth\": 0, \"ticks\": \"\"}}, \"type\": \"scatter\"}], \"scatter3d\": [{\"line\": {\"colorbar\": {\"outlinewidth\": 0, \"ticks\": \"\"}}, \"marker\": {\"colorbar\": {\"outlinewidth\": 0, \"ticks\": \"\"}}, \"type\": \"scatter3d\"}], \"scattercarpet\": [{\"marker\": {\"colorbar\": {\"outlinewidth\": 0, \"ticks\": \"\"}}, \"type\": \"scattercarpet\"}], \"scattergeo\": [{\"marker\": {\"colorbar\": {\"outlinewidth\": 0, \"ticks\": \"\"}}, \"type\": \"scattergeo\"}], \"scattergl\": [{\"marker\": {\"colorbar\": {\"outlinewidth\": 0, \"ticks\": \"\"}}, \"type\": \"scattergl\"}], \"scattermapbox\": [{\"marker\": {\"colorbar\": {\"outlinewidth\": 0, \"ticks\": \"\"}}, \"type\": \"scattermapbox\"}], \"scatterpolar\": [{\"marker\": {\"colorbar\": {\"outlinewidth\": 0, \"ticks\": \"\"}}, \"type\": \"scatterpolar\"}], \"scatterpolargl\": [{\"marker\": {\"colorbar\": {\"outlinewidth\": 0, \"ticks\": \"\"}}, \"type\": \"scatterpolargl\"}], \"scatterternary\": [{\"marker\": {\"colorbar\": {\"outlinewidth\": 0, \"ticks\": \"\"}}, \"type\": \"scatterternary\"}], \"surface\": [{\"colorbar\": {\"outlinewidth\": 0, \"ticks\": \"\"}, \"colorscale\": [[0.0, \"#0d0887\"], [0.1111111111111111, \"#46039f\"], [0.2222222222222222, \"#7201a8\"], [0.3333333333333333, \"#9c179e\"], [0.4444444444444444, \"#bd3786\"], [0.5555555555555556, \"#d8576b\"], [0.6666666666666666, \"#ed7953\"], [0.7777777777777778, \"#fb9f3a\"], [0.8888888888888888, \"#fdca26\"], [1.0, \"#f0f921\"]], \"type\": \"surface\"}], \"table\": [{\"cells\": {\"fill\": {\"color\": \"#EBF0F8\"}, \"line\": {\"color\": \"white\"}}, \"header\": {\"fill\": {\"color\": \"#C8D4E3\"}, \"line\": {\"color\": \"white\"}}, \"type\": \"table\"}]}, \"layout\": {\"annotationdefaults\": {\"arrowcolor\": \"#2a3f5f\", \"arrowhead\": 0, \"arrowwidth\": 1}, \"coloraxis\": {\"colorbar\": {\"outlinewidth\": 0, \"ticks\": \"\"}}, \"colorscale\": {\"diverging\": [[0, \"#8e0152\"], [0.1, \"#c51b7d\"], [0.2, \"#de77ae\"], [0.3, \"#f1b6da\"], [0.4, \"#fde0ef\"], [0.5, \"#f7f7f7\"], [0.6, \"#e6f5d0\"], [0.7, \"#b8e186\"], [0.8, \"#7fbc41\"], [0.9, \"#4d9221\"], [1, \"#276419\"]], \"sequential\": [[0.0, \"#0d0887\"], [0.1111111111111111, \"#46039f\"], [0.2222222222222222, \"#7201a8\"], [0.3333333333333333, \"#9c179e\"], [0.4444444444444444, \"#bd3786\"], [0.5555555555555556, \"#d8576b\"], [0.6666666666666666, \"#ed7953\"], [0.7777777777777778, \"#fb9f3a\"], [0.8888888888888888, \"#fdca26\"], [1.0, \"#f0f921\"]], \"sequentialminus\": [[0.0, \"#0d0887\"], [0.1111111111111111, \"#46039f\"], [0.2222222222222222, \"#7201a8\"], [0.3333333333333333, \"#9c179e\"], [0.4444444444444444, \"#bd3786\"], [0.5555555555555556, \"#d8576b\"], [0.6666666666666666, \"#ed7953\"], [0.7777777777777778, \"#fb9f3a\"], [0.8888888888888888, \"#fdca26\"], [1.0, \"#f0f921\"]]}, \"colorway\": [\"#636efa\", \"#EF553B\", \"#00cc96\", \"#ab63fa\", \"#FFA15A\", \"#19d3f3\", \"#FF6692\", \"#B6E880\", \"#FF97FF\", \"#FECB52\"], \"font\": {\"color\": \"#2a3f5f\"}, \"geo\": {\"bgcolor\": \"white\", \"lakecolor\": \"white\", \"landcolor\": \"#E5ECF6\", \"showlakes\": true, \"showland\": true, \"subunitcolor\": \"white\"}, \"hoverlabel\": {\"align\": \"left\"}, \"hovermode\": \"closest\", \"mapbox\": {\"style\": \"light\"}, \"paper_bgcolor\": \"white\", \"plot_bgcolor\": \"#E5ECF6\", \"polar\": {\"angularaxis\": {\"gridcolor\": \"white\", \"linecolor\": \"white\", \"ticks\": \"\"}, \"bgcolor\": \"#E5ECF6\", \"radialaxis\": {\"gridcolor\": \"white\", \"linecolor\": \"white\", \"ticks\": \"\"}}, \"scene\": {\"xaxis\": {\"backgroundcolor\": \"#E5ECF6\", \"gridcolor\": \"white\", \"gridwidth\": 2, \"linecolor\": \"white\", \"showbackground\": true, \"ticks\": \"\", \"zerolinecolor\": \"white\"}, \"yaxis\": {\"backgroundcolor\": \"#E5ECF6\", \"gridcolor\": \"white\", \"gridwidth\": 2, \"linecolor\": \"white\", \"showbackground\": true, \"ticks\": \"\", \"zerolinecolor\": \"white\"}, \"zaxis\": {\"backgroundcolor\": \"#E5ECF6\", \"gridcolor\": \"white\", \"gridwidth\": 2, \"linecolor\": \"white\", \"showbackground\": true, \"ticks\": \"\", \"zerolinecolor\": \"white\"}}, \"shapedefaults\": {\"line\": {\"color\": \"#2a3f5f\"}}, \"ternary\": {\"aaxis\": {\"gridcolor\": \"white\", \"linecolor\": \"white\", \"ticks\": \"\"}, \"baxis\": {\"gridcolor\": \"white\", \"linecolor\": \"white\", \"ticks\": \"\"}, \"bgcolor\": \"#E5ECF6\", \"caxis\": {\"gridcolor\": \"white\", \"linecolor\": \"white\", \"ticks\": \"\"}}, \"title\": {\"x\": 0.05}, \"xaxis\": {\"automargin\": true, \"gridcolor\": \"white\", \"linecolor\": \"white\", \"ticks\": \"\", \"title\": {\"standoff\": 15}, \"zerolinecolor\": \"white\", \"zerolinewidth\": 2}, \"yaxis\": {\"automargin\": true, \"gridcolor\": \"white\", \"linecolor\": \"white\", \"ticks\": \"\", \"title\": {\"standoff\": 15}, \"zerolinecolor\": \"white\", \"zerolinewidth\": 2}}}, \"xaxis\": {\"rangeslider\": {\"visible\": false}}},\n",
              "                        {\"responsive\": true}\n",
              "                    ).then(function(){\n",
              "                            \n",
              "var gd = document.getElementById('98a1feee-25f8-4be1-84d0-b3c7c01b1555');\n",
              "var x = new MutationObserver(function (mutations, observer) {{\n",
              "        var display = window.getComputedStyle(gd).display;\n",
              "        if (!display || display === 'none') {{\n",
              "            console.log([gd, 'removed!']);\n",
              "            Plotly.purge(gd);\n",
              "            observer.disconnect();\n",
              "        }}\n",
              "}});\n",
              "\n",
              "// Listen for the removal of the full notebook cells\n",
              "var notebookContainer = gd.closest('#notebook-container');\n",
              "if (notebookContainer) {{\n",
              "    x.observe(notebookContainer, {childList: true});\n",
              "}}\n",
              "\n",
              "// Listen for the clearing of the current output cell\n",
              "var outputEl = gd.closest('.output');\n",
              "if (outputEl) {{\n",
              "    x.observe(outputEl, {childList: true});\n",
              "}}\n",
              "\n",
              "                        })\n",
              "                };\n",
              "                \n",
              "            </script>\n",
              "        </div>\n",
              "</body>\n",
              "</html>"
            ]
          },
          "metadata": {}
        },
        {
          "output_type": "stream",
          "name": "stdout",
          "text": [
            "time: 1.25 s (started: 2021-12-18 14:21:09 +00:00)\n"
          ]
        }
      ]
    },
    {
      "cell_type": "markdown",
      "metadata": {
        "id": "bJdfHh6KyRYX"
      },
      "source": [
        "The trend over the past 3 trading sessions is downward"
      ]
    },
    {
      "cell_type": "code",
      "metadata": {
        "id": "74pfEuu6yRnM",
        "colab": {
          "base_uri": "https://localhost:8080/"
        },
        "outputId": "7eac55a5-a97c-4093-8901-81431d2c9e21"
      },
      "source": [
        "data['Close Diff']=data['Close'].diff()\n",
        "\n",
        "value=[]\n",
        "for i in range(0,len(data)):\n",
        "  try:\n",
        "    if data['Close Diff'][i-1] < 0 and data['Close Diff'][i-2] < 0 and data['Close Diff'][i-3] < 0:\n",
        "      value.append('Triple Down')\n",
        "    else:\n",
        "      value.append('Normal')\n",
        "  except:\n",
        "    value.append('Normal')\n",
        "    \n",
        "data['Down Trend']=value"
      ],
      "execution_count": null,
      "outputs": [
        {
          "output_type": "stream",
          "name": "stdout",
          "text": [
            "time: 36.5 ms (started: 2021-12-18 14:22:09 +00:00)\n"
          ]
        }
      ]
    },
    {
      "cell_type": "markdown",
      "metadata": {
        "id": "IJiSx_DJ4eug"
      },
      "source": [
        "Now, Consider only hammers which has last 3 down trend and next candle close higher than hammer's candle close."
      ]
    },
    {
      "cell_type": "code",
      "metadata": {
        "id": "UC9g0RTj4e0g",
        "colab": {
          "base_uri": "https://localhost:8080/"
        },
        "outputId": "fde2da2c-5348-41f5-b940-3502750f2299"
      },
      "source": [
        "data['Post Close']=data['Close'].shift(-1)"
      ],
      "execution_count": null,
      "outputs": [
        {
          "output_type": "stream",
          "name": "stdout",
          "text": [
            "time: 2.64 ms (started: 2021-12-18 14:22:14 +00:00)\n"
          ]
        }
      ]
    },
    {
      "cell_type": "markdown",
      "metadata": {
        "id": "h1rPcnQq9tY5"
      },
      "source": [
        "I am adding one more condition that the post candle to hammer should open gap up."
      ]
    },
    {
      "cell_type": "code",
      "metadata": {
        "id": "dzBLhlqH9vGc",
        "colab": {
          "base_uri": "https://localhost:8080/"
        },
        "outputId": "b875b847-f946-4c36-8d5d-c18e4c9fb5dc"
      },
      "source": [
        "data['Post Gap']=data['Gap'].shift(-1)\n",
        "data['Post Color']=data['Color'].shift(-1)\n"
      ],
      "execution_count": null,
      "outputs": [
        {
          "output_type": "stream",
          "name": "stdout",
          "text": [
            "time: 4.05 ms (started: 2021-12-18 14:22:18 +00:00)\n"
          ]
        }
      ]
    },
    {
      "cell_type": "code",
      "metadata": {
        "id": "sBQ2omx66mth",
        "colab": {
          "base_uri": "https://localhost:8080/"
        },
        "outputId": "58fc9b57-87a2-4310-9bd3-51000791d550"
      },
      "source": [
        "hammer=data[data['Candle']=='Hammer']\n",
        "hammer=hammer[hammer['Down Trend']=='Triple Down']\n",
        "hammer=hammer[hammer['Post Close'] > hammer['Close']]\n",
        "hammer=hammer[hammer['Post Gap']=='Up']\n",
        "hammer=hammer[hammer['Post Color']=='Green']\n",
        "\n",
        "hammer.reset_index(inplace=True,drop=True)"
      ],
      "execution_count": null,
      "outputs": [
        {
          "output_type": "stream",
          "name": "stdout",
          "text": [
            "time: 12.7 ms (started: 2021-12-18 14:22:50 +00:00)\n"
          ]
        }
      ]
    },
    {
      "cell_type": "code",
      "metadata": {
        "colab": {
          "base_uri": "https://localhost:8080/",
          "height": 560
        },
        "id": "3x9KibNa4e5s",
        "outputId": "b3972cc1-c948-42e0-cf53-350805780af3"
      },
      "source": [
        "import plotly.graph_objects as go\n",
        "df=hammer.copy()\n",
        "fig = go.Figure(data=go.Candlestick(x=df['Date'],\n",
        "                open=df['Open'],\n",
        "                high=df['High'],\n",
        "                low=df['Low'],\n",
        "                close=df['Close']))\n",
        "fig.update(layout_xaxis_rangeslider_visible=False)\n",
        "fig.show()"
      ],
      "execution_count": null,
      "outputs": [
        {
          "output_type": "display_data",
          "data": {
            "text/html": [
              "<html>\n",
              "<head><meta charset=\"utf-8\" /></head>\n",
              "<body>\n",
              "    <div>\n",
              "            <script src=\"https://cdnjs.cloudflare.com/ajax/libs/mathjax/2.7.5/MathJax.js?config=TeX-AMS-MML_SVG\"></script><script type=\"text/javascript\">if (window.MathJax) {MathJax.Hub.Config({SVG: {font: \"STIX-Web\"}});}</script>\n",
              "                <script type=\"text/javascript\">window.PlotlyConfig = {MathJaxConfig: 'local'};</script>\n",
              "        <script src=\"https://cdn.plot.ly/plotly-latest.min.js\"></script>    \n",
              "            <div id=\"6c3ae5ee-0c8a-40dd-89f3-bc567cb7c7b8\" class=\"plotly-graph-div\" style=\"height:525px; width:100%;\"></div>\n",
              "            <script type=\"text/javascript\">\n",
              "                \n",
              "                    window.PLOTLYENV=window.PLOTLYENV || {};\n",
              "                    \n",
              "                if (document.getElementById(\"6c3ae5ee-0c8a-40dd-89f3-bc567cb7c7b8\")) {\n",
              "                    Plotly.newPlot(\n",
              "                        '6c3ae5ee-0c8a-40dd-89f3-bc567cb7c7b8',\n",
              "                        [{\"close\": [639.5999755859375, 1392.050048828125, 1787.800048828125, 1800.550048828125], \"high\": [640.9500122070312, 1398.4000244140625, 1794.699951171875, 1807.8499755859375], \"low\": [635.2999877929688, 1372.5999755859375, 1750.0, 1783.8499755859375], \"open\": [640.5, 1398.4000244140625, 1792.0, 1805.0], \"type\": \"candlestick\", \"x\": [\"2012-06-04T00:00:00\", \"2017-02-13T00:00:00\", \"2020-07-16T00:00:00\", \"2020-08-17T00:00:00\"]}],\n",
              "                        {\"template\": {\"data\": {\"bar\": [{\"error_x\": {\"color\": \"#2a3f5f\"}, \"error_y\": {\"color\": \"#2a3f5f\"}, \"marker\": {\"line\": {\"color\": \"#E5ECF6\", \"width\": 0.5}}, \"type\": \"bar\"}], \"barpolar\": [{\"marker\": {\"line\": {\"color\": \"#E5ECF6\", \"width\": 0.5}}, \"type\": \"barpolar\"}], \"carpet\": [{\"aaxis\": {\"endlinecolor\": \"#2a3f5f\", \"gridcolor\": \"white\", \"linecolor\": \"white\", \"minorgridcolor\": \"white\", \"startlinecolor\": \"#2a3f5f\"}, \"baxis\": {\"endlinecolor\": \"#2a3f5f\", \"gridcolor\": \"white\", \"linecolor\": \"white\", \"minorgridcolor\": \"white\", \"startlinecolor\": \"#2a3f5f\"}, \"type\": \"carpet\"}], \"choropleth\": [{\"colorbar\": {\"outlinewidth\": 0, \"ticks\": \"\"}, \"type\": \"choropleth\"}], \"contour\": [{\"colorbar\": {\"outlinewidth\": 0, \"ticks\": \"\"}, \"colorscale\": [[0.0, \"#0d0887\"], [0.1111111111111111, \"#46039f\"], [0.2222222222222222, \"#7201a8\"], [0.3333333333333333, \"#9c179e\"], [0.4444444444444444, \"#bd3786\"], [0.5555555555555556, \"#d8576b\"], [0.6666666666666666, \"#ed7953\"], [0.7777777777777778, \"#fb9f3a\"], [0.8888888888888888, \"#fdca26\"], [1.0, \"#f0f921\"]], \"type\": \"contour\"}], \"contourcarpet\": [{\"colorbar\": {\"outlinewidth\": 0, \"ticks\": \"\"}, \"type\": \"contourcarpet\"}], \"heatmap\": [{\"colorbar\": {\"outlinewidth\": 0, \"ticks\": \"\"}, \"colorscale\": [[0.0, \"#0d0887\"], [0.1111111111111111, \"#46039f\"], [0.2222222222222222, \"#7201a8\"], [0.3333333333333333, \"#9c179e\"], [0.4444444444444444, \"#bd3786\"], [0.5555555555555556, \"#d8576b\"], [0.6666666666666666, \"#ed7953\"], [0.7777777777777778, \"#fb9f3a\"], [0.8888888888888888, \"#fdca26\"], [1.0, \"#f0f921\"]], \"type\": \"heatmap\"}], \"heatmapgl\": [{\"colorbar\": {\"outlinewidth\": 0, \"ticks\": \"\"}, \"colorscale\": [[0.0, \"#0d0887\"], [0.1111111111111111, \"#46039f\"], [0.2222222222222222, \"#7201a8\"], [0.3333333333333333, \"#9c179e\"], [0.4444444444444444, \"#bd3786\"], [0.5555555555555556, \"#d8576b\"], [0.6666666666666666, \"#ed7953\"], [0.7777777777777778, \"#fb9f3a\"], [0.8888888888888888, \"#fdca26\"], [1.0, \"#f0f921\"]], \"type\": \"heatmapgl\"}], \"histogram\": [{\"marker\": {\"colorbar\": {\"outlinewidth\": 0, \"ticks\": \"\"}}, \"type\": \"histogram\"}], \"histogram2d\": [{\"colorbar\": {\"outlinewidth\": 0, \"ticks\": \"\"}, \"colorscale\": [[0.0, \"#0d0887\"], [0.1111111111111111, \"#46039f\"], [0.2222222222222222, \"#7201a8\"], [0.3333333333333333, \"#9c179e\"], [0.4444444444444444, \"#bd3786\"], [0.5555555555555556, \"#d8576b\"], [0.6666666666666666, \"#ed7953\"], [0.7777777777777778, \"#fb9f3a\"], [0.8888888888888888, \"#fdca26\"], [1.0, \"#f0f921\"]], \"type\": \"histogram2d\"}], \"histogram2dcontour\": [{\"colorbar\": {\"outlinewidth\": 0, \"ticks\": \"\"}, \"colorscale\": [[0.0, \"#0d0887\"], [0.1111111111111111, \"#46039f\"], [0.2222222222222222, \"#7201a8\"], [0.3333333333333333, \"#9c179e\"], [0.4444444444444444, \"#bd3786\"], [0.5555555555555556, \"#d8576b\"], [0.6666666666666666, \"#ed7953\"], [0.7777777777777778, \"#fb9f3a\"], [0.8888888888888888, \"#fdca26\"], [1.0, \"#f0f921\"]], \"type\": \"histogram2dcontour\"}], \"mesh3d\": [{\"colorbar\": {\"outlinewidth\": 0, \"ticks\": \"\"}, \"type\": \"mesh3d\"}], \"parcoords\": [{\"line\": {\"colorbar\": {\"outlinewidth\": 0, \"ticks\": \"\"}}, \"type\": \"parcoords\"}], \"pie\": [{\"automargin\": true, \"type\": \"pie\"}], \"scatter\": [{\"marker\": {\"colorbar\": {\"outlinewidth\": 0, \"ticks\": \"\"}}, \"type\": \"scatter\"}], \"scatter3d\": [{\"line\": {\"colorbar\": {\"outlinewidth\": 0, \"ticks\": \"\"}}, \"marker\": {\"colorbar\": {\"outlinewidth\": 0, \"ticks\": \"\"}}, \"type\": \"scatter3d\"}], \"scattercarpet\": [{\"marker\": {\"colorbar\": {\"outlinewidth\": 0, \"ticks\": \"\"}}, \"type\": \"scattercarpet\"}], \"scattergeo\": [{\"marker\": {\"colorbar\": {\"outlinewidth\": 0, \"ticks\": \"\"}}, \"type\": \"scattergeo\"}], \"scattergl\": [{\"marker\": {\"colorbar\": {\"outlinewidth\": 0, \"ticks\": \"\"}}, \"type\": \"scattergl\"}], \"scattermapbox\": [{\"marker\": {\"colorbar\": {\"outlinewidth\": 0, \"ticks\": \"\"}}, \"type\": \"scattermapbox\"}], \"scatterpolar\": [{\"marker\": {\"colorbar\": {\"outlinewidth\": 0, \"ticks\": \"\"}}, \"type\": \"scatterpolar\"}], \"scatterpolargl\": [{\"marker\": {\"colorbar\": {\"outlinewidth\": 0, \"ticks\": \"\"}}, \"type\": \"scatterpolargl\"}], \"scatterternary\": [{\"marker\": {\"colorbar\": {\"outlinewidth\": 0, \"ticks\": \"\"}}, \"type\": \"scatterternary\"}], \"surface\": [{\"colorbar\": {\"outlinewidth\": 0, \"ticks\": \"\"}, \"colorscale\": [[0.0, \"#0d0887\"], [0.1111111111111111, \"#46039f\"], [0.2222222222222222, \"#7201a8\"], [0.3333333333333333, \"#9c179e\"], [0.4444444444444444, \"#bd3786\"], [0.5555555555555556, \"#d8576b\"], [0.6666666666666666, \"#ed7953\"], [0.7777777777777778, \"#fb9f3a\"], [0.8888888888888888, \"#fdca26\"], [1.0, \"#f0f921\"]], \"type\": \"surface\"}], \"table\": [{\"cells\": {\"fill\": {\"color\": \"#EBF0F8\"}, \"line\": {\"color\": \"white\"}}, \"header\": {\"fill\": {\"color\": \"#C8D4E3\"}, \"line\": {\"color\": \"white\"}}, \"type\": \"table\"}]}, \"layout\": {\"annotationdefaults\": {\"arrowcolor\": \"#2a3f5f\", \"arrowhead\": 0, \"arrowwidth\": 1}, \"coloraxis\": {\"colorbar\": {\"outlinewidth\": 0, \"ticks\": \"\"}}, \"colorscale\": {\"diverging\": [[0, \"#8e0152\"], [0.1, \"#c51b7d\"], [0.2, \"#de77ae\"], [0.3, \"#f1b6da\"], [0.4, \"#fde0ef\"], [0.5, \"#f7f7f7\"], [0.6, \"#e6f5d0\"], [0.7, \"#b8e186\"], [0.8, \"#7fbc41\"], [0.9, \"#4d9221\"], [1, \"#276419\"]], \"sequential\": [[0.0, \"#0d0887\"], [0.1111111111111111, \"#46039f\"], [0.2222222222222222, \"#7201a8\"], [0.3333333333333333, \"#9c179e\"], [0.4444444444444444, \"#bd3786\"], [0.5555555555555556, \"#d8576b\"], [0.6666666666666666, \"#ed7953\"], [0.7777777777777778, \"#fb9f3a\"], [0.8888888888888888, \"#fdca26\"], [1.0, \"#f0f921\"]], \"sequentialminus\": [[0.0, \"#0d0887\"], [0.1111111111111111, \"#46039f\"], [0.2222222222222222, \"#7201a8\"], [0.3333333333333333, \"#9c179e\"], [0.4444444444444444, \"#bd3786\"], [0.5555555555555556, \"#d8576b\"], [0.6666666666666666, \"#ed7953\"], [0.7777777777777778, \"#fb9f3a\"], [0.8888888888888888, \"#fdca26\"], [1.0, \"#f0f921\"]]}, \"colorway\": [\"#636efa\", \"#EF553B\", \"#00cc96\", \"#ab63fa\", \"#FFA15A\", \"#19d3f3\", \"#FF6692\", \"#B6E880\", \"#FF97FF\", \"#FECB52\"], \"font\": {\"color\": \"#2a3f5f\"}, \"geo\": {\"bgcolor\": \"white\", \"lakecolor\": \"white\", \"landcolor\": \"#E5ECF6\", \"showlakes\": true, \"showland\": true, \"subunitcolor\": \"white\"}, \"hoverlabel\": {\"align\": \"left\"}, \"hovermode\": \"closest\", \"mapbox\": {\"style\": \"light\"}, \"paper_bgcolor\": \"white\", \"plot_bgcolor\": \"#E5ECF6\", \"polar\": {\"angularaxis\": {\"gridcolor\": \"white\", \"linecolor\": \"white\", \"ticks\": \"\"}, \"bgcolor\": \"#E5ECF6\", \"radialaxis\": {\"gridcolor\": \"white\", \"linecolor\": \"white\", \"ticks\": \"\"}}, \"scene\": {\"xaxis\": {\"backgroundcolor\": \"#E5ECF6\", \"gridcolor\": \"white\", \"gridwidth\": 2, \"linecolor\": \"white\", \"showbackground\": true, \"ticks\": \"\", \"zerolinecolor\": \"white\"}, \"yaxis\": {\"backgroundcolor\": \"#E5ECF6\", \"gridcolor\": \"white\", \"gridwidth\": 2, \"linecolor\": \"white\", \"showbackground\": true, \"ticks\": \"\", \"zerolinecolor\": \"white\"}, \"zaxis\": {\"backgroundcolor\": \"#E5ECF6\", \"gridcolor\": \"white\", \"gridwidth\": 2, \"linecolor\": \"white\", \"showbackground\": true, \"ticks\": \"\", \"zerolinecolor\": \"white\"}}, \"shapedefaults\": {\"line\": {\"color\": \"#2a3f5f\"}}, \"ternary\": {\"aaxis\": {\"gridcolor\": \"white\", \"linecolor\": \"white\", \"ticks\": \"\"}, \"baxis\": {\"gridcolor\": \"white\", \"linecolor\": \"white\", \"ticks\": \"\"}, \"bgcolor\": \"#E5ECF6\", \"caxis\": {\"gridcolor\": \"white\", \"linecolor\": \"white\", \"ticks\": \"\"}}, \"title\": {\"x\": 0.05}, \"xaxis\": {\"automargin\": true, \"gridcolor\": \"white\", \"linecolor\": \"white\", \"ticks\": \"\", \"title\": {\"standoff\": 15}, \"zerolinecolor\": \"white\", \"zerolinewidth\": 2}, \"yaxis\": {\"automargin\": true, \"gridcolor\": \"white\", \"linecolor\": \"white\", \"ticks\": \"\", \"title\": {\"standoff\": 15}, \"zerolinecolor\": \"white\", \"zerolinewidth\": 2}}}, \"xaxis\": {\"rangeslider\": {\"visible\": false}}},\n",
              "                        {\"responsive\": true}\n",
              "                    ).then(function(){\n",
              "                            \n",
              "var gd = document.getElementById('6c3ae5ee-0c8a-40dd-89f3-bc567cb7c7b8');\n",
              "var x = new MutationObserver(function (mutations, observer) {{\n",
              "        var display = window.getComputedStyle(gd).display;\n",
              "        if (!display || display === 'none') {{\n",
              "            console.log([gd, 'removed!']);\n",
              "            Plotly.purge(gd);\n",
              "            observer.disconnect();\n",
              "        }}\n",
              "}});\n",
              "\n",
              "// Listen for the removal of the full notebook cells\n",
              "var notebookContainer = gd.closest('#notebook-container');\n",
              "if (notebookContainer) {{\n",
              "    x.observe(notebookContainer, {childList: true});\n",
              "}}\n",
              "\n",
              "// Listen for the clearing of the current output cell\n",
              "var outputEl = gd.closest('.output');\n",
              "if (outputEl) {{\n",
              "    x.observe(outputEl, {childList: true});\n",
              "}}\n",
              "\n",
              "                        })\n",
              "                };\n",
              "                \n",
              "            </script>\n",
              "        </div>\n",
              "</body>\n",
              "</html>"
            ]
          },
          "metadata": {}
        },
        {
          "output_type": "stream",
          "name": "stdout",
          "text": [
            "time: 196 ms (started: 2021-12-18 14:22:53 +00:00)\n"
          ]
        }
      ]
    },
    {
      "cell_type": "markdown",
      "metadata": {
        "id": "EoxCrQ7r8BOr"
      },
      "source": [
        "Lets check the same date on trading view to confirm the code logic was written as per statement.\n",
        "\n",
        "Will also check that the hammer set up was able to change the trend or not.\n",
        "\n",
        "Make Sure to keep Stop Loss. This will protect us from the huge loss.\n",
        "\n",
        "[TRADING VIEW](https://in.tradingview.com)"
      ]
    },
    {
      "cell_type": "markdown",
      "metadata": {
        "id": "DN-eUjd48ToC"
      },
      "source": [
        "# RESULTS\n",
        "Can Take Intraday benefits or can also hold for week to get more benefit. Suggested 1 week holding."
      ]
    },
    {
      "cell_type": "markdown",
      "metadata": {
        "id": "PAzkyuQ3_Mav"
      },
      "source": [
        "![image.png](data:image/png;base64,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)"
      ]
    },
    {
      "cell_type": "markdown",
      "metadata": {
        "id": "88tNAYCHARB7"
      },
      "source": [
        "# LETS CREATE A SCANNER WHICH WILL SCAN 135 FNO NSE STOCK"
      ]
    },
    {
      "cell_type": "markdown",
      "metadata": {
        "id": "2mFrPujOAy53"
      },
      "source": [
        "I have a .csv file with 135 FNO Stock ticker naming"
      ]
    },
    {
      "cell_type": "code",
      "metadata": {
        "colab": {
          "base_uri": "https://localhost:8080/"
        },
        "id": "_i-Mg8mmBKYi",
        "outputId": "b46f688a-6a05-493e-84e0-7a996827435c"
      },
      "source": [
        "from google.colab import drive\n",
        "drive.mount(\"/content/gdrive\")"
      ],
      "execution_count": null,
      "outputs": [
        {
          "output_type": "stream",
          "name": "stdout",
          "text": [
            "Mounted at /content/gdrive\n",
            "time: 27.1 s (started: 2021-12-18 14:23:30 +00:00)\n"
          ]
        }
      ]
    },
    {
      "cell_type": "code",
      "metadata": {
        "colab": {
          "base_uri": "https://localhost:8080/"
        },
        "id": "K9Cz6zfPBjK3",
        "outputId": "43dba0d2-80c0-4bbf-a44d-0614fc107daf"
      },
      "source": [
        "%cd '/content/gdrive/MyDrive/SASH/'\n",
        "nse=pd.read_csv('ALL_FNO.csv')"
      ],
      "execution_count": null,
      "outputs": [
        {
          "output_type": "stream",
          "name": "stdout",
          "text": [
            "/content/gdrive/MyDrive/SASH\n",
            "time: 459 ms (started: 2021-12-18 14:24:07 +00:00)\n"
          ]
        }
      ]
    },
    {
      "cell_type": "code",
      "metadata": {
        "colab": {
          "base_uri": "https://localhost:8080/"
        },
        "id": "WJh1wlHnBtZk",
        "outputId": "7d25ccfe-81c0-4f13-8ccc-9915813e28ef"
      },
      "source": [
        "def scanner(Stock,Start,End):\n",
        "  data = yf.download(Stock, \n",
        "                        start=Start, \n",
        "                        end=End,\n",
        "                        progress=False,\n",
        "                        interval='15m')\n",
        "  data=data.reset_index()\n",
        "  data['Pre Close']=data['Close'].shift(1)\n",
        "  data['Pre Open']=data['Open'].shift(1)\n",
        "  data['Gap']=['Up' if data['Open'][i] > data['Pre Close'][i] else 'Down' if data['Open'][i] < data['Pre Close'][i] else 'Flat' for i in range(0,len(data))]\n",
        "  data['Color'] = ['Red' if data['Open'][i] > data['Close'][i] else 'Green' if data['Open'][i] < data['Close'][i] else 'Neutral' for i in range(0,len(data))]\n",
        "  data['Downshadow'] = [data['Open'][i] - data['Low'][i] if data['Color'][i] == 'Green' else data['Close'][i] - data['Low'][i] if data['Color'][i] == 'Red' else 0 for i in range(0,len(data))]\n",
        "  data['Upshadow'] = [data['High'][i] - data['Close'][i] if data['Color'][i] == 'Green' else data['High'][i] - data['Open'][i] if data['Color'][i] == 'Red' else 0 for i in range(0,len(data))]\n",
        "  data['Body'] =[abs(data['Close'][i] - data['Open'][i]) for i in range(0,len(data))]\n",
        "  data['Candle']=['Hammer' if data['Downshadow'][i] > 2* data['Body'][i] and data['Downshadow'][i] > 4*data['Upshadow'][i]  and data['Open'][i] < data['Pre Open'][i] and  data['Close'][i] < data['Pre Open'][i] else 'Normal' for i in range(0,len(data))]\n",
        "  data['Close Diff']=data['Close'].diff()\n",
        "  data['Close Diff1']=data['Close Diff'].shift(1)\n",
        "  data['Close Diff2']=data['Close Diff'].shift(2)\n",
        "  data['Close Diff3']=data['Close Diff'].shift(3)\n",
        "  data['Down Trend']=['Triple Down' if data['Close Diff1'][i] < 0 and data['Close Diff2'][i] < 0 and data['Close Diff3'][i] < 0 else 'Normal' for i in range(0,len(data))]\n",
        "  data['Post Close']=data['Close'].shift(-1)\n",
        "  #add for money calculation\n",
        "  data['Post Close2']=data['Close'].shift(-2)\n",
        "  data['Post Open']=data['Open'].shift(-1) \n",
        "  data['Post Open2']=data['Open'].shift(-2) \n",
        "  # Continue\n",
        "  data['Post Color']=data['Color'].shift(-1)\n",
        "  data['Post Gap']=data['Gap'].shift(-1)\n",
        "  # additional condition, pre greater than 1.3times post\n",
        "  data['condition']=['Yes' if (abs(data['Pre Open'][i] - data['Pre Close'][i])) > 1.3*(abs(data['Post Close'][i] - data['Post Open'][i])) else 'No' for i in range(0,len(data))]\n",
        "  hammer=data[data['Candle']=='Hammer']\n",
        "  hammer=hammer[hammer['Down Trend']=='Triple Down']\n",
        "  #  slice as per condition pre and post greater than\n",
        "  hammer=hammer[hammer['condition']=='Yes']\n",
        "  hammer=hammer[hammer['Post Open2'] > hammer['Post Close']]\n",
        "  # hash for now\n",
        "  hammer=hammer[hammer['Post Color']=='Green']\n",
        "  hammer=hammer[hammer['Post Close'] > hammer['High']]\n",
        "  hammer=hammer[hammer['Post Gap']=='Up']\n",
        "  hammer.reset_index(inplace=True,drop=True)\n",
        "  # hammer['Date']=hammer['Date'].astype('str')\n",
        "  # added p/l and money\n",
        "  hammer['P/L']=hammer['Post Close2'] - hammer['Post Open2']\n",
        "  money=sum(round(100000/hammer['Post Open2']) * hammer['P/L']) - len(hammer) * 85\n",
        "  trades=len(hammer)\n",
        "  # return list(hammer['Date'])\n",
        "  # return list(hammer['Datetime'])\n",
        "  return list(hammer['Datetime']),int(trades),int(money)"
      ],
      "execution_count": null,
      "outputs": [
        {
          "output_type": "stream",
          "name": "stdout",
          "text": [
            "time: 77.6 ms (started: 2021-12-18 14:28:06 +00:00)\n"
          ]
        }
      ]
    },
    {
      "cell_type": "code",
      "metadata": {
        "colab": {
          "base_uri": "https://localhost:8080/"
        },
        "id": "A9yA4DTprn6I",
        "outputId": "2af06ab7-74e7-430b-a6f9-40f78fa70bf2"
      },
      "source": [
        "onestock=scanner('HINDALCO.NS', '2021-11-01','2021-12-01')\n",
        "onestock"
      ],
      "execution_count": null,
      "outputs": [
        {
          "output_type": "execute_result",
          "data": {
            "text/plain": [
              "([], 0, 0)"
            ]
          },
          "metadata": {},
          "execution_count": 23
        },
        {
          "output_type": "stream",
          "name": "stdout",
          "text": [
            "time: 217 ms (started: 2021-12-18 14:28:07 +00:00)\n"
          ]
        }
      ]
    },
    {
      "cell_type": "code",
      "metadata": {
        "colab": {
          "base_uri": "https://localhost:8080/",
          "height": 298,
          "referenced_widgets": [
            "39ac00292f564fd48687d9be19d6d0f9",
            "06ae74e554f24a37882adc1fd8431a44",
            "3665a1e8eeef439e9e2e5e5a79452d03",
            "8aa007eec680403f95b925c700221a5f",
            "8137288f1b4d4f2fa27a299c6f592a6c",
            "875f2857e8974494be7db8cb32fc29c6",
            "8ca49fdcc91147258390cddb6b47b88b",
            "a3aae770e7e24440aa11fa994fa6c118",
            "9f51a364b88d485b8d04346756ae3484",
            "72df2b1cef5c459186f2c6793dd51b1a",
            "3cebb615a4af4b818683ed7e719ef711"
          ]
        },
        "id": "13XiPICUYnxJ",
        "outputId": "5e2b2cf2-2601-4a75-d97e-0f417fd5486a"
      },
      "source": [
        "stocks={}\n",
        "for i in tq.tqdm(nse['Symbol']):\n",
        "  stocks[i]=scanner(i, '2021-12-01','2021-12-18')\n",
        "# final=pd.DataFrame()\n",
        "# final['Stock']=stocks.keys()\n",
        "# final['Dates']=stocks.values()\n",
        "# final['Dates']=final['Dates'].astype(str)\n",
        "# final=final[final['Dates'] != '[]']\n",
        "# final.reset_index(inplace=True,drop=True)\n",
        "# print('\\n')\n",
        "# print('Trades:',len(final))\n",
        "# final\n",
        "selected_stocks=pd.DataFrame.from_dict(stocks,orient='index',columns=['Dates','Trades','Money'])\n",
        "selected_stocks=selected_stocks.reset_index()\n",
        "selected_stocks=selected_stocks.rename(columns={'index':'Stock'})\n",
        "print('\\n')\n",
        "print('Money:',sum(selected_stocks['Money']))\n",
        "print('Trades:',sum(selected_stocks['Trades']))\n",
        "selected_stocks=selected_stocks[selected_stocks['Trades'] != 0]\n",
        "selected_stocks"
      ],
      "execution_count": null,
      "outputs": [
        {
          "output_type": "display_data",
          "data": {
            "application/vnd.jupyter.widget-view+json": {
              "model_id": "39ac00292f564fd48687d9be19d6d0f9",
              "version_minor": 0,
              "version_major": 2
            },
            "text/plain": [
              "  0%|          | 0/137 [00:00<?, ?it/s]"
            ]
          },
          "metadata": {}
        },
        {
          "output_type": "stream",
          "name": "stdout",
          "text": [
            "\n",
            "\n",
            "Money: -667\n",
            "Trades: 4\n"
          ]
        },
        {
          "output_type": "execute_result",
          "data": {
            "text/html": [
              "\n",
              "  <div id=\"df-7f13bbbc-37a4-4d77-a9c0-072d1e276d63\">\n",
              "    <div class=\"colab-df-container\">\n",
              "      <div>\n",
              "<style scoped>\n",
              "    .dataframe tbody tr th:only-of-type {\n",
              "        vertical-align: middle;\n",
              "    }\n",
              "\n",
              "    .dataframe tbody tr th {\n",
              "        vertical-align: top;\n",
              "    }\n",
              "\n",
              "    .dataframe thead th {\n",
              "        text-align: right;\n",
              "    }\n",
              "</style>\n",
              "<table border=\"1\" class=\"dataframe\">\n",
              "  <thead>\n",
              "    <tr style=\"text-align: right;\">\n",
              "      <th></th>\n",
              "      <th>Stock</th>\n",
              "      <th>Dates</th>\n",
              "      <th>Trades</th>\n",
              "      <th>Money</th>\n",
              "    </tr>\n",
              "  </thead>\n",
              "  <tbody>\n",
              "    <tr>\n",
              "      <th>34</th>\n",
              "      <td>HEROMOTOCO.NS</td>\n",
              "      <td>[2021-12-10 14:45:00+05:30]</td>\n",
              "      <td>1</td>\n",
              "      <td>-205</td>\n",
              "    </tr>\n",
              "    <tr>\n",
              "      <th>51</th>\n",
              "      <td>MARUTI.NS</td>\n",
              "      <td>[2021-12-14 13:15:00+05:30]</td>\n",
              "      <td>1</td>\n",
              "      <td>-423</td>\n",
              "    </tr>\n",
              "    <tr>\n",
              "      <th>130</th>\n",
              "      <td>MFSL.NS</td>\n",
              "      <td>[2021-12-15 10:15:00+05:30]</td>\n",
              "      <td>1</td>\n",
              "      <td>86</td>\n",
              "    </tr>\n",
              "    <tr>\n",
              "      <th>135</th>\n",
              "      <td>SRF.NS</td>\n",
              "      <td>[2021-12-03 12:45:00+05:30]</td>\n",
              "      <td>1</td>\n",
              "      <td>-125</td>\n",
              "    </tr>\n",
              "  </tbody>\n",
              "</table>\n",
              "</div>\n",
              "      <button class=\"colab-df-convert\" onclick=\"convertToInteractive('df-7f13bbbc-37a4-4d77-a9c0-072d1e276d63')\"\n",
              "              title=\"Convert this dataframe to an interactive table.\"\n",
              "              style=\"display:none;\">\n",
              "        \n",
              "  <svg xmlns=\"http://www.w3.org/2000/svg\" height=\"24px\"viewBox=\"0 0 24 24\"\n",
              "       width=\"24px\">\n",
              "    <path d=\"M0 0h24v24H0V0z\" fill=\"none\"/>\n",
              "    <path d=\"M18.56 5.44l.94 2.06.94-2.06 2.06-.94-2.06-.94-.94-2.06-.94 2.06-2.06.94zm-11 1L8.5 8.5l.94-2.06 2.06-.94-2.06-.94L8.5 2.5l-.94 2.06-2.06.94zm10 10l.94 2.06.94-2.06 2.06-.94-2.06-.94-.94-2.06-.94 2.06-2.06.94z\"/><path d=\"M17.41 7.96l-1.37-1.37c-.4-.4-.92-.59-1.43-.59-.52 0-1.04.2-1.43.59L10.3 9.45l-7.72 7.72c-.78.78-.78 2.05 0 2.83L4 21.41c.39.39.9.59 1.41.59.51 0 1.02-.2 1.41-.59l7.78-7.78 2.81-2.81c.8-.78.8-2.07 0-2.86zM5.41 20L4 18.59l7.72-7.72 1.47 1.35L5.41 20z\"/>\n",
              "  </svg>\n",
              "      </button>\n",
              "      \n",
              "  <style>\n",
              "    .colab-df-container {\n",
              "      display:flex;\n",
              "      flex-wrap:wrap;\n",
              "      gap: 12px;\n",
              "    }\n",
              "\n",
              "    .colab-df-convert {\n",
              "      background-color: #E8F0FE;\n",
              "      border: none;\n",
              "      border-radius: 50%;\n",
              "      cursor: pointer;\n",
              "      display: none;\n",
              "      fill: #1967D2;\n",
              "      height: 32px;\n",
              "      padding: 0 0 0 0;\n",
              "      width: 32px;\n",
              "    }\n",
              "\n",
              "    .colab-df-convert:hover {\n",
              "      background-color: #E2EBFA;\n",
              "      box-shadow: 0px 1px 2px rgba(60, 64, 67, 0.3), 0px 1px 3px 1px rgba(60, 64, 67, 0.15);\n",
              "      fill: #174EA6;\n",
              "    }\n",
              "\n",
              "    [theme=dark] .colab-df-convert {\n",
              "      background-color: #3B4455;\n",
              "      fill: #D2E3FC;\n",
              "    }\n",
              "\n",
              "    [theme=dark] .colab-df-convert:hover {\n",
              "      background-color: #434B5C;\n",
              "      box-shadow: 0px 1px 3px 1px rgba(0, 0, 0, 0.15);\n",
              "      filter: drop-shadow(0px 1px 2px rgba(0, 0, 0, 0.3));\n",
              "      fill: #FFFFFF;\n",
              "    }\n",
              "  </style>\n",
              "\n",
              "      <script>\n",
              "        const buttonEl =\n",
              "          document.querySelector('#df-7f13bbbc-37a4-4d77-a9c0-072d1e276d63 button.colab-df-convert');\n",
              "        buttonEl.style.display =\n",
              "          google.colab.kernel.accessAllowed ? 'block' : 'none';\n",
              "\n",
              "        async function convertToInteractive(key) {\n",
              "          const element = document.querySelector('#df-7f13bbbc-37a4-4d77-a9c0-072d1e276d63');\n",
              "          const dataTable =\n",
              "            await google.colab.kernel.invokeFunction('convertToInteractive',\n",
              "                                                     [key], {});\n",
              "          if (!dataTable) return;\n",
              "\n",
              "          const docLinkHtml = 'Like what you see? Visit the ' +\n",
              "            '<a target=\"_blank\" href=https://colab.research.google.com/notebooks/data_table.ipynb>data table notebook</a>'\n",
              "            + ' to learn more about interactive tables.';\n",
              "          element.innerHTML = '';\n",
              "          dataTable['output_type'] = 'display_data';\n",
              "          await google.colab.output.renderOutput(dataTable, element);\n",
              "          const docLink = document.createElement('div');\n",
              "          docLink.innerHTML = docLinkHtml;\n",
              "          element.appendChild(docLink);\n",
              "        }\n",
              "      </script>\n",
              "    </div>\n",
              "  </div>\n",
              "  "
            ],
            "text/plain": [
              "             Stock                        Dates  Trades  Money\n",
              "34   HEROMOTOCO.NS  [2021-12-10 14:45:00+05:30]       1   -205\n",
              "51       MARUTI.NS  [2021-12-14 13:15:00+05:30]       1   -423\n",
              "130        MFSL.NS  [2021-12-15 10:15:00+05:30]       1     86\n",
              "135         SRF.NS  [2021-12-03 12:45:00+05:30]       1   -125"
            ]
          },
          "metadata": {},
          "execution_count": 28
        },
        {
          "output_type": "stream",
          "name": "stdout",
          "text": [
            "time: 29.2 s (started: 2021-12-18 14:32:38 +00:00)\n"
          ]
        }
      ]
    },
    {
      "cell_type": "markdown",
      "metadata": {
        "id": "SSrCUB1dXcUw"
      },
      "source": [
        "# SKIP"
      ]
    },
    {
      "cell_type": "code",
      "metadata": {
        "colab": {
          "base_uri": "https://localhost:8080/"
        },
        "id": "H1f9_bE-4SdC",
        "outputId": "faf25fd7-84da-45b3-bd3c-a4dbd3490464"
      },
      "source": [
        "# Calculations={}\n",
        "# stocks={}\n",
        "# for j in range(2010,2022):\n",
        "#   for i in tqdm(nse['Symbol']):\n",
        "#     stocks[i]=scanner(i, str(j) + '-01-01', str(j+1) + '-01-01')\n",
        "#   selected_stocks=pd.DataFrame.from_dict(stocks,orient='index',columns=['Dates','Trades','Money'])\n",
        "#   selected_stocks=selected_stocks.reset_index()\n",
        "#   selected_stocks=selected_stocks.rename(columns={'index':'Stock'})\n",
        "#   # print('\\n')\n",
        "#   # print('Money:',sum(selected_stocks['Money']))\n",
        "#   # print('Trades:',sum(selected_stocks['Trades']))\n",
        "#   Calculations[str(j) + '-01-01' +' to '+ str(j+1) + '-01-01']=(sum(selected_stocks['Money']),sum(selected_stocks['Trades']))\n",
        "# Calculations\n",
        "\n",
        "# selected_stocks=pd.DataFrame.from_dict(stocks,orient='index',columns=['Dates','Trades','Money'])\n",
        "# selected_stocks=selected_stocks.reset_index()\n",
        "# selected_stocks=selected_stocks.rename(columns={'index':'Stock'})\n",
        "# print('\\n')\n",
        "# print('Money:',sum(selected_stocks['Money']))\n",
        "# print('Trades:',sum(selected_stocks['Trades']))\n",
        "# selected_stocks=selected_stocks[selected_stocks['Trades'] != 0]\n",
        "# selected_stocks\n"
      ],
      "execution_count": null,
      "outputs": [
        {
          "output_type": "stream",
          "text": [
            "time: 7.34 ms (started: 2021-05-14 07:57:34 +00:00)\n"
          ],
          "name": "stdout"
        }
      ]
    },
    {
      "cell_type": "code",
      "metadata": {
        "id": "SiJ2WvZZ4Zpu"
      },
      "source": [
        ""
      ],
      "execution_count": null,
      "outputs": []
    },
    {
      "cell_type": "code",
      "metadata": {
        "colab": {
          "base_uri": "https://localhost:8080/"
        },
        "id": "CfemU3oa1eI7",
        "outputId": "b53a7131-d099-4138-9bcd-bd20783a9eff"
      },
      "source": [
        "print('total dates:',len(set(final['Dates'])))"
      ],
      "execution_count": null,
      "outputs": [
        {
          "output_type": "stream",
          "text": [
            "total dates: 12\n",
            "time: 1.59 ms (started: 2021-05-14 07:46:19 +00:00)\n"
          ],
          "name": "stdout"
        }
      ]
    },
    {
      "cell_type": "code",
      "metadata": {
        "colab": {
          "base_uri": "https://localhost:8080/"
        },
        "id": "_p-ZkMY9KeaN",
        "outputId": "14f28317-3340-4416-cbcb-7bf516ae8651"
      },
      "source": [
        "# final.to_csv('all_hammer_setup_2021.csv')"
      ],
      "execution_count": null,
      "outputs": [
        {
          "output_type": "stream",
          "text": [
            "time: 10.4 ms (started: 2021-05-13 14:40:06 +00:00)\n"
          ],
          "name": "stdout"
        }
      ]
    },
    {
      "cell_type": "code",
      "metadata": {
        "colab": {
          "base_uri": "https://localhost:8080/",
          "height": 34
        },
        "id": "2unf0FvDIb8v",
        "outputId": "d3f46e98-baaf-4814-871f-328dec6c23d3"
      },
      "source": [
        "# files.download('all_hammer_setup_2021.csv')"
      ],
      "execution_count": null,
      "outputs": [
        {
          "output_type": "display_data",
          "data": {
            "application/javascript": [
              "\n",
              "    async function download(id, filename, size) {\n",
              "      if (!google.colab.kernel.accessAllowed) {\n",
              "        return;\n",
              "      }\n",
              "      const div = document.createElement('div');\n",
              "      const label = document.createElement('label');\n",
              "      label.textContent = `Downloading \"${filename}\": `;\n",
              "      div.appendChild(label);\n",
              "      const progress = document.createElement('progress');\n",
              "      progress.max = size;\n",
              "      div.appendChild(progress);\n",
              "      document.body.appendChild(div);\n",
              "\n",
              "      const buffers = [];\n",
              "      let downloaded = 0;\n",
              "\n",
              "      const channel = await google.colab.kernel.comms.open(id);\n",
              "      // Send a message to notify the kernel that we're ready.\n",
              "      channel.send({})\n",
              "\n",
              "      for await (const message of channel.messages) {\n",
              "        // Send a message to notify the kernel that we're ready.\n",
              "        channel.send({})\n",
              "        if (message.buffers) {\n",
              "          for (const buffer of message.buffers) {\n",
              "            buffers.push(buffer);\n",
              "            downloaded += buffer.byteLength;\n",
              "            progress.value = downloaded;\n",
              "          }\n",
              "        }\n",
              "      }\n",
              "      const blob = new Blob(buffers, {type: 'application/binary'});\n",
              "      const a = document.createElement('a');\n",
              "      a.href = window.URL.createObjectURL(blob);\n",
              "      a.download = filename;\n",
              "      div.appendChild(a);\n",
              "      a.click();\n",
              "      div.remove();\n",
              "    }\n",
              "  "
            ],
            "text/plain": [
              "<IPython.core.display.Javascript object>"
            ]
          },
          "metadata": {
            "tags": []
          }
        },
        {
          "output_type": "display_data",
          "data": {
            "application/javascript": [
              "download(\"download_e4555972-77e2-4843-bafb-36a6747f471f\", \"all_hammer_setup_2021.csv\", 44)"
            ],
            "text/plain": [
              "<IPython.core.display.Javascript object>"
            ]
          },
          "metadata": {
            "tags": []
          }
        },
        {
          "output_type": "stream",
          "text": [
            "time: 13.4 ms (started: 2021-05-13 14:40:12 +00:00)\n"
          ],
          "name": "stdout"
        }
      ]
    },
    {
      "cell_type": "code",
      "metadata": {
        "colab": {
          "base_uri": "https://localhost:8080/"
        },
        "id": "wwqMZrVoLF1-",
        "outputId": "5b657f12-53c2-4342-95e3-09a3ebdf591a"
      },
      "source": [
        "data = yf.download('HDFCBANK.NS', \n",
        "                      start='2020-01-01', \n",
        "                      end='2021-01-01',\n",
        "                      progress=False)\n",
        "data=data.reset_index()\n",
        "data['Pre Close']=data['Close'].shift(1)\n",
        "data['Pre Open']=data['Close'].shift(1)\n",
        "data['Gap']=['Up' if data['Open'][i] > data['Pre Close'][i] else 'Down' if data['Open'][i] < data['Pre Close'][i] else 'Flat' for i in range(0,len(data))]\n",
        "data['Color'] = ['Red' if data['Open'][i] > data['Close'][i] else 'Green' if data['Open'][i] < data['Close'][i] else 'Neutral' for i in range(0,len(data))]\n",
        "data['Downshadow'] = [data['Open'][i] - data['Low'][i] if data['Color'][i] == 'Green' else data['Close'][i] - data['Low'][i] if data['Color'][i] == 'Red' else 0 for i in range(0,len(data))]\n",
        "data['Upshadow'] = [data['High'][i] - data['Close'][i] if data['Color'][i] == 'Green' else data['High'][i] - data['Open'][i] if data['Color'][i] == 'Red' else 0 for i in range(0,len(data))]\n",
        "data['Body'] =[abs(data['Close'][i] - data['Open'][i]) for i in range(0,len(data))]\n",
        "data['Candle']=['Hammer' if data['Downshadow'][i] > 2* data['Body'][i] and data['Downshadow'][i] > 4*data['Upshadow'][i]  and data['Open'][i] < data['Pre Open'][i] and  data['Close'][i] < data['Pre Open'][i] else 'Normal' for i in range(0,len(data))]\n",
        "data['Close Diff']=data['Close'].diff()\n",
        "data['Close Diff1']=data['Close Diff'].shift(1)\n",
        "data['Close Diff2']=data['Close Diff'].shift(2)\n",
        "data['Close Diff3']=data['Close Diff'].shift(3)\n",
        "data['Down Trend']=['Triple Down' if data['Close Diff1'][i] < 0 and data['Close Diff2'][i] < 0 and data['Close Diff3'][i] < 0 else 'Normal' for i in range(0,len(data))]\n",
        "data['Post Close']=data['Close'].shift(-1)\n",
        "data['Post Color']=data['Color'].shift(-1)\n",
        "data['Post Gap']=data['Gap'].shift(-1)\n",
        "hammer=data[data['Candle']=='Hammer']\n",
        "hammer=hammer[hammer['Down Trend']=='Triple Down']\n",
        "hammer=hammer[hammer['Post Color']=='Green']\n",
        "hammer=hammer[hammer['Post Close'] >= hammer['High']]\n",
        "hammer=hammer[hammer['Post Gap']=='Up']\n",
        "hammer.reset_index(inplace=True,drop=True)\n",
        "hammer['Date']=hammer['Date'].astype('str')\n",
        "hammer"
      ],
      "execution_count": null,
      "outputs": [
        {
          "output_type": "execute_result",
          "data": {
            "text/html": [
              "<div>\n",
              "<style scoped>\n",
              "    .dataframe tbody tr th:only-of-type {\n",
              "        vertical-align: middle;\n",
              "    }\n",
              "\n",
              "    .dataframe tbody tr th {\n",
              "        vertical-align: top;\n",
              "    }\n",
              "\n",
              "    .dataframe thead th {\n",
              "        text-align: right;\n",
              "    }\n",
              "</style>\n",
              "<table border=\"1\" class=\"dataframe\">\n",
              "  <thead>\n",
              "    <tr style=\"text-align: right;\">\n",
              "      <th></th>\n",
              "      <th>Date</th>\n",
              "      <th>Open</th>\n",
              "      <th>High</th>\n",
              "      <th>Low</th>\n",
              "      <th>Close</th>\n",
              "      <th>Adj Close</th>\n",
              "      <th>Volume</th>\n",
              "      <th>Pre Close</th>\n",
              "      <th>Pre Open</th>\n",
              "      <th>Gap</th>\n",
              "      <th>Color</th>\n",
              "      <th>Downshadow</th>\n",
              "      <th>Upshadow</th>\n",
              "      <th>Body</th>\n",
              "      <th>Candle</th>\n",
              "      <th>Close Diff</th>\n",
              "      <th>Close Diff1</th>\n",
              "      <th>Close Diff2</th>\n",
              "      <th>Close Diff3</th>\n",
              "      <th>Down Trend</th>\n",
              "      <th>Post Close</th>\n",
              "      <th>Post Color</th>\n",
              "      <th>Post Gap</th>\n",
              "      <th>Post Gap2</th>\n",
              "    </tr>\n",
              "  </thead>\n",
              "  <tbody>\n",
              "    <tr>\n",
              "      <th>0</th>\n",
              "      <td>2020-02-18</td>\n",
              "      <td>1216.900024</td>\n",
              "      <td>1218.5</td>\n",
              "      <td>1203.5</td>\n",
              "      <td>1213.25</td>\n",
              "      <td>1213.25</td>\n",
              "      <td>5264558</td>\n",
              "      <td>1217.150024</td>\n",
              "      <td>1217.150024</td>\n",
              "      <td>Down</td>\n",
              "      <td>Red</td>\n",
              "      <td>9.75</td>\n",
              "      <td>1.599976</td>\n",
              "      <td>3.650024</td>\n",
              "      <td>Hammer</td>\n",
              "      <td>-3.900024</td>\n",
              "      <td>-2.199951</td>\n",
              "      <td>-22.050049</td>\n",
              "      <td>-7.599976</td>\n",
              "      <td>Triple Down</td>\n",
              "      <td>1227.199951</td>\n",
              "      <td>Green</td>\n",
              "      <td>Up</td>\n",
              "      <td>Up</td>\n",
              "    </tr>\n",
              "  </tbody>\n",
              "</table>\n",
              "</div>"
            ],
            "text/plain": [
              "         Date         Open    High  ...  Post Color  Post Gap  Post Gap2\n",
              "0  2020-02-18  1216.900024  1218.5  ...       Green        Up         Up\n",
              "\n",
              "[1 rows x 24 columns]"
            ]
          },
          "metadata": {
            "tags": []
          },
          "execution_count": 188
        },
        {
          "output_type": "stream",
          "text": [
            "time: 246 ms (started: 2021-05-13 15:10:47 +00:00)\n"
          ],
          "name": "stdout"
        }
      ]
    },
    {
      "cell_type": "code",
      "metadata": {
        "colab": {
          "base_uri": "https://localhost:8080/"
        },
        "id": "fX3_i0B8Q3QM",
        "outputId": "ecb0f1c0-98e1-44ef-acc8-b1fa639eb132"
      },
      "source": [
        "import plotly.graph_objects as go\n",
        "df=hammer.copy()\n",
        "fig = go.Figure(data=go.Candlestick(x=df['Date'],\n",
        "                open=df['Open'],\n",
        "                high=df['High'],\n",
        "                low=df['Low'],\n",
        "                close=df['Close']))\n",
        "fig.update(layout_xaxis_rangeslider_visible=False)\n",
        "fig.show()"
      ],
      "execution_count": null,
      "outputs": [
        {
          "output_type": "display_data",
          "data": {
            "text/html": [
              "<html>\n",
              "<head><meta charset=\"utf-8\" /></head>\n",
              "<body>\n",
              "    <div>\n",
              "            <script src=\"https://cdnjs.cloudflare.com/ajax/libs/mathjax/2.7.5/MathJax.js?config=TeX-AMS-MML_SVG\"></script><script type=\"text/javascript\">if (window.MathJax) {MathJax.Hub.Config({SVG: {font: \"STIX-Web\"}});}</script>\n",
              "                <script type=\"text/javascript\">window.PlotlyConfig = {MathJaxConfig: 'local'};</script>\n",
              "        <script src=\"https://cdn.plot.ly/plotly-latest.min.js\"></script>    \n",
              "            <div id=\"62fb43c3-6d9e-4f6d-a042-8909e52c36d3\" class=\"plotly-graph-div\" style=\"height:525px; width:100%;\"></div>\n",
              "            <script type=\"text/javascript\">\n",
              "                \n",
              "                    window.PLOTLYENV=window.PLOTLYENV || {};\n",
              "                    \n",
              "                if (document.getElementById(\"62fb43c3-6d9e-4f6d-a042-8909e52c36d3\")) {\n",
              "                    Plotly.newPlot(\n",
              "                        '62fb43c3-6d9e-4f6d-a042-8909e52c36d3',\n",
              "                        [{\"close\": [1213.25], \"high\": [1218.5], \"low\": [1203.5], \"open\": [1216.9000244140625], \"type\": \"candlestick\", \"x\": [\"2020-02-18\"]}],\n",
              "                        {\"template\": {\"data\": {\"bar\": [{\"error_x\": {\"color\": \"#2a3f5f\"}, \"error_y\": {\"color\": \"#2a3f5f\"}, \"marker\": {\"line\": {\"color\": \"#E5ECF6\", \"width\": 0.5}}, \"type\": \"bar\"}], \"barpolar\": [{\"marker\": {\"line\": {\"color\": \"#E5ECF6\", \"width\": 0.5}}, \"type\": \"barpolar\"}], \"carpet\": [{\"aaxis\": {\"endlinecolor\": \"#2a3f5f\", \"gridcolor\": \"white\", \"linecolor\": \"white\", \"minorgridcolor\": \"white\", \"startlinecolor\": \"#2a3f5f\"}, \"baxis\": {\"endlinecolor\": \"#2a3f5f\", \"gridcolor\": \"white\", \"linecolor\": \"white\", \"minorgridcolor\": \"white\", \"startlinecolor\": \"#2a3f5f\"}, \"type\": \"carpet\"}], \"choropleth\": [{\"colorbar\": {\"outlinewidth\": 0, \"ticks\": \"\"}, \"type\": \"choropleth\"}], \"contour\": [{\"colorbar\": {\"outlinewidth\": 0, \"ticks\": \"\"}, \"colorscale\": [[0.0, \"#0d0887\"], [0.1111111111111111, \"#46039f\"], [0.2222222222222222, \"#7201a8\"], [0.3333333333333333, \"#9c179e\"], [0.4444444444444444, \"#bd3786\"], [0.5555555555555556, \"#d8576b\"], [0.6666666666666666, \"#ed7953\"], [0.7777777777777778, \"#fb9f3a\"], [0.8888888888888888, \"#fdca26\"], [1.0, \"#f0f921\"]], \"type\": \"contour\"}], \"contourcarpet\": [{\"colorbar\": {\"outlinewidth\": 0, \"ticks\": \"\"}, \"type\": \"contourcarpet\"}], \"heatmap\": [{\"colorbar\": {\"outlinewidth\": 0, \"ticks\": \"\"}, \"colorscale\": [[0.0, \"#0d0887\"], [0.1111111111111111, \"#46039f\"], [0.2222222222222222, \"#7201a8\"], [0.3333333333333333, \"#9c179e\"], [0.4444444444444444, \"#bd3786\"], [0.5555555555555556, \"#d8576b\"], [0.6666666666666666, \"#ed7953\"], [0.7777777777777778, \"#fb9f3a\"], [0.8888888888888888, \"#fdca26\"], [1.0, \"#f0f921\"]], \"type\": \"heatmap\"}], \"heatmapgl\": [{\"colorbar\": {\"outlinewidth\": 0, \"ticks\": \"\"}, \"colorscale\": [[0.0, \"#0d0887\"], [0.1111111111111111, \"#46039f\"], [0.2222222222222222, \"#7201a8\"], [0.3333333333333333, \"#9c179e\"], [0.4444444444444444, \"#bd3786\"], [0.5555555555555556, \"#d8576b\"], [0.6666666666666666, \"#ed7953\"], [0.7777777777777778, \"#fb9f3a\"], [0.8888888888888888, \"#fdca26\"], [1.0, \"#f0f921\"]], \"type\": \"heatmapgl\"}], \"histogram\": [{\"marker\": {\"colorbar\": {\"outlinewidth\": 0, \"ticks\": \"\"}}, \"type\": \"histogram\"}], \"histogram2d\": [{\"colorbar\": {\"outlinewidth\": 0, \"ticks\": \"\"}, \"colorscale\": [[0.0, \"#0d0887\"], [0.1111111111111111, \"#46039f\"], [0.2222222222222222, \"#7201a8\"], [0.3333333333333333, \"#9c179e\"], [0.4444444444444444, \"#bd3786\"], [0.5555555555555556, \"#d8576b\"], [0.6666666666666666, \"#ed7953\"], [0.7777777777777778, \"#fb9f3a\"], [0.8888888888888888, \"#fdca26\"], [1.0, \"#f0f921\"]], \"type\": \"histogram2d\"}], \"histogram2dcontour\": [{\"colorbar\": {\"outlinewidth\": 0, \"ticks\": \"\"}, \"colorscale\": [[0.0, \"#0d0887\"], [0.1111111111111111, \"#46039f\"], [0.2222222222222222, \"#7201a8\"], [0.3333333333333333, \"#9c179e\"], [0.4444444444444444, \"#bd3786\"], [0.5555555555555556, \"#d8576b\"], [0.6666666666666666, \"#ed7953\"], [0.7777777777777778, \"#fb9f3a\"], [0.8888888888888888, \"#fdca26\"], [1.0, \"#f0f921\"]], \"type\": \"histogram2dcontour\"}], \"mesh3d\": [{\"colorbar\": {\"outlinewidth\": 0, \"ticks\": \"\"}, \"type\": \"mesh3d\"}], \"parcoords\": [{\"line\": {\"colorbar\": {\"outlinewidth\": 0, \"ticks\": \"\"}}, \"type\": \"parcoords\"}], \"pie\": [{\"automargin\": true, \"type\": \"pie\"}], \"scatter\": [{\"marker\": {\"colorbar\": {\"outlinewidth\": 0, \"ticks\": \"\"}}, \"type\": \"scatter\"}], \"scatter3d\": [{\"line\": {\"colorbar\": {\"outlinewidth\": 0, \"ticks\": \"\"}}, \"marker\": {\"colorbar\": {\"outlinewidth\": 0, \"ticks\": \"\"}}, \"type\": \"scatter3d\"}], \"scattercarpet\": [{\"marker\": {\"colorbar\": {\"outlinewidth\": 0, \"ticks\": \"\"}}, \"type\": \"scattercarpet\"}], \"scattergeo\": [{\"marker\": {\"colorbar\": {\"outlinewidth\": 0, \"ticks\": \"\"}}, \"type\": \"scattergeo\"}], \"scattergl\": [{\"marker\": {\"colorbar\": {\"outlinewidth\": 0, \"ticks\": \"\"}}, \"type\": \"scattergl\"}], \"scattermapbox\": [{\"marker\": {\"colorbar\": {\"outlinewidth\": 0, \"ticks\": \"\"}}, \"type\": \"scattermapbox\"}], \"scatterpolar\": [{\"marker\": {\"colorbar\": {\"outlinewidth\": 0, \"ticks\": \"\"}}, \"type\": \"scatterpolar\"}], \"scatterpolargl\": [{\"marker\": {\"colorbar\": {\"outlinewidth\": 0, \"ticks\": \"\"}}, \"type\": \"scatterpolargl\"}], \"scatterternary\": [{\"marker\": {\"colorbar\": {\"outlinewidth\": 0, \"ticks\": \"\"}}, \"type\": \"scatterternary\"}], \"surface\": [{\"colorbar\": {\"outlinewidth\": 0, \"ticks\": \"\"}, \"colorscale\": [[0.0, \"#0d0887\"], [0.1111111111111111, \"#46039f\"], [0.2222222222222222, \"#7201a8\"], [0.3333333333333333, \"#9c179e\"], [0.4444444444444444, \"#bd3786\"], [0.5555555555555556, \"#d8576b\"], [0.6666666666666666, \"#ed7953\"], [0.7777777777777778, \"#fb9f3a\"], [0.8888888888888888, \"#fdca26\"], [1.0, \"#f0f921\"]], \"type\": \"surface\"}], \"table\": [{\"cells\": {\"fill\": {\"color\": \"#EBF0F8\"}, \"line\": {\"color\": \"white\"}}, \"header\": {\"fill\": {\"color\": \"#C8D4E3\"}, \"line\": {\"color\": \"white\"}}, \"type\": \"table\"}]}, \"layout\": {\"annotationdefaults\": {\"arrowcolor\": \"#2a3f5f\", \"arrowhead\": 0, \"arrowwidth\": 1}, \"coloraxis\": {\"colorbar\": {\"outlinewidth\": 0, \"ticks\": \"\"}}, \"colorscale\": {\"diverging\": [[0, \"#8e0152\"], [0.1, \"#c51b7d\"], [0.2, \"#de77ae\"], [0.3, \"#f1b6da\"], [0.4, \"#fde0ef\"], [0.5, \"#f7f7f7\"], [0.6, \"#e6f5d0\"], [0.7, \"#b8e186\"], [0.8, \"#7fbc41\"], [0.9, \"#4d9221\"], [1, \"#276419\"]], \"sequential\": [[0.0, \"#0d0887\"], [0.1111111111111111, \"#46039f\"], [0.2222222222222222, \"#7201a8\"], [0.3333333333333333, \"#9c179e\"], [0.4444444444444444, \"#bd3786\"], [0.5555555555555556, \"#d8576b\"], [0.6666666666666666, \"#ed7953\"], [0.7777777777777778, \"#fb9f3a\"], [0.8888888888888888, \"#fdca26\"], [1.0, \"#f0f921\"]], \"sequentialminus\": [[0.0, \"#0d0887\"], [0.1111111111111111, \"#46039f\"], [0.2222222222222222, \"#7201a8\"], [0.3333333333333333, \"#9c179e\"], [0.4444444444444444, \"#bd3786\"], [0.5555555555555556, \"#d8576b\"], [0.6666666666666666, \"#ed7953\"], [0.7777777777777778, \"#fb9f3a\"], [0.8888888888888888, \"#fdca26\"], [1.0, \"#f0f921\"]]}, \"colorway\": [\"#636efa\", \"#EF553B\", \"#00cc96\", \"#ab63fa\", \"#FFA15A\", \"#19d3f3\", \"#FF6692\", \"#B6E880\", \"#FF97FF\", \"#FECB52\"], \"font\": {\"color\": \"#2a3f5f\"}, \"geo\": {\"bgcolor\": \"white\", \"lakecolor\": \"white\", \"landcolor\": \"#E5ECF6\", \"showlakes\": true, \"showland\": true, \"subunitcolor\": \"white\"}, \"hoverlabel\": {\"align\": \"left\"}, \"hovermode\": \"closest\", \"mapbox\": {\"style\": \"light\"}, \"paper_bgcolor\": \"white\", \"plot_bgcolor\": \"#E5ECF6\", \"polar\": {\"angularaxis\": {\"gridcolor\": \"white\", \"linecolor\": \"white\", \"ticks\": \"\"}, \"bgcolor\": \"#E5ECF6\", \"radialaxis\": {\"gridcolor\": \"white\", \"linecolor\": \"white\", \"ticks\": \"\"}}, \"scene\": {\"xaxis\": {\"backgroundcolor\": \"#E5ECF6\", \"gridcolor\": \"white\", \"gridwidth\": 2, \"linecolor\": \"white\", \"showbackground\": true, \"ticks\": \"\", \"zerolinecolor\": \"white\"}, \"yaxis\": {\"backgroundcolor\": \"#E5ECF6\", \"gridcolor\": \"white\", \"gridwidth\": 2, \"linecolor\": \"white\", \"showbackground\": true, \"ticks\": \"\", \"zerolinecolor\": \"white\"}, \"zaxis\": {\"backgroundcolor\": \"#E5ECF6\", \"gridcolor\": \"white\", \"gridwidth\": 2, \"linecolor\": \"white\", \"showbackground\": true, \"ticks\": \"\", \"zerolinecolor\": \"white\"}}, \"shapedefaults\": {\"line\": {\"color\": \"#2a3f5f\"}}, \"ternary\": {\"aaxis\": {\"gridcolor\": \"white\", \"linecolor\": \"white\", \"ticks\": \"\"}, \"baxis\": {\"gridcolor\": \"white\", \"linecolor\": \"white\", \"ticks\": \"\"}, \"bgcolor\": \"#E5ECF6\", \"caxis\": {\"gridcolor\": \"white\", \"linecolor\": \"white\", \"ticks\": \"\"}}, \"title\": {\"x\": 0.05}, \"xaxis\": {\"automargin\": true, \"gridcolor\": \"white\", \"linecolor\": \"white\", \"ticks\": \"\", \"title\": {\"standoff\": 15}, \"zerolinecolor\": \"white\", \"zerolinewidth\": 2}, \"yaxis\": {\"automargin\": true, \"gridcolor\": \"white\", \"linecolor\": \"white\", \"ticks\": \"\", \"title\": {\"standoff\": 15}, \"zerolinecolor\": \"white\", \"zerolinewidth\": 2}}}, \"xaxis\": {\"rangeslider\": {\"visible\": false}}},\n",
              "                        {\"responsive\": true}\n",
              "                    ).then(function(){\n",
              "                            \n",
              "var gd = document.getElementById('62fb43c3-6d9e-4f6d-a042-8909e52c36d3');\n",
              "var x = new MutationObserver(function (mutations, observer) {{\n",
              "        var display = window.getComputedStyle(gd).display;\n",
              "        if (!display || display === 'none') {{\n",
              "            console.log([gd, 'removed!']);\n",
              "            Plotly.purge(gd);\n",
              "            observer.disconnect();\n",
              "        }}\n",
              "}});\n",
              "\n",
              "// Listen for the removal of the full notebook cells\n",
              "var notebookContainer = gd.closest('#notebook-container');\n",
              "if (notebookContainer) {{\n",
              "    x.observe(notebookContainer, {childList: true});\n",
              "}}\n",
              "\n",
              "// Listen for the clearing of the current output cell\n",
              "var outputEl = gd.closest('.output');\n",
              "if (outputEl) {{\n",
              "    x.observe(outputEl, {childList: true});\n",
              "}}\n",
              "\n",
              "                        })\n",
              "                };\n",
              "                \n",
              "            </script>\n",
              "        </div>\n",
              "</body>\n",
              "</html>"
            ]
          },
          "metadata": {
            "tags": []
          }
        },
        {
          "output_type": "stream",
          "text": [
            "time: 133 ms (started: 2021-05-13 15:09:22 +00:00)\n"
          ],
          "name": "stdout"
        }
      ]
    },
    {
      "cell_type": "markdown",
      "metadata": {
        "id": "g45IDqXUQ4T7"
      },
      "source": [
        "# Similarly, lets do the same for all NSE stocks about 1350"
      ]
    },
    {
      "cell_type": "code",
      "metadata": {
        "colab": {
          "base_uri": "https://localhost:8080/"
        },
        "id": "7Tt2S3v9T87B",
        "outputId": "ea022f16-5dc7-4323-bd1d-3ab285c569a5"
      },
      "source": [
        "NSE=pd.read_excel('/content/gdrive/MyDrive/SASH/Trading_NSE.xlsx')\n",
        "NSE.head(1)"
      ],
      "execution_count": null,
      "outputs": [
        {
          "output_type": "execute_result",
          "data": {
            "text/html": [
              "<div>\n",
              "<style scoped>\n",
              "    .dataframe tbody tr th:only-of-type {\n",
              "        vertical-align: middle;\n",
              "    }\n",
              "\n",
              "    .dataframe tbody tr th {\n",
              "        vertical-align: top;\n",
              "    }\n",
              "\n",
              "    .dataframe thead th {\n",
              "        text-align: right;\n",
              "    }\n",
              "</style>\n",
              "<table border=\"1\" class=\"dataframe\">\n",
              "  <thead>\n",
              "    <tr style=\"text-align: right;\">\n",
              "      <th></th>\n",
              "      <th>Ticker</th>\n",
              "      <th>Name</th>\n",
              "      <th>Category Name</th>\n",
              "      <th>LINK</th>\n",
              "      <th>New Signal (3M)</th>\n",
              "      <th>signal (1YR)</th>\n",
              "      <th>PCT (3M)</th>\n",
              "      <th>2021-03-12 00:00:00</th>\n",
              "      <th>2021-01-15 00:00:00</th>\n",
              "      <th>2020-10-01 00:00:00</th>\n",
              "      <th>2020-07-01 00:00:00</th>\n",
              "      <th>2020-04-01 00:00:00</th>\n",
              "      <th>2020-01-01 00:00:00</th>\n",
              "      <th>2019-10-01 00:00:00</th>\n",
              "      <th>2019-07-01 00:00:00</th>\n",
              "      <th>2019-04-01 00:00:00</th>\n",
              "      <th>2019-01-01 00:00:00</th>\n",
              "      <th>2018-10-01 00:00:00</th>\n",
              "      <th>2018-07-01 00:00:00</th>\n",
              "      <th>2018-04-01 00:00:00</th>\n",
              "      <th>2018-01-01 00:00:00</th>\n",
              "      <th>INACTIVE LINKS</th>\n",
              "    </tr>\n",
              "  </thead>\n",
              "  <tbody>\n",
              "    <tr>\n",
              "      <th>0</th>\n",
              "      <td>BHARTIARTL.NS</td>\n",
              "      <td>Bharti Airtel Limited</td>\n",
              "      <td>Wireless Communications</td>\n",
              "      <td>https://in.finance.yahoo.com/quote/BHARTIARTL.NS</td>\n",
              "      <td>Bear</td>\n",
              "      <td>Bear</td>\n",
              "      <td>-13.017508</td>\n",
              "      <td>524.200012</td>\n",
              "      <td>602.650024</td>\n",
              "      <td>509.700012</td>\n",
              "      <td>420.950012</td>\n",
              "      <td>559.849976</td>\n",
              "      <td>440.899994</td>\n",
              "      <td>455.799988</td>\n",
              "      <td>367.049988</td>\n",
              "      <td>346.649994</td>\n",
              "      <td>305.845215</td>\n",
              "      <td>286.930725</td>\n",
              "      <td>310.849274</td>\n",
              "      <td>350.698242</td>\n",
              "      <td>366.077728</td>\n",
              "      <td>https://in.finance.yahoo.com/quote/BHARTIARTL.NS</td>\n",
              "    </tr>\n",
              "  </tbody>\n",
              "</table>\n",
              "</div>"
            ],
            "text/plain": [
              "          Ticker  ...                                    INACTIVE LINKS\n",
              "0  BHARTIARTL.NS  ...  https://in.finance.yahoo.com/quote/BHARTIARTL.NS\n",
              "\n",
              "[1 rows x 22 columns]"
            ]
          },
          "metadata": {
            "tags": []
          },
          "execution_count": 12
        },
        {
          "output_type": "stream",
          "text": [
            "time: 298 ms (started: 2021-05-15 05:06:49 +00:00)\n"
          ],
          "name": "stdout"
        }
      ]
    },
    {
      "cell_type": "code",
      "metadata": {
        "colab": {
          "base_uri": "https://localhost:8080/",
          "referenced_widgets": [
            "29c736fbb0ba4f2781005b66856eb5ff",
            "e1cbbae1a48549c8bc377cd504825553",
            "c684173749ce455e979382d87d713db4",
            "d0fe8d06b6474957819f041b07e81d61",
            "b77c17f44dcd44508ce4b63c66a43fd9",
            "51dfc01b22bc42eb837353e8b9cfb6e4",
            "9f8affc832a3418ca9ef496638bf8541",
            "3148249a95e5410497b40f57fe0ef7d1"
          ]
        },
        "id": "U88DN0POT9w5",
        "outputId": "51297930-c6f6-491f-d264-f0e790e9b1e0"
      },
      "source": [
        "stocks={}\n",
        "for i in tq.tqdm(NSE['Ticker']):\n",
        "  try:\n",
        "    stocks[i]=scanner(i, '2021-03-20','2021-05-30')\n",
        "  except:\n",
        "    pass\n",
        "# final=pd.DataFrame()\n",
        "# final['Stock']=stocks.keys()\n",
        "# final['Dates']=stocks.values()\n",
        "# final['Dates']=final['Dates'].astype(str)\n",
        "# final=final[final['Dates'] != '[]']\n",
        "# final.reset_index(inplace=True,drop=True)\n",
        "# print('Trades:',len(final))\n",
        "# final\n",
        "selected_stocks=pd.DataFrame.from_dict(stocks,orient='index',columns=['Dates','Trades','Money'])\n",
        "selected_stocks=selected_stocks.reset_index()\n",
        "selected_stocks=selected_stocks.rename(columns={'index':'Stock'})\n",
        "print('\\n')\n",
        "print('Money:',sum(selected_stocks['Money']))\n",
        "print('Trades:',sum(selected_stocks['Trades']))\n",
        "selected_stocks=selected_stocks[selected_stocks['Trades'] != 0]\n",
        "selected_stocks"
      ],
      "execution_count": null,
      "outputs": [
        {
          "output_type": "display_data",
          "data": {
            "application/vnd.jupyter.widget-view+json": {
              "model_id": "29c736fbb0ba4f2781005b66856eb5ff",
              "version_minor": 0,
              "version_major": 2
            },
            "text/plain": [
              "HBox(children=(FloatProgress(value=0.0, max=1319.0), HTML(value='')))"
            ]
          },
          "metadata": {
            "tags": []
          }
        },
        {
          "output_type": "stream",
          "text": [
            "\n",
            "1 Failed download:\n",
            "- SITASHREE.NS: No data found for this date range, symbol may be delisted\n",
            "\n",
            "1 Failed download:\n",
            "- JUBILANT.NS: No data found, symbol may be delisted\n",
            "\n",
            "1 Failed download:\n",
            "- JAIHINDPRO.NS: No data found for this date range, symbol may be delisted\n",
            "\n",
            "1 Failed download:\n",
            "- KSK.NS: No data found for this date range, symbol may be delisted\n",
            "\n",
            "1 Failed download:\n",
            "- SUJANAUNI.NS: No data found for this date range, symbol may be delisted\n",
            "\n",
            "1 Failed download:\n",
            "- XLENERGY.NS: No data found for this date range, symbol may be delisted\n",
            "\n",
            "1 Failed download:\n",
            "- WINSOME.NS: No data found for this date range, symbol may be delisted\n",
            "\n",
            "1 Failed download:\n",
            "- JVLAGRO.NS: No data found for this date range, symbol may be delisted\n",
            "\n",
            "1 Failed download:\n",
            "- AIFL.NS: No data found for this date range, symbol may be delisted\n",
            "\n",
            "1 Failed download:\n",
            "- METKORE.NS: No data found for this date range, symbol may be delisted\n",
            "\n",
            "1 Failed download:\n",
            "- ESSDEE.NS: No data found for this date range, symbol may be delisted\n",
            "\n",
            "1 Failed download:\n",
            "- MANPASAND.NS: No data found for this date range, symbol may be delisted\n",
            "\n",
            "1 Failed download:\n",
            "- CELESTIAL.NS: No data found for this date range, symbol may be delisted\n",
            "\n",
            "1 Failed download:\n",
            "- SHARONBIO.NS: No data found for this date range, symbol may be delisted\n",
            "\n",
            "1 Failed download:\n",
            "- BINANIIND.NS: No data found for this date range, symbol may be delisted\n",
            "\n",
            "1 Failed download:\n",
            "- BLUEBLENDS.NS: No data found for this date range, symbol may be delisted\n",
            "\n",
            "1 Failed download:\n",
            "- DOLPHINOFF.NS: No data found for this date range, symbol may be delisted\n",
            "\n",
            "1 Failed download:\n",
            "- PARABDRUGS.NS: No data found for this date range, symbol may be delisted\n",
            "\n",
            "1 Failed download:\n",
            "- EON.NS: No data found for this date range, symbol may be delisted\n",
            "\n",
            "1 Failed download:\n",
            "- RELCONS.NS: No data found for this date range, symbol may be delisted\n",
            "\n",
            "1 Failed download:\n",
            "- VIMALOIL.NS: No data found for this date range, symbol may be delisted\n",
            "\n",
            "1 Failed download:\n",
            "- GITANJALI.NS: No data found for this date range, symbol may be delisted\n",
            "\n",
            "1 Failed download:\n",
            "- GLOBOFFS.NS: No data found for this date range, symbol may be delisted\n",
            "\n",
            "1 Failed download:\n",
            "- GSKCONS.NS: No data found for this date range, symbol may be delisted\n",
            "\n",
            "1 Failed download:\n",
            "- GTNIND.NS: No data found for this date range, symbol may be delisted\n",
            "\n",
            "1 Failed download:\n",
            "- HINDSYNTEX.NS: No data found for this date range, symbol may be delisted\n",
            "\n",
            "1 Failed download:\n",
            "- ICSA.NS: No data found for this date range, symbol may be delisted\n",
            "\n",
            "1 Failed download:\n",
            "- KWALITY.NS: No data found for this date range, symbol may be delisted\n",
            "\n",
            "1 Failed download:\n",
            "- ORTINLABSS.NS: No data found, symbol may be delisted\n",
            "\n",
            "1 Failed download:\n",
            "- 3RDROCK.NS: No data found for this date range, symbol may be delisted\n",
            "\n",
            "1 Failed download:\n",
            "- MVL.NS: No data found for this date range, symbol may be delisted\n",
            "\n",
            "1 Failed download:\n",
            "- NAKODA.NS: No data found for this date range, symbol may be delisted\n",
            "\n",
            "1 Failed download:\n",
            "- NOESISIND.NS: No data found for this date range, symbol may be delisted\n",
            "\n",
            "1 Failed download:\n",
            "- NUTEK.NS: No data found for this date range, symbol may be delisted\n",
            "\n",
            "1 Failed download:\n",
            "- OMMETALS.NS: No data found, symbol may be delisted\n",
            "\n",
            "1 Failed download:\n",
            "- RAINBOWPAP.NS: No data found for this date range, symbol may be delisted\n",
            "\n",
            "1 Failed download:\n",
            "- PETRONENGG.NS: No data found for this date range, symbol may be delisted\n",
            "\n",
            "1 Failed download:\n",
            "- PSL.NS: No data found for this date range, symbol may be delisted\n",
            "\n",
            "1 Failed download:\n",
            "- PVP.NS: No data found for this date range, symbol may be delisted\n",
            "\n",
            "1 Failed download:\n",
            "- 8KMILES.NS: No data found, symbol may be delisted\n",
            "\n",
            "1 Failed download:\n",
            "- SRSLTD.NS: No data found for this date range, symbol may be delisted\n",
            "\n",
            "1 Failed download:\n",
            "- SELMCL.NS: No data found for this date range, symbol may be delisted\n",
            "\n",
            "\n",
            "\n",
            "Money: -6112\n",
            "Trades: 85\n"
          ],
          "name": "stdout"
        },
        {
          "output_type": "execute_result",
          "data": {
            "text/html": [
              "<div>\n",
              "<style scoped>\n",
              "    .dataframe tbody tr th:only-of-type {\n",
              "        vertical-align: middle;\n",
              "    }\n",
              "\n",
              "    .dataframe tbody tr th {\n",
              "        vertical-align: top;\n",
              "    }\n",
              "\n",
              "    .dataframe thead th {\n",
              "        text-align: right;\n",
              "    }\n",
              "</style>\n",
              "<table border=\"1\" class=\"dataframe\">\n",
              "  <thead>\n",
              "    <tr style=\"text-align: right;\">\n",
              "      <th></th>\n",
              "      <th>Stock</th>\n",
              "      <th>Dates</th>\n",
              "      <th>Trades</th>\n",
              "      <th>Money</th>\n",
              "    </tr>\n",
              "  </thead>\n",
              "  <tbody>\n",
              "    <tr>\n",
              "      <th>29</th>\n",
              "      <td>ADANIPORTS.NS</td>\n",
              "      <td>[2021-05-11 13:15:00+05:30]</td>\n",
              "      <td>1</td>\n",
              "      <td>104</td>\n",
              "    </tr>\n",
              "    <tr>\n",
              "      <th>34</th>\n",
              "      <td>MUTHOOTFIN.NS</td>\n",
              "      <td>[2021-05-11 13:45:00+05:30]</td>\n",
              "      <td>1</td>\n",
              "      <td>201</td>\n",
              "    </tr>\n",
              "    <tr>\n",
              "      <th>85</th>\n",
              "      <td>KITEX.NS</td>\n",
              "      <td>[2021-03-24 10:30:00+05:30]</td>\n",
              "      <td>1</td>\n",
              "      <td>-228</td>\n",
              "    </tr>\n",
              "    <tr>\n",
              "      <th>93</th>\n",
              "      <td>MRF.NS</td>\n",
              "      <td>[2021-04-12 12:00:00+05:30]</td>\n",
              "      <td>1</td>\n",
              "      <td>81</td>\n",
              "    </tr>\n",
              "    <tr>\n",
              "      <th>97</th>\n",
              "      <td>ICIL.NS</td>\n",
              "      <td>[2021-04-05 11:00:00+05:30]</td>\n",
              "      <td>1</td>\n",
              "      <td>-85</td>\n",
              "    </tr>\n",
              "    <tr>\n",
              "      <th>...</th>\n",
              "      <td>...</td>\n",
              "      <td>...</td>\n",
              "      <td>...</td>\n",
              "      <td>...</td>\n",
              "    </tr>\n",
              "    <tr>\n",
              "      <th>1153</th>\n",
              "      <td>SWANENERGY.NS</td>\n",
              "      <td>[2021-03-25 10:45:00+05:30]</td>\n",
              "      <td>1</td>\n",
              "      <td>-903</td>\n",
              "    </tr>\n",
              "    <tr>\n",
              "      <th>1154</th>\n",
              "      <td>SWELECTES.NS</td>\n",
              "      <td>[2021-04-15 10:30:00+05:30]</td>\n",
              "      <td>1</td>\n",
              "      <td>-33</td>\n",
              "    </tr>\n",
              "    <tr>\n",
              "      <th>1163</th>\n",
              "      <td>TATACOFFEE.NS</td>\n",
              "      <td>[2021-05-11 13:15:00+05:30]</td>\n",
              "      <td>1</td>\n",
              "      <td>144</td>\n",
              "    </tr>\n",
              "    <tr>\n",
              "      <th>1199</th>\n",
              "      <td>WALCHANNAG.NS</td>\n",
              "      <td>[2021-04-07 15:15:00+05:30]</td>\n",
              "      <td>1</td>\n",
              "      <td>229</td>\n",
              "    </tr>\n",
              "    <tr>\n",
              "      <th>1213</th>\n",
              "      <td>BALRAMCHIN.NS</td>\n",
              "      <td>[2021-05-12 14:45:00+05:30]</td>\n",
              "      <td>1</td>\n",
              "      <td>-401</td>\n",
              "    </tr>\n",
              "  </tbody>\n",
              "</table>\n",
              "<p>82 rows × 4 columns</p>\n",
              "</div>"
            ],
            "text/plain": [
              "              Stock                        Dates  Trades  Money\n",
              "29    ADANIPORTS.NS  [2021-05-11 13:15:00+05:30]       1    104\n",
              "34    MUTHOOTFIN.NS  [2021-05-11 13:45:00+05:30]       1    201\n",
              "85         KITEX.NS  [2021-03-24 10:30:00+05:30]       1   -228\n",
              "93           MRF.NS  [2021-04-12 12:00:00+05:30]       1     81\n",
              "97          ICIL.NS  [2021-04-05 11:00:00+05:30]       1    -85\n",
              "...             ...                          ...     ...    ...\n",
              "1153  SWANENERGY.NS  [2021-03-25 10:45:00+05:30]       1   -903\n",
              "1154   SWELECTES.NS  [2021-04-15 10:30:00+05:30]       1    -33\n",
              "1163  TATACOFFEE.NS  [2021-05-11 13:15:00+05:30]       1    144\n",
              "1199  WALCHANNAG.NS  [2021-04-07 15:15:00+05:30]       1    229\n",
              "1213  BALRAMCHIN.NS  [2021-05-12 14:45:00+05:30]       1   -401\n",
              "\n",
              "[82 rows x 4 columns]"
            ]
          },
          "metadata": {
            "tags": []
          },
          "execution_count": 18
        },
        {
          "output_type": "stream",
          "text": [
            "time: 27min 26s (started: 2021-05-15 05:35:28 +00:00)\n"
          ],
          "name": "stdout"
        }
      ]
    },
    {
      "cell_type": "code",
      "metadata": {
        "colab": {
          "base_uri": "https://localhost:8080/"
        },
        "id": "CCOH9vldRP7D",
        "outputId": "010581ee-2856-4e1f-c4d2-786f03e9049d"
      },
      "source": [
        "print(len(set(final['Dates'])))"
      ],
      "execution_count": null,
      "outputs": [
        {
          "output_type": "stream",
          "text": [
            "65\n",
            "time: 1.61 ms (started: 2021-05-14 17:38:48 +00:00)\n"
          ],
          "name": "stdout"
        }
      ]
    },
    {
      "cell_type": "code",
      "metadata": {
        "colab": {
          "base_uri": "https://localhost:8080/"
        },
        "id": "dBrYuBE19al5",
        "outputId": "1fc6196b-3574-4da0-9b5b-1d46aac367fd"
      },
      "source": [
        "final.to_csv('all15mindates.csv')"
      ],
      "execution_count": null,
      "outputs": [
        {
          "output_type": "stream",
          "text": [
            "time: 15.9 ms (started: 2021-05-14 17:39:43 +00:00)\n"
          ],
          "name": "stdout"
        }
      ]
    },
    {
      "cell_type": "code",
      "metadata": {
        "colab": {
          "base_uri": "https://localhost:8080/",
          "height": 34
        },
        "id": "P_J6zf279n-X",
        "outputId": "6040137a-610a-4547-d632-014d7b1210ac"
      },
      "source": [
        "files.download('all15mindates.csv')"
      ],
      "execution_count": null,
      "outputs": [
        {
          "output_type": "display_data",
          "data": {
            "application/javascript": [
              "\n",
              "    async function download(id, filename, size) {\n",
              "      if (!google.colab.kernel.accessAllowed) {\n",
              "        return;\n",
              "      }\n",
              "      const div = document.createElement('div');\n",
              "      const label = document.createElement('label');\n",
              "      label.textContent = `Downloading \"${filename}\": `;\n",
              "      div.appendChild(label);\n",
              "      const progress = document.createElement('progress');\n",
              "      progress.max = size;\n",
              "      div.appendChild(progress);\n",
              "      document.body.appendChild(div);\n",
              "\n",
              "      const buffers = [];\n",
              "      let downloaded = 0;\n",
              "\n",
              "      const channel = await google.colab.kernel.comms.open(id);\n",
              "      // Send a message to notify the kernel that we're ready.\n",
              "      channel.send({})\n",
              "\n",
              "      for await (const message of channel.messages) {\n",
              "        // Send a message to notify the kernel that we're ready.\n",
              "        channel.send({})\n",
              "        if (message.buffers) {\n",
              "          for (const buffer of message.buffers) {\n",
              "            buffers.push(buffer);\n",
              "            downloaded += buffer.byteLength;\n",
              "            progress.value = downloaded;\n",
              "          }\n",
              "        }\n",
              "      }\n",
              "      const blob = new Blob(buffers, {type: 'application/binary'});\n",
              "      const a = document.createElement('a');\n",
              "      a.href = window.URL.createObjectURL(blob);\n",
              "      a.download = filename;\n",
              "      div.appendChild(a);\n",
              "      a.click();\n",
              "      div.remove();\n",
              "    }\n",
              "  "
            ],
            "text/plain": [
              "<IPython.core.display.Javascript object>"
            ]
          },
          "metadata": {
            "tags": []
          }
        },
        {
          "output_type": "display_data",
          "data": {
            "application/javascript": [
              "download(\"download_0c34735e-d91a-4426-9d37-4da3bf83105e\", \"all15mindates.csv\", 6510)"
            ],
            "text/plain": [
              "<IPython.core.display.Javascript object>"
            ]
          },
          "metadata": {
            "tags": []
          }
        },
        {
          "output_type": "stream",
          "text": [
            "time: 10.2 ms (started: 2021-05-14 17:41:02 +00:00)\n"
          ],
          "name": "stdout"
        }
      ]
    },
    {
      "cell_type": "code",
      "metadata": {
        "id": "6lq7TXSgrAT8"
      },
      "source": [
        "# stocks={}\n",
        "# for i in tqdm(NSE['Ticker']):\n",
        "#   stocks[i]=scanner(i, '2010-01-01','2022-01-01')\n",
        "# selected_stocks=pd.DataFrame.from_dict(stocks,orient='index',columns=['Dates','Trades','Money'])\n",
        "# selected_stocks=selected_stocks.reset_index()\n",
        "# selected_stocks=selected_stocks.rename(columns={'index':'Stock'})\n",
        "# print('\\n')\n",
        "# print('Money:',sum(selected_stocks['Money']))\n",
        "# print('Trades:',sum(selected_stocks['Trades']))\n",
        "# selected_stocks=selected_stocks[selected_stocks['Trades'] != 0]\n",
        "# selected_stocks"
      ],
      "execution_count": null,
      "outputs": []
    },
    {
      "cell_type": "code",
      "metadata": {
        "id": "2Dv2FYC29m_q"
      },
      "source": [
        ""
      ],
      "execution_count": null,
      "outputs": []
    },
    {
      "cell_type": "code",
      "metadata": {
        "colab": {
          "base_uri": "https://localhost:8080/"
        },
        "id": "Dd6GcxTVXr9C",
        "outputId": "4f728aa5-2328-4aba-c924-9acedc908081"
      },
      "source": [
        "print(len(set(final['Dates'])))"
      ],
      "execution_count": null,
      "outputs": [
        {
          "output_type": "stream",
          "text": [
            "13\n",
            "time: 1.03 ms (started: 2021-05-13 15:39:32 +00:00)\n"
          ],
          "name": "stdout"
        }
      ]
    },
    {
      "cell_type": "code",
      "metadata": {
        "id": "VF7kTdKVUOvS"
      },
      "source": [
        ""
      ],
      "execution_count": null,
      "outputs": []
    }
  ]
}