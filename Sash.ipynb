{
  "nbformat": 4,
  "nbformat_minor": 0,
  "metadata": {
    "colab": {
      "name": "Sash.ipynb",
      "provenance": [],
      "collapsed_sections": []
    },
    "kernelspec": {
      "name": "python3",
      "display_name": "Python 3"
    },
    "language_info": {
      "name": "python"
    }
  },
  "cells": [
    {
      "cell_type": "code",
      "metadata": {
        "colab": {
          "base_uri": "https://localhost:8080/"
        },
        "id": "GLw2WDrIH9bm",
        "outputId": "6daf4a1d-d037-46e7-ff3f-c80b5bae7cf3"
      },
      "source": [
        "!pip install yfinance\n",
        "import pandas as pd \n",
        "import yfinance as yf # import libraries\n",
        "import numpy as np\n",
        "import matplotlib.pyplot as plt\n",
        "plt.style.use('seaborn')"
      ],
      "execution_count": null,
      "outputs": [
        {
          "output_type": "stream",
          "text": [
            "Collecting yfinance\n",
            "  Downloading https://files.pythonhosted.org/packages/a7/ee/315752b9ef281ba83c62aa7ec2e2074f85223da6e7e74efb4d3e11c0f510/yfinance-0.1.59.tar.gz\n",
            "Requirement already satisfied: pandas>=0.24 in /usr/local/lib/python3.7/dist-packages (from yfinance) (1.1.5)\n",
            "Requirement already satisfied: numpy>=1.15 in /usr/local/lib/python3.7/dist-packages (from yfinance) (1.19.5)\n",
            "Requirement already satisfied: requests>=2.20 in /usr/local/lib/python3.7/dist-packages (from yfinance) (2.23.0)\n",
            "Requirement already satisfied: multitasking>=0.0.7 in /usr/local/lib/python3.7/dist-packages (from yfinance) (0.0.9)\n",
            "Collecting lxml>=4.5.1\n",
            "\u001b[?25l  Downloading https://files.pythonhosted.org/packages/cf/4d/6537313bf58fe22b508f08cf3eb86b29b6f9edf68e00454224539421073b/lxml-4.6.3-cp37-cp37m-manylinux1_x86_64.whl (5.5MB)\n",
            "\u001b[K     |████████████████████████████████| 5.5MB 6.3MB/s \n",
            "\u001b[?25hRequirement already satisfied: python-dateutil>=2.7.3 in /usr/local/lib/python3.7/dist-packages (from pandas>=0.24->yfinance) (2.8.1)\n",
            "Requirement already satisfied: pytz>=2017.2 in /usr/local/lib/python3.7/dist-packages (from pandas>=0.24->yfinance) (2018.9)\n",
            "Requirement already satisfied: certifi>=2017.4.17 in /usr/local/lib/python3.7/dist-packages (from requests>=2.20->yfinance) (2020.12.5)\n",
            "Requirement already satisfied: urllib3!=1.25.0,!=1.25.1,<1.26,>=1.21.1 in /usr/local/lib/python3.7/dist-packages (from requests>=2.20->yfinance) (1.24.3)\n",
            "Requirement already satisfied: chardet<4,>=3.0.2 in /usr/local/lib/python3.7/dist-packages (from requests>=2.20->yfinance) (3.0.4)\n",
            "Requirement already satisfied: idna<3,>=2.5 in /usr/local/lib/python3.7/dist-packages (from requests>=2.20->yfinance) (2.10)\n",
            "Requirement already satisfied: six>=1.5 in /usr/local/lib/python3.7/dist-packages (from python-dateutil>=2.7.3->pandas>=0.24->yfinance) (1.15.0)\n",
            "Building wheels for collected packages: yfinance\n",
            "  Building wheel for yfinance (setup.py) ... \u001b[?25l\u001b[?25hdone\n",
            "  Created wheel for yfinance: filename=yfinance-0.1.59-py2.py3-none-any.whl size=23442 sha256=b231eaf21aa0f7ad75e7b83a568843494f235bc80baaae022e9137a80f91d159\n",
            "  Stored in directory: /root/.cache/pip/wheels/f8/2a/0f/4b5a86e1d52e451757eb6bc17fd899629f0925c777741b6d04\n",
            "Successfully built yfinance\n",
            "Installing collected packages: lxml, yfinance\n",
            "  Found existing installation: lxml 4.2.6\n",
            "    Uninstalling lxml-4.2.6:\n",
            "      Successfully uninstalled lxml-4.2.6\n",
            "Successfully installed lxml-4.6.3 yfinance-0.1.59\n"
          ],
          "name": "stdout"
        }
      ]
    },
    {
      "cell_type": "code",
      "metadata": {
        "id": "9-qAp9m7ID_d",
        "colab": {
          "base_uri": "https://localhost:8080/",
          "height": 169
        },
        "outputId": "24511b71-546b-4d2b-904c-108431d8bbda"
      },
      "source": [
        "data = yf.download('ALKEM.NS', \n",
        "                      start='2021-04-08', \n",
        "                      end='2021-04-13',\n",
        "                      progress=False)\n",
        "#data.dropna(inplace=True)\n",
        "data"
      ],
      "execution_count": null,
      "outputs": [
        {
          "output_type": "execute_result",
          "data": {
            "text/html": [
              "<div>\n",
              "<style scoped>\n",
              "    .dataframe tbody tr th:only-of-type {\n",
              "        vertical-align: middle;\n",
              "    }\n",
              "\n",
              "    .dataframe tbody tr th {\n",
              "        vertical-align: top;\n",
              "    }\n",
              "\n",
              "    .dataframe thead th {\n",
              "        text-align: right;\n",
              "    }\n",
              "</style>\n",
              "<table border=\"1\" class=\"dataframe\">\n",
              "  <thead>\n",
              "    <tr style=\"text-align: right;\">\n",
              "      <th></th>\n",
              "      <th>Open</th>\n",
              "      <th>High</th>\n",
              "      <th>Low</th>\n",
              "      <th>Close</th>\n",
              "      <th>Adj Close</th>\n",
              "      <th>Volume</th>\n",
              "    </tr>\n",
              "    <tr>\n",
              "      <th>Date</th>\n",
              "      <th></th>\n",
              "      <th></th>\n",
              "      <th></th>\n",
              "      <th></th>\n",
              "      <th></th>\n",
              "      <th></th>\n",
              "    </tr>\n",
              "  </thead>\n",
              "  <tbody>\n",
              "    <tr>\n",
              "      <th>2021-04-08</th>\n",
              "      <td>2745.000000</td>\n",
              "      <td>2760.0</td>\n",
              "      <td>2704.0</td>\n",
              "      <td>2706.449951</td>\n",
              "      <td>2706.449951</td>\n",
              "      <td>90791</td>\n",
              "    </tr>\n",
              "    <tr>\n",
              "      <th>2021-04-09</th>\n",
              "      <td>2710.000000</td>\n",
              "      <td>2882.0</td>\n",
              "      <td>2710.0</td>\n",
              "      <td>2832.300049</td>\n",
              "      <td>2832.300049</td>\n",
              "      <td>630670</td>\n",
              "    </tr>\n",
              "    <tr>\n",
              "      <th>2021-04-12</th>\n",
              "      <td>2829.899902</td>\n",
              "      <td>2889.0</td>\n",
              "      <td>2721.0</td>\n",
              "      <td>2745.550049</td>\n",
              "      <td>2745.550049</td>\n",
              "      <td>449475</td>\n",
              "    </tr>\n",
              "  </tbody>\n",
              "</table>\n",
              "</div>"
            ],
            "text/plain": [
              "                   Open    High     Low        Close    Adj Close  Volume\n",
              "Date                                                                     \n",
              "2021-04-08  2745.000000  2760.0  2704.0  2706.449951  2706.449951   90791\n",
              "2021-04-09  2710.000000  2882.0  2710.0  2832.300049  2832.300049  630670\n",
              "2021-04-12  2829.899902  2889.0  2721.0  2745.550049  2745.550049  449475"
            ]
          },
          "metadata": {
            "tags": []
          },
          "execution_count": 300
        }
      ]
    },
    {
      "cell_type": "code",
      "metadata": {
        "id": "3KXY-2qjKpPr"
      },
      "source": [
        "value=[]\n",
        "for i in zip(data['Open'],data['Close']):\n",
        "  if i[0]>i[1]:\n",
        "    value.append('Red')\n",
        "  else:\n",
        "    value.append('Green')\n",
        "data['color']= value"
      ],
      "execution_count": null,
      "outputs": []
    },
    {
      "cell_type": "code",
      "metadata": {
        "id": "fzLQnnvBNMTo"
      },
      "source": [
        "sash=[]\n",
        "for i in range(0,len(data)):\n",
        "  try:\n",
        "    if (data['Close'][i] < data['Open'][i+1]) and (data['Open'][i] > data['Open'][i+1]) and (data['Open'][i] < data['Close'][i+1]) and (data['color'][i] == 'Red') and (data['color'][i+1] == 'Green'):\n",
        "      sash.append('Bull Sash')\n",
        "    else:\n",
        "      sash.append('flat')\n",
        "  except:\n",
        "    sash.append('flat')\n",
        "data['Sash']= sash"
      ],
      "execution_count": null,
      "outputs": []
    },
    {
      "cell_type": "code",
      "metadata": {
        "id": "3da-9k3JKpZV"
      },
      "source": [
        "data['Sash']=data['Sash'].shift(1)"
      ],
      "execution_count": null,
      "outputs": []
    },
    {
      "cell_type": "code",
      "metadata": {
        "colab": {
          "base_uri": "https://localhost:8080/",
          "height": 169
        },
        "id": "YjKtNnMiVQfP",
        "outputId": "91e48fd3-164d-4886-981c-53439572f5bd"
      },
      "source": [
        "data"
      ],
      "execution_count": null,
      "outputs": [
        {
          "output_type": "execute_result",
          "data": {
            "text/html": [
              "<div>\n",
              "<style scoped>\n",
              "    .dataframe tbody tr th:only-of-type {\n",
              "        vertical-align: middle;\n",
              "    }\n",
              "\n",
              "    .dataframe tbody tr th {\n",
              "        vertical-align: top;\n",
              "    }\n",
              "\n",
              "    .dataframe thead th {\n",
              "        text-align: right;\n",
              "    }\n",
              "</style>\n",
              "<table border=\"1\" class=\"dataframe\">\n",
              "  <thead>\n",
              "    <tr style=\"text-align: right;\">\n",
              "      <th></th>\n",
              "      <th>Open</th>\n",
              "      <th>High</th>\n",
              "      <th>Low</th>\n",
              "      <th>Close</th>\n",
              "      <th>Adj Close</th>\n",
              "      <th>Volume</th>\n",
              "      <th>color</th>\n",
              "      <th>Sash</th>\n",
              "    </tr>\n",
              "    <tr>\n",
              "      <th>Date</th>\n",
              "      <th></th>\n",
              "      <th></th>\n",
              "      <th></th>\n",
              "      <th></th>\n",
              "      <th></th>\n",
              "      <th></th>\n",
              "      <th></th>\n",
              "      <th></th>\n",
              "    </tr>\n",
              "  </thead>\n",
              "  <tbody>\n",
              "    <tr>\n",
              "      <th>2021-04-08</th>\n",
              "      <td>2745.000000</td>\n",
              "      <td>2760.0</td>\n",
              "      <td>2704.0</td>\n",
              "      <td>2706.449951</td>\n",
              "      <td>2706.449951</td>\n",
              "      <td>90791</td>\n",
              "      <td>Red</td>\n",
              "      <td>NaN</td>\n",
              "    </tr>\n",
              "    <tr>\n",
              "      <th>2021-04-09</th>\n",
              "      <td>2710.000000</td>\n",
              "      <td>2882.0</td>\n",
              "      <td>2710.0</td>\n",
              "      <td>2832.300049</td>\n",
              "      <td>2832.300049</td>\n",
              "      <td>630670</td>\n",
              "      <td>Green</td>\n",
              "      <td>Bull Sash</td>\n",
              "    </tr>\n",
              "    <tr>\n",
              "      <th>2021-04-12</th>\n",
              "      <td>2829.899902</td>\n",
              "      <td>2889.0</td>\n",
              "      <td>2721.0</td>\n",
              "      <td>2745.550049</td>\n",
              "      <td>2745.550049</td>\n",
              "      <td>449475</td>\n",
              "      <td>Red</td>\n",
              "      <td>flat</td>\n",
              "    </tr>\n",
              "  </tbody>\n",
              "</table>\n",
              "</div>"
            ],
            "text/plain": [
              "                   Open    High     Low  ...  Volume  color       Sash\n",
              "Date                                     ...                          \n",
              "2021-04-08  2745.000000  2760.0  2704.0  ...   90791    Red        NaN\n",
              "2021-04-09  2710.000000  2882.0  2710.0  ...  630670  Green  Bull Sash\n",
              "2021-04-12  2829.899902  2889.0  2721.0  ...  449475    Red       flat\n",
              "\n",
              "[3 rows x 8 columns]"
            ]
          },
          "metadata": {
            "tags": []
          },
          "execution_count": 304
        }
      ]
    },
    {
      "cell_type": "code",
      "metadata": {
        "id": "PcwJb2hRJFVi"
      },
      "source": [
        "data2 = yf.download('ALKEM.NS', \n",
        "                       start='2021-04-08', \n",
        "                       end='2021-04-13',\n",
        "                       progress=False, interval= \"15m\")\n",
        "# data2.dropna(inplace=True)"
      ],
      "execution_count": null,
      "outputs": []
    },
    {
      "cell_type": "code",
      "metadata": {
        "id": "oE8le0k_Thib"
      },
      "source": [
        "data2.reset_index(inplace=True)"
      ],
      "execution_count": null,
      "outputs": []
    },
    {
      "cell_type": "code",
      "metadata": {
        "id": "eIDtoNHFUPdl"
      },
      "source": [
        "data2['Datetime']=data2['Datetime'].astype('str')\n",
        "df=data2['Datetime'].str.split(' ',expand=True)\n",
        "data2['Date']=df[0]\n",
        "data2['Time']=df[1]"
      ],
      "execution_count": null,
      "outputs": []
    },
    {
      "cell_type": "code",
      "metadata": {
        "id": "yNsZHwqTJmRZ"
      },
      "source": [
        "##\n",
        "# NSE WAS CLOSE DUE TO GLICTH\n",
        "\n",
        "for i in data2['Date']:\n",
        "  if i=='2021-02-24':\n",
        "    data2.drop(data2[data2['Date'] == i].index, inplace = True) \n",
        "\n",
        "data2.reset_index(inplace=True)\n",
        "data2.drop('index',axis=1,inplace=True)\n",
        "\n",
        "data=data.reset_index()\n",
        "\n",
        "data['Date']=data['Date'].astype('str')\n",
        "\n",
        "for i in data['Date']:\n",
        "  if i=='2021-02-24':\n",
        "    data.drop(data[data['Date'] == i].index, inplace = True) \n",
        "\n",
        "data=data.reset_index()\n",
        "data.drop('index',axis=1,inplace=True)"
      ],
      "execution_count": null,
      "outputs": []
    },
    {
      "cell_type": "code",
      "metadata": {
        "id": "WVqvTyt1Jmik"
      },
      "source": [
        "##"
      ],
      "execution_count": null,
      "outputs": []
    },
    {
      "cell_type": "code",
      "metadata": {
        "id": "LB4qRGK7LfnE"
      },
      "source": [
        "data3=data2.copy()"
      ],
      "execution_count": null,
      "outputs": []
    },
    {
      "cell_type": "code",
      "metadata": {
        "id": "OM7_NgDjUE3Q"
      },
      "source": [
        "for i in data2['Time']:\n",
        "  if i=='10:30:00+05:30' or i=='10:45:00+05:30' or i=='15:00:00+05:30' or i=='15:15:00+05:30':\n",
        "    pass\n",
        "  else:\n",
        "    data2.drop(data2[data2['Time'] == i].index, inplace = True) "
      ],
      "execution_count": null,
      "outputs": []
    },
    {
      "cell_type": "code",
      "metadata": {
        "id": "9MCfwrYFinpH"
      },
      "source": [
        "data2.reset_index(inplace=True)"
      ],
      "execution_count": null,
      "outputs": []
    },
    {
      "cell_type": "code",
      "metadata": {
        "id": "p87id2gWjH-a"
      },
      "source": [
        "data2.drop('index',axis=1,inplace=True)"
      ],
      "execution_count": null,
      "outputs": []
    },
    {
      "cell_type": "code",
      "metadata": {
        "id": "0VBpGsTSinx3"
      },
      "source": [
        "#data2\n",
        "avg_cost=[]\n",
        "for i in range(0,len(data2)-1):\n",
        "  avg_cost.append(((data2['High'][i] + data2['Low'][i] + data2['High'][i+1] + data2['Low'][i+1])/4))\n",
        "avg_cost.append(data2['Open'][i])"
      ],
      "execution_count": null,
      "outputs": []
    },
    {
      "cell_type": "code",
      "metadata": {
        "id": "PUWDv0pBl5jn"
      },
      "source": [
        "data2['avg buy']=avg_cost"
      ],
      "execution_count": null,
      "outputs": []
    },
    {
      "cell_type": "code",
      "metadata": {
        "id": "5sLZZ5N0Lkrg"
      },
      "source": [
        "for i in data3['Time']:\n",
        "  if i=='10:30:00+05:30'  or i=='09:15:00+05:30' or i=='09:30:00+05:30' or i=='09:45:00+05:30' or i=='10:00:00+05:30' or i=='10:15:00+05:30':\n",
        "    pass\n",
        "  else:\n",
        "    data3.drop(data3[data3['Time'] == i].index, inplace = True) "
      ],
      "execution_count": null,
      "outputs": []
    },
    {
      "cell_type": "code",
      "metadata": {
        "id": "R3Rq8g2FPus2"
      },
      "source": [
        "data3=data3.reset_index()"
      ],
      "execution_count": null,
      "outputs": []
    },
    {
      "cell_type": "code",
      "metadata": {
        "id": "2cgKmsachxw1"
      },
      "source": [
        "low=[]\n",
        "for i in list(data['Date']):\n",
        "  temp=data3[data3['Date'] == i] \n",
        "  low.append(min(temp['Low']))"
      ],
      "execution_count": null,
      "outputs": []
    },
    {
      "cell_type": "code",
      "metadata": {
        "id": "Wtkd2mQwmj6z"
      },
      "source": [
        "data['lowest']=low"
      ],
      "execution_count": null,
      "outputs": []
    },
    {
      "cell_type": "code",
      "metadata": {
        "id": "NK3Hv6BIQ9ag"
      },
      "source": [
        "data2=data2.reset_index().drop('index',axis=1)"
      ],
      "execution_count": null,
      "outputs": []
    },
    {
      "cell_type": "code",
      "metadata": {
        "id": "5UVWlbcLTvYt"
      },
      "source": [
        "data2=data2.drop(['High','Low','Close','Adj Close','Volume','Date','Time'],axis=1)"
      ],
      "execution_count": null,
      "outputs": []
    },
    {
      "cell_type": "code",
      "metadata": {
        "id": "r-BEaTgRT2iA"
      },
      "source": [
        "data2=data2.rename(columns={'Open':'Buy Price','Datetime':'Buy Date'})"
      ],
      "execution_count": null,
      "outputs": []
    },
    {
      "cell_type": "code",
      "metadata": {
        "id": "Bst-PJJumTSo"
      },
      "source": [
        "data2 = data2[np.arange(len(data2)) % 2 == 0]"
      ],
      "execution_count": null,
      "outputs": []
    },
    {
      "cell_type": "code",
      "metadata": {
        "id": "Lim2onzFmTbP"
      },
      "source": [
        "data2=data2.reset_index().drop('index',axis=1)"
      ],
      "execution_count": null,
      "outputs": []
    },
    {
      "cell_type": "code",
      "metadata": {
        "id": "rISiQ6bEVci8"
      },
      "source": [
        "data2['Sell Date']=data2['Buy Date'].shift(-1)\n",
        "data2['Sell Price']=data2['Buy Price'].shift(-1)\n",
        "data2['avg sell']=data2['avg buy'].shift(-1)"
      ],
      "execution_count": null,
      "outputs": []
    },
    {
      "cell_type": "code",
      "metadata": {
        "id": "mvUqWObpX048"
      },
      "source": [
        "data2 = data2[np.arange(len(data2)) % 2 == 0]"
      ],
      "execution_count": null,
      "outputs": []
    },
    {
      "cell_type": "code",
      "metadata": {
        "id": "w6KDGg_OYAJe"
      },
      "source": [
        "data2=data2.reset_index().drop('index',axis=1)"
      ],
      "execution_count": null,
      "outputs": []
    },
    {
      "cell_type": "code",
      "metadata": {
        "id": "ComSLtb7YtWD",
        "colab": {
          "base_uri": "https://localhost:8080/",
          "height": 190
        },
        "outputId": "86fa4947-8c2a-412e-c4ea-e977cd42fd05"
      },
      "source": [
        "data2"
      ],
      "execution_count": null,
      "outputs": [
        {
          "output_type": "execute_result",
          "data": {
            "text/html": [
              "<div>\n",
              "<style scoped>\n",
              "    .dataframe tbody tr th:only-of-type {\n",
              "        vertical-align: middle;\n",
              "    }\n",
              "\n",
              "    .dataframe tbody tr th {\n",
              "        vertical-align: top;\n",
              "    }\n",
              "\n",
              "    .dataframe thead th {\n",
              "        text-align: right;\n",
              "    }\n",
              "</style>\n",
              "<table border=\"1\" class=\"dataframe\">\n",
              "  <thead>\n",
              "    <tr style=\"text-align: right;\">\n",
              "      <th></th>\n",
              "      <th>Buy Date</th>\n",
              "      <th>Buy Price</th>\n",
              "      <th>avg buy</th>\n",
              "      <th>Sell Date</th>\n",
              "      <th>Sell Price</th>\n",
              "      <th>avg sell</th>\n",
              "    </tr>\n",
              "  </thead>\n",
              "  <tbody>\n",
              "    <tr>\n",
              "      <th>0</th>\n",
              "      <td>2021-04-08 10:30:00+05:30</td>\n",
              "      <td>2731.449951</td>\n",
              "      <td>2729.450012</td>\n",
              "      <td>2021-04-08 15:00:00+05:30</td>\n",
              "      <td>2710.199951</td>\n",
              "      <td>2707.887512</td>\n",
              "    </tr>\n",
              "    <tr>\n",
              "      <th>1</th>\n",
              "      <td>2021-04-09 10:30:00+05:30</td>\n",
              "      <td>2743.000000</td>\n",
              "      <td>2733.287415</td>\n",
              "      <td>2021-04-09 15:00:00+05:30</td>\n",
              "      <td>2834.000000</td>\n",
              "      <td>2833.212524</td>\n",
              "    </tr>\n",
              "    <tr>\n",
              "      <th>2</th>\n",
              "      <td>2021-04-12 10:30:00+05:30</td>\n",
              "      <td>2878.000000</td>\n",
              "      <td>2860.312500</td>\n",
              "      <td>2021-04-12 15:00:00+05:30</td>\n",
              "      <td>2739.949951</td>\n",
              "      <td>2746.637451</td>\n",
              "    </tr>\n",
              "  </tbody>\n",
              "</table>\n",
              "</div>"
            ],
            "text/plain": [
              "                    Buy Date    Buy Price  ...   Sell Price     avg sell\n",
              "0  2021-04-08 10:30:00+05:30  2731.449951  ...  2710.199951  2707.887512\n",
              "1  2021-04-09 10:30:00+05:30  2743.000000  ...  2834.000000  2833.212524\n",
              "2  2021-04-12 10:30:00+05:30  2878.000000  ...  2739.949951  2746.637451\n",
              "\n",
              "[3 rows x 6 columns]"
            ]
          },
          "metadata": {
            "tags": []
          },
          "execution_count": 328
        }
      ]
    },
    {
      "cell_type": "code",
      "metadata": {
        "id": "GqdQrDJMZN64"
      },
      "source": [
        "data['BT Price']=data2['avg sell']\n",
        "data['ST Price']=data2['avg buy'].shift(-1)"
      ],
      "execution_count": null,
      "outputs": []
    },
    {
      "cell_type": "code",
      "metadata": {
        "id": "c8jwx5adnsyg"
      },
      "source": [
        "data['lowest']=data['lowest'].shift(-1)"
      ],
      "execution_count": null,
      "outputs": []
    },
    {
      "cell_type": "code",
      "metadata": {
        "id": "TKyBE1lrbjxy"
      },
      "source": [
        "final=data.copy()"
      ],
      "execution_count": null,
      "outputs": []
    },
    {
      "cell_type": "code",
      "metadata": {
        "id": "rDlAGJyIHUQ1"
      },
      "source": [
        "final=final.drop(['High','Adj Close','Volume'],axis=1)"
      ],
      "execution_count": null,
      "outputs": []
    },
    {
      "cell_type": "code",
      "metadata": {
        "id": "1O_W0Ri0mATM"
      },
      "source": [
        "final=final.dropna()"
      ],
      "execution_count": null,
      "outputs": []
    },
    {
      "cell_type": "code",
      "metadata": {
        "colab": {
          "base_uri": "https://localhost:8080/",
          "height": 78
        },
        "id": "xotYKGT1g-l5",
        "outputId": "73c85036-7a62-4a3b-9299-94b525ab3372"
      },
      "source": [
        "final"
      ],
      "execution_count": null,
      "outputs": [
        {
          "output_type": "execute_result",
          "data": {
            "text/html": [
              "<div>\n",
              "<style scoped>\n",
              "    .dataframe tbody tr th:only-of-type {\n",
              "        vertical-align: middle;\n",
              "    }\n",
              "\n",
              "    .dataframe tbody tr th {\n",
              "        vertical-align: top;\n",
              "    }\n",
              "\n",
              "    .dataframe thead th {\n",
              "        text-align: right;\n",
              "    }\n",
              "</style>\n",
              "<table border=\"1\" class=\"dataframe\">\n",
              "  <thead>\n",
              "    <tr style=\"text-align: right;\">\n",
              "      <th></th>\n",
              "      <th>Date</th>\n",
              "      <th>Open</th>\n",
              "      <th>Low</th>\n",
              "      <th>Close</th>\n",
              "      <th>color</th>\n",
              "      <th>Sash</th>\n",
              "      <th>lowest</th>\n",
              "      <th>BT Price</th>\n",
              "      <th>ST Price</th>\n",
              "    </tr>\n",
              "  </thead>\n",
              "  <tbody>\n",
              "    <tr>\n",
              "      <th>1</th>\n",
              "      <td>2021-04-09</td>\n",
              "      <td>2710.0</td>\n",
              "      <td>2710.0</td>\n",
              "      <td>2832.300049</td>\n",
              "      <td>Green</td>\n",
              "      <td>Bull Sash</td>\n",
              "      <td>2732.350098</td>\n",
              "      <td>2833.212524</td>\n",
              "      <td>2860.3125</td>\n",
              "    </tr>\n",
              "  </tbody>\n",
              "</table>\n",
              "</div>"
            ],
            "text/plain": [
              "         Date    Open     Low  ...       lowest     BT Price   ST Price\n",
              "1  2021-04-09  2710.0  2710.0  ...  2732.350098  2833.212524  2860.3125\n",
              "\n",
              "[1 rows x 9 columns]"
            ]
          },
          "metadata": {
            "tags": []
          },
          "execution_count": 334
        }
      ]
    },
    {
      "cell_type": "code",
      "metadata": {
        "id": "wYMCAXAgbUmA"
      },
      "source": [
        "for i in final['Sash']:\n",
        "  if i!='Bull Sash':\n",
        "    final.drop(final[final['Sash'] == i].index, inplace = True) "
      ],
      "execution_count": null,
      "outputs": []
    },
    {
      "cell_type": "code",
      "metadata": {
        "id": "RJZT0hwrpsdU"
      },
      "source": [
        ""
      ],
      "execution_count": null,
      "outputs": []
    },
    {
      "cell_type": "code",
      "metadata": {
        "id": "otp6ZHAIU2l6"
      },
      "source": [
        "final=final.rename(columns={'Low':'Stop Loss','Date':'Candle Date'})"
      ],
      "execution_count": null,
      "outputs": []
    },
    {
      "cell_type": "code",
      "metadata": {
        "id": "HLcf0aEaZaKi"
      },
      "source": [
        "final=final.drop(['Open','color','Sash','Close'],axis=1)"
      ],
      "execution_count": null,
      "outputs": []
    },
    {
      "cell_type": "code",
      "metadata": {
        "id": "bsqYue_lViy0"
      },
      "source": [
        "final.reset_index(inplace=True)"
      ],
      "execution_count": null,
      "outputs": []
    },
    {
      "cell_type": "code",
      "metadata": {
        "id": "hnFaJEyVrxps"
      },
      "source": [
        "final=final.drop('index',axis=1)"
      ],
      "execution_count": null,
      "outputs": []
    },
    {
      "cell_type": "code",
      "metadata": {
        "colab": {
          "base_uri": "https://localhost:8080/",
          "height": 78
        },
        "id": "3ijPWSt7sG6h",
        "outputId": "4f6e0b1d-0098-4733-acbb-36a174345abc"
      },
      "source": [
        "final"
      ],
      "execution_count": null,
      "outputs": [
        {
          "output_type": "execute_result",
          "data": {
            "text/html": [
              "<div>\n",
              "<style scoped>\n",
              "    .dataframe tbody tr th:only-of-type {\n",
              "        vertical-align: middle;\n",
              "    }\n",
              "\n",
              "    .dataframe tbody tr th {\n",
              "        vertical-align: top;\n",
              "    }\n",
              "\n",
              "    .dataframe thead th {\n",
              "        text-align: right;\n",
              "    }\n",
              "</style>\n",
              "<table border=\"1\" class=\"dataframe\">\n",
              "  <thead>\n",
              "    <tr style=\"text-align: right;\">\n",
              "      <th></th>\n",
              "      <th>Candle Date</th>\n",
              "      <th>Stop Loss</th>\n",
              "      <th>lowest</th>\n",
              "      <th>BT Price</th>\n",
              "      <th>ST Price</th>\n",
              "    </tr>\n",
              "  </thead>\n",
              "  <tbody>\n",
              "    <tr>\n",
              "      <th>0</th>\n",
              "      <td>2021-04-09</td>\n",
              "      <td>2710.0</td>\n",
              "      <td>2732.350098</td>\n",
              "      <td>2833.212524</td>\n",
              "      <td>2860.3125</td>\n",
              "    </tr>\n",
              "  </tbody>\n",
              "</table>\n",
              "</div>"
            ],
            "text/plain": [
              "  Candle Date  Stop Loss       lowest     BT Price   ST Price\n",
              "0  2021-04-09     2710.0  2732.350098  2833.212524  2860.3125"
            ]
          },
          "metadata": {
            "tags": []
          },
          "execution_count": 340
        }
      ]
    },
    {
      "cell_type": "code",
      "metadata": {
        "id": "y7y6fSjvoXjz"
      },
      "source": [
        "tp=[]\n",
        "for i in range(0,len(final)):\n",
        "  if (final['Stop Loss'][i] - ((final['Stop Loss'][i]*0.2)/100)) >= final['lowest'][i]:\n",
        "    total=(final['Stop Loss'][i] - ((final['Stop Loss'][i]*0.2)/100)) - final['BT Price'][i]\n",
        "  else:\n",
        "    total=final['ST Price'][i] - final['BT Price'][i]\n",
        "  tp.append(total)\n",
        "\n",
        "final['Total Points'] = tp"
      ],
      "execution_count": null,
      "outputs": []
    },
    {
      "cell_type": "code",
      "metadata": {
        "colab": {
          "base_uri": "https://localhost:8080/",
          "height": 78
        },
        "id": "KIAc64OIsQiP",
        "outputId": "dc91ccbd-5405-4c9b-8f13-cf8516045d7f"
      },
      "source": [
        "final"
      ],
      "execution_count": null,
      "outputs": [
        {
          "output_type": "execute_result",
          "data": {
            "text/html": [
              "<div>\n",
              "<style scoped>\n",
              "    .dataframe tbody tr th:only-of-type {\n",
              "        vertical-align: middle;\n",
              "    }\n",
              "\n",
              "    .dataframe tbody tr th {\n",
              "        vertical-align: top;\n",
              "    }\n",
              "\n",
              "    .dataframe thead th {\n",
              "        text-align: right;\n",
              "    }\n",
              "</style>\n",
              "<table border=\"1\" class=\"dataframe\">\n",
              "  <thead>\n",
              "    <tr style=\"text-align: right;\">\n",
              "      <th></th>\n",
              "      <th>Candle Date</th>\n",
              "      <th>Stop Loss</th>\n",
              "      <th>lowest</th>\n",
              "      <th>BT Price</th>\n",
              "      <th>ST Price</th>\n",
              "      <th>Total Points</th>\n",
              "    </tr>\n",
              "  </thead>\n",
              "  <tbody>\n",
              "    <tr>\n",
              "      <th>0</th>\n",
              "      <td>2021-04-09</td>\n",
              "      <td>2710.0</td>\n",
              "      <td>2732.350098</td>\n",
              "      <td>2833.212524</td>\n",
              "      <td>2860.3125</td>\n",
              "      <td>27.099976</td>\n",
              "    </tr>\n",
              "  </tbody>\n",
              "</table>\n",
              "</div>"
            ],
            "text/plain": [
              "  Candle Date  Stop Loss       lowest     BT Price   ST Price  Total Points\n",
              "0  2021-04-09     2710.0  2732.350098  2833.212524  2860.3125     27.099976"
            ]
          },
          "metadata": {
            "tags": []
          },
          "execution_count": 342
        }
      ]
    },
    {
      "cell_type": "code",
      "metadata": {
        "id": "_hi_ZNjOb79l"
      },
      "source": [
        "final['P/L'] = round(10000/final['BT Price'])*final['Total Points']"
      ],
      "execution_count": null,
      "outputs": []
    },
    {
      "cell_type": "code",
      "metadata": {
        "id": "Z0TDHATxl6nQ"
      },
      "source": [
        "a,b= sum(final['P/L']) , len(final) "
      ],
      "execution_count": null,
      "outputs": []
    },
    {
      "cell_type": "code",
      "metadata": {
        "id": "Fb-X-b2mnGyB"
      },
      "source": [
        "bull_sash_stocks={}\n",
        "bull_sash_stocks['ssk']=[a,b]\n",
        "bull_sash_stocks['babu']=[a,b]\n"
      ],
      "execution_count": null,
      "outputs": []
    },
    {
      "cell_type": "code",
      "metadata": {
        "colab": {
          "base_uri": "https://localhost:8080/"
        },
        "id": "u37wjUPbF1eI",
        "outputId": "0bdfbd9d-fe55-4807-b658-bc550723cb34"
      },
      "source": [
        "bull_sash_stocks"
      ],
      "execution_count": null,
      "outputs": [
        {
          "output_type": "execute_result",
          "data": {
            "text/plain": [
              "{'babu': [108.39990234375, 1], 'ssk': [108.39990234375, 1]}"
            ]
          },
          "metadata": {
            "tags": []
          },
          "execution_count": 346
        }
      ]
    },
    {
      "cell_type": "code",
      "metadata": {
        "id": "dtzlAK9FF20h"
      },
      "source": [
        "# final_bull_sash=pd.DataFrame.from_dict(bull_sash_stocks,orient='index',columns=['P/L','counts'],)\n",
        "# final_bull_sash.reset_index(inplace=True)\n",
        "# final_bull_sash=final_bull_sash.rename(columns={'index':'Ticker'})\n",
        "# data3.to_csv('data3.csv')"
      ],
      "execution_count": null,
      "outputs": []
    },
    {
      "cell_type": "code",
      "metadata": {
        "id": "1RVwPKjOGCPA"
      },
      "source": [
        ""
      ],
      "execution_count": null,
      "outputs": []
    },
    {
      "cell_type": "code",
      "metadata": {
        "id": "ueElVIFgVMwf"
      },
      "source": [
        ""
      ],
      "execution_count": null,
      "outputs": []
    },
    {
      "cell_type": "code",
      "metadata": {
        "id": "xHWdpVXP8kNh"
      },
      "source": [
        "def bullsash(stock_name,start_date,end_date,Amount):\n",
        "  # Read daily data\n",
        "  data = yf.download(stock_name, \n",
        "                      start=start_date, \n",
        "                      end=end_date,\n",
        "                      progress=False)\n",
        "  # data.dropna(inplace=True)\n",
        "  # decide candle color\n",
        "  value=[]\n",
        "  for i in zip(data['Open'],data['Close']):\n",
        "    if i[0]>i[1]:\n",
        "      value.append('Red')\n",
        "    else:\n",
        "      value.append('Green')\n",
        "  data['color']= value\n",
        "  # decide bull sash\n",
        "  sash=[]\n",
        "  for i in range(0,len(data)):\n",
        "    try:\n",
        "      if (data['Close'][i] < data['Open'][i+1]) and (data['Open'][i] > data['Open'][i+1]) and (data['Open'][i] < data['Close'][i+1]) and (data['color'][i] == 'Red') and (data['color'][i+1] == 'Green'):\n",
        "        sash.append('Bull Sash')\n",
        "      else:\n",
        "        sash.append('flat')\n",
        "    except:\n",
        "      sash.append('flat')\n",
        "  data['Sash']= sash\n",
        "  data['Sash']=data['Sash'].shift(1)\n",
        "  # 15min data of same stock\n",
        "  data2 = yf.download(stock_name, \n",
        "                       start=start_date, \n",
        "                       end=end_date,\n",
        "                       progress=False, interval= \"15m\")\n",
        "  #data2.dropna(inplace=True)\n",
        "  data2.reset_index(inplace=True)\n",
        "  # sep date time\n",
        "  data2['Datetime']=data2['Datetime'].astype('str')\n",
        "  df=data2['Datetime'].str.split(' ',expand=True)\n",
        "  data2['Date']=df[0]\n",
        "  data2['Time']=df[1]\n",
        "\n",
        "  # NSE WAS CLOSE DUE TO GLICTH\n",
        "\n",
        "  for i in data2['Date']:\n",
        "    if i=='2021-02-24':\n",
        "      data2.drop(data2[data2['Date'] == i].index, inplace = True) \n",
        "\n",
        "  data2.reset_index(inplace=True)\n",
        "  data2.drop('index',axis=1,inplace=True)\n",
        "\n",
        "  data=data.reset_index()\n",
        "\n",
        "  data['Date']=data['Date'].astype('str')\n",
        "\n",
        "  for i in data['Date']:\n",
        "    if i=='2021-02-24':\n",
        "      data.drop(data[data['Date'] == i].index, inplace = True) \n",
        "\n",
        "  data=data.reset_index()\n",
        "  data.drop('index',axis=1,inplace=True)\n",
        "\n",
        "  # continue\n",
        "  data3=data2.copy()\n",
        "  # remove all other time data\n",
        "  for i in data2['Time']:\n",
        "    if i=='10:30:00+05:30' or i=='10:45:00+05:30' or i=='15:00:00+05:30' or i=='15:15:00+05:30':\n",
        "      pass\n",
        "    else:\n",
        "      data2.drop(data2[data2['Time'] == i].index, inplace = True) \n",
        "  data2.reset_index(inplace=True)\n",
        "  data2.drop('index',axis=1,inplace=True)\n",
        "  #data2\n",
        "  avg_cost=[]\n",
        "  for i in range(0,len(data2)-1):\n",
        "    avg_cost.append(((data2['High'][i] + data2['Low'][i] + data2['High'][i+1] + data2['Low'][i+1])/4))\n",
        "  avg_cost.append(data2['Open'][i])\n",
        "  data2['avg buy']=avg_cost\n",
        "  # get lowest price from 9.15 to 10.30\n",
        "  for i in data3['Time']:\n",
        "    if i=='10:30:00+05:30'  or i=='09:15:00+05:30' or i=='09:30:00+05:30' or i=='09:45:00+05:30' or i=='10:00:00+05:30' or i=='10:15:00+05:30':\n",
        "      pass\n",
        "    else:\n",
        "      data3.drop(data3[data3['Time'] == i].index, inplace = True) \n",
        "  data3=data3.reset_index()\n",
        "  low=[]\n",
        "  for i in list(data['Date']):\n",
        "    temp=data3[data3['Date'] == i] \n",
        "    low.append(min(temp['Low']))\n",
        "  #add lowest price info to main data\n",
        "  data['lowest']=low\n",
        "  # continue # get bt st price\n",
        "  data2=data2.reset_index().drop('index',axis=1)\n",
        "  data2=data2.drop(['High','Low','Close','Adj Close','Volume','Date','Time'],axis=1)\n",
        "  data2=data2.rename(columns={'Open':'Buy Price','Datetime':'Buy Date'})\n",
        "  data2 = data2[np.arange(len(data2)) % 2 == 0]\n",
        "  data2=data2.reset_index().drop('index',axis=1)\n",
        "  data2['Sell Date']=data2['Buy Date'].shift(-1)\n",
        "  data2['Sell Price']=data2['Buy Price'].shift(-1)\n",
        "  data2['avg sell']=data2['avg buy'].shift(-1)\n",
        "  data2 = data2[np.arange(len(data2)) % 2 == 0]\n",
        "  data2=data2.reset_index().drop('index',axis=1)\n",
        "  # add bt st price to main data\n",
        "  data['BT Price']=data2['avg sell']\n",
        "  data['ST Price']=data2['avg buy'].shift(-1)\n",
        "  # shift lowest by 1 to get st lowest\n",
        "  data['lowest']=data['lowest'].shift(-1)\n",
        "  # create final data\n",
        "  final=data.copy()\n",
        "  final=final.drop(['High','Adj Close','Volume'],axis=1)\n",
        "  final=final.dropna()\n",
        "  for i in final['Sash']:\n",
        "    if i!='Bull Sash':\n",
        "      final.drop(final[final['Sash'] == i].index, inplace = True) \n",
        "  final=final.rename(columns={'Low':'Stop Loss','Date':'Candle Date'})\n",
        "  final=final.drop(['Open','color','Sash','Close'],axis=1)\n",
        "  final.reset_index(inplace=True)\n",
        "  final=final.drop('index',axis=1)\n",
        "  # create total points\n",
        "  tp=[]\n",
        "  for i in range(0,len(final)):\n",
        "    if (final['Stop Loss'][i] - ((final['Stop Loss'][i]*0.2)/100)) >= final['lowest'][i]:\n",
        "      total=(final['Stop Loss'][i] - ((final['Stop Loss'][i]*0.2)/100)) - final['BT Price'][i]\n",
        "    else:\n",
        "      total=final['ST Price'][i] - final['BT Price'][i]\n",
        "    tp.append(total)\n",
        "\n",
        "  final['Total Points'] = tp\n",
        "  final['P/L'] = round(Amount/final['BT Price'])*final['Total Points']\n",
        "  return sum(final['P/L']) , len(final) "
      ],
      "execution_count": null,
      "outputs": []
    },
    {
      "cell_type": "code",
      "metadata": {
        "colab": {
          "base_uri": "https://localhost:8080/"
        },
        "id": "FIXkyszl0BKW",
        "outputId": "1196a7c1-068f-4eb7-b9cf-413b0ff081d1"
      },
      "source": [
        "bullsash('ALKEM.NS','2021-04-08','2021-04-13',10000)"
      ],
      "execution_count": null,
      "outputs": [
        {
          "output_type": "execute_result",
          "data": {
            "text/plain": [
              "(0, 0)"
            ]
          },
          "metadata": {
            "tags": []
          },
          "execution_count": 355
        }
      ]
    },
    {
      "cell_type": "code",
      "metadata": {
        "colab": {
          "base_uri": "https://localhost:8080/"
        },
        "id": "l7qcJzs6EPr0",
        "outputId": "04b1bc9b-9b95-4128-cc7e-8c8f59a490ea"
      },
      "source": [
        "from tqdm import tqdm\n",
        "from google.colab import drive\n",
        "drive.mount(\"/content/gdrive\")"
      ],
      "execution_count": null,
      "outputs": [
        {
          "output_type": "stream",
          "text": [
            "Mounted at /content/gdrive\n"
          ],
          "name": "stdout"
        }
      ]
    },
    {
      "cell_type": "code",
      "metadata": {
        "colab": {
          "base_uri": "https://localhost:8080/"
        },
        "id": "9r-64gIPEP5_",
        "outputId": "fa13cb50-c484-4eb5-85a3-b1eabf5769be"
      },
      "source": [
        "%cd '/content/gdrive/MyDrive/SASH/'"
      ],
      "execution_count": null,
      "outputs": [
        {
          "output_type": "stream",
          "text": [
            "/content/gdrive/MyDrive/SASH\n"
          ],
          "name": "stdout"
        }
      ]
    },
    {
      "cell_type": "code",
      "metadata": {
        "id": "PhFk_8460Cq7"
      },
      "source": [
        "nse=pd.read_csv('/content/gdrive/MyDrive/SASH/final_bull_sash.csv')"
      ],
      "execution_count": null,
      "outputs": []
    },
    {
      "cell_type": "code",
      "metadata": {
        "id": "rNzlb_bCEKcf"
      },
      "source": [
        "check_dates=[['2021-04-08','2021-04-13'],['2021-04-09','2021-04-14']]"
      ],
      "execution_count": null,
      "outputs": []
    },
    {
      "cell_type": "code",
      "metadata": {
        "id": "IVoFwfjpEi_v"
      },
      "source": [
        "for j in check_dates:\n",
        "  bull_sash_stocks={}\n",
        "  for i in tqdm(nse['Ticker']):\n",
        "    try:\n",
        "      bull_sash_stocks[i]=bullsash(i,j[0],j[1],10000)\n",
        "    except:\n",
        "      pass\n",
        "  final_bull_sash=pd.DataFrame.from_dict(bull_sash_stocks,orient='index',columns=['P/L','counts'],)\n",
        "  final_bull_sash.reset_index(inplace=True)\n",
        "  final_bull_sash=final_bull_sash.rename(columns={'index':'Ticker'})\n",
        "  final_bull_sash.to_csv(j[1] + '.csv')"
      ],
      "execution_count": null,
      "outputs": []
    },
    {
      "cell_type": "code",
      "metadata": {
        "id": "hVoHEbMYLvpw"
      },
      "source": [
        "# "
      ],
      "execution_count": null,
      "outputs": []
    },
    {
      "cell_type": "code",
      "metadata": {
        "id": "Src7qZbXNXoF"
      },
      "source": [
        "all_stocks=pd.read_excel('/content/gdrive/MyDrive/SASH/Trading_NSE.xlsx')\n",
        "fando=pd.read_excel('/content/gdrive/MyDrive/SASH/List-of-FO-Stocks-converted.xlsx')"
      ],
      "execution_count": null,
      "outputs": []
    },
    {
      "cell_type": "code",
      "metadata": {
        "id": "aFuegXMmTZGx"
      },
      "source": [
        "fno={}\n",
        "for i in zip(all_stocks['Ticker'],all_stocks['Name'].str.lower()):\n",
        "  fno[i[1]]=i[0]\n",
        "\n",
        "final_fo={}\n",
        "for i in fando['Stock Name'].str.lower():\n",
        "  for j in fno.items():\n",
        "    if i==j[0]:\n",
        "      final_fo[i]=j[1]\n",
        "\n",
        "fando['Stock Name']=fando['Stock Name'].str.lower()\n",
        "\n",
        "\n",
        "fntick=[]\n",
        "for i in fando['Stock Name']:\n",
        "  if i in final_fo:\n",
        "    fntick.append(final_fo[i])\n",
        "  else:\n",
        "    fntick.append(\"\")\n",
        "\n",
        "fando['Ticker']=fntick\n",
        "fando.to_csv('ALL_FNO.csv',index=False)\n"
      ],
      "execution_count": null,
      "outputs": []
    },
    {
      "cell_type": "code",
      "metadata": {
        "id": "E5L5w451W1yi"
      },
      "source": [
        "fando=pd.read_csv('ALL_FNO.csv')"
      ],
      "execution_count": null,
      "outputs": []
    },
    {
      "cell_type": "code",
      "metadata": {
        "id": "BPW--quha2E6"
      },
      "source": [
        "fando['Symbol']=fando['Stock Symbol'] + fando['TICKER']"
      ],
      "execution_count": null,
      "outputs": []
    },
    {
      "cell_type": "code",
      "metadata": {
        "id": "J2HaagyrbCyC"
      },
      "source": [
        "fando=fando.drop(['Stock Symbol','TICKER'],axis=1)"
      ],
      "execution_count": null,
      "outputs": []
    },
    {
      "cell_type": "code",
      "metadata": {
        "colab": {
          "base_uri": "https://localhost:8080/",
          "height": 410
        },
        "id": "t8La2mKTbSX0",
        "outputId": "00e02f96-a360-43f3-820c-f65f004f00ce"
      },
      "source": [
        "fando"
      ],
      "execution_count": null,
      "outputs": [
        {
          "output_type": "execute_result",
          "data": {
            "text/html": [
              "<div>\n",
              "<style scoped>\n",
              "    .dataframe tbody tr th:only-of-type {\n",
              "        vertical-align: middle;\n",
              "    }\n",
              "\n",
              "    .dataframe tbody tr th {\n",
              "        vertical-align: top;\n",
              "    }\n",
              "\n",
              "    .dataframe thead th {\n",
              "        text-align: right;\n",
              "    }\n",
              "</style>\n",
              "<table border=\"1\" class=\"dataframe\">\n",
              "  <thead>\n",
              "    <tr style=\"text-align: right;\">\n",
              "      <th></th>\n",
              "      <th>Stock Name</th>\n",
              "      <th>Lot Size</th>\n",
              "      <th>Symbol</th>\n",
              "    </tr>\n",
              "  </thead>\n",
              "  <tbody>\n",
              "    <tr>\n",
              "      <th>0</th>\n",
              "      <td>apollo hospitals enterpirse</td>\n",
              "      <td>500</td>\n",
              "      <td>APOLLOHOSP.NS</td>\n",
              "    </tr>\n",
              "    <tr>\n",
              "      <th>1</th>\n",
              "      <td>acc limited</td>\n",
              "      <td>500</td>\n",
              "      <td>ACC.NS</td>\n",
              "    </tr>\n",
              "    <tr>\n",
              "      <th>2</th>\n",
              "      <td>amara raja batteries limited.</td>\n",
              "      <td>1000</td>\n",
              "      <td>AMARAJABAT.NS</td>\n",
              "    </tr>\n",
              "    <tr>\n",
              "      <th>3</th>\n",
              "      <td>adani enterprises limited</td>\n",
              "      <td>2000</td>\n",
              "      <td>ADANIENT.NS</td>\n",
              "    </tr>\n",
              "    <tr>\n",
              "      <th>4</th>\n",
              "      <td>adani port &amp; sez limited</td>\n",
              "      <td>2500</td>\n",
              "      <td>ADANIPORTS.NS</td>\n",
              "    </tr>\n",
              "    <tr>\n",
              "      <th>...</th>\n",
              "      <td>...</td>\n",
              "      <td>...</td>\n",
              "      <td>...</td>\n",
              "    </tr>\n",
              "    <tr>\n",
              "      <th>131</th>\n",
              "      <td>mindtree limited</td>\n",
              "      <td>800</td>\n",
              "      <td>MINDTREE.NS</td>\n",
              "    </tr>\n",
              "    <tr>\n",
              "      <th>132</th>\n",
              "      <td>indiabulls hsg fin limited</td>\n",
              "      <td>3100</td>\n",
              "      <td>IBULHSGFIN.NS</td>\n",
              "    </tr>\n",
              "    <tr>\n",
              "      <th>133</th>\n",
              "      <td>vedanta limited</td>\n",
              "      <td>6200</td>\n",
              "      <td>VEDL.NS</td>\n",
              "    </tr>\n",
              "    <tr>\n",
              "      <th>134</th>\n",
              "      <td>sun tv network limited</td>\n",
              "      <td>1500</td>\n",
              "      <td>SUNTV.NS</td>\n",
              "    </tr>\n",
              "    <tr>\n",
              "      <th>135</th>\n",
              "      <td>srf limited</td>\n",
              "      <td>125</td>\n",
              "      <td>SRF.NS</td>\n",
              "    </tr>\n",
              "  </tbody>\n",
              "</table>\n",
              "<p>136 rows × 3 columns</p>\n",
              "</div>"
            ],
            "text/plain": [
              "                        Stock Name  Lot Size         Symbol\n",
              "0      apollo hospitals enterpirse       500  APOLLOHOSP.NS\n",
              "1                      acc limited       500         ACC.NS\n",
              "2    amara raja batteries limited.      1000  AMARAJABAT.NS\n",
              "3        adani enterprises limited      2000    ADANIENT.NS\n",
              "4         adani port & sez limited      2500  ADANIPORTS.NS\n",
              "..                             ...       ...            ...\n",
              "131               mindtree limited       800    MINDTREE.NS\n",
              "132     indiabulls hsg fin limited      3100  IBULHSGFIN.NS\n",
              "133                vedanta limited      6200        VEDL.NS\n",
              "134         sun tv network limited      1500       SUNTV.NS\n",
              "135                    srf limited       125         SRF.NS\n",
              "\n",
              "[136 rows x 3 columns]"
            ]
          },
          "metadata": {
            "tags": []
          },
          "execution_count": 51
        }
      ]
    },
    {
      "cell_type": "code",
      "metadata": {
        "colab": {
          "base_uri": "https://localhost:8080/"
        },
        "id": "HLIHfJWaYqp9",
        "outputId": "84361341-00a3-4f10-f325-92c6b78d4e2c"
      },
      "source": [
        "nta=[]\n",
        "for i in fando['Symbol']:\n",
        "  try:\n",
        "    data = yf.download(i, \n",
        "                      start='2021-04-08', \n",
        "                      end='2021-04-09',\n",
        "                      progress=False)\n",
        "  except:\n",
        "    pass"
      ],
      "execution_count": null,
      "outputs": [
        {
          "output_type": "stream",
          "text": [
            "\n",
            "1 Failed download:\n",
            "- RECLIMITED.NS: No data found, symbol may be delisted\n"
          ],
          "name": "stdout"
        }
      ]
    },
    {
      "cell_type": "code",
      "metadata": {
        "id": "qmfuZF5AYmz9"
      },
      "source": [
        "fando.to_csv('ALL_FNO.csv',index=False)"
      ],
      "execution_count": null,
      "outputs": []
    },
    {
      "cell_type": "code",
      "metadata": {
        "id": "cDBrrXifb-Ys"
      },
      "source": [
        ""
      ],
      "execution_count": null,
      "outputs": []
    }
  ]
}